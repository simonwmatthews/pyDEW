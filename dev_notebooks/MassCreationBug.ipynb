{
 "cells": [
  {
   "cell_type": "markdown",
   "metadata": {},
   "source": [
    "# Bug- small mass of elements created- numerical error?\n",
    "When the moles of elements are converted to moles of basis species a small non-zero amount of every element seems to be created."
   ]
  },
  {
   "cell_type": "code",
   "execution_count": 1,
   "metadata": {},
   "outputs": [],
   "source": [
    "import pyDEW\n",
    "import numpy as np\n",
    "from scipy.optimize import root_scalar\n",
    "import os\n",
    "import matplotlib.pyplot as plt"
   ]
  },
  {
   "cell_type": "markdown",
   "metadata": {},
   "source": [
    "Copied from DEWFluid_module.py:"
   ]
  },
  {
   "cell_type": "code",
   "execution_count": 8,
   "metadata": {},
   "outputs": [],
   "source": [
    "class Fluid(pyDEW.fluid.fluid):\n",
    "    def __init__(self, system, t, p, n, fO2, max_iterations=99, aH2O_mode='unity'):\n",
    "        self.system = system\n",
    "        self.T = t\n",
    "        self.P = p\n",
    "        self.pH = 5.0\n",
    "        self.fO2 = fO2\n",
    "        self.molalities, self.k = self._calc_basis_species_molalities(n)\n",
    "        self.mineral_eq = {}\n",
    "        self.solid_solutions = {}\n",
    "        self.uebal = 'H+'\n",
    "        self.uacion = ''\n",
    "        self.nxmods = []\n",
    "        self.dummy_temperature = 500.0\n",
    "        if max_iterations > 99:\n",
    "            raise core.InputError(\"EQ3 only supports a maximum of 99 iterations.\")\n",
    "        elif max_iterations < 0 or isinstance(max_iterations, int) is False:\n",
    "            raise core.InputError(\"Maximum iterations must be a positive integer.\")\n",
    "        self.max_iterations = max_iterations\n",
    "        \n",
    "        if aH2O_mode not in ['unity', 'molfraction']:\n",
    "            raise core.InputError(\"aH2O mode note recognised.\")\n",
    "        self.aH2O_mode = aH2O_mode\n",
    "\n",
    "        eqpt_working_directory = 'eq_working'\n",
    "        eq3_working_directory = 'eq_working'\n",
    "        eqpt_executable_name = 'EQPT_mac'\n",
    "        eq3_executable_name = 'EQ3_mac'\n",
    "        input_filename = 'input'\n",
    "\n",
    "        # If O2 is being set by mineral equilibrium:\n",
    "        if 'O2(G)' in self.mineral_eq:\n",
    "            self.fO2 = None\n",
    "\n",
    "        # Create DATA0 and run EQPT\n",
    "        # Determine filename automatically\n",
    "        # if data0_filename is None and core.operatingsystem == 'Darwin':\n",
    "        data0_filename = 'DATA0'\n",
    "        # elif data0_filename is None and core.operatingsystem == 'Linux':\n",
    "        #     data0_filename = 'data0'\n",
    "        # Create the working directory if it doesn't exist:\n",
    "        if not os.path.isdir(eqpt_working_directory):\n",
    "            os.makedirs(eqpt_working_directory)\n",
    "        # Create DATA0\n",
    "        self.system.make_data0(self.T, self.P, format='pyDEW',\n",
    "                               filepath=eqpt_working_directory + '/' + data0_filename,\n",
    "                               dummy_temperature=self.dummy_temperature - 50)\n",
    "        # Run EQPT\n",
    "        pyDEW.core.run_eqpt(working_directory=eqpt_working_directory,\n",
    "                           executable_name=eqpt_executable_name)\n",
    "\n",
    "        # Create the eq3 working directory if it doesn't exist:\n",
    "        if not os.path.isdir(eq3_working_directory):\n",
    "            os.makedirs(eq3_working_directory)\n",
    "\n",
    "        # Check to see if the working directories are different:\n",
    "        if eq3_working_directory != eqpt_working_directory:\n",
    "            os.system(\"cp \" + eqpt_working_directory + '/data1 '\n",
    "                      + eq3_working_directory + '/data1')\n",
    "\n",
    "        # Create input file and run EQ3\n",
    "        self._make_input(filepath=eq3_working_directory\n",
    "                         + '/' + input_filename, format='pyDEW')\n",
    "        pyDEW.core.run_eq3(working_directory=eq3_working_directory,\n",
    "                          executable_name=eq3_executable_name)\n",
    "\n",
    "        # Collect output\n",
    "        self.eq3output = pyDEW.output.eq3output(\n",
    "            filepath=eq3_working_directory + '/output')\n",
    "        self.elemental_comp = self.eq3output.elemental_comp.set_index(\n",
    "            'element').astype('float')\n",
    "        # self.elemental_comp_ppm = dict(self.elemental_comp.ppm)\n",
    "        self.elemental_comp_molality = dict(self.elemental_comp.molality)\n",
    "        # self.pH = float(self.eq3output.electrochemistry['pH'][0])\n",
    "        self.aqueous_species = self.eq3output.aqueous_species\n",
    "        # self.fO2 = float(self.eq3output.redox['log_fO2'][0])\n",
    "        # self.mineral_saturation = self.eq3output.mineral_saturation\n",
    "\n",
    "    def _calc_basis_species_molalities(self, mols):\n",
    "        n = np.zeros(self.system.n_elements+1)\n",
    "        n[:-1] = mols\n",
    "        x = np.linalg.solve(self.system._basis_species_matrix.T, n)\n",
    "        # EQ3 performs calculations assuming 1 kg of solvent, k will only be the correct scaling\n",
    "        # if there is no additional H2O in complexes. May have to find k by iteration.\n",
    "        k = 55.5086815578/x[0]\n",
    "        x = x*k\n",
    "        molalities = {}\n",
    "        for i, species in zip(range(len(self.system.basis_species)),\n",
    "                              self.system.basis_species_names):\n",
    "            if species != 'H+':\n",
    "                molalities[species] = x[i]\n",
    "        return molalities, k\n",
    "\n",
    "    def _gibbs_energy(self):\n",
    "        g = 0\n",
    "        g += 55.5086815578 * \\\n",
    "            self.system.species['H2O'].gibbs_energy(self.T, self.T)/self.k\n",
    "        for i, row in self.aqueous_species.iterrows():\n",
    "            if row.species != 'H+':\n",
    "                g += (self.system.species[row.species].gibbs_energy(self.T, self.P)\n",
    "                      + 8.314*self.T*np.log(row.activity))*row.molality/self.k\n",
    "            else:\n",
    "                g += (8.314*self.T*np.log(row.activity))*row.molality/self.k\n",
    "        return g\n",
    "\n",
    "\n",
    "    def _element_projection(self, mols, total_mols_h):\n",
    "        n = np.zeros(self.system.n_elements+1)\n",
    "        n[:-1] = mols\n",
    "        x = np.linalg.solve(self.system._basis_species_matrix.T, n)\n",
    "        # x[0] is H2O\n",
    "        print(x)\n",
    "        k = total_mols_h/x[0]*2\n",
    "        x = x*k\n",
    "        molalities = {}\n",
    "        for i, species in zip(range(len(self.system.basis_species)),\n",
    "                              self.system.basis_species_names):\n",
    "            if species not in ['H+', 'H2O', 'O2(G)'] and x[i] > 0:\n",
    "                molalities[species] = x[i]\n",
    "        return molalities, k\n",
    "\n",
    "    def _mass_misfit(self, total_mols_h, mols):\n",
    "        self.molalities, self.k = self._element_projection(mols, total_mols_h)\n",
    "\n",
    "        # Create input file and run EQ3\n",
    "        self._make_input(filepath=self.eq3_working_directory\n",
    "                         + '/' + self.input_filename, format='pyDEW')\n",
    "        pyDEW.core.run_eq3(working_directory=self.eq3_working_directory,\n",
    "                          executable_name=self.eq3_executable_name)\n",
    "\n",
    "        # Collect output\n",
    "        self.eq3output = pyDEW.output.eq3output(\n",
    "            filepath=self.eq3_working_directory + '/output')\n",
    "        self.elemental_comp = self.eq3output.elemental_comp.set_index(\n",
    "            'element').astype('float')\n",
    "\n",
    "        calc_h = self.elemental_comp.molality['H']\n",
    "        return calc_h - total_mols_h"
   ]
  },
  {
   "cell_type": "markdown",
   "metadata": {},
   "source": [
    "Use a small demo system:"
   ]
  },
  {
   "cell_type": "code",
   "execution_count": 3,
   "metadata": {},
   "outputs": [],
   "source": [
    "elements = ['O', 'H', 'Si', 'Na', 'Cl', 'K']\n",
    "basis_species = ['H2O', 'H+', 'H4SIO4(AQ)', 'NA+', 'CL-', 'K+', 'O2(G)']\n",
    "other_species = ['H6SI2O7(AQ)', 'H8SI3O10(AQ)', 'H3SIO4-', 'OH-', 'O2(AQ)', 'NACL(AQ)']"
   ]
  },
  {
   "cell_type": "code",
   "execution_count": 4,
   "metadata": {},
   "outputs": [
    {
     "name": "stderr",
     "output_type": "stream",
     "text": [
      "/Users/sm905/opt/anaconda3/lib/python3.9/site-packages/Cython/Compiler/Main.py:369: FutureWarning: Cython directive 'language_level' not set, using 2 for now (Py2). This will change in a later release! File: /Users/sm905/opt/anaconda3/lib/python3.9/site-packages/pyDEW/dew2019_coderfiles/dew2019.pyx\n",
      "  tree = Parsing.p_module(s, pxd, full_module_name)\n",
      "In file included from /Users/sm905/.pyxbld/temp.macosx-11.0-arm64-cpython-39/pyrex/dew2019.c:746:\n",
      "In file included from /Users/sm905/opt/anaconda3/lib/python3.9/site-packages/numpy/core/include/numpy/arrayobject.h:4:\n",
      "In file included from /Users/sm905/opt/anaconda3/lib/python3.9/site-packages/numpy/core/include/numpy/ndarrayobject.h:12:\n",
      "In file included from /Users/sm905/opt/anaconda3/lib/python3.9/site-packages/numpy/core/include/numpy/ndarraytypes.h:1969:\n",
      "/Users/sm905/opt/anaconda3/lib/python3.9/site-packages/numpy/core/include/numpy/npy_1_7_deprecated_api.h:17:2: warning: \"Using deprecated NumPy API, disable it with \"          \"#define NPY_NO_DEPRECATED_API NPY_1_7_API_VERSION\" [-W#warnings]\n",
      "#warning \"Using deprecated NumPy API, disable it with \" \\\n",
      " ^\n",
      "1 warning generated.\n",
      "ld: warning: dylib (/usr/local/lib/libgsl.dylib) was built for newer macOS version (13.0) than being linked (11.0)\n",
      "ld: warning: dylib (/usr/local/lib/libswimdew.dylib) was built for newer macOS version (13.0) than being linked (11.0)\n",
      "/Users/sm905/opt/anaconda3/lib/python3.9/site-packages/thermoengine/model.py:184: FutureWarning: The frame.append method is deprecated and will be removed from pandas in a future version. Use pandas.concat instead.\n",
      "  self._phase_info = self._phase_info.append(phs_info, ignore_index=True)\n",
      "/Users/sm905/opt/anaconda3/lib/python3.9/site-packages/thermoengine/model.py:184: FutureWarning: The frame.append method is deprecated and will be removed from pandas in a future version. Use pandas.concat instead.\n",
      "  self._phase_info = self._phase_info.append(phs_info, ignore_index=True)\n",
      "/Users/sm905/opt/anaconda3/lib/python3.9/site-packages/thermoengine/model.py:184: FutureWarning: The frame.append method is deprecated and will be removed from pandas in a future version. Use pandas.concat instead.\n",
      "  self._phase_info = self._phase_info.append(phs_info, ignore_index=True)\n",
      "/Users/sm905/opt/anaconda3/lib/python3.9/site-packages/thermoengine/model.py:184: FutureWarning: The frame.append method is deprecated and will be removed from pandas in a future version. Use pandas.concat instead.\n",
      "  self._phase_info = self._phase_info.append(phs_info, ignore_index=True)\n",
      "/Users/sm905/opt/anaconda3/lib/python3.9/site-packages/thermoengine/model.py:184: FutureWarning: The frame.append method is deprecated and will be removed from pandas in a future version. Use pandas.concat instead.\n",
      "  self._phase_info = self._phase_info.append(phs_info, ignore_index=True)\n",
      "/Users/sm905/opt/anaconda3/lib/python3.9/site-packages/thermoengine/model.py:184: FutureWarning: The frame.append method is deprecated and will be removed from pandas in a future version. Use pandas.concat instead.\n",
      "  self._phase_info = self._phase_info.append(phs_info, ignore_index=True)\n"
     ]
    }
   ],
   "source": [
    "system = pyDEW.System(basis_species=basis_species,\n",
    "                     other_species=other_species,\n",
    "                     elements=elements,\n",
    "                     minerals=[],\n",
    "                     gases=[],\n",
    "                     hydrated_species={},\n",
    "                     solid_solutions={})"
   ]
  },
  {
   "cell_type": "markdown",
   "metadata": {},
   "source": [
    "## Recreate bug:"
   ]
  },
  {
   "cell_type": "code",
   "execution_count": 5,
   "metadata": {},
   "outputs": [],
   "source": [
    "moles = np.array([0.3 + 0.03333, \n",
    "                  0.6 + 0.0, \n",
    "                  0.0,\n",
    "                  0.06666,\n",
    "                  0.0,\n",
    "                  0.0\n",
    "                 ])"
   ]
  },
  {
   "cell_type": "code",
   "execution_count": 9,
   "metadata": {},
   "outputs": [],
   "source": [
    "fl = Fluid(system, 723.15, 10000.0, moles, -12.0)"
   ]
  },
  {
   "cell_type": "code",
   "execution_count": 10,
   "metadata": {},
   "outputs": [
    {
     "data": {
      "text/plain": [
       "{'H2O': 55.5086815578,\n",
       " 'H4SIO4(AQ)': 0.0,\n",
       " 'NA+': 11.100737145300297,\n",
       " 'CL-': 0.0,\n",
       " 'K+': 0.0,\n",
       " 'O2(G)': 2.3110362228143043e-15}"
      ]
     },
     "execution_count": 10,
     "metadata": {},
     "output_type": "execute_result"
    }
   ],
   "source": [
    "fl.molalities"
   ]
  },
  {
   "cell_type": "code",
   "execution_count": 11,
   "metadata": {},
   "outputs": [
    {
     "data": {
      "text/html": [
       "<div>\n",
       "<style scoped>\n",
       "    .dataframe tbody tr th:only-of-type {\n",
       "        vertical-align: middle;\n",
       "    }\n",
       "\n",
       "    .dataframe tbody tr th {\n",
       "        vertical-align: top;\n",
       "    }\n",
       "\n",
       "    .dataframe thead th {\n",
       "        text-align: right;\n",
       "    }\n",
       "</style>\n",
       "<table border=\"1\" class=\"dataframe\">\n",
       "  <thead>\n",
       "    <tr style=\"text-align: right;\">\n",
       "      <th></th>\n",
       "      <th>species</th>\n",
       "      <th>molality</th>\n",
       "      <th>log_g</th>\n",
       "      <th>activity</th>\n",
       "    </tr>\n",
       "  </thead>\n",
       "  <tbody>\n",
       "    <tr>\n",
       "      <th>0</th>\n",
       "      <td>OH-</td>\n",
       "      <td>1.110000e+01</td>\n",
       "      <td>-0.4094</td>\n",
       "      <td>4.325000e+00</td>\n",
       "    </tr>\n",
       "    <tr>\n",
       "      <th>1</th>\n",
       "      <td>NA+</td>\n",
       "      <td>1.110000e+01</td>\n",
       "      <td>-0.4094</td>\n",
       "      <td>4.325000e+00</td>\n",
       "    </tr>\n",
       "    <tr>\n",
       "      <th>2</th>\n",
       "      <td>H+</td>\n",
       "      <td>5.098000e-09</td>\n",
       "      <td>-0.4094</td>\n",
       "      <td>1.986000e-09</td>\n",
       "    </tr>\n",
       "    <tr>\n",
       "      <th>3</th>\n",
       "      <td>O2(AQ)</td>\n",
       "      <td>8.562000e-17</td>\n",
       "      <td>0.0000</td>\n",
       "      <td>8.562000e-17</td>\n",
       "    </tr>\n",
       "  </tbody>\n",
       "</table>\n",
       "</div>"
      ],
      "text/plain": [
       "  species      molality   log_g      activity\n",
       "0     OH-  1.110000e+01 -0.4094  4.325000e+00\n",
       "1     NA+  1.110000e+01 -0.4094  4.325000e+00\n",
       "2      H+  5.098000e-09 -0.4094  1.986000e-09\n",
       "3  O2(AQ)  8.562000e-17  0.0000  8.562000e-17"
      ]
     },
     "execution_count": 11,
     "metadata": {},
     "output_type": "execute_result"
    }
   ],
   "source": [
    "fl.aqueous_species"
   ]
  },
  {
   "cell_type": "code",
   "execution_count": null,
   "metadata": {},
   "outputs": [],
   "source": []
  },
  {
   "cell_type": "code",
   "execution_count": 12,
   "metadata": {},
   "outputs": [
    {
     "data": {
      "text/html": [
       "<div>\n",
       "<style scoped>\n",
       "    .dataframe tbody tr th:only-of-type {\n",
       "        vertical-align: middle;\n",
       "    }\n",
       "\n",
       "    .dataframe tbody tr th {\n",
       "        vertical-align: top;\n",
       "    }\n",
       "\n",
       "    .dataframe thead th {\n",
       "        text-align: right;\n",
       "    }\n",
       "</style>\n",
       "<table border=\"1\" class=\"dataframe\">\n",
       "  <thead>\n",
       "    <tr style=\"text-align: right;\">\n",
       "      <th></th>\n",
       "      <th>ppm</th>\n",
       "      <th>molality</th>\n",
       "    </tr>\n",
       "    <tr>\n",
       "      <th>element</th>\n",
       "      <th></th>\n",
       "      <th></th>\n",
       "    </tr>\n",
       "  </thead>\n",
       "  <tbody>\n",
       "    <tr>\n",
       "      <th>O</th>\n",
       "      <td>1.065715e+06</td>\n",
       "      <td>66.609682</td>\n",
       "    </tr>\n",
       "    <tr>\n",
       "      <th>H</th>\n",
       "      <td>1.230831e+05</td>\n",
       "      <td>122.118363</td>\n",
       "    </tr>\n",
       "    <tr>\n",
       "      <th>NA</th>\n",
       "      <td>2.552094e+05</td>\n",
       "      <td>11.101000</td>\n",
       "    </tr>\n",
       "  </tbody>\n",
       "</table>\n",
       "</div>"
      ],
      "text/plain": [
       "                  ppm    molality\n",
       "element                          \n",
       "O        1.065715e+06   66.609682\n",
       "H        1.230831e+05  122.118363\n",
       "NA       2.552094e+05   11.101000"
      ]
     },
     "execution_count": 12,
     "metadata": {},
     "output_type": "execute_result"
    }
   ],
   "source": [
    "fl.elemental_comp"
   ]
  },
  {
   "cell_type": "code",
   "execution_count": 13,
   "metadata": {},
   "outputs": [
    {
     "data": {
      "text/plain": [
       "166.5277099504995"
      ]
     },
     "execution_count": 13,
     "metadata": {},
     "output_type": "execute_result"
    }
   ],
   "source": [
    "fl.k"
   ]
  },
  {
   "cell_type": "code",
   "execution_count": 14,
   "metadata": {},
   "outputs": [
    {
     "data": {
      "text/html": [
       "<div>\n",
       "<style scoped>\n",
       "    .dataframe tbody tr th:only-of-type {\n",
       "        vertical-align: middle;\n",
       "    }\n",
       "\n",
       "    .dataframe tbody tr th {\n",
       "        vertical-align: top;\n",
       "    }\n",
       "\n",
       "    .dataframe thead th {\n",
       "        text-align: right;\n",
       "    }\n",
       "</style>\n",
       "<table border=\"1\" class=\"dataframe\">\n",
       "  <thead>\n",
       "    <tr style=\"text-align: right;\">\n",
       "      <th></th>\n",
       "      <th>ppm</th>\n",
       "      <th>molality</th>\n",
       "    </tr>\n",
       "    <tr>\n",
       "      <th>element</th>\n",
       "      <th></th>\n",
       "      <th></th>\n",
       "    </tr>\n",
       "  </thead>\n",
       "  <tbody>\n",
       "    <tr>\n",
       "      <th>O</th>\n",
       "      <td>6399.625260</td>\n",
       "      <td>0.399992</td>\n",
       "    </tr>\n",
       "    <tr>\n",
       "      <th>H</th>\n",
       "      <td>739.114819</td>\n",
       "      <td>0.733322</td>\n",
       "    </tr>\n",
       "    <tr>\n",
       "      <th>NA</th>\n",
       "      <td>1532.534356</td>\n",
       "      <td>0.066662</td>\n",
       "    </tr>\n",
       "  </tbody>\n",
       "</table>\n",
       "</div>"
      ],
      "text/plain": [
       "                 ppm  molality\n",
       "element                       \n",
       "O        6399.625260  0.399992\n",
       "H         739.114819  0.733322\n",
       "NA       1532.534356  0.066662"
      ]
     },
     "execution_count": 14,
     "metadata": {},
     "output_type": "execute_result"
    }
   ],
   "source": [
    "fl.elemental_comp/fl.k"
   ]
  },
  {
   "cell_type": "code",
   "execution_count": 15,
   "metadata": {},
   "outputs": [
    {
     "data": {
      "text/plain": [
       "0.9999899999999999"
      ]
     },
     "execution_count": 15,
     "metadata": {},
     "output_type": "execute_result"
    }
   ],
   "source": [
    "moles.sum()"
   ]
  },
  {
   "cell_type": "code",
   "execution_count": 16,
   "metadata": {},
   "outputs": [
    {
     "data": {
      "text/plain": [
       "ppm         8671.274436\n",
       "molality       1.199975\n",
       "dtype: float64"
      ]
     },
     "execution_count": 16,
     "metadata": {},
     "output_type": "execute_result"
    }
   ],
   "source": [
    "(fl.elemental_comp/fl.k).sum()"
   ]
  },
  {
   "cell_type": "code",
   "execution_count": null,
   "metadata": {},
   "outputs": [],
   "source": []
  }
 ],
 "metadata": {
  "kernelspec": {
   "display_name": "Python 3 (ipykernel)",
   "language": "python",
   "name": "python3"
  },
  "language_info": {
   "codemirror_mode": {
    "name": "ipython",
    "version": 3
   },
   "file_extension": ".py",
   "mimetype": "text/x-python",
   "name": "python",
   "nbconvert_exporter": "python",
   "pygments_lexer": "ipython3",
   "version": "3.9.13"
  }
 },
 "nbformat": 4,
 "nbformat_minor": 4
}

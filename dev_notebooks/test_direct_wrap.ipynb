{
 "cells": [
  {
   "cell_type": "markdown",
   "metadata": {},
   "source": [
    "Notes:\n",
    "\n",
    "The default DEW options have automatic basis switching turned off. I am not sure why. Perhaps this will improve stability?"
   ]
  },
  {
   "cell_type": "code",
   "execution_count": 1,
   "metadata": {},
   "outputs": [],
   "source": [
    "import eqlibr\n",
    "import numpy as np"
   ]
  },
  {
   "cell_type": "code",
   "execution_count": 2,
   "metadata": {},
   "outputs": [
    {
     "name": "stdout",
     "output_type": "stream",
     "text": [
      "Testing..."
     ]
    },
    {
     "data": {
      "text/plain": [
       "0"
      ]
     },
     "execution_count": 2,
     "metadata": {},
     "output_type": "execute_result"
    }
   ],
   "source": [
    "eqlibr.cy_test(0)"
   ]
  },
  {
   "cell_type": "code",
   "execution_count": 3,
   "metadata": {},
   "outputs": [
    {
     "name": "stdout",
     "output_type": "stream",
     "text": [
      "1.000000\n",
      "5.632000\n",
      "8.430000\n",
      "0.000000\n",
      "13678.200000\n"
     ]
    },
    {
     "data": {
      "text/plain": [
       "0"
      ]
     },
     "execution_count": 3,
     "metadata": {},
     "output_type": "execute_result"
    }
   ],
   "source": [
    "tstarr = np.array([1.0, 5.632, 8.43, 1e-10, 1.36782e4])\n",
    "\n",
    "eqlibr.cy_test_array_pass(tstarr)#, len(tstarr))"
   ]
  },
  {
   "cell_type": "code",
   "execution_count": 6,
   "metadata": {},
   "outputs": [
    {
     "name": "stdout",
     "output_type": "stream",
     "text": [
      "0.000000\n",
      "0.000000\n",
      "0.000000\n",
      "0.000000\n",
      "10.000000\n"
     ]
    },
    {
     "data": {
      "text/plain": [
       "10.0"
      ]
     },
     "execution_count": 6,
     "metadata": {},
     "output_type": "execute_result"
    }
   ],
   "source": [
    "prop = 0.0\n",
    "arr = np.array([10.0, 0.0, 0.0, 0.0, 0.0]*2)\n",
    "eqlibr.cy_evdatc(prop, arr, 300.0, 1, 5, 2)"
   ]
  },
  {
   "cell_type": "code",
   "execution_count": 5,
   "metadata": {},
   "outputs": [
    {
     "data": {
      "text/plain": [
       "0.0"
      ]
     },
     "execution_count": 5,
     "metadata": {},
     "output_type": "execute_result"
    }
   ],
   "source": [
    "prop"
   ]
  },
  {
   "cell_type": "code",
   "execution_count": null,
   "metadata": {},
   "outputs": [],
   "source": []
  },
  {
   "cell_type": "code",
   "execution_count": null,
   "metadata": {},
   "outputs": [],
   "source": []
  },
  {
   "cell_type": "code",
   "execution_count": null,
   "metadata": {},
   "outputs": [
    {
     "ename": "",
     "evalue": "",
     "output_type": "error",
     "traceback": [
      "\u001b[1;31mThe Kernel crashed while executing code in the current cell or a previous cell. \n",
      "\u001b[1;31mPlease review the code in the cell(s) to identify a possible cause of the failure. \n",
      "\u001b[1;31mClick <a href='https://aka.ms/vscodeJupyterKernelCrash'>here</a> for more info. \n",
      "\u001b[1;31mView Jupyter <a href='command:jupyter.viewOutput'>log</a> for further details."
     ]
    }
   ],
   "source": [
    "eqlibr.cy_bdmlx(10)"
   ]
  },
  {
   "cell_type": "code",
   "execution_count": null,
   "metadata": {},
   "outputs": [
    {
     "ename": "",
     "evalue": "",
     "output_type": "error",
     "traceback": [
      "\u001b[1;31mThe Kernel crashed while executing code in the current cell or a previous cell. \n",
      "\u001b[1;31mPlease review the code in the cell(s) to identify a possible cause of the failure. \n",
      "\u001b[1;31mClick <a href='https://aka.ms/vscodeJupyterKernelCrash'>here</a> for more info. \n",
      "\u001b[1;31mView Jupyter <a href='command:jupyter.viewOutput'>log</a> for further details."
     ]
    }
   ],
   "source": [
    "eqlibr.cy_bdslx(10)"
   ]
  },
  {
   "cell_type": "code",
   "execution_count": null,
   "metadata": {},
   "outputs": [],
   "source": []
  },
  {
   "cell_type": "code",
   "execution_count": null,
   "metadata": {},
   "outputs": [],
   "source": []
  },
  {
   "cell_type": "code",
   "execution_count": null,
   "metadata": {},
   "outputs": [],
   "source": []
  },
  {
   "cell_type": "code",
   "execution_count": null,
   "metadata": {},
   "outputs": [],
   "source": []
  },
  {
   "cell_type": "code",
   "execution_count": 1,
   "metadata": {},
   "outputs": [],
   "source": [
    "import pyximport\n",
    "import importlib"
   ]
  },
  {
   "cell_type": "code",
   "execution_count": 2,
   "metadata": {},
   "outputs": [
    {
     "data": {
      "text/plain": [
       "(None, <pyximport.pyximport.PyxImporter at 0x107614ee0>)"
      ]
     },
     "execution_count": 2,
     "metadata": {},
     "output_type": "execute_result"
    }
   ],
   "source": [
    "pyximport.install(language_level=3)"
   ]
  },
  {
   "cell_type": "code",
   "execution_count": 3,
   "metadata": {},
   "outputs": [
    {
     "name": "stderr",
     "output_type": "stream",
     "text": [
      "/Users/sm905/.pyxbld/temp.macosx-11.0-arm64-cpython-39/pyrex/eqlibr.c:744:10: fatal error: 'eqlibr136.h' file not found\n",
      "#include \"eqlibr136.h\"\n",
      "         ^~~~~~~~~~~~~\n",
      "1 error generated.\n"
     ]
    },
    {
     "ename": "ImportError",
     "evalue": "Building module eqlibr failed: [\"distutils.errors.CompileError: command '/usr/bin/clang' failed with exit code 1\\n\"]",
     "output_type": "error",
     "traceback": [
      "\u001b[0;31m---------------------------------------------------------------------------\u001b[0m",
      "\u001b[0;31mDistutilsExecError\u001b[0m                        Traceback (most recent call last)",
      "File \u001b[0;32m~/opt/anaconda3/lib/python3.9/site-packages/setuptools/_distutils/unixccompiler.py:185\u001b[0m, in \u001b[0;36mUnixCCompiler._compile\u001b[0;34m(self, obj, src, ext, cc_args, extra_postargs, pp_opts)\u001b[0m\n\u001b[1;32m    184\u001b[0m \u001b[38;5;28;01mtry\u001b[39;00m:\n\u001b[0;32m--> 185\u001b[0m     \u001b[38;5;28;43mself\u001b[39;49m\u001b[38;5;241;43m.\u001b[39;49m\u001b[43mspawn\u001b[49m\u001b[43m(\u001b[49m\u001b[43mcompiler_so\u001b[49m\u001b[43m \u001b[49m\u001b[38;5;241;43m+\u001b[39;49m\u001b[43m \u001b[49m\u001b[43mcc_args\u001b[49m\u001b[43m \u001b[49m\u001b[38;5;241;43m+\u001b[39;49m\u001b[43m \u001b[49m\u001b[43m[\u001b[49m\u001b[43msrc\u001b[49m\u001b[43m,\u001b[49m\u001b[43m \u001b[49m\u001b[38;5;124;43m'\u001b[39;49m\u001b[38;5;124;43m-o\u001b[39;49m\u001b[38;5;124;43m'\u001b[39;49m\u001b[43m,\u001b[49m\u001b[43m \u001b[49m\u001b[43mobj\u001b[49m\u001b[43m]\u001b[49m\u001b[43m \u001b[49m\u001b[38;5;241;43m+\u001b[39;49m\u001b[43m \u001b[49m\u001b[43mextra_postargs\u001b[49m\u001b[43m)\u001b[49m\n\u001b[1;32m    186\u001b[0m \u001b[38;5;28;01mexcept\u001b[39;00m DistutilsExecError \u001b[38;5;28;01mas\u001b[39;00m msg:\n",
      "File \u001b[0;32m~/opt/anaconda3/lib/python3.9/site-packages/setuptools/_distutils/ccompiler.py:1041\u001b[0m, in \u001b[0;36mCCompiler.spawn\u001b[0;34m(self, cmd, **kwargs)\u001b[0m\n\u001b[1;32m   1040\u001b[0m \u001b[38;5;28;01mdef\u001b[39;00m \u001b[38;5;21mspawn\u001b[39m(\u001b[38;5;28mself\u001b[39m, cmd, \u001b[38;5;241m*\u001b[39m\u001b[38;5;241m*\u001b[39mkwargs):\n\u001b[0;32m-> 1041\u001b[0m     \u001b[43mspawn\u001b[49m\u001b[43m(\u001b[49m\u001b[43mcmd\u001b[49m\u001b[43m,\u001b[49m\u001b[43m \u001b[49m\u001b[43mdry_run\u001b[49m\u001b[38;5;241;43m=\u001b[39;49m\u001b[38;5;28;43mself\u001b[39;49m\u001b[38;5;241;43m.\u001b[39;49m\u001b[43mdry_run\u001b[49m\u001b[43m,\u001b[49m\u001b[43m \u001b[49m\u001b[38;5;241;43m*\u001b[39;49m\u001b[38;5;241;43m*\u001b[39;49m\u001b[43mkwargs\u001b[49m\u001b[43m)\u001b[49m\n",
      "File \u001b[0;32m~/opt/anaconda3/lib/python3.9/site-packages/setuptools/_distutils/spawn.py:70\u001b[0m, in \u001b[0;36mspawn\u001b[0;34m(cmd, search_path, verbose, dry_run, env)\u001b[0m\n\u001b[1;32m     69\u001b[0m     cmd \u001b[38;5;241m=\u001b[39m cmd[\u001b[38;5;241m0\u001b[39m]\n\u001b[0;32m---> 70\u001b[0m \u001b[38;5;28;01mraise\u001b[39;00m DistutilsExecError(\n\u001b[1;32m     71\u001b[0m     \u001b[38;5;124m\"\u001b[39m\u001b[38;5;124mcommand \u001b[39m\u001b[38;5;132;01m{!r}\u001b[39;00m\u001b[38;5;124m failed with exit code \u001b[39m\u001b[38;5;132;01m{}\u001b[39;00m\u001b[38;5;124m\"\u001b[39m\u001b[38;5;241m.\u001b[39mformat(cmd, exitcode)\n\u001b[1;32m     72\u001b[0m )\n",
      "\u001b[0;31mDistutilsExecError\u001b[0m: command '/usr/bin/clang' failed with exit code 1",
      "\nDuring handling of the above exception, another exception occurred:\n",
      "\u001b[0;31mCompileError\u001b[0m                              Traceback (most recent call last)",
      "File \u001b[0;32m~/opt/anaconda3/lib/python3.9/site-packages/pyximport/pyximport.py:214\u001b[0m, in \u001b[0;36mload_module\u001b[0;34m(name, pyxfilename, pyxbuild_dir, is_package, build_inplace, language_level, so_path)\u001b[0m\n\u001b[1;32m    213\u001b[0m         module_name \u001b[38;5;241m=\u001b[39m name\n\u001b[0;32m--> 214\u001b[0m     so_path \u001b[38;5;241m=\u001b[39m \u001b[43mbuild_module\u001b[49m\u001b[43m(\u001b[49m\u001b[43mmodule_name\u001b[49m\u001b[43m,\u001b[49m\u001b[43m \u001b[49m\u001b[43mpyxfilename\u001b[49m\u001b[43m,\u001b[49m\u001b[43m \u001b[49m\u001b[43mpyxbuild_dir\u001b[49m\u001b[43m,\u001b[49m\n\u001b[1;32m    215\u001b[0m \u001b[43m                           \u001b[49m\u001b[43minplace\u001b[49m\u001b[38;5;241;43m=\u001b[39;49m\u001b[43mbuild_inplace\u001b[49m\u001b[43m,\u001b[49m\u001b[43m \u001b[49m\u001b[43mlanguage_level\u001b[49m\u001b[38;5;241;43m=\u001b[39;49m\u001b[43mlanguage_level\u001b[49m\u001b[43m)\u001b[49m\n\u001b[1;32m    216\u001b[0m mod \u001b[38;5;241m=\u001b[39m imp\u001b[38;5;241m.\u001b[39mload_dynamic(name, so_path)\n",
      "File \u001b[0;32m~/opt/anaconda3/lib/python3.9/site-packages/pyximport/pyximport.py:186\u001b[0m, in \u001b[0;36mbuild_module\u001b[0;34m(name, pyxfilename, pyxbuild_dir, inplace, language_level)\u001b[0m\n\u001b[1;32m    185\u001b[0m \u001b[38;5;28;01mfrom\u001b[39;00m \u001b[38;5;21;01m.\u001b[39;00m \u001b[38;5;28;01mimport\u001b[39;00m pyxbuild\n\u001b[0;32m--> 186\u001b[0m so_path \u001b[38;5;241m=\u001b[39m \u001b[43mpyxbuild\u001b[49m\u001b[38;5;241;43m.\u001b[39;49m\u001b[43mpyx_to_dll\u001b[49m\u001b[43m(\u001b[49m\u001b[43mpyxfilename\u001b[49m\u001b[43m,\u001b[49m\u001b[43m \u001b[49m\u001b[43mextension_mod\u001b[49m\u001b[43m,\u001b[49m\n\u001b[1;32m    187\u001b[0m \u001b[43m                              \u001b[49m\u001b[43mbuild_in_temp\u001b[49m\u001b[38;5;241;43m=\u001b[39;49m\u001b[43mbuild_in_temp\u001b[49m\u001b[43m,\u001b[49m\n\u001b[1;32m    188\u001b[0m \u001b[43m                              \u001b[49m\u001b[43mpyxbuild_dir\u001b[49m\u001b[38;5;241;43m=\u001b[39;49m\u001b[43mpyxbuild_dir\u001b[49m\u001b[43m,\u001b[49m\n\u001b[1;32m    189\u001b[0m \u001b[43m                              \u001b[49m\u001b[43msetup_args\u001b[49m\u001b[38;5;241;43m=\u001b[39;49m\u001b[43msargs\u001b[49m\u001b[43m,\u001b[49m\n\u001b[1;32m    190\u001b[0m \u001b[43m                              \u001b[49m\u001b[43minplace\u001b[49m\u001b[38;5;241;43m=\u001b[39;49m\u001b[43minplace\u001b[49m\u001b[43m,\u001b[49m\n\u001b[1;32m    191\u001b[0m \u001b[43m                              \u001b[49m\u001b[43mreload_support\u001b[49m\u001b[38;5;241;43m=\u001b[39;49m\u001b[43mpyxargs\u001b[49m\u001b[38;5;241;43m.\u001b[39;49m\u001b[43mreload_support\u001b[49m\u001b[43m)\u001b[49m\n\u001b[1;32m    192\u001b[0m \u001b[38;5;28;01massert\u001b[39;00m os\u001b[38;5;241m.\u001b[39mpath\u001b[38;5;241m.\u001b[39mexists(so_path), \u001b[38;5;124m\"\u001b[39m\u001b[38;5;124mCannot find: \u001b[39m\u001b[38;5;132;01m%s\u001b[39;00m\u001b[38;5;124m\"\u001b[39m \u001b[38;5;241m%\u001b[39m so_path\n",
      "File \u001b[0;32m~/opt/anaconda3/lib/python3.9/site-packages/pyximport/pyxbuild.py:102\u001b[0m, in \u001b[0;36mpyx_to_dll\u001b[0;34m(filename, ext, force_rebuild, build_in_temp, pyxbuild_dir, setup_args, reload_support, inplace)\u001b[0m\n\u001b[1;32m    101\u001b[0m obj_build_ext \u001b[38;5;241m=\u001b[39m dist\u001b[38;5;241m.\u001b[39mget_command_obj(\u001b[38;5;124m\"\u001b[39m\u001b[38;5;124mbuild_ext\u001b[39m\u001b[38;5;124m\"\u001b[39m)\n\u001b[0;32m--> 102\u001b[0m \u001b[43mdist\u001b[49m\u001b[38;5;241;43m.\u001b[39;49m\u001b[43mrun_commands\u001b[49m\u001b[43m(\u001b[49m\u001b[43m)\u001b[49m\n\u001b[1;32m    103\u001b[0m so_path \u001b[38;5;241m=\u001b[39m obj_build_ext\u001b[38;5;241m.\u001b[39mget_outputs()[\u001b[38;5;241m0\u001b[39m]\n",
      "File \u001b[0;32m~/opt/anaconda3/lib/python3.9/site-packages/setuptools/_distutils/dist.py:969\u001b[0m, in \u001b[0;36mDistribution.run_commands\u001b[0;34m(self)\u001b[0m\n\u001b[1;32m    968\u001b[0m \u001b[38;5;28;01mfor\u001b[39;00m cmd \u001b[38;5;129;01min\u001b[39;00m \u001b[38;5;28mself\u001b[39m\u001b[38;5;241m.\u001b[39mcommands:\n\u001b[0;32m--> 969\u001b[0m     \u001b[38;5;28;43mself\u001b[39;49m\u001b[38;5;241;43m.\u001b[39;49m\u001b[43mrun_command\u001b[49m\u001b[43m(\u001b[49m\u001b[43mcmd\u001b[49m\u001b[43m)\u001b[49m\n",
      "File \u001b[0;32m~/opt/anaconda3/lib/python3.9/site-packages/setuptools/dist.py:1244\u001b[0m, in \u001b[0;36mDistribution.run_command\u001b[0;34m(self, command)\u001b[0m\n\u001b[1;32m   1241\u001b[0m \u001b[38;5;66;03m# Postpone defaults until all explicit configuration is considered\u001b[39;00m\n\u001b[1;32m   1242\u001b[0m \u001b[38;5;66;03m# (setup() args, config files, command line and plugins)\u001b[39;00m\n\u001b[0;32m-> 1244\u001b[0m \u001b[38;5;28;43msuper\u001b[39;49m\u001b[43m(\u001b[49m\u001b[43m)\u001b[49m\u001b[38;5;241;43m.\u001b[39;49m\u001b[43mrun_command\u001b[49m\u001b[43m(\u001b[49m\u001b[43mcommand\u001b[49m\u001b[43m)\u001b[49m\n",
      "File \u001b[0;32m~/opt/anaconda3/lib/python3.9/site-packages/setuptools/_distutils/dist.py:988\u001b[0m, in \u001b[0;36mDistribution.run_command\u001b[0;34m(self, command)\u001b[0m\n\u001b[1;32m    987\u001b[0m cmd_obj\u001b[38;5;241m.\u001b[39mensure_finalized()\n\u001b[0;32m--> 988\u001b[0m \u001b[43mcmd_obj\u001b[49m\u001b[38;5;241;43m.\u001b[39;49m\u001b[43mrun\u001b[49m\u001b[43m(\u001b[49m\u001b[43m)\u001b[49m\n\u001b[1;32m    989\u001b[0m \u001b[38;5;28mself\u001b[39m\u001b[38;5;241m.\u001b[39mhave_run[command] \u001b[38;5;241m=\u001b[39m \u001b[38;5;241m1\u001b[39m\n",
      "File \u001b[0;32m~/opt/anaconda3/lib/python3.9/site-packages/Cython/Distutils/old_build_ext.py:186\u001b[0m, in \u001b[0;36mold_build_ext.run\u001b[0;34m(self)\u001b[0m\n\u001b[1;32m    184\u001b[0m     optimization\u001b[38;5;241m.\u001b[39mdisable_optimization()\n\u001b[0;32m--> 186\u001b[0m \u001b[43m_build_ext\u001b[49m\u001b[38;5;241;43m.\u001b[39;49m\u001b[43mbuild_ext\u001b[49m\u001b[38;5;241;43m.\u001b[39;49m\u001b[43mrun\u001b[49m\u001b[43m(\u001b[49m\u001b[38;5;28;43mself\u001b[39;49m\u001b[43m)\u001b[49m\n",
      "File \u001b[0;32m~/opt/anaconda3/lib/python3.9/site-packages/setuptools/_distutils/command/build_ext.py:345\u001b[0m, in \u001b[0;36mbuild_ext.run\u001b[0;34m(self)\u001b[0m\n\u001b[1;32m    344\u001b[0m \u001b[38;5;66;03m# Now actually compile and link everything.\u001b[39;00m\n\u001b[0;32m--> 345\u001b[0m \u001b[38;5;28;43mself\u001b[39;49m\u001b[38;5;241;43m.\u001b[39;49m\u001b[43mbuild_extensions\u001b[49m\u001b[43m(\u001b[49m\u001b[43m)\u001b[49m\n",
      "File \u001b[0;32m~/opt/anaconda3/lib/python3.9/site-packages/Cython/Distutils/old_build_ext.py:195\u001b[0m, in \u001b[0;36mold_build_ext.build_extensions\u001b[0;34m(self)\u001b[0m\n\u001b[1;32m    194\u001b[0m \u001b[38;5;66;03m# Call original build_extensions\u001b[39;00m\n\u001b[0;32m--> 195\u001b[0m \u001b[43m_build_ext\u001b[49m\u001b[38;5;241;43m.\u001b[39;49m\u001b[43mbuild_ext\u001b[49m\u001b[38;5;241;43m.\u001b[39;49m\u001b[43mbuild_extensions\u001b[49m\u001b[43m(\u001b[49m\u001b[38;5;28;43mself\u001b[39;49m\u001b[43m)\u001b[49m\n",
      "File \u001b[0;32m~/opt/anaconda3/lib/python3.9/site-packages/setuptools/_distutils/command/build_ext.py:467\u001b[0m, in \u001b[0;36mbuild_ext.build_extensions\u001b[0;34m(self)\u001b[0m\n\u001b[1;32m    466\u001b[0m \u001b[38;5;28;01melse\u001b[39;00m:\n\u001b[0;32m--> 467\u001b[0m     \u001b[38;5;28;43mself\u001b[39;49m\u001b[38;5;241;43m.\u001b[39;49m\u001b[43m_build_extensions_serial\u001b[49m\u001b[43m(\u001b[49m\u001b[43m)\u001b[49m\n",
      "File \u001b[0;32m~/opt/anaconda3/lib/python3.9/site-packages/setuptools/_distutils/command/build_ext.py:493\u001b[0m, in \u001b[0;36mbuild_ext._build_extensions_serial\u001b[0;34m(self)\u001b[0m\n\u001b[1;32m    492\u001b[0m \u001b[38;5;28;01mwith\u001b[39;00m \u001b[38;5;28mself\u001b[39m\u001b[38;5;241m.\u001b[39m_filter_build_errors(ext):\n\u001b[0;32m--> 493\u001b[0m     \u001b[38;5;28;43mself\u001b[39;49m\u001b[38;5;241;43m.\u001b[39;49m\u001b[43mbuild_extension\u001b[49m\u001b[43m(\u001b[49m\u001b[43mext\u001b[49m\u001b[43m)\u001b[49m\n",
      "File \u001b[0;32m~/opt/anaconda3/lib/python3.9/site-packages/setuptools/_distutils/command/build_ext.py:548\u001b[0m, in \u001b[0;36mbuild_ext.build_extension\u001b[0;34m(self, ext)\u001b[0m\n\u001b[1;32m    546\u001b[0m     macros\u001b[38;5;241m.\u001b[39mappend((undef,))\n\u001b[0;32m--> 548\u001b[0m objects \u001b[38;5;241m=\u001b[39m \u001b[38;5;28;43mself\u001b[39;49m\u001b[38;5;241;43m.\u001b[39;49m\u001b[43mcompiler\u001b[49m\u001b[38;5;241;43m.\u001b[39;49m\u001b[43mcompile\u001b[49m\u001b[43m(\u001b[49m\n\u001b[1;32m    549\u001b[0m \u001b[43m    \u001b[49m\u001b[43msources\u001b[49m\u001b[43m,\u001b[49m\n\u001b[1;32m    550\u001b[0m \u001b[43m    \u001b[49m\u001b[43moutput_dir\u001b[49m\u001b[38;5;241;43m=\u001b[39;49m\u001b[38;5;28;43mself\u001b[39;49m\u001b[38;5;241;43m.\u001b[39;49m\u001b[43mbuild_temp\u001b[49m\u001b[43m,\u001b[49m\n\u001b[1;32m    551\u001b[0m \u001b[43m    \u001b[49m\u001b[43mmacros\u001b[49m\u001b[38;5;241;43m=\u001b[39;49m\u001b[43mmacros\u001b[49m\u001b[43m,\u001b[49m\n\u001b[1;32m    552\u001b[0m \u001b[43m    \u001b[49m\u001b[43minclude_dirs\u001b[49m\u001b[38;5;241;43m=\u001b[39;49m\u001b[43mext\u001b[49m\u001b[38;5;241;43m.\u001b[39;49m\u001b[43minclude_dirs\u001b[49m\u001b[43m,\u001b[49m\n\u001b[1;32m    553\u001b[0m \u001b[43m    \u001b[49m\u001b[43mdebug\u001b[49m\u001b[38;5;241;43m=\u001b[39;49m\u001b[38;5;28;43mself\u001b[39;49m\u001b[38;5;241;43m.\u001b[39;49m\u001b[43mdebug\u001b[49m\u001b[43m,\u001b[49m\n\u001b[1;32m    554\u001b[0m \u001b[43m    \u001b[49m\u001b[43mextra_postargs\u001b[49m\u001b[38;5;241;43m=\u001b[39;49m\u001b[43mextra_args\u001b[49m\u001b[43m,\u001b[49m\n\u001b[1;32m    555\u001b[0m \u001b[43m    \u001b[49m\u001b[43mdepends\u001b[49m\u001b[38;5;241;43m=\u001b[39;49m\u001b[43mext\u001b[49m\u001b[38;5;241;43m.\u001b[39;49m\u001b[43mdepends\u001b[49m\u001b[43m,\u001b[49m\n\u001b[1;32m    556\u001b[0m \u001b[43m\u001b[49m\u001b[43m)\u001b[49m\n\u001b[1;32m    558\u001b[0m \u001b[38;5;66;03m# XXX outdated variable, kept here in case third-part code\u001b[39;00m\n\u001b[1;32m    559\u001b[0m \u001b[38;5;66;03m# needs it.\u001b[39;00m\n",
      "File \u001b[0;32m~/opt/anaconda3/lib/python3.9/site-packages/setuptools/_distutils/ccompiler.py:600\u001b[0m, in \u001b[0;36mCCompiler.compile\u001b[0;34m(self, sources, output_dir, macros, include_dirs, debug, extra_preargs, extra_postargs, depends)\u001b[0m\n\u001b[1;32m    599\u001b[0m         \u001b[38;5;28;01mcontinue\u001b[39;00m\n\u001b[0;32m--> 600\u001b[0m     \u001b[38;5;28;43mself\u001b[39;49m\u001b[38;5;241;43m.\u001b[39;49m\u001b[43m_compile\u001b[49m\u001b[43m(\u001b[49m\u001b[43mobj\u001b[49m\u001b[43m,\u001b[49m\u001b[43m \u001b[49m\u001b[43msrc\u001b[49m\u001b[43m,\u001b[49m\u001b[43m \u001b[49m\u001b[43mext\u001b[49m\u001b[43m,\u001b[49m\u001b[43m \u001b[49m\u001b[43mcc_args\u001b[49m\u001b[43m,\u001b[49m\u001b[43m \u001b[49m\u001b[43mextra_postargs\u001b[49m\u001b[43m,\u001b[49m\u001b[43m \u001b[49m\u001b[43mpp_opts\u001b[49m\u001b[43m)\u001b[49m\n\u001b[1;32m    602\u001b[0m \u001b[38;5;66;03m# Return *all* object filenames, not just the ones we just built.\u001b[39;00m\n",
      "File \u001b[0;32m~/opt/anaconda3/lib/python3.9/site-packages/setuptools/_distutils/unixccompiler.py:187\u001b[0m, in \u001b[0;36mUnixCCompiler._compile\u001b[0;34m(self, obj, src, ext, cc_args, extra_postargs, pp_opts)\u001b[0m\n\u001b[1;32m    186\u001b[0m \u001b[38;5;28;01mexcept\u001b[39;00m DistutilsExecError \u001b[38;5;28;01mas\u001b[39;00m msg:\n\u001b[0;32m--> 187\u001b[0m     \u001b[38;5;28;01mraise\u001b[39;00m CompileError(msg)\n",
      "\u001b[0;31mCompileError\u001b[0m: command '/usr/bin/clang' failed with exit code 1",
      "\nDuring handling of the above exception, another exception occurred:\n",
      "\u001b[0;31mImportError\u001b[0m                               Traceback (most recent call last)",
      "Input \u001b[0;32mIn [3]\u001b[0m, in \u001b[0;36m<cell line: 1>\u001b[0;34m()\u001b[0m\n\u001b[0;32m----> 1\u001b[0m \u001b[43mimportlib\u001b[49m\u001b[38;5;241;43m.\u001b[39;49m\u001b[43mimport_module\u001b[49m\u001b[43m(\u001b[49m\u001b[38;5;124;43m\"\u001b[39;49m\u001b[38;5;124;43meqlibr\u001b[39;49m\u001b[38;5;124;43m\"\u001b[39;49m\u001b[43m)\u001b[49m\n",
      "File \u001b[0;32m~/opt/anaconda3/lib/python3.9/importlib/__init__.py:127\u001b[0m, in \u001b[0;36mimport_module\u001b[0;34m(name, package)\u001b[0m\n\u001b[1;32m    125\u001b[0m             \u001b[38;5;28;01mbreak\u001b[39;00m\n\u001b[1;32m    126\u001b[0m         level \u001b[38;5;241m+\u001b[39m\u001b[38;5;241m=\u001b[39m \u001b[38;5;241m1\u001b[39m\n\u001b[0;32m--> 127\u001b[0m \u001b[38;5;28;01mreturn\u001b[39;00m \u001b[43m_bootstrap\u001b[49m\u001b[38;5;241;43m.\u001b[39;49m\u001b[43m_gcd_import\u001b[49m\u001b[43m(\u001b[49m\u001b[43mname\u001b[49m\u001b[43m[\u001b[49m\u001b[43mlevel\u001b[49m\u001b[43m:\u001b[49m\u001b[43m]\u001b[49m\u001b[43m,\u001b[49m\u001b[43m \u001b[49m\u001b[43mpackage\u001b[49m\u001b[43m,\u001b[49m\u001b[43m \u001b[49m\u001b[43mlevel\u001b[49m\u001b[43m)\u001b[49m\n",
      "File \u001b[0;32m<frozen importlib._bootstrap>:1030\u001b[0m, in \u001b[0;36m_gcd_import\u001b[0;34m(name, package, level)\u001b[0m\n",
      "File \u001b[0;32m<frozen importlib._bootstrap>:1007\u001b[0m, in \u001b[0;36m_find_and_load\u001b[0;34m(name, import_)\u001b[0m\n",
      "File \u001b[0;32m<frozen importlib._bootstrap>:986\u001b[0m, in \u001b[0;36m_find_and_load_unlocked\u001b[0;34m(name, import_)\u001b[0m\n",
      "File \u001b[0;32m<frozen importlib._bootstrap>:664\u001b[0m, in \u001b[0;36m_load_unlocked\u001b[0;34m(spec)\u001b[0m\n",
      "File \u001b[0;32m<frozen importlib._bootstrap>:627\u001b[0m, in \u001b[0;36m_load_backward_compatible\u001b[0;34m(spec)\u001b[0m\n",
      "File \u001b[0;32m~/opt/anaconda3/lib/python3.9/site-packages/pyximport/pyximport.py:459\u001b[0m, in \u001b[0;36mPyxLoader.load_module\u001b[0;34m(self, fullname)\u001b[0m\n\u001b[1;32m    456\u001b[0m     module\u001b[38;5;241m.\u001b[39m__path__ \u001b[38;5;241m=\u001b[39m [\u001b[38;5;28mself\u001b[39m\u001b[38;5;241m.\u001b[39mpath]\n\u001b[1;32m    457\u001b[0m \u001b[38;5;28;01melse\u001b[39;00m:\n\u001b[1;32m    458\u001b[0m     \u001b[38;5;66;03m#print \"MODULE\", fullname\u001b[39;00m\n\u001b[0;32m--> 459\u001b[0m     module \u001b[38;5;241m=\u001b[39m \u001b[43mload_module\u001b[49m\u001b[43m(\u001b[49m\u001b[43mfullname\u001b[49m\u001b[43m,\u001b[49m\u001b[43m \u001b[49m\u001b[38;5;28;43mself\u001b[39;49m\u001b[38;5;241;43m.\u001b[39;49m\u001b[43mpath\u001b[49m\u001b[43m,\u001b[49m\n\u001b[1;32m    460\u001b[0m \u001b[43m                         \u001b[49m\u001b[38;5;28;43mself\u001b[39;49m\u001b[38;5;241;43m.\u001b[39;49m\u001b[43mpyxbuild_dir\u001b[49m\u001b[43m,\u001b[49m\n\u001b[1;32m    461\u001b[0m \u001b[43m                         \u001b[49m\u001b[43mbuild_inplace\u001b[49m\u001b[38;5;241;43m=\u001b[39;49m\u001b[38;5;28;43mself\u001b[39;49m\u001b[38;5;241;43m.\u001b[39;49m\u001b[43minplace\u001b[49m\u001b[43m,\u001b[49m\n\u001b[1;32m    462\u001b[0m \u001b[43m                         \u001b[49m\u001b[43mlanguage_level\u001b[49m\u001b[38;5;241;43m=\u001b[39;49m\u001b[38;5;28;43mself\u001b[39;49m\u001b[38;5;241;43m.\u001b[39;49m\u001b[43mlanguage_level\u001b[49m\u001b[43m)\u001b[49m\n\u001b[1;32m    463\u001b[0m \u001b[38;5;28;01mreturn\u001b[39;00m module\n",
      "File \u001b[0;32m~/opt/anaconda3/lib/python3.9/site-packages/pyximport/pyximport.py:231\u001b[0m, in \u001b[0;36mload_module\u001b[0;34m(name, pyxfilename, pyxbuild_dir, is_package, build_inplace, language_level, so_path)\u001b[0m\n\u001b[1;32m    228\u001b[0m exc \u001b[38;5;241m=\u001b[39m \u001b[38;5;167;01mImportError\u001b[39;00m(\u001b[38;5;124m\"\u001b[39m\u001b[38;5;124mBuilding module \u001b[39m\u001b[38;5;132;01m%s\u001b[39;00m\u001b[38;5;124m failed: \u001b[39m\u001b[38;5;132;01m%s\u001b[39;00m\u001b[38;5;124m\"\u001b[39m \u001b[38;5;241m%\u001b[39m (\n\u001b[1;32m    229\u001b[0m     name, traceback\u001b[38;5;241m.\u001b[39mformat_exception_only(\u001b[38;5;241m*\u001b[39msys\u001b[38;5;241m.\u001b[39mexc_info()[:\u001b[38;5;241m2\u001b[39m])))\n\u001b[1;32m    230\u001b[0m \u001b[38;5;28;01mif\u001b[39;00m sys\u001b[38;5;241m.\u001b[39mversion_info[\u001b[38;5;241m0\u001b[39m] \u001b[38;5;241m>\u001b[39m\u001b[38;5;241m=\u001b[39m \u001b[38;5;241m3\u001b[39m:\n\u001b[0;32m--> 231\u001b[0m     \u001b[38;5;28;01mraise\u001b[39;00m exc\u001b[38;5;241m.\u001b[39mwith_traceback(tb)\n\u001b[1;32m    232\u001b[0m \u001b[38;5;28;01melse\u001b[39;00m:\n\u001b[1;32m    233\u001b[0m     exec(\u001b[38;5;124m\"\u001b[39m\u001b[38;5;124mraise exc, None, tb\u001b[39m\u001b[38;5;124m\"\u001b[39m, {\u001b[38;5;124m'\u001b[39m\u001b[38;5;124mexc\u001b[39m\u001b[38;5;124m'\u001b[39m: exc, \u001b[38;5;124m'\u001b[39m\u001b[38;5;124mtb\u001b[39m\u001b[38;5;124m'\u001b[39m: tb})\n",
      "File \u001b[0;32m~/opt/anaconda3/lib/python3.9/site-packages/pyximport/pyximport.py:214\u001b[0m, in \u001b[0;36mload_module\u001b[0;34m(name, pyxfilename, pyxbuild_dir, is_package, build_inplace, language_level, so_path)\u001b[0m\n\u001b[1;32m    212\u001b[0m     \u001b[38;5;28;01melse\u001b[39;00m:\n\u001b[1;32m    213\u001b[0m         module_name \u001b[38;5;241m=\u001b[39m name\n\u001b[0;32m--> 214\u001b[0m     so_path \u001b[38;5;241m=\u001b[39m \u001b[43mbuild_module\u001b[49m\u001b[43m(\u001b[49m\u001b[43mmodule_name\u001b[49m\u001b[43m,\u001b[49m\u001b[43m \u001b[49m\u001b[43mpyxfilename\u001b[49m\u001b[43m,\u001b[49m\u001b[43m \u001b[49m\u001b[43mpyxbuild_dir\u001b[49m\u001b[43m,\u001b[49m\n\u001b[1;32m    215\u001b[0m \u001b[43m                           \u001b[49m\u001b[43minplace\u001b[49m\u001b[38;5;241;43m=\u001b[39;49m\u001b[43mbuild_inplace\u001b[49m\u001b[43m,\u001b[49m\u001b[43m \u001b[49m\u001b[43mlanguage_level\u001b[49m\u001b[38;5;241;43m=\u001b[39;49m\u001b[43mlanguage_level\u001b[49m\u001b[43m)\u001b[49m\n\u001b[1;32m    216\u001b[0m mod \u001b[38;5;241m=\u001b[39m imp\u001b[38;5;241m.\u001b[39mload_dynamic(name, so_path)\n\u001b[1;32m    217\u001b[0m \u001b[38;5;28;01mif\u001b[39;00m is_package \u001b[38;5;129;01mand\u001b[39;00m \u001b[38;5;129;01mnot\u001b[39;00m \u001b[38;5;28mhasattr\u001b[39m(mod, \u001b[38;5;124m'\u001b[39m\u001b[38;5;124m__path__\u001b[39m\u001b[38;5;124m'\u001b[39m):\n",
      "File \u001b[0;32m~/opt/anaconda3/lib/python3.9/site-packages/pyximport/pyximport.py:186\u001b[0m, in \u001b[0;36mbuild_module\u001b[0;34m(name, pyxfilename, pyxbuild_dir, inplace, language_level)\u001b[0m\n\u001b[1;32m    183\u001b[0m build_in_temp \u001b[38;5;241m=\u001b[39m sargs\u001b[38;5;241m.\u001b[39mpop(\u001b[38;5;124m'\u001b[39m\u001b[38;5;124mbuild_in_temp\u001b[39m\u001b[38;5;124m'\u001b[39m,build_in_temp)\n\u001b[1;32m    185\u001b[0m \u001b[38;5;28;01mfrom\u001b[39;00m \u001b[38;5;21;01m.\u001b[39;00m \u001b[38;5;28;01mimport\u001b[39;00m pyxbuild\n\u001b[0;32m--> 186\u001b[0m so_path \u001b[38;5;241m=\u001b[39m \u001b[43mpyxbuild\u001b[49m\u001b[38;5;241;43m.\u001b[39;49m\u001b[43mpyx_to_dll\u001b[49m\u001b[43m(\u001b[49m\u001b[43mpyxfilename\u001b[49m\u001b[43m,\u001b[49m\u001b[43m \u001b[49m\u001b[43mextension_mod\u001b[49m\u001b[43m,\u001b[49m\n\u001b[1;32m    187\u001b[0m \u001b[43m                              \u001b[49m\u001b[43mbuild_in_temp\u001b[49m\u001b[38;5;241;43m=\u001b[39;49m\u001b[43mbuild_in_temp\u001b[49m\u001b[43m,\u001b[49m\n\u001b[1;32m    188\u001b[0m \u001b[43m                              \u001b[49m\u001b[43mpyxbuild_dir\u001b[49m\u001b[38;5;241;43m=\u001b[39;49m\u001b[43mpyxbuild_dir\u001b[49m\u001b[43m,\u001b[49m\n\u001b[1;32m    189\u001b[0m \u001b[43m                              \u001b[49m\u001b[43msetup_args\u001b[49m\u001b[38;5;241;43m=\u001b[39;49m\u001b[43msargs\u001b[49m\u001b[43m,\u001b[49m\n\u001b[1;32m    190\u001b[0m \u001b[43m                              \u001b[49m\u001b[43minplace\u001b[49m\u001b[38;5;241;43m=\u001b[39;49m\u001b[43minplace\u001b[49m\u001b[43m,\u001b[49m\n\u001b[1;32m    191\u001b[0m \u001b[43m                              \u001b[49m\u001b[43mreload_support\u001b[49m\u001b[38;5;241;43m=\u001b[39;49m\u001b[43mpyxargs\u001b[49m\u001b[38;5;241;43m.\u001b[39;49m\u001b[43mreload_support\u001b[49m\u001b[43m)\u001b[49m\n\u001b[1;32m    192\u001b[0m \u001b[38;5;28;01massert\u001b[39;00m os\u001b[38;5;241m.\u001b[39mpath\u001b[38;5;241m.\u001b[39mexists(so_path), \u001b[38;5;124m\"\u001b[39m\u001b[38;5;124mCannot find: \u001b[39m\u001b[38;5;132;01m%s\u001b[39;00m\u001b[38;5;124m\"\u001b[39m \u001b[38;5;241m%\u001b[39m so_path\n\u001b[1;32m    194\u001b[0m junkpath \u001b[38;5;241m=\u001b[39m os\u001b[38;5;241m.\u001b[39mpath\u001b[38;5;241m.\u001b[39mjoin(os\u001b[38;5;241m.\u001b[39mpath\u001b[38;5;241m.\u001b[39mdirname(so_path), name\u001b[38;5;241m+\u001b[39m\u001b[38;5;124m\"\u001b[39m\u001b[38;5;124m_*\u001b[39m\u001b[38;5;124m\"\u001b[39m) \u001b[38;5;66;03m#very dangerous with --inplace ? yes, indeed, trying to eat my files ;)\u001b[39;00m\n",
      "File \u001b[0;32m~/opt/anaconda3/lib/python3.9/site-packages/pyximport/pyxbuild.py:102\u001b[0m, in \u001b[0;36mpyx_to_dll\u001b[0;34m(filename, ext, force_rebuild, build_in_temp, pyxbuild_dir, setup_args, reload_support, inplace)\u001b[0m\n\u001b[1;32m    100\u001b[0m \u001b[38;5;28;01mtry\u001b[39;00m:\n\u001b[1;32m    101\u001b[0m     obj_build_ext \u001b[38;5;241m=\u001b[39m dist\u001b[38;5;241m.\u001b[39mget_command_obj(\u001b[38;5;124m\"\u001b[39m\u001b[38;5;124mbuild_ext\u001b[39m\u001b[38;5;124m\"\u001b[39m)\n\u001b[0;32m--> 102\u001b[0m     \u001b[43mdist\u001b[49m\u001b[38;5;241;43m.\u001b[39;49m\u001b[43mrun_commands\u001b[49m\u001b[43m(\u001b[49m\u001b[43m)\u001b[49m\n\u001b[1;32m    103\u001b[0m     so_path \u001b[38;5;241m=\u001b[39m obj_build_ext\u001b[38;5;241m.\u001b[39mget_outputs()[\u001b[38;5;241m0\u001b[39m]\n\u001b[1;32m    104\u001b[0m     \u001b[38;5;28;01mif\u001b[39;00m obj_build_ext\u001b[38;5;241m.\u001b[39minplace:\n\u001b[1;32m    105\u001b[0m         \u001b[38;5;66;03m# Python distutils get_outputs()[ returns a wrong so_path\u001b[39;00m\n\u001b[1;32m    106\u001b[0m         \u001b[38;5;66;03m# when --inplace ; see http://bugs.python.org/issue5977\u001b[39;00m\n\u001b[1;32m    107\u001b[0m         \u001b[38;5;66;03m# workaround:\u001b[39;00m\n",
      "File \u001b[0;32m~/opt/anaconda3/lib/python3.9/site-packages/setuptools/_distutils/dist.py:969\u001b[0m, in \u001b[0;36mDistribution.run_commands\u001b[0;34m(self)\u001b[0m\n\u001b[1;32m    964\u001b[0m \u001b[38;5;250m\u001b[39m\u001b[38;5;124;03m\"\"\"Run each command that was seen on the setup script command line.\u001b[39;00m\n\u001b[1;32m    965\u001b[0m \u001b[38;5;124;03mUses the list of commands found and cache of command objects\u001b[39;00m\n\u001b[1;32m    966\u001b[0m \u001b[38;5;124;03mcreated by 'get_command_obj()'.\u001b[39;00m\n\u001b[1;32m    967\u001b[0m \u001b[38;5;124;03m\"\"\"\u001b[39;00m\n\u001b[1;32m    968\u001b[0m \u001b[38;5;28;01mfor\u001b[39;00m cmd \u001b[38;5;129;01min\u001b[39;00m \u001b[38;5;28mself\u001b[39m\u001b[38;5;241m.\u001b[39mcommands:\n\u001b[0;32m--> 969\u001b[0m     \u001b[38;5;28;43mself\u001b[39;49m\u001b[38;5;241;43m.\u001b[39;49m\u001b[43mrun_command\u001b[49m\u001b[43m(\u001b[49m\u001b[43mcmd\u001b[49m\u001b[43m)\u001b[49m\n",
      "File \u001b[0;32m~/opt/anaconda3/lib/python3.9/site-packages/setuptools/dist.py:1244\u001b[0m, in \u001b[0;36mDistribution.run_command\u001b[0;34m(self, command)\u001b[0m\n\u001b[1;32m   1240\u001b[0m \u001b[38;5;28mself\u001b[39m\u001b[38;5;241m.\u001b[39mset_defaults()\n\u001b[1;32m   1241\u001b[0m \u001b[38;5;66;03m# Postpone defaults until all explicit configuration is considered\u001b[39;00m\n\u001b[1;32m   1242\u001b[0m \u001b[38;5;66;03m# (setup() args, config files, command line and plugins)\u001b[39;00m\n\u001b[0;32m-> 1244\u001b[0m \u001b[38;5;28;43msuper\u001b[39;49m\u001b[43m(\u001b[49m\u001b[43m)\u001b[49m\u001b[38;5;241;43m.\u001b[39;49m\u001b[43mrun_command\u001b[49m\u001b[43m(\u001b[49m\u001b[43mcommand\u001b[49m\u001b[43m)\u001b[49m\n",
      "File \u001b[0;32m~/opt/anaconda3/lib/python3.9/site-packages/setuptools/_distutils/dist.py:988\u001b[0m, in \u001b[0;36mDistribution.run_command\u001b[0;34m(self, command)\u001b[0m\n\u001b[1;32m    986\u001b[0m cmd_obj \u001b[38;5;241m=\u001b[39m \u001b[38;5;28mself\u001b[39m\u001b[38;5;241m.\u001b[39mget_command_obj(command)\n\u001b[1;32m    987\u001b[0m cmd_obj\u001b[38;5;241m.\u001b[39mensure_finalized()\n\u001b[0;32m--> 988\u001b[0m \u001b[43mcmd_obj\u001b[49m\u001b[38;5;241;43m.\u001b[39;49m\u001b[43mrun\u001b[49m\u001b[43m(\u001b[49m\u001b[43m)\u001b[49m\n\u001b[1;32m    989\u001b[0m \u001b[38;5;28mself\u001b[39m\u001b[38;5;241m.\u001b[39mhave_run[command] \u001b[38;5;241m=\u001b[39m \u001b[38;5;241m1\u001b[39m\n",
      "File \u001b[0;32m~/opt/anaconda3/lib/python3.9/site-packages/Cython/Distutils/old_build_ext.py:186\u001b[0m, in \u001b[0;36mold_build_ext.run\u001b[0;34m(self)\u001b[0m\n\u001b[1;32m    182\u001b[0m \u001b[38;5;28;01mif\u001b[39;00m \u001b[38;5;28mself\u001b[39m\u001b[38;5;241m.\u001b[39mcython_gdb \u001b[38;5;129;01mor\u001b[39;00m [\u001b[38;5;241m1\u001b[39m \u001b[38;5;28;01mfor\u001b[39;00m ext \u001b[38;5;129;01min\u001b[39;00m \u001b[38;5;28mself\u001b[39m\u001b[38;5;241m.\u001b[39mextensions\n\u001b[1;32m    183\u001b[0m                              \u001b[38;5;28;01mif\u001b[39;00m \u001b[38;5;28mgetattr\u001b[39m(ext, \u001b[38;5;124m'\u001b[39m\u001b[38;5;124mcython_gdb\u001b[39m\u001b[38;5;124m'\u001b[39m, \u001b[38;5;28;01mFalse\u001b[39;00m)]:\n\u001b[1;32m    184\u001b[0m     optimization\u001b[38;5;241m.\u001b[39mdisable_optimization()\n\u001b[0;32m--> 186\u001b[0m \u001b[43m_build_ext\u001b[49m\u001b[38;5;241;43m.\u001b[39;49m\u001b[43mbuild_ext\u001b[49m\u001b[38;5;241;43m.\u001b[39;49m\u001b[43mrun\u001b[49m\u001b[43m(\u001b[49m\u001b[38;5;28;43mself\u001b[39;49m\u001b[43m)\u001b[49m\n",
      "File \u001b[0;32m~/opt/anaconda3/lib/python3.9/site-packages/setuptools/_distutils/command/build_ext.py:345\u001b[0m, in \u001b[0;36mbuild_ext.run\u001b[0;34m(self)\u001b[0m\n\u001b[1;32m    342\u001b[0m     \u001b[38;5;28mself\u001b[39m\u001b[38;5;241m.\u001b[39mcompiler\u001b[38;5;241m.\u001b[39mset_link_objects(\u001b[38;5;28mself\u001b[39m\u001b[38;5;241m.\u001b[39mlink_objects)\n\u001b[1;32m    344\u001b[0m \u001b[38;5;66;03m# Now actually compile and link everything.\u001b[39;00m\n\u001b[0;32m--> 345\u001b[0m \u001b[38;5;28;43mself\u001b[39;49m\u001b[38;5;241;43m.\u001b[39;49m\u001b[43mbuild_extensions\u001b[49m\u001b[43m(\u001b[49m\u001b[43m)\u001b[49m\n",
      "File \u001b[0;32m~/opt/anaconda3/lib/python3.9/site-packages/Cython/Distutils/old_build_ext.py:195\u001b[0m, in \u001b[0;36mold_build_ext.build_extensions\u001b[0;34m(self)\u001b[0m\n\u001b[1;32m    193\u001b[0m     ext\u001b[38;5;241m.\u001b[39msources \u001b[38;5;241m=\u001b[39m \u001b[38;5;28mself\u001b[39m\u001b[38;5;241m.\u001b[39mcython_sources(ext\u001b[38;5;241m.\u001b[39msources, ext)\n\u001b[1;32m    194\u001b[0m \u001b[38;5;66;03m# Call original build_extensions\u001b[39;00m\n\u001b[0;32m--> 195\u001b[0m \u001b[43m_build_ext\u001b[49m\u001b[38;5;241;43m.\u001b[39;49m\u001b[43mbuild_ext\u001b[49m\u001b[38;5;241;43m.\u001b[39;49m\u001b[43mbuild_extensions\u001b[49m\u001b[43m(\u001b[49m\u001b[38;5;28;43mself\u001b[39;49m\u001b[43m)\u001b[49m\n",
      "File \u001b[0;32m~/opt/anaconda3/lib/python3.9/site-packages/setuptools/_distutils/command/build_ext.py:467\u001b[0m, in \u001b[0;36mbuild_ext.build_extensions\u001b[0;34m(self)\u001b[0m\n\u001b[1;32m    465\u001b[0m     \u001b[38;5;28mself\u001b[39m\u001b[38;5;241m.\u001b[39m_build_extensions_parallel()\n\u001b[1;32m    466\u001b[0m \u001b[38;5;28;01melse\u001b[39;00m:\n\u001b[0;32m--> 467\u001b[0m     \u001b[38;5;28;43mself\u001b[39;49m\u001b[38;5;241;43m.\u001b[39;49m\u001b[43m_build_extensions_serial\u001b[49m\u001b[43m(\u001b[49m\u001b[43m)\u001b[49m\n",
      "File \u001b[0;32m~/opt/anaconda3/lib/python3.9/site-packages/setuptools/_distutils/command/build_ext.py:493\u001b[0m, in \u001b[0;36mbuild_ext._build_extensions_serial\u001b[0;34m(self)\u001b[0m\n\u001b[1;32m    491\u001b[0m \u001b[38;5;28;01mfor\u001b[39;00m ext \u001b[38;5;129;01min\u001b[39;00m \u001b[38;5;28mself\u001b[39m\u001b[38;5;241m.\u001b[39mextensions:\n\u001b[1;32m    492\u001b[0m     \u001b[38;5;28;01mwith\u001b[39;00m \u001b[38;5;28mself\u001b[39m\u001b[38;5;241m.\u001b[39m_filter_build_errors(ext):\n\u001b[0;32m--> 493\u001b[0m         \u001b[38;5;28;43mself\u001b[39;49m\u001b[38;5;241;43m.\u001b[39;49m\u001b[43mbuild_extension\u001b[49m\u001b[43m(\u001b[49m\u001b[43mext\u001b[49m\u001b[43m)\u001b[49m\n",
      "File \u001b[0;32m~/opt/anaconda3/lib/python3.9/site-packages/setuptools/_distutils/command/build_ext.py:548\u001b[0m, in \u001b[0;36mbuild_ext.build_extension\u001b[0;34m(self, ext)\u001b[0m\n\u001b[1;32m    545\u001b[0m \u001b[38;5;28;01mfor\u001b[39;00m undef \u001b[38;5;129;01min\u001b[39;00m ext\u001b[38;5;241m.\u001b[39mundef_macros:\n\u001b[1;32m    546\u001b[0m     macros\u001b[38;5;241m.\u001b[39mappend((undef,))\n\u001b[0;32m--> 548\u001b[0m objects \u001b[38;5;241m=\u001b[39m \u001b[38;5;28;43mself\u001b[39;49m\u001b[38;5;241;43m.\u001b[39;49m\u001b[43mcompiler\u001b[49m\u001b[38;5;241;43m.\u001b[39;49m\u001b[43mcompile\u001b[49m\u001b[43m(\u001b[49m\n\u001b[1;32m    549\u001b[0m \u001b[43m    \u001b[49m\u001b[43msources\u001b[49m\u001b[43m,\u001b[49m\n\u001b[1;32m    550\u001b[0m \u001b[43m    \u001b[49m\u001b[43moutput_dir\u001b[49m\u001b[38;5;241;43m=\u001b[39;49m\u001b[38;5;28;43mself\u001b[39;49m\u001b[38;5;241;43m.\u001b[39;49m\u001b[43mbuild_temp\u001b[49m\u001b[43m,\u001b[49m\n\u001b[1;32m    551\u001b[0m \u001b[43m    \u001b[49m\u001b[43mmacros\u001b[49m\u001b[38;5;241;43m=\u001b[39;49m\u001b[43mmacros\u001b[49m\u001b[43m,\u001b[49m\n\u001b[1;32m    552\u001b[0m \u001b[43m    \u001b[49m\u001b[43minclude_dirs\u001b[49m\u001b[38;5;241;43m=\u001b[39;49m\u001b[43mext\u001b[49m\u001b[38;5;241;43m.\u001b[39;49m\u001b[43minclude_dirs\u001b[49m\u001b[43m,\u001b[49m\n\u001b[1;32m    553\u001b[0m \u001b[43m    \u001b[49m\u001b[43mdebug\u001b[49m\u001b[38;5;241;43m=\u001b[39;49m\u001b[38;5;28;43mself\u001b[39;49m\u001b[38;5;241;43m.\u001b[39;49m\u001b[43mdebug\u001b[49m\u001b[43m,\u001b[49m\n\u001b[1;32m    554\u001b[0m \u001b[43m    \u001b[49m\u001b[43mextra_postargs\u001b[49m\u001b[38;5;241;43m=\u001b[39;49m\u001b[43mextra_args\u001b[49m\u001b[43m,\u001b[49m\n\u001b[1;32m    555\u001b[0m \u001b[43m    \u001b[49m\u001b[43mdepends\u001b[49m\u001b[38;5;241;43m=\u001b[39;49m\u001b[43mext\u001b[49m\u001b[38;5;241;43m.\u001b[39;49m\u001b[43mdepends\u001b[49m\u001b[43m,\u001b[49m\n\u001b[1;32m    556\u001b[0m \u001b[43m\u001b[49m\u001b[43m)\u001b[49m\n\u001b[1;32m    558\u001b[0m \u001b[38;5;66;03m# XXX outdated variable, kept here in case third-part code\u001b[39;00m\n\u001b[1;32m    559\u001b[0m \u001b[38;5;66;03m# needs it.\u001b[39;00m\n\u001b[1;32m    560\u001b[0m \u001b[38;5;28mself\u001b[39m\u001b[38;5;241m.\u001b[39m_built_objects \u001b[38;5;241m=\u001b[39m objects[:]\n",
      "File \u001b[0;32m~/opt/anaconda3/lib/python3.9/site-packages/setuptools/_distutils/ccompiler.py:600\u001b[0m, in \u001b[0;36mCCompiler.compile\u001b[0;34m(self, sources, output_dir, macros, include_dirs, debug, extra_preargs, extra_postargs, depends)\u001b[0m\n\u001b[1;32m    598\u001b[0m     \u001b[38;5;28;01mexcept\u001b[39;00m \u001b[38;5;167;01mKeyError\u001b[39;00m:\n\u001b[1;32m    599\u001b[0m         \u001b[38;5;28;01mcontinue\u001b[39;00m\n\u001b[0;32m--> 600\u001b[0m     \u001b[38;5;28;43mself\u001b[39;49m\u001b[38;5;241;43m.\u001b[39;49m\u001b[43m_compile\u001b[49m\u001b[43m(\u001b[49m\u001b[43mobj\u001b[49m\u001b[43m,\u001b[49m\u001b[43m \u001b[49m\u001b[43msrc\u001b[49m\u001b[43m,\u001b[49m\u001b[43m \u001b[49m\u001b[43mext\u001b[49m\u001b[43m,\u001b[49m\u001b[43m \u001b[49m\u001b[43mcc_args\u001b[49m\u001b[43m,\u001b[49m\u001b[43m \u001b[49m\u001b[43mextra_postargs\u001b[49m\u001b[43m,\u001b[49m\u001b[43m \u001b[49m\u001b[43mpp_opts\u001b[49m\u001b[43m)\u001b[49m\n\u001b[1;32m    602\u001b[0m \u001b[38;5;66;03m# Return *all* object filenames, not just the ones we just built.\u001b[39;00m\n\u001b[1;32m    603\u001b[0m \u001b[38;5;28;01mreturn\u001b[39;00m objects\n",
      "File \u001b[0;32m~/opt/anaconda3/lib/python3.9/site-packages/setuptools/_distutils/unixccompiler.py:187\u001b[0m, in \u001b[0;36mUnixCCompiler._compile\u001b[0;34m(self, obj, src, ext, cc_args, extra_postargs, pp_opts)\u001b[0m\n\u001b[1;32m    185\u001b[0m     \u001b[38;5;28mself\u001b[39m\u001b[38;5;241m.\u001b[39mspawn(compiler_so \u001b[38;5;241m+\u001b[39m cc_args \u001b[38;5;241m+\u001b[39m [src, \u001b[38;5;124m'\u001b[39m\u001b[38;5;124m-o\u001b[39m\u001b[38;5;124m'\u001b[39m, obj] \u001b[38;5;241m+\u001b[39m extra_postargs)\n\u001b[1;32m    186\u001b[0m \u001b[38;5;28;01mexcept\u001b[39;00m DistutilsExecError \u001b[38;5;28;01mas\u001b[39;00m msg:\n\u001b[0;32m--> 187\u001b[0m     \u001b[38;5;28;01mraise\u001b[39;00m CompileError(msg)\n",
      "\u001b[0;31mImportError\u001b[0m: Building module eqlibr failed: [\"distutils.errors.CompileError: command '/usr/bin/clang' failed with exit code 1\\n\"]"
     ]
    }
   ],
   "source": [
    "importlib.import_module(\"eqlibr\")"
   ]
  },
  {
   "cell_type": "code",
   "execution_count": null,
   "metadata": {},
   "outputs": [],
   "source": []
  },
  {
   "cell_type": "code",
   "execution_count": null,
   "metadata": {},
   "outputs": [],
   "source": []
  },
  {
   "cell_type": "code",
   "execution_count": null,
   "metadata": {},
   "outputs": [],
   "source": []
  },
  {
   "cell_type": "code",
   "execution_count": null,
   "metadata": {},
   "outputs": [],
   "source": []
  },
  {
   "cell_type": "code",
   "execution_count": null,
   "metadata": {},
   "outputs": [],
   "source": []
  },
  {
   "cell_type": "code",
   "execution_count": 1,
   "metadata": {},
   "outputs": [],
   "source": [
    "import ctypes\n",
    "from numpy.ctypeslib import ndpointer\n",
    "import numpy as np\n",
    "import pyDEW\n",
    "from thermoengine import chem\n",
    "import cython"
   ]
  },
  {
   "cell_type": "code",
   "execution_count": 2,
   "metadata": {},
   "outputs": [],
   "source": [
    "%load_ext Cython"
   ]
  },
  {
   "cell_type": "code",
   "execution_count": 3,
   "metadata": {},
   "outputs": [],
   "source": [
    "lib = ctypes.CDLL('libeq.dylib')\n",
    "# lib = ctypes.CDLL('eq3')"
   ]
  },
  {
   "cell_type": "code",
   "execution_count": 4,
   "metadata": {},
   "outputs": [],
   "source": [
    "test = lib.test_"
   ]
  },
  {
   "cell_type": "code",
   "execution_count": 5,
   "metadata": {},
   "outputs": [],
   "source": [
    "test.restype = ctypes.c_int\n",
    "test.argtypes = [\n",
    "    ctypes.c_int,\n",
    "]"
   ]
  },
  {
   "cell_type": "code",
   "execution_count": 12,
   "metadata": {},
   "outputs": [
    {
     "name": "stderr",
     "output_type": "stream",
     "text": [
      "ld: warning: duplicate -rpath '/Users/sm905/opt/anaconda3/lib' ignored\n"
     ]
    }
   ],
   "source": [
    "%%cython\n",
    "\n",
    "cdef int some_int = 42\n",
    "cdef int *some_int_pointer = &some_int\n"
   ]
  },
  {
   "cell_type": "code",
   "execution_count": 5,
   "metadata": {},
   "outputs": [
    {
     "name": "stdout",
     "output_type": "stream",
     "text": [
      "Testing..."
     ]
    },
    {
     "data": {
      "text/plain": [
       "0"
      ]
     },
     "execution_count": 5,
     "metadata": {},
     "output_type": "execute_result"
    }
   ],
   "source": [
    "test(1)"
   ]
  },
  {
   "cell_type": "code",
   "execution_count": 13,
   "metadata": {},
   "outputs": [
    {
     "ename": "NameError",
     "evalue": "name 'some_int' is not defined",
     "output_type": "error",
     "traceback": [
      "\u001b[0;31m---------------------------------------------------------------------------\u001b[0m",
      "\u001b[0;31mNameError\u001b[0m                                 Traceback (most recent call last)",
      "Input \u001b[0;32mIn [13]\u001b[0m, in \u001b[0;36m<cell line: 1>\u001b[0;34m()\u001b[0m\n\u001b[0;32m----> 1\u001b[0m \u001b[43msome_int\u001b[49m\n",
      "\u001b[0;31mNameError\u001b[0m: name 'some_int' is not defined"
     ]
    }
   ],
   "source": [
    "some_int"
   ]
  },
  {
   "cell_type": "code",
   "execution_count": 3,
   "metadata": {},
   "outputs": [],
   "source": [
    "arrset = lib.arrset_\n",
    "bdmlx = lib.bdmlx_\n"
   ]
  },
  {
   "cell_type": "code",
   "execution_count": 4,
   "metadata": {},
   "outputs": [],
   "source": [
    "bdmlx.restype = ctypes.c_int\n",
    "bdmlx.argtypes = [\n",
    "    ctypes.c_int,\n",
    "]"
   ]
  },
  {
   "cell_type": "code",
   "execution_count": 5,
   "metadata": {},
   "outputs": [
    {
     "ename": "SyntaxError",
     "evalue": "invalid syntax (1777604516.py, line 3)",
     "output_type": "error",
     "traceback": [
      "\u001b[0;36m  Input \u001b[0;32mIn [5]\u001b[0;36m\u001b[0m\n\u001b[0;31m    bdmlx(&a)\u001b[0m\n\u001b[0m          ^\u001b[0m\n\u001b[0;31mSyntaxError\u001b[0m\u001b[0;31m:\u001b[0m invalid syntax\n"
     ]
    }
   ],
   "source": [
    "a: cython.int\n",
    "a=1\n",
    "bdmlx(&a)"
   ]
  },
  {
   "cell_type": "code",
   "execution_count": 6,
   "metadata": {},
   "outputs": [],
   "source": [
    "arrset.restype = ctypes.c_int32\n",
    "arrset.argtypes = [ \n",
    "                   ndpointer(ctypes.c_float), # ars\n",
    "                   ndpointer(ctypes.c_float), # amn\n",
    "                   ndpointer(ctypes.c_float), # ags\n",
    "                   ndpointer(ctypes.c_float), # cess\n",
    "                   ndpointer(ctypes.c_float), # cdrs\n",
    "                   ndpointer(ctypes.c_float), # cdrm\n",
    "                   ndpointer(ctypes.c_float), # cdrg\n",
    "                   ndpointer(ctypes.c_float), # csts\n",
    "                   ndpointer(ctypes.c_float), # cstor\n",
    "                   ndpointer(ctypes.c_float), # xbarlg\n",
    "                   ndpointer(ctypes.c_float), # lamlg\n",
    "                   ndpointer(ctypes.c_float), # aa\n",
    "                   ndpointer(ctypes.c_float), # gm\n",
    "                   ndpointer(ctypes.c_float), # csp\n",
    "                   ndpointer(ctypes.c_float), # concbs\n",
    "                   ndpointer(ctypes.c_float), # cte\n",
    "                   ndpointer(ctypes.c_float), # mte\n",
    "                   ndpointer(ctypes.c_float), # zvclg1\n",
    "                   ndpointer(ctypes.c_float), # cxistq\n",
    "                   ndpointer(ctypes.c_float), # conc\n",
    "                   ndpointer(ctypes.c_float), # conclg\n",
    "                   ndpointer(ctypes.c_float), # act\n",
    "                   ndpointer(ctypes.c_float), # actlg\n",
    "                   ndpointer(ctypes.c_float), # glg\n",
    "                   ndpointer(ctypes.c_float), # glgx\n",
    "                   ndpointer(ctypes.c_float), # xlks\n",
    "                   ndpointer(ctypes.c_float), # xlkm\n",
    "                   ndpointer(ctypes.c_float), # xlkg\n",
    "                   ndpointer(ctypes.c_float), # mwtss\n",
    "                   ndpointer(ctypes.c_float), # z\n",
    "                   ndpointer(ctypes.c_float), # zsq2              \n",
    "                   ndpointer(ctypes.c_float), # titr\n",
    "                   ndpointer(ctypes.c_float), # azero\n",
    "                   ndpointer(ctypes.c_float), # hydn\n",
    "                   ndpointer(ctypes.c_float), # rhs\n",
    "                   ndpointer(ctypes.c_float), # ee\n",
    "                   ndpointer(ctypes.c_float), # res\n",
    "                   ctypes.c_float, # al10\n",
    "                   ctypes.c_float, # rconst\n",
    "                   ctypes.c_float, # xlkeh\n",
    "                   ctypes.c_float, # ehfac\n",
    "                   ctypes.c_float, # om\n",
    "                   ctypes.c_float, # omlg              \n",
    "                   ctypes.c_float, # omi\n",
    "                   ctypes.c_float, # tempc\n",
    "                   ctypes.c_float, # tempk\n",
    "                   ctypes.c_float, # press\n",
    "                   ctypes.c_float, # xi\n",
    "                   ctypes.c_float, # xisteq\n",
    "                   ctypes.c_float, # fo2lg\n",
    "                   ctypes.c_float, # eh\n",
    "                   ctypes.c_float, # dshm\n",
    "                   ctypes.c_float, # shm\n",
    "                   ctypes.c_float, # shmlim,                \n",
    "                   ndpointer(ctypes.c_char()), # uzvec1\n",
    "                   ndpointer(ctypes.c_char()), # uspec\n",
    "                   ndpointer(ctypes.c_char()), # umin\n",
    "                   ndpointer(ctypes.c_char()), # ugas\n",
    "                   ndpointer(ctypes.c_char()), # ujtype\n",
    "                   ndpointer(ctypes.c_int), # nend\n",
    "                   ndpointer(ctypes.c_int), # jflag\n",
    "                   ndpointer(ctypes.c_int), # nsp\n",
    "                   ndpointer(ctypes.c_int), # nspec\n",
    "                   ndpointer(ctypes.c_int), # jsflag               \n",
    "                   ndpointer(ctypes.c_int), # jsort\n",
    "                   ndpointer(ctypes.c_int), # iindx1\n",
    "                   ndpointer(ctypes.c_int), # ibswx\n",
    "                   ndpointer(ctypes.c_int), # ibasis\n",
    "                   ndpointer(ctypes.c_int),# ir\n",
    "                   ndpointer(ctypes.c_int),# kill\n",
    "                   ctypes.c_int, # iopt1\n",
    "                   ctypes.c_int, # iopt2\n",
    "                   ctypes.c_int, # iopg1\n",
    "                   ctypes.c_int, # iodb1               \n",
    "                   ctypes.c_int, # iodb2\n",
    "                   ctypes.c_int, # ntpr\n",
    "                   ctypes.c_int, # iacion\n",
    "                   ctypes.c_int, # iebal\n",
    "                   ctypes.c_int, # nhydr\n",
    "                   ctypes.c_int, # nchlor\n",
    "                   ctypes.c_int, # nct\n",
    "                   ctypes.c_int, # nsb\n",
    "                   ctypes.c_int, # nsb1\n",
    "                   ctypes.c_int, # nsq                   \n",
    "                   ctypes.c_int, # nsqb\n",
    "                   ctypes.c_int, # nsq1\n",
    "                   ctypes.c_int, # nst\n",
    "                   ctypes.c_int, # nrst\n",
    "                   ctypes.c_int, # nmt\n",
    "                   ctypes.c_int, # ngt\n",
    "                   ctypes.c_int, # nxt\n",
    "                   ctypes.c_int, # kct\n",
    "                   ctypes.c_int, # ksb\n",
    "                   ctypes.c_int, # ksq\n",
    "                   ctypes.c_int, # kebal\n",
    "                   ctypes.c_int, # kdim\n",
    "                   ctypes.c_int, # kmax              \n",
    "                   ctypes.c_int, # khydr\n",
    "                   ctypes.c_int, # nctmax\n",
    "                   ctypes.c_int, # nsqmax\n",
    "                   ctypes.c_int, # nsqmx1\n",
    "                   ctypes.c_int, # nstmax\n",
    "                   ctypes.c_int, # iktmax\n",
    "                   ctypes.c_int, # narxmx\n",
    "                   ctypes.c_int, # ntprmx                \n",
    "                   ctypes.c_int, # ker\n",
    "                   ctypes.c_int, # nloop\n",
    "                   ctypes.c_int, # noutpt\n",
    "                   ctypes.c_int, # nttyo\n",
    "                   ctypes.c_bool, # qhydth\n",
    "                   ctypes.c_bool, # qpt4\n",
    "                   ctypes.c_bool, # qbswx\n",
    "                   ctypes.c_bool, # qbassw\n",
    "                   ctypes.c_int,\n",
    "                   ctypes.c_int,\n",
    "                   ctypes.c_int,\n",
    "                   ctypes.c_int,\n",
    "                   ctypes.c_int,\n",
    "                   ]"
   ]
  },
  {
   "cell_type": "code",
   "execution_count": 7,
   "metadata": {},
   "outputs": [
    {
     "name": "stderr",
     "output_type": "stream",
     "text": [
      "/Users/sm905/opt/anaconda3/lib/python3.9/site-packages/thermoengine/model.py:184: FutureWarning: The frame.append method is deprecated and will be removed from pandas in a future version. Use pandas.concat instead.\n",
      "  self._phase_info = self._phase_info.append(phs_info, ignore_index=True)\n",
      "/Users/sm905/opt/anaconda3/lib/python3.9/site-packages/thermoengine/model.py:184: FutureWarning: The frame.append method is deprecated and will be removed from pandas in a future version. Use pandas.concat instead.\n",
      "  self._phase_info = self._phase_info.append(phs_info, ignore_index=True)\n",
      "/Users/sm905/opt/anaconda3/lib/python3.9/site-packages/thermoengine/model.py:184: FutureWarning: The frame.append method is deprecated and will be removed from pandas in a future version. Use pandas.concat instead.\n",
      "  self._phase_info = self._phase_info.append(phs_info, ignore_index=True)\n",
      "/Users/sm905/opt/anaconda3/lib/python3.9/site-packages/thermoengine/model.py:184: FutureWarning: The frame.append method is deprecated and will be removed from pandas in a future version. Use pandas.concat instead.\n",
      "  self._phase_info = self._phase_info.append(phs_info, ignore_index=True)\n",
      "/Users/sm905/opt/anaconda3/lib/python3.9/site-packages/thermoengine/model.py:184: FutureWarning: The frame.append method is deprecated and will be removed from pandas in a future version. Use pandas.concat instead.\n",
      "  self._phase_info = self._phase_info.append(phs_info, ignore_index=True)\n",
      "/Users/sm905/opt/anaconda3/lib/python3.9/site-packages/thermoengine/model.py:184: FutureWarning: The frame.append method is deprecated and will be removed from pandas in a future version. Use pandas.concat instead.\n",
      "  self._phase_info = self._phase_info.append(phs_info, ignore_index=True)\n"
     ]
    }
   ],
   "source": [
    "elements = ['O', 'H', 'Na', 'Cl', 'Si']\n",
    "basis_species = ['H2O', 'H+', 'NA+', 'CL-', 'H4SIO4(AQ)', 'O2(G)']\n",
    "other_species = ['OH-', 'NACL(AQ)', 'NAOH(AQ)', 'H3SIO4-']\n",
    "fo2lg = -13.0\n",
    "\n",
    "system = pyDEW.System(elements, basis_species, other_species, minerals=[], gases=[])"
   ]
  },
  {
   "cell_type": "code",
   "execution_count": 8,
   "metadata": {},
   "outputs": [],
   "source": [
    "t = 500 + 273.15\n",
    "p = 10000.0"
   ]
  },
  {
   "cell_type": "markdown",
   "metadata": {},
   "source": []
  },
  {
   "cell_type": "code",
   "execution_count": 9,
   "metadata": {},
   "outputs": [],
   "source": [
    "nstpar = 750 # max no. of aqueous species\n",
    "nmtpar = 750 # max no. of pure minerals\n",
    "ngtpar = 15 # max no. of gases\n",
    "nxtpar = 20 # max no. of solid solutions\n",
    "nctpar = 70 # maximum number of elements\n",
    "nsqpar = 100 # max no. of expanded basis species\n",
    "narxpa = 5 # maximum number of coefficients in a fitting polynomial describing the temperature dependence of a thermodynamic property\n",
    "ntprpa = 2 # maximum number of temperature ranges for polynomial coefficients describing a thermodynamic property\n",
    "nrstpa = nstpar - nctpar - 1 # max no. of aqueous reactions\n",
    "nsqpa1 = nsqpar + 1\n",
    "iktpar = 20 # max no. of solid solution endmembers\n",
    "kpar = nsqpar # maximum dimension of the jacobian matrix\n",
    "kmax = kpar\n",
    "nctmax = nctpar\n",
    "nsqmax = nsqpar\n",
    "nsqmx1 = nsqpa1\n",
    "nstmax = nstpar\n",
    "iktmax = iktpar\n",
    "narxmx = narxpa\n",
    "ntprmx = ntprpa\n",
    "\n",
    "noutpt = 0\n",
    "nttyo = 0\n",
    "\n",
    "# ars = np.empty((narxpa, ntprpa, nrstpa), dtype=np.float16)                   \n",
    "# amn = np.empty((narxpa, ntprpa, nrstpa), dtype=np.float16) \n",
    "# ags = np.empty((narxpa, ntprpa, nrstpa), dtype=np.float16) \n",
    "# cess = np.empty((nctpar, nstpar), dtype=np.float16) \n",
    "# cdrs = np.empty((nsqpa1, nrstpa), dtype=np.float16) \n",
    "# cdrm = np.empty((nsqpa1, nmtpar), dtype=np.float16) \n",
    "# cdrg = np.empty((nsqpa1, ngtpar), dtype=np.float16)\n",
    "csts = np.empty((nsqpar, nstpar), dtype=np.float32)\n",
    "# cstor = np.empty((nstpar, 2), dtype=np.float16)\n",
    "# xbarlg = np.empty((iktpar, nxtpar), dtype=np.float16)\n",
    "lamlg = np.empty((iktpar, nxtpar), dtype=np.float32)\n",
    "aa = np.empty((kpar, kpar), dtype=np.float32)\n",
    "gm = np.empty((kpar, kpar), dtype=np.float32)\n",
    "# csp = np.empty((nsqpar), dtype=np.float16)\n",
    "concbs = np.empty((nsqpar), dtype=np.float32)\n",
    "cte = np.empty((nsqpar), dtype=np.float32)\n",
    "mte = np.empty((nctpar), dtype=np.float32)\n",
    "zvclg1 = np.empty((kpar), dtype=np.float32)\n",
    "cxistq = np.empty((nstpar), dtype=np.float32)\n",
    "conc = np.empty((nstpar), dtype=np.float32)\n",
    "conclg = np.empty((nstpar), dtype=np.float32)\n",
    "act = np.empty((nstpar), dtype=np.float32)\n",
    "actlg = np.empty((nstpar), dtype=np.float32)\n",
    "glg = np.empty((nstpar), dtype=np.float32)\n",
    "glgx = np.empty((nstpar), dtype=np.float32)\n",
    "xlks = np.empty((nrstpa), dtype=np.float32)\n",
    "xlkm = np.empty((nmtpar), dtype=np.float32)\n",
    "xlkg = np.empty((ngtpar), dtype=np.float32)\n",
    "# mwtss = np.empty((nstpar), dtype=np.float16)\n",
    "# z = np.empty((nstpar), dtype=np.float16)\n",
    "# zsq2 = np.empty((nstpar), dtype=np.float16)\n",
    "# titr = np.empty((nstpar), dtype=np.float16)\n",
    "# azero = np.empty((nstpar), dtype=np.float16)\n",
    "# hydn = np.empty((nstpar), dtype=np.float16)\n",
    "rhs =  np.empty((kpar), dtype=np.float32)\n",
    "ee =  np.empty((kpar), dtype=np.float32)\n",
    "res = np.empty((kpar), dtype=np.float32)\n",
    "uzvec1 = np.empty((kpar), dtype=ctypes.c_char)\n",
    "jsflag = np.empty(nstpar, dtype=np.int32)\n",
    "jsort = np.empty(nstpar, dtype=np.int32)\n",
    "iindx1 = np.empty(kpar, dtype=np.int32)\n",
    "ibswx = np.empty(nsqpar, dtype=np.int32)\n",
    "ibasis = np.empty(nstpar, dtype=np.int32)\n",
    "ir = np.empty(kpar, dtype=np.int32)\n",
    "kill = np.empty(kpar, dtype=np.int32)\n",
    "\n",
    "al10 = np.log(10)\n",
    "rconst = 1.98726\n",
    "om = 1000 / 18.01528\n",
    "omlg = np.log(om)\n",
    "tempc = 300.0 # Dummy value\n",
    "tempk = 300.0 + 273.15 # Dummy value\n",
    "press = 1000.0 # dummy value\n",
    "\n",
    "iopt1 = 0\n",
    "iopt2 = 1 # Automatic basis switching\n",
    "iopg1 = 0\n",
    "iodb1 = 0\n",
    "iodb2 = 3\n",
    "ntpr = 1 # If indexing starts at 1, this should be 1\n",
    "nhydr = 1\n"
   ]
  },
  {
   "cell_type": "markdown",
   "metadata": {},
   "source": [
    "Parameters related to the system:"
   ]
  },
  {
   "cell_type": "code",
   "execution_count": 10,
   "metadata": {},
   "outputs": [],
   "source": [
    "species_names = list(system.species.keys())\n",
    "\n",
    "nchlor = species_names.index('CL-')\n",
    "nct = len(system.elements)\n",
    "nsb = len(system.basis_species)\n",
    "nsb1 = nsb + 1\n",
    "nsq = nsb + 1\n",
    "nsq1 = nsq + 1\n",
    "nst = len(species_names)\n",
    "nrst = len(system._stoichiometry)\n",
    "nmt = 0\n",
    "ngt = 0\n",
    "nxt = 0\n",
    "\n",
    "\n",
    "# ars is the array containing polynomial fitting parameters. First value is constant.\n",
    "ars = np.zeros((narxpa, ntprpa, nrstpa), dtype=np.float32)\n",
    "\n",
    "for i in range(len(system.other_species)):\n",
    "    ars[0, 0, i] = system.logK(system.other_species[i], t, p,)\n",
    "\n",
    "# The same for minerals\n",
    "amn = np.zeros((narxpa, ntprpa, nrstpa), dtype=np.float32)\n",
    "\n",
    "# The same for gases\n",
    "ags = np.zeros((narxpa, ntprpa, nrstpa), dtype=np.float32)\n",
    "\n",
    "# Element composition of aqueous species\n",
    "cess = np.zeros((nctpar, nstpar), dtype=np.float32)\n",
    "for i in range(len(species_names)):\n",
    "    formula = chem.get_Berman_formula(system.species[species_names[i]].props['element_comp'][0])\n",
    "    formula = pyDEW.core.formula_to_dict(formula)\n",
    "    for j in range(len(system.elements)):\n",
    "        if system.elements[j] in formula:\n",
    "            cess[j, i] = formula[system.elements[j]]\n",
    "\n",
    "# Reaction coefficients for aqueous species\n",
    "cdrs = np.zeros((nsqpa1, nrstpa), dtype=np.float32)\n",
    "# Mass balance coefficients for O2- and H+\n",
    "cstor = np.zeros((nstpar, 2), dtype=np.float32)\n",
    "for i in range(len(system.other_species)):\n",
    "    stoic = system._stoichiometry[system.other_species_names[i]]\n",
    "    for j in range(len(system.basis_species)):\n",
    "        if system.basis_species_names[j] in stoic:\n",
    "            cdrs[j, i] = stoic[system.basis_species_names[j]] \n",
    "    if 'H+' in stoic:\n",
    "        cdrs[1, i] = stoic['H+']\n",
    "\n",
    "# Reaction coeffs for minerals\n",
    "cdrm = np.zeros((nsqpa1, nmtpar), dtype=np.float32) \n",
    "\n",
    "# Reaction coeffs for gases\n",
    "cdrg = np.zeros((nsqpa1, ngtpar), dtype=np.float32)\n",
    "\n",
    "# Solid solutions\n",
    "xbarlg = np.zeros((iktpar, nxtpar), dtype=np.float32)\n",
    "\n",
    "# molecular weights\n",
    "mwtss = np.zeros((nstpar), dtype=np.float32)\n",
    "for i in range(len(system.species)):\n",
    "    mwtss[i] = system.species[species_names[i]].props['molwt'][0]\n",
    "\n",
    "# Charges\n",
    "z = np.zeros((nstpar), dtype=np.float32)\n",
    "zsq2 = np.zeros((nstpar), dtype=np.float32)\n",
    "\n",
    "for i in range(len(species_names)):\n",
    "    z[i] = pyDEW.core.get_charge(system.species[species_names[i]])\n",
    "    zsq2[i] = 0.5 * z[i]**2\n",
    "\n",
    "\n",
    "# Not sure what this is\n",
    "titr = np.zeros((nstpar), dtype=np.float32)\n",
    "for i in range(len(species_names)):\n",
    "    if species_names[i] not in system.basis_species_names:\n",
    "        titr[i] = 1.0\n",
    "\n",
    "# Ion sizes\n",
    "azero = np.zeros((nstpar), dtype=np.float32)\n",
    "for i in range(len(species_names)):\n",
    "    if species_names[i] in system.ion_size:\n",
    "        azero[i] = system.ion_size[species_names[i]]\n",
    "    else:\n",
    "        azero[i] = 3.7\n",
    "\n",
    "# Hydration number\n",
    "hydn = np.zeros((nstpar), dtype=np.float32)\n",
    "\n",
    "# Aqueous species names\n",
    "# uspec = np.full(nstpar, fill_value=' '*24)\n",
    "# uspec = (ctypes.c_char * nstpar * 24)()\n",
    "# for i in range(len(species_names)):\n",
    "#     uspec[i] = species_names[i] + ' '*(24 - len(species_names[i]))\n",
    "# uspec = np.full(nstpar, fill_value=ctypes.c_char_p(b' '*24))\n",
    "uspec = np.empty(nstpar, dtype=ctypes.c_char())\n",
    "for i in range(len(species_names)):\n",
    "    uspec[i] = bytes(species_names[i] + ' '*(24 - len(species_names[i])), encoding='utf8')\n",
    "\n",
    "umin = np.empty(nstpar, dtype=ctypes.c_char())\n",
    "\n",
    "ugas = np.empty(nstpar, dtype=ctypes.c_char())\n",
    "\n",
    "# This should be some strings for writing the output.\n",
    "ujtype = np.empty(nstpar, dtype=ctypes.c_char())\n",
    "\n",
    "nend = np.empty((iktpar, nxtpar), dtype=np.int32)\n",
    "\n",
    "\n"
   ]
  },
  {
   "cell_type": "markdown",
   "metadata": {},
   "source": [
    "Parameters related to the calculation:"
   ]
  },
  {
   "cell_type": "code",
   "execution_count": 11,
   "metadata": {},
   "outputs": [],
   "source": [
    "# The constraint on basis species\n",
    "pH = 4\n",
    "\n",
    "molalities = {'NA+' : 0.15, \n",
    "              'CL-': 0.1, \n",
    "              'H4SIO4(AQ)': 0.1,\n",
    "              'H+': - pH}\n",
    "\n",
    "csp = np.zeros((nsqpar), dtype=np.float32)\n",
    "nsp = np.zeros((nsqpar), dtype=np.int32) # Might need to set this\n",
    "jflag = np.full(nsqpar, fill_value=-1, dtype=np.int32)\n",
    "nspec = np.zeros((nsqpar), dtype=np.int32)\n",
    "nsqb = 1\n",
    "\n",
    "for i in range(len(species_names)):\n",
    "    if species_names[i] in molalities:\n",
    "        nspec[nsqb] = i\n",
    "        nsqb += 1\n",
    "        csp[i] = molalities[species_names[i]]\n",
    "        if species_names[i] != 'H+':\n",
    "            jflag[i] = 0\n",
    "        else:\n",
    "            jflag[i] = 16\n",
    "\n",
    "    "
   ]
  },
  {
   "cell_type": "code",
   "execution_count": 12,
   "metadata": {},
   "outputs": [
    {
     "ename": "",
     "evalue": "",
     "output_type": "error",
     "traceback": [
      "\u001b[1;31mCannot execute code, session has been disposed. Please try restarting the Kernel."
     ]
    },
    {
     "ename": "",
     "evalue": "",
     "output_type": "error",
     "traceback": [
      "\u001b[1;31mThe Kernel crashed while executing code in the the current cell or a previous cell. Please review the code in the cell(s) to identify a possible cause of the failure. Click <a href='https://aka.ms/vscodeJupyterKernelCrash'>here</a> for more info. View Jupyter <a href='command:jupyter.viewOutput'>log</a> for further details."
     ]
    }
   ],
   "source": [
    "xlkeh = 0.0\n",
    "ehfac = 0.0\n",
    "omi = 0.0\n",
    "xi = 0.0\n",
    "xisteq = 0.0\n",
    "eh = 0.0\n",
    "dshm = 0.0\n",
    "shm = 0.0\n",
    "shmlim = 0.0\n",
    "iacion = 0\n",
    "iebal = 0\n",
    "kct = 0\n",
    "ksb = 0\n",
    "ksq = 0\n",
    "kebal = 0\n",
    "kdim = 0\n",
    "khydr = 0\n",
    "ker = 0\n",
    "nloop = 0\n",
    "qhydth = False\n",
    "qpt4 = False\n",
    "qbswx = False\n",
    "qbassw = False\n",
    "\n",
    "arrset(ars,amn,ags,cess,cdrs,cdrm,cdrg,csts,                         \n",
    "       cstor,xbarlg,lamlg,aa,gm,csp,concbs,cte,mte,zvclg1,cxistq,               \n",
    "       conc,conclg,act,actlg,glg,glgx,xlks,xlkm,xlkg,mwtss,z,zsq2,              \n",
    "       titr,azero,hydn,rhs,ee,res,al10,rconst,xlkeh,ehfac,om,omlg,              \n",
    "       omi,tempc,tempk,press,xi,xisteq,fo2lg,eh,dshm,shm,shmlim,                \n",
    "       uzvec1,uspec,umin,ugas,ujtype,nend,jflag,nsp,nspec,jsflag,               \n",
    "       jsort,iindx1,ibswx,ibasis,ir,kill,iopt1,iopt2,iopg1,iodb1,               \n",
    "       iodb2,ntpr,iacion,iebal,nhydr,nchlor,nct,nsb,nsb1,nsq,                   \n",
    "       nsqb,nsq1,nst,nrst,nmt,ngt,nxt,kct,ksb,ksq,kebal,kdim,kmax,              \n",
    "       khydr,nctmax,nsqmax,nsqmx1,nstmax,iktmax,narxmx,ntprmx,                  \n",
    "       ker,nloop,noutpt,nttyo,qhydth,qpt4,qbswx,qbassw,\n",
    "       8, 24, 24, 24, 24\n",
    "       )"
   ]
  },
  {
   "cell_type": "code",
   "execution_count": 16,
   "metadata": {},
   "outputs": [
    {
     "data": {
      "text/plain": [
       "750"
      ]
     },
     "execution_count": 16,
     "metadata": {},
     "output_type": "execute_result"
    }
   ],
   "source": [
    "len(ujtype)"
   ]
  },
  {
   "cell_type": "code",
   "execution_count": null,
   "metadata": {},
   "outputs": [],
   "source": [
    "[ars,amn,ags,cess,cdrs,cdrm,cdrg,csts,                         \n",
    "       cstor,xbarlg,lamlg,aa,gm,csp,concbs,cte,mte,zvclg1,cxistq,               \n",
    "       conc,conclg,act,actlg,glg,glgx,xlks,xlkm,xlkg,mwtss,z,zsq2,              \n",
    "       titr,azero,hydn,rhs,ee,res,al10,rconst,xlkeh,ehfac,om,omlg,              \n",
    "       omi,tempc,tempk,press,xi,xisteq,fo2lg,eh,dshm,shm,shmlim,                \n",
    "       uzvec1,uspec,umin,ugas,ujtype,nend,jflag,nsp,nspec,jsflag,               \n",
    "       jsort,iindx1,ibswx,ibasis,ir,kill,iopt1,iopt2,iopg1,iodb1,               \n",
    "       iodb2,ntpr,iacion,iebal,nhydr,nchlor,nct,nsb,nsb1,nsq,                   \n",
    "       nsqb,nsq1,nst,nrst,nmt,ngt,nxt,kct,ksb,ksq,kebal,kdim,kmax,              \n",
    "       khydr,nctmax,nsqmax,nsqmx1,nstmax,iktmax,narxmx,ntprmx,                  \n",
    "       ker,nloop,noutpt,nttyo,qhydth,qpt4,qbswx,qbassw][68]"
   ]
  },
  {
   "cell_type": "code",
   "execution_count": 56,
   "metadata": {},
   "outputs": [
    {
     "data": {
      "text/plain": [
       "0.0"
      ]
     },
     "execution_count": 56,
     "metadata": {},
     "output_type": "execute_result"
    }
   ],
   "source": [
    "pyDEW.core.get_charge(system.species['H2O'])"
   ]
  },
  {
   "cell_type": "code",
   "execution_count": 4,
   "metadata": {},
   "outputs": [
    {
     "name": "stdout",
     "output_type": "stream",
     "text": [
      "\u001b[0;31mCall signature:\u001b[0m  \u001b[0marrset\u001b[0m\u001b[0;34m(\u001b[0m\u001b[0;34m*\u001b[0m\u001b[0margs\u001b[0m\u001b[0;34m,\u001b[0m \u001b[0;34m**\u001b[0m\u001b[0mkwargs\u001b[0m\u001b[0;34m)\u001b[0m\u001b[0;34m\u001b[0m\u001b[0;34m\u001b[0m\u001b[0m\n",
      "\u001b[0;31mType:\u001b[0m            _FuncPtr\n",
      "\u001b[0;31mString form:\u001b[0m     <_FuncPtr object at 0x104a21ac0>\n",
      "\u001b[0;31mFile:\u001b[0m            ~/opt/anaconda3/lib/python3.9/ctypes/__init__.py\n",
      "\u001b[0;31mDocstring:\u001b[0m       <no docstring>\n",
      "\u001b[0;31mClass docstring:\u001b[0m Function Pointer\n"
     ]
    }
   ],
   "source": [
    "narxpa =\n",
    "ntprpa =\n",
    "nrstpa = \n",
    "ars = "
   ]
  },
  {
   "cell_type": "code",
   "execution_count": null,
   "metadata": {},
   "outputs": [],
   "source": []
  }
 ],
 "metadata": {
  "kernelspec": {
   "display_name": "Python 3 (ipykernel)",
   "language": "python",
   "name": "python3"
  },
  "language_info": {
   "codemirror_mode": {
    "name": "ipython",
    "version": 3
   },
   "file_extension": ".py",
   "mimetype": "text/x-python",
   "name": "python",
   "nbconvert_exporter": "python",
   "pygments_lexer": "ipython3",
   "version": "3.9.13"
  }
 },
 "nbformat": 4,
 "nbformat_minor": 4
}

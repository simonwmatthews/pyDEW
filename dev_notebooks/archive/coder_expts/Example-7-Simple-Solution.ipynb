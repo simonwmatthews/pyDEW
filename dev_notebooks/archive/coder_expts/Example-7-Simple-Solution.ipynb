{
 "cells": [
  {
   "cell_type": "markdown",
   "metadata": {},
   "source": [
    "# Simple Solution SymPy Code Generation"
   ]
  },
  {
   "cell_type": "code",
   "execution_count": 1,
   "metadata": {},
   "outputs": [],
   "source": [
    "import pandas as pd\n",
    "import numpy as np\n",
    "import sympy as sym\n",
    "sym.init_printing()\n",
    "from thermoengine import coder\n",
    "from thermoengine import core"
   ]
  },
  {
   "cell_type": "markdown",
   "metadata": {},
   "source": [
    "## Simple Solution Properties - Structure of the Equations\n",
    "There are three terms:\n",
    "- Terms describing standard state contributions\n",
    "- Terms describing the configurational entropy of solution\n",
    "- Terms describing the excess enthalpy of solution  \n",
    "\n",
    "Assumptions:\n",
    "- There are $c$ components in the system\n",
    "- There are as many endmember species, $s$, as there are components\n",
    "- The configurational entropy is described as a simple $x_i log(x_i)$ sum\n",
    "- The excess enthalpy is described using an asymmetric regular solution $\\left[ {{W_{ij}} + \\Delta {W_{ij}}\\left( {{X_i} - {X_j}} \\right)} \\right]{X_i}{X_j}$, where the $W_{ij}$ and $\\Delta{W_{ij}}$ are allowed to be first order functions of both $T$ and $P$\n",
    "- Ternary interaction terms are permittted, i.e. $W_{ijk}$"
   ]
  },
  {
   "cell_type": "markdown",
   "metadata": {},
   "source": [
    "## Number of solution components\n",
    "This notebook illustrates a three component solution"
   ]
  },
  {
   "cell_type": "code",
   "execution_count": 2,
   "metadata": {},
   "outputs": [],
   "source": [
    "c = 3"
   ]
  },
  {
   "cell_type": "markdown",
   "metadata": {},
   "source": [
    "## Create a simple solution model\n",
    "... with the specified number of endmember thermodynamic components"
   ]
  },
  {
   "cell_type": "code",
   "execution_count": 3,
   "metadata": {},
   "outputs": [],
   "source": [
    "model = coder.SimpleSolnModel(nc=c)"
   ]
  },
  {
   "cell_type": "markdown",
   "metadata": {},
   "source": [
    "## Retrieve primary compositional variables\n",
    "- $n$ is a vector of mole numbers of each component  \n",
    "- $n_T$ is the total number of moles in the solution\n",
    "### and construct a derived mole fraction variable\n",
    "- $X$ is a vector of mole fractions of components in the system"
   ]
  },
  {
   "cell_type": "code",
   "execution_count": 4,
   "metadata": {},
   "outputs": [
    {
     "data": {
      "image/png": "[encoded data removed]",
      "text/latex": [
       "$\\displaystyle \\left( \\left[\\begin{matrix}n_{1}\\\\n_{2}\\\\n_{3}\\end{matrix}\\right], \\  n_{1} + n_{2} + n_{3}, \\  \\left[\\begin{matrix}\\frac{n_{1}}{n_{1} + n_{2} + n_{3}}\\\\\\frac{n_{2}}{n_{1} + n_{2} + n_{3}}\\\\\\frac{n_{3}}{n_{1} + n_{2} + n_{3}}\\end{matrix}\\right]\\right)$"
      ],
      "text/plain": [
       "⎛                    ⎡     n₁     ⎤⎞\n",
       "⎜                    ⎢────────────⎥⎟\n",
       "⎜                    ⎢n₁ + n₂ + n₃⎥⎟\n",
       "⎜⎡n₁⎤                ⎢            ⎥⎟\n",
       "⎜⎢  ⎥                ⎢     n₂     ⎥⎟\n",
       "⎜⎢n₂⎥, n₁ + n₂ + n₃, ⎢────────────⎥⎟\n",
       "⎜⎢  ⎥                ⎢n₁ + n₂ + n₃⎥⎟\n",
       "⎜⎣n₃⎦                ⎢            ⎥⎟\n",
       "⎜                    ⎢     n₃     ⎥⎟\n",
       "⎜                    ⎢────────────⎥⎟\n",
       "⎝                    ⎣n₁ + n₂ + n₃⎦⎠"
      ]
     },
     "execution_count": 4,
     "metadata": {},
     "output_type": "execute_result"
    }
   ],
   "source": [
    "n = model.n\n",
    "nT = model.nT\n",
    "X = n/nT\n",
    "n, nT, X"
   ]
  },
  {
   "cell_type": "markdown",
   "metadata": {},
   "source": [
    "## Retrieve the temperature, pressure, and standard state chemical potentials\n",
    "- $T$ is temperature in $K$\n",
    "- $P$ is pressure in $bars$\n",
    "- $\\mu$ in Joules"
   ]
  },
  {
   "cell_type": "code",
   "execution_count": 5,
   "metadata": {},
   "outputs": [
    {
     "data": {
      "image/png": "[encoded data removed]",
      "text/latex": [
       "$\\displaystyle \\left( T, \\  P, \\  \\left[\\begin{matrix}\\mu_{1}{\\left(T,P \\right)}\\\\\\mu_{2}{\\left(T,P \\right)}\\\\\\mu_{3}{\\left(T,P \\right)}\\end{matrix}\\right]\\right)$"
      ],
      "text/plain": [
       "⎛      ⎡μ₁(T, P)⎤⎞\n",
       "⎜      ⎢        ⎥⎟\n",
       "⎜T, P, ⎢μ₂(T, P)⎥⎟\n",
       "⎜      ⎢        ⎥⎟\n",
       "⎝      ⎣μ₃(T, P)⎦⎠"
      ]
     },
     "execution_count": 5,
     "metadata": {},
     "output_type": "execute_result"
    }
   ],
   "source": [
    "T = model.get_symbol_for_t()\n",
    "P = model.get_symbol_for_p()\n",
    "mu = model.mu\n",
    "T,P,mu"
   ]
  },
  {
   "cell_type": "markdown",
   "metadata": {},
   "source": [
    "## Define the standard state contribution to solution properties"
   ]
  },
  {
   "cell_type": "code",
   "execution_count": 6,
   "metadata": {},
   "outputs": [
    {
     "data": {
      "image/png": "[encoded data removed]",
      "text/latex": [
       "$\\displaystyle n_{1} \\mu_{1}{\\left(T,P \\right)} + n_{2} \\mu_{2}{\\left(T,P \\right)} + n_{3} \\mu_{3}{\\left(T,P \\right)}$"
      ],
      "text/plain": [
       "n₁⋅μ₁(T, P) + n₂⋅μ₂(T, P) + n₃⋅μ₃(T, P)"
      ]
     },
     "execution_count": 6,
     "metadata": {},
     "output_type": "execute_result"
    }
   ],
   "source": [
    "G_ss = (n.transpose()*mu)[0]\n",
    "G_ss"
   ]
  },
  {
   "cell_type": "markdown",
   "metadata": {},
   "source": [
    "## Define configurational entropy and configurational Gibbs free energy"
   ]
  },
  {
   "cell_type": "code",
   "execution_count": 7,
   "metadata": {},
   "outputs": [
    {
     "data": {
      "image/png": "[encoded data removed]",
      "text/latex": [
       "$\\displaystyle - R \\left(n_{1} + n_{2} + n_{3}\\right) \\left(\\frac{n_{1} \\log{\\left(\\frac{n_{1}}{n_{1} + n_{2} + n_{3}} \\right)}}{n_{1} + n_{2} + n_{3}} + \\frac{n_{2} \\log{\\left(\\frac{n_{2}}{n_{1} + n_{2} + n_{3}} \\right)}}{n_{1} + n_{2} + n_{3}} + \\frac{n_{3} \\log{\\left(\\frac{n_{3}}{n_{1} + n_{2} + n_{3}} \\right)}}{n_{1} + n_{2} + n_{3}}\\right)$"
      ],
      "text/plain": [
       "                  ⎛      ⎛     n₁     ⎞         ⎛     n₂     ⎞         ⎛     n\n",
       "                  ⎜n₁⋅log⎜────────────⎟   n₂⋅log⎜────────────⎟   n₃⋅log⎜──────\n",
       "                  ⎜      ⎝n₁ + n₂ + n₃⎠         ⎝n₁ + n₂ + n₃⎠         ⎝n₁ + n\n",
       "-R⋅(n₁ + n₂ + n₃)⋅⎜──────────────────── + ──────────────────── + ─────────────\n",
       "                  ⎝    n₁ + n₂ + n₃           n₁ + n₂ + n₃           n₁ + n₂ +\n",
       "\n",
       "₃     ⎞⎞\n",
       "──────⎟⎟\n",
       "₂ + n₃⎠⎟\n",
       "───────⎟\n",
       " n₃    ⎠"
      ]
     },
     "execution_count": 7,
     "metadata": {},
     "output_type": "execute_result"
    }
   ],
   "source": [
    "S_config,R = sym.symbols('S_config R')\n",
    "S_config = 0\n",
    "for i in range(0,c):\n",
    "    S_config += X[i]*sym.log(X[i])\n",
    "S_config *= -R*nT\n",
    "S_config"
   ]
  },
  {
   "cell_type": "code",
   "execution_count": 8,
   "metadata": {},
   "outputs": [
    {
     "data": {
      "image/png": "[encoded data removed]",
      "text/latex": [
       "$\\displaystyle R T \\left(n_{1} \\log{\\left(\\frac{n_{1}}{n_{1} + n_{2} + n_{3}} \\right)} + n_{2} \\log{\\left(\\frac{n_{2}}{n_{1} + n_{2} + n_{3}} \\right)} + n_{3} \\log{\\left(\\frac{n_{3}}{n_{1} + n_{2} + n_{3}} \\right)}\\right)$"
      ],
      "text/plain": [
       "    ⎛      ⎛     n₁     ⎞         ⎛     n₂     ⎞         ⎛     n₃     ⎞⎞\n",
       "R⋅T⋅⎜n₁⋅log⎜────────────⎟ + n₂⋅log⎜────────────⎟ + n₃⋅log⎜────────────⎟⎟\n",
       "    ⎝      ⎝n₁ + n₂ + n₃⎠         ⎝n₁ + n₂ + n₃⎠         ⎝n₁ + n₂ + n₃⎠⎠"
      ]
     },
     "execution_count": 8,
     "metadata": {},
     "output_type": "execute_result"
    }
   ],
   "source": [
    "G_config = sym.simplify(-T*S_config)\n",
    "G_config"
   ]
  },
  {
   "cell_type": "markdown",
   "metadata": {},
   "source": [
    "## Parameterize the excess free energy\n",
    "- Symmetric terms: $W_{ij} = Wh_{ij} - T Ws_{ij} + P Wv_{ij}$, where $Wh_{ij}$ is the excess enthalpy along the $i$-$j$ binary, $Ws_{ij}$ is the excess entropy, and $Wv_{ij}$ is the excess volume\n",
    "- Asymetric terms: $\\Delta W_{ij} = \\Delta Wh_{ij} - T \\Delta Ws_{ij} + P \\Delta Wv_{ij}$\n",
    "- Convention: $\\left[ {{W_{ij}} + \\Delta {W_{ij}}\\left( {{X_i} - {X_j}} \\right)} \\right]{X_i}{X_j} = \\left( {{W_{ij}} + \\Delta {W_{ij}}} \\right)X_i^2{X_j} + \\left( {{W_{ij}} - \\Delta {W_{ij}}} \\right){X_i}X_j^2 = {W_{iij}}X_i^2{X_j} + {W_{ijj}}{X_i}X_j^2$  \n",
    "- Strictly ternary terms: $W_{ijk}X_iX_jX_k$, where $i {\\ne} j {\\ne} k$"
   ]
  },
  {
   "cell_type": "code",
   "execution_count": 9,
   "metadata": {},
   "outputs": [
    {
     "data": {
      "image/png": "[encoded data removed]",
      "text/latex": [
       "$\\displaystyle \\frac{n_{1} n_{2} n_{3} \\left(P Wv_{123} - T Ws_{123} + Wh_{123}\\right)}{\\left(n_{1} + n_{2} + n_{3}\\right)^{2}} + \\frac{n_{1} n_{2} \\left(P Wv_{12} - T Ws_{12} + Wh_{12} + \\frac{\\left(n_{1} - n_{2}\\right) \\left(P dWv_{12} - T dWs_{12} + dWh_{12}\\right)}{n_{1} + n_{2} + n_{3}}\\right) + n_{1} n_{3} \\left(P Wv_{13} - T Ws_{13} + Wh_{13} + \\frac{\\left(n_{1} - n_{3}\\right) \\left(P dWv_{13} - T dWs_{13} + dWh_{13}\\right)}{n_{1} + n_{2} + n_{3}}\\right) + n_{2} n_{3} \\left(P Wv_{23} - T Ws_{23} + Wh_{23} + \\frac{\\left(n_{2} - n_{3}\\right) \\left(P dWv_{23} - T dWs_{23} + dWh_{23}\\right)}{n_{1} + n_{2} + n_{3}}\\right)}{n_{1} + n_{2} + n_{3}}$"
      ],
      "text/plain": [
       "                                             ⎛                         (n₁ - n\n",
       "                                       n₁⋅n₂⋅⎜P⋅Wv₁₂ - T⋅Ws₁₂ + Wh₁₂ + ───────\n",
       "n₁⋅n₂⋅n₃⋅(P⋅Wv₁₂₃ - T⋅Ws₁₂₃ + Wh₁₂₃)         ⎝                                \n",
       "──────────────────────────────────── + ───────────────────────────────────────\n",
       "                        2                                                     \n",
       "          (n₁ + n₂ + n₃)                                                      \n",
       "\n",
       "₂)⋅(P⋅dWv₁₂ - T⋅dWs₁₂ + dWh₁₂)⎞         ⎛                         (n₁ - n₃)⋅(P\n",
       "──────────────────────────────⎟ + n₁⋅n₃⋅⎜P⋅Wv₁₃ - T⋅Ws₁₃ + Wh₁₃ + ────────────\n",
       "      n₁ + n₂ + n₃            ⎠         ⎝                                     \n",
       "──────────────────────────────────────────────────────────────────────────────\n",
       "                                                               n₁ + n₂ + n₃   \n",
       "                                                                              \n",
       "\n",
       "⋅dWv₁₃ - T⋅dWs₁₃ + dWh₁₃)⎞         ⎛                         (n₂ - n₃)⋅(P⋅dWv₂\n",
       "─────────────────────────⎟ + n₂⋅n₃⋅⎜P⋅Wv₂₃ - T⋅Ws₂₃ + Wh₂₃ + ─────────────────\n",
       " n₁ + n₂ + n₃            ⎠         ⎝                                      n₁ +\n",
       "──────────────────────────────────────────────────────────────────────────────\n",
       "                                                                              \n",
       "                                                                              \n",
       "\n",
       "₃ - T⋅dWs₂₃ + dWh₂₃)⎞\n",
       "────────────────────⎟\n",
       " n₂ + n₃            ⎠\n",
       "─────────────────────\n",
       "                     \n",
       "                     "
      ]
     },
     "execution_count": 9,
     "metadata": {},
     "output_type": "execute_result"
    }
   ],
   "source": [
    "module = 'asymm_regular'\n",
    "params = []\n",
    "units = []\n",
    "symparam = ()\n",
    "G_excess = sym.symbols('G_excess')\n",
    "G_excess = 0\n",
    "for i in range(1,c):\n",
    "    for j in range(i+1,c+1):\n",
    "        param = 'Wh' + str(i) + str(j); params.append(param); units.append('J/m')\n",
    "        h_term = sym.symbols(param); symparam += (h_term,)\n",
    "        param = 'Ws' + str(i) + str(j); params.append(param); units.append('J/K-m')\n",
    "        s_term = sym.symbols(param); symparam += (s_term,)\n",
    "        param = 'Wv' + str(i) + str(j); params.append(param); units.append('J/bar-m')\n",
    "        v_term = sym.symbols(param); symparam += (v_term,)\n",
    "        param = 'dWh' + str(i) + str(j); params.append(param); units.append('J/m')\n",
    "        dh_term = sym.symbols(param); symparam += (dh_term,)\n",
    "        param = 'dWs' + str(i) + str(j); params.append(param); units.append('J/K-m')\n",
    "        ds_term = sym.symbols(param); symparam += (ds_term,)\n",
    "        param = 'dWv' + str(i) + str(j); params.append(param); units.append('J/bar-m')\n",
    "        dv_term = sym.symbols(param); symparam += (dv_term,)\n",
    "        w_term = h_term - T*s_term + P*v_term\n",
    "        dw_term = dh_term - T*ds_term + P*dv_term\n",
    "        G_excess += (w_term + dw_term*(n[i-1]-n[j-1])/nT)*n[i-1]*n[j-1]\n",
    "G_excess /= nT\n",
    "for i in range(1,c-1):\n",
    "    for j in range(i+1,c):\n",
    "        for k in range(j+1,c+1):\n",
    "            param = 'Wh' + str(i) + str(j) + str(k); params.append(param); units.append('J/m')\n",
    "            h_term = sym.symbols(param); symparam += (h_term,)\n",
    "            param = 'Ws' + str(i) + str(j) + str(k); params.append(param); units.append('J/K-m')\n",
    "            s_term = sym.symbols(param); symparam += (s_term,)\n",
    "            param = 'Wv' + str(i) + str(j) + str(k); params.append(param); units.append('J/bar-m')\n",
    "            v_term = sym.symbols(param); symparam += (v_term,)\n",
    "            G_excess += (h_term - T*s_term + P*v_term)*n[i-1]*n[j-1]*n[k-1]/nT/nT\n",
    "G_excess"
   ]
  },
  {
   "cell_type": "code",
   "execution_count": 10,
   "metadata": {},
   "outputs": [
    {
     "name": "stdout",
     "output_type": "stream",
     "text": [
      "['Wh12', 'Ws12', 'Wv12', 'dWh12', 'dWs12', 'dWv12', 'Wh13', 'Ws13', 'Wv13', 'dWh13', 'dWs13', 'dWv13', 'Wh23', 'Ws23', 'Wv23', 'dWh23', 'dWs23', 'dWv23', 'Wh123', 'Ws123', 'Wv123']\n",
      "['J/m', 'J/K-m', 'J/bar-m', 'J/m', 'J/K-m', 'J/bar-m', 'J/m', 'J/K-m', 'J/bar-m', 'J/m', 'J/K-m', 'J/bar-m', 'J/m', 'J/K-m', 'J/bar-m', 'J/m', 'J/K-m', 'J/bar-m', 'J/m', 'J/K-m', 'J/bar-m']\n"
     ]
    }
   ],
   "source": [
    "print(params)\n",
    "print(units)"
   ]
  },
  {
   "cell_type": "markdown",
   "metadata": {},
   "source": [
    "## Define the Gibbs free energy of solution"
   ]
  },
  {
   "cell_type": "code",
   "execution_count": 11,
   "metadata": {},
   "outputs": [
    {
     "data": {
      "image/png": "[encoded data removed]",
      "text/latex": [
       "$\\displaystyle R T \\left(n_{1} \\log{\\left(\\frac{n_{1}}{n_{1} + n_{2} + n_{3}} \\right)} + n_{2} \\log{\\left(\\frac{n_{2}}{n_{1} + n_{2} + n_{3}} \\right)} + n_{3} \\log{\\left(\\frac{n_{3}}{n_{1} + n_{2} + n_{3}} \\right)}\\right) + \\frac{n_{1} n_{2} n_{3} \\left(P Wv_{123} - T Ws_{123} + Wh_{123}\\right)}{\\left(n_{1} + n_{2} + n_{3}\\right)^{2}} + n_{1} \\mu_{1}{\\left(T,P \\right)} + n_{2} \\mu_{2}{\\left(T,P \\right)} + n_{3} \\mu_{3}{\\left(T,P \\right)} + \\frac{n_{1} n_{2} \\left(P Wv_{12} - T Ws_{12} + Wh_{12} + \\frac{\\left(n_{1} - n_{2}\\right) \\left(P dWv_{12} - T dWs_{12} + dWh_{12}\\right)}{n_{1} + n_{2} + n_{3}}\\right) + n_{1} n_{3} \\left(P Wv_{13} - T Ws_{13} + Wh_{13} + \\frac{\\left(n_{1} - n_{3}\\right) \\left(P dWv_{13} - T dWs_{13} + dWh_{13}\\right)}{n_{1} + n_{2} + n_{3}}\\right) + n_{2} n_{3} \\left(P Wv_{23} - T Ws_{23} + Wh_{23} + \\frac{\\left(n_{2} - n_{3}\\right) \\left(P dWv_{23} - T dWs_{23} + dWh_{23}\\right)}{n_{1} + n_{2} + n_{3}}\\right)}{n_{1} + n_{2} + n_{3}}$"
      ],
      "text/plain": [
       "                                                                              \n",
       "                                                                              \n",
       "    ⎛      ⎛     n₁     ⎞         ⎛     n₂     ⎞         ⎛     n₃     ⎞⎞   n₁⋅\n",
       "R⋅T⋅⎜n₁⋅log⎜────────────⎟ + n₂⋅log⎜────────────⎟ + n₃⋅log⎜────────────⎟⎟ + ───\n",
       "    ⎝      ⎝n₁ + n₂ + n₃⎠         ⎝n₁ + n₂ + n₃⎠         ⎝n₁ + n₂ + n₃⎠⎠      \n",
       "                                                                              \n",
       "\n",
       "                                                                              \n",
       "                                                                              \n",
       "n₂⋅n₃⋅(P⋅Wv₁₂₃ - T⋅Ws₁₂₃ + Wh₁₂₃)                                             \n",
       "───────────────────────────────── + n₁⋅μ₁(T, P) + n₂⋅μ₂(T, P) + n₃⋅μ₃(T, P) + \n",
       "                     2                                                        \n",
       "       (n₁ + n₂ + n₃)                                                         \n",
       "\n",
       "      ⎛                         (n₁ - n₂)⋅(P⋅dWv₁₂ - T⋅dWs₁₂ + dWh₁₂)⎞        \n",
       "n₁⋅n₂⋅⎜P⋅Wv₁₂ - T⋅Ws₁₂ + Wh₁₂ + ─────────────────────────────────────⎟ + n₁⋅n₃\n",
       "      ⎝                                      n₁ + n₂ + n₃            ⎠        \n",
       "──────────────────────────────────────────────────────────────────────────────\n",
       "                                                                              \n",
       "                                                                              \n",
       "\n",
       " ⎛                         (n₁ - n₃)⋅(P⋅dWv₁₃ - T⋅dWs₁₃ + dWh₁₃)⎞         ⎛   \n",
       "⋅⎜P⋅Wv₁₃ - T⋅Ws₁₃ + Wh₁₃ + ─────────────────────────────────────⎟ + n₂⋅n₃⋅⎜P⋅W\n",
       " ⎝                                      n₁ + n₂ + n₃            ⎠         ⎝   \n",
       "──────────────────────────────────────────────────────────────────────────────\n",
       "                        n₁ + n₂ + n₃                                          \n",
       "                                                                              \n",
       "\n",
       "                      (n₂ - n₃)⋅(P⋅dWv₂₃ - T⋅dWs₂₃ + dWh₂₃)⎞\n",
       "v₂₃ - T⋅Ws₂₃ + Wh₂₃ + ─────────────────────────────────────⎟\n",
       "                                   n₁ + n₂ + n₃            ⎠\n",
       "────────────────────────────────────────────────────────────\n",
       "                                                            \n",
       "                                                            "
      ]
     },
     "execution_count": 11,
     "metadata": {},
     "output_type": "execute_result"
    }
   ],
   "source": [
    "G = G_ss + G_config + G_excess\n",
    "G"
   ]
  },
  {
   "cell_type": "markdown",
   "metadata": {},
   "source": [
    "## Add the Gibbs free energy of solution to the model"
   ]
  },
  {
   "cell_type": "code",
   "execution_count": 12,
   "metadata": {},
   "outputs": [],
   "source": [
    "model.add_expression_to_model(G, list(zip(params, units, symparam)))"
   ]
  },
  {
   "cell_type": "markdown",
   "metadata": {},
   "source": [
    "... give the model a unqiue name"
   ]
  },
  {
   "cell_type": "code",
   "execution_count": 13,
   "metadata": {},
   "outputs": [],
   "source": [
    "model.module = \"Simple_Solution\""
   ]
  },
  {
   "cell_type": "markdown",
   "metadata": {},
   "source": [
    "... assign a formula string for code generation  \n",
    "... assign a conversion string to map element concentrations to moles of end members"
   ]
  },
  {
   "cell_type": "code",
   "execution_count": 14,
   "metadata": {},
   "outputs": [],
   "source": [
    "model.formula_string = 'Ca[Ca]Na[Na]K[K]Al[Al]Si[Si]O8'\n",
    "model.conversion_string = ['[0]=[Na]', '[1]=[Ca]', '[2]=[K]']\n",
    "model.test_string = ['[0] > 0.0', '[1] > 0.0', '[2] > 0.0']"
   ]
  },
  {
   "cell_type": "markdown",
   "metadata": {},
   "source": [
    "# Define Parameters of a Feldspar Solution\n",
    "Components\n",
    "1. albite, ${\\rm{NaAlSi_3O_8}}$\n",
    "2. anorthite, ${\\rm{CaAl_2Si_2O_8}}$\n",
    "3. sanidine, ${\\rm{KAlSi_3O_8}}$\n",
    "\n",
    "Original calibration from the Elkins-Grove paper using their notation:\n",
    "```\n",
    "whabor   = 18810.0;  /* joules     */\n",
    "wsabor   = 10.3;     /* joules/K   */\n",
    "wvabor   = 0.4602;   /* joules/bar */\n",
    "whorab   = 27320.0;  /* joules     */\n",
    "wsorab   = 10.3;     /* joules/K   */\n",
    "wvorab   = 0.3264;   /* joules/bar */\n",
    "whaban   = 7924.0;   /* joules     */\n",
    "whanab   = 0.0;      /* joules     */\n",
    "whoran   = 40317.0;  /* joules     */\n",
    "whanor   = 38974.0;  /* joules     */\n",
    "wvanor   = -0.1037;  /* joules/bar */\n",
    "whabanor = 12545.0;  /* joules     */\n",
    "wvabanor = -1.095;   /* joules/bar */\n",
    "```\n",
    "\n",
    "Note that in the notation derveloped in this paper, $\\left[ {{W_{ij}} + \\Delta {W_{ij}}\\left( {{X_i} - {X_j}} \\right)} \\right]{X_i}{X_j}$, is related to the convention used in the original paper: ${{\\tilde W}_{13}}{X_1}{X_3}\\left( {{X_3} + \\frac{{{X_2}}}{2}} \\right) + {{\\tilde W}_{31}}{X_1}{X_3}\\left( {{X_1} + \\frac{{{X_2}}}{2}} \\right)$:   \n",
    "- ${W_{13}} = {{\\tilde W}_{13}} + {{\\tilde W}_{31}}$\n",
    "- $d{W_{13}} = {{\\tilde W}_{31}} - {{\\tilde W}_{13}}$"
   ]
  },
  {
   "cell_type": "code",
   "execution_count": 15,
   "metadata": {},
   "outputs": [
    {
     "name": "stdout",
     "output_type": "stream",
     "text": [
      "['Wh12', 'Ws12', 'Wv12', 'dWh12', 'dWs12', 'dWv12', 'Wh13', 'Ws13', 'Wv13', 'dWh13', 'dWs13', 'dWv13', 'Wh23', 'Ws23', 'Wv23', 'dWh23', 'dWs23', 'dWv23', 'Wh123', 'Ws123', 'Wv123']\n",
      "{'Wh12': 7924.0, 'Ws12': 0.0, 'Wv12': 0.0, 'Wh13': 46130.0, 'Ws13': 20.6, 'Wv13': 0.7866, 'Wh23': 79291.0, 'Ws23': 0.0, 'Wv23': -0.1037, 'dWh12': -7924.0, 'dWs12': 0.0, 'dWv12': 0.0, 'dWh13': 8510.0, 'dWs13': 0.0, 'dWv13': -0.13379999999999997, 'dWh23': 1343.0, 'dWs23': 0.0, 'dWv23': 0.1037, 'Wh123': 12545.0, 'Ws123': 0.0, 'Wv123': -1.095, 'T_r': 298.15, 'P_r': 1.0}\n"
     ]
    }
   ],
   "source": [
    "print (params)\n",
    "whabor   = 18810.0\n",
    "wsabor   = 10.3\n",
    "wvabor   = 0.4602\n",
    "whorab   = 27320.0\n",
    "wsorab   = 10.3\n",
    "wvorab   = 0.3264\n",
    "whaban   = 7924.0\n",
    "whanab   = 0.0\n",
    "whoran   = 40317.0\n",
    "whanor   = 38974.0\n",
    "wvanor   = -0.1037\n",
    "wvoran   = 0.0 \n",
    "whabanor = 12545.0\n",
    "wvabanor = -1.095\n",
    "paramValues = { 'Wh12':whaban+whanab,  'Ws12':0.0,            'Wv12':0.0, \\\n",
    "                'Wh13':whabor+whorab,  'Ws13':wsabor+wsorab,  'Wv13':wvabor+wvorab, \\\n",
    "                'Wh23':whanor+whoran,  'Ws23':0.0,            'Wv23':wvanor+wvoran, \\\n",
    "                'dWh12':whanab-whaban, 'dWs12':0.0,           'dWv12':0.0, \\\n",
    "                'dWh13':whorab-whabor, 'dWs13':wsorab-wsabor, 'dWv13':wvorab-wvabor, \\\n",
    "                'dWh23':whoran-whanor, 'dWs23':0.0,           'dWv23':wvoran-wvanor,\n",
    "                'Wh123':whabanor, 'Ws123':0.0, 'Wv123':wvabanor, 'T_r':298.15, 'P_r':1.0}\n",
    "print (paramValues)"
   ]
  },
  {
   "cell_type": "markdown",
   "metadata": {},
   "source": [
    "Generate both fast computation and calibibration code for the feldspar solution"
   ]
  },
  {
   "cell_type": "markdown",
   "metadata": {},
   "source": [
    "# Use code printers to construct \"C\" package code"
   ]
  },
  {
   "cell_type": "code",
   "execution_count": 16,
   "metadata": {},
   "outputs": [
    {
     "name": "stdout",
     "output_type": "stream",
     "text": [
      "/Users/simonmatthews/Dropbox/projects/enki-speciation/coder_expts/working\n"
     ]
    }
   ],
   "source": [
    "model_working_dir = \"working\"\n",
    "!mkdir -p {model_working_dir}\n",
    "%cd {model_working_dir}"
   ]
  },
  {
   "cell_type": "markdown",
   "metadata": {},
   "source": [
    "## Choose model type and create model\n",
    "model_type is \"fast\" or \"calib\""
   ]
  },
  {
   "cell_type": "code",
   "execution_count": 17,
   "metadata": {},
   "outputs": [],
   "source": [
    "model_type = \"calib\""
   ]
  },
  {
   "cell_type": "code",
   "execution_count": 18,
   "metadata": {},
   "outputs": [
    {
     "name": "stdout",
     "output_type": "stream",
     "text": [
      "Creating generic fast model code file string\n",
      "Writing include file to working directory ...\n",
      "Creating (once only) generic model calib codetemplate include file string\n",
      "Creating (once only) generic model calib codetemplate code file string\n",
      "Creating generic calib model code file string\n",
      "Writing include file to working directory ...\n",
      "Creating code blocks for standard state properties.\n",
      "Creating calib code and include files ...\n",
      "Writing include file to working directory ...\n",
      "Writing code file to working directory ...\n",
      "... done\n",
      "Writing pyxbld file to working directory ...\n",
      "writing pyx file to working directory ...\n",
      "Compiling code and Python bindings ...\n",
      "Success! Import the module named  Simple_Solution\n"
     ]
    },
    {
     "data": {
      "text/plain": [
       "True"
      ]
     },
     "execution_count": 18,
     "metadata": {},
     "output_type": "execute_result"
    }
   ],
   "source": [
    "model.create_code_module(phase=\"Feldspar\", params=paramValues, \n",
    "                         endmembers=['High_Albite_berman', 'Anorthite_berman', 'Potassium_Feldspar_berman'], \n",
    "                         prefix=\"cy\", module_type=model_type, silent=False)"
   ]
  },
  {
   "cell_type": "markdown",
   "metadata": {},
   "source": [
    "Update cython wrappers generated in Example #1 notebook to substitute the berman module name with that of teh solution"
   ]
  },
  {
   "cell_type": "code",
   "execution_count": 19,
   "metadata": {},
   "outputs": [
    {
     "ename": "FileNotFoundError",
     "evalue": "[Errno 2] No such file or directory: 'endmembers.pyx'",
     "output_type": "error",
     "traceback": [
      "\u001b[0;31m---------------------------------------------------------------------------\u001b[0m",
      "\u001b[0;31mFileNotFoundError\u001b[0m                         Traceback (most recent call last)",
      "\u001b[0;32m<ipython-input-19-40c237b29fba>\u001b[0m in \u001b[0;36m<module>\u001b[0;34m\u001b[0m\n\u001b[0;32m----> 1\u001b[0;31m \u001b[0;32mwith\u001b[0m \u001b[0mopen\u001b[0m\u001b[0;34m(\u001b[0m\u001b[0;34m'endmembers.pyx'\u001b[0m\u001b[0;34m,\u001b[0m \u001b[0;34m'r'\u001b[0m\u001b[0;34m)\u001b[0m \u001b[0;32mas\u001b[0m \u001b[0mf\u001b[0m\u001b[0;34m:\u001b[0m\u001b[0;34m\u001b[0m\u001b[0;34m\u001b[0m\u001b[0m\n\u001b[0m\u001b[1;32m      2\u001b[0m     \u001b[0mcontents\u001b[0m \u001b[0;34m=\u001b[0m \u001b[0mf\u001b[0m\u001b[0;34m.\u001b[0m\u001b[0mread\u001b[0m\u001b[0;34m(\u001b[0m\u001b[0;34m)\u001b[0m\u001b[0;34m\u001b[0m\u001b[0;34m\u001b[0m\u001b[0m\n\u001b[1;32m      3\u001b[0m \u001b[0mcontents\u001b[0m \u001b[0;34m=\u001b[0m \u001b[0mcontents\u001b[0m\u001b[0;34m.\u001b[0m\u001b[0mreplace\u001b[0m\u001b[0;34m(\u001b[0m\u001b[0;34m'def cy_High_Albite_berman_'\u001b[0m\u001b[0;34m,\u001b[0m \u001b[0;34m'def cy_High_Albite_Simple_Solution_'\u001b[0m\u001b[0;34m)\u001b[0m\u001b[0;34m\u001b[0m\u001b[0;34m\u001b[0m\u001b[0m\n\u001b[1;32m      4\u001b[0m \u001b[0mcontents\u001b[0m \u001b[0;34m=\u001b[0m \u001b[0mcontents\u001b[0m\u001b[0;34m.\u001b[0m\u001b[0mreplace\u001b[0m\u001b[0;34m(\u001b[0m\u001b[0;34m'def cy_Anorthite_berman_'\u001b[0m\u001b[0;34m,\u001b[0m \u001b[0;34m'def cy_Anorthite_Simple_Solution_'\u001b[0m\u001b[0;34m)\u001b[0m\u001b[0;34m\u001b[0m\u001b[0;34m\u001b[0m\u001b[0m\n\u001b[1;32m      5\u001b[0m \u001b[0mcontents\u001b[0m \u001b[0;34m=\u001b[0m \u001b[0mcontents\u001b[0m\u001b[0;34m.\u001b[0m\u001b[0mreplace\u001b[0m\u001b[0;34m(\u001b[0m\u001b[0;34m'def cy_Potassium_Feldspar_berman_'\u001b[0m\u001b[0;34m,\u001b[0m \u001b[0;34m'def cy_Potassium_Feldspar_Simple_Solution_'\u001b[0m\u001b[0;34m)\u001b[0m\u001b[0;34m\u001b[0m\u001b[0;34m\u001b[0m\u001b[0m\n",
      "\u001b[0;31mFileNotFoundError\u001b[0m: [Errno 2] No such file or directory: 'endmembers.pyx'"
     ]
    }
   ],
   "source": [
    "with open('endmembers.pyx', 'r') as f:\n",
    "    contents = f.read()\n",
    "contents = contents.replace('def cy_High_Albite_berman_', 'def cy_High_Albite_Simple_Solution_')\n",
    "contents = contents.replace('def cy_Anorthite_berman_', 'def cy_Anorthite_Simple_Solution_')\n",
    "contents = contents.replace('def cy_Potassium_Feldspar_berman_', 'def cy_Potassium_Feldspar_Simple_Solution_')\n",
    "with open('endmembers.pyx', 'w') as f:\n",
    "    f.write(contents)"
   ]
  },
  {
   "cell_type": "markdown",
   "metadata": {},
   "source": [
    "Concatenate the ./working/endmembers.pyx file, which was generated by running the Example #1 notebook, to the end of the Simple_Solution.pyx file.  This will allow cython wrappers that expose endmember properties to be visible in the resulting module."
   ]
  },
  {
   "cell_type": "code",
   "execution_count": null,
   "metadata": {},
   "outputs": [],
   "source": [
    "%cat endmembers.pyx >> Simple_Solution.pyx"
   ]
  },
  {
   "cell_type": "markdown",
   "metadata": {},
   "source": [
    "## Load the module"
   ]
  },
  {
   "cell_type": "code",
   "execution_count": null,
   "metadata": {},
   "outputs": [],
   "source": [
    "import Simple_Solution\n",
    "%cd .."
   ]
  },
  {
   "cell_type": "markdown",
   "metadata": {},
   "source": [
    "## Test and time the generated functions for Feldspar (T in K, P in bars)"
   ]
  },
  {
   "cell_type": "code",
   "execution_count": null,
   "metadata": {},
   "outputs": [],
   "source": [
    "t = 2000.00\n",
    "p = 1.0\n",
    "n = np.array([1.1, 1.2, 1.3])"
   ]
  },
  {
   "cell_type": "markdown",
   "metadata": {},
   "source": [
    "## Available in both \"Fast\" and \"Calib\" code versions \n",
    "Execute the \"fast\" or \"calibration\" code metadata retrieval functions:"
   ]
  },
  {
   "cell_type": "code",
   "execution_count": null,
   "metadata": {},
   "outputs": [],
   "source": [
    "try:\n",
    "    print(Simple_Solution.cy_Feldspar_Simple_Solution_identifier())\n",
    "    print(Simple_Solution.cy_Feldspar_Simple_Solution_name())\n",
    "    print(Simple_Solution.cy_Feldspar_Simple_Solution_formula(t,p,n))\n",
    "except AttributeError:\n",
    "    pass\n",
    "try:\n",
    "    print(Simple_Solution.cy_Feldspar_Simple_Solution_calib_identifier())\n",
    "    print(Simple_Solution.cy_Feldspar_Simple_Solution_calib_name())\n",
    "    print(Simple_Solution.cy_Feldspar_Simple_Solution_calib_formula(t,p,n))\n",
    "except AttributeError:\n",
    "    pass"
   ]
  },
  {
   "cell_type": "markdown",
   "metadata": {},
   "source": [
    "Test intrinsic element conversion routine ..."
   ]
  },
  {
   "cell_type": "code",
   "execution_count": null,
   "metadata": {},
   "outputs": [],
   "source": [
    "try:\n",
    "    e = np.zeros(106)\n",
    "    sum = np.sum(n)\n",
    "    for index in range(0,c):\n",
    "        end = Simple_Solution.cy_Feldspar_Simple_Solution_endmember_elements(index)\n",
    "        for i in range(0,106):\n",
    "            e[i] += end[i]*n[index]/sum\n",
    "    nConv = Simple_Solution.cy_Feldspar_Simple_Solution_conv_elm_to_moles(e)\n",
    "    for i in range(0,c):\n",
    "        print ('X[{0:d}] input {1:13.6e}, calc {2:13.6e}, diff {3:13.6e}'.format(\n",
    "        i, n[i]/sum, nConv[i], nConv[i]-n[i]/sum))\n",
    "    if not Simple_Solution.cy_Feldspar_Simple_Solution_test_moles(nConv):\n",
    "        print ('Output of intrinsic composition calculation fails tests for permissible values.')\n",
    "except AttributeError:\n",
    "    pass\n",
    "try:\n",
    "    e = np.zeros(106)\n",
    "    sum = np.sum(n)\n",
    "    for index in range(0,c):\n",
    "        end = Simple_Solution.cy_Feldspar_Simple_Solution_calib_endmember_elements(index)\n",
    "        for i in range(0,106):\n",
    "            e[i] += end[i]*n[index]/sum\n",
    "    nConv = Simple_Solution.cy_Feldspar_Simple_Solution_calib_conv_elm_to_moles(e)\n",
    "    for i in range(0,c):\n",
    "        print ('X[{0:d}] input {1:13.6e}, calc {2:13.6e}, diff {3:13.6e}'.format(\n",
    "        i, n[i]/sum, nConv[i], nConv[i]-n[i]/sum))\n",
    "    if not Simple_Solution.cy_Feldspar_Simple_Solution_calib_test_moles(nConv):\n",
    "        print ('Output of intrinsic composition calculation fails tests for permissible values.')\n",
    "except AttributeError:\n",
    "    pass"
   ]
  },
  {
   "cell_type": "markdown",
   "metadata": {},
   "source": [
    "Test various conversion routines ..."
   ]
  },
  {
   "cell_type": "code",
   "execution_count": null,
   "metadata": {},
   "outputs": [],
   "source": [
    "try:\n",
    "    print (Simple_Solution.cy_Feldspar_Simple_Solution_calib_conv_moles_to_tot_moles(n))\n",
    "    print (Simple_Solution.cy_Feldspar_Simple_Solution_calib_conv_moles_to_mole_frac(n))\n",
    "    e = Simple_Solution.cy_Feldspar_Simple_Solution_calib_conv_moles_to_elm(n)\n",
    "    print (e)\n",
    "    print (Simple_Solution.cy_Feldspar_Simple_Solution_calib_conv_elm_to_moles(e))\n",
    "    print (Simple_Solution.cy_Feldspar_Simple_Solution_calib_conv_elm_to_tot_moles(e))\n",
    "    print (Simple_Solution.cy_Feldspar_Simple_Solution_calib_conv_elm_to_tot_grams(e))\n",
    "except AttributeError:\n",
    "    pass\n",
    "try:\n",
    "    print (Simple_Solution.cy_Feldspar_Simple_Solution_conv_moles_to_tot_moles(n))\n",
    "    print (Simple_Solution.cy_Feldspar_Simple_Solution_conv_moles_to_mole_frac(n))\n",
    "    e = Simple_Solution.cy_Feldspar_Simple_Solution_conv_moles_to_elm(n)\n",
    "    print (e)\n",
    "    print (Simple_Solution.cy_Feldspar_Simple_Solution_conv_elm_to_moles(e))\n",
    "    print (Simple_Solution.cy_Feldspar_Simple_Solution_conv_elm_to_tot_moles(e))\n",
    "    print (Simple_Solution.cy_Feldspar_Simple_Solution_conv_elm_to_tot_grams(e))\n",
    "except AttributeError:\n",
    "    pass"
   ]
  },
  {
   "cell_type": "markdown",
   "metadata": {},
   "source": [
    "### Execute the standard thermodynamic property retrieval functions:"
   ]
  },
  {
   "cell_type": "code",
   "execution_count": null,
   "metadata": {},
   "outputs": [],
   "source": [
    "fmt = \"{0:<10.10s} {1:13.6e} {2:<10.10s}\"\n",
    "try:\n",
    "    print(fmt.format('G', Simple_Solution.cy_Feldspar_Simple_Solution_g(t,p,n), 'J'))\n",
    "    print(fmt.format('dGdT', Simple_Solution.cy_Feldspar_Simple_Solution_dgdt(t,p,n), 'J/K'))\n",
    "    print(fmt.format('dGdP', Simple_Solution.cy_Feldspar_Simple_Solution_dgdp(t,p,n), 'J/bar'))\n",
    "    print(fmt.format('d2GdT2', Simple_Solution.cy_Feldspar_Simple_Solution_d2gdt2(t,p,n), 'J/K^2'))\n",
    "    print(fmt.format('d2GdTdP', Simple_Solution.cy_Feldspar_Simple_Solution_d2gdtdp(t,p,n), 'J/K-bar'))\n",
    "    print(fmt.format('d2GdP2', Simple_Solution.cy_Feldspar_Simple_Solution_d2gdp2(t,p,n), 'J/bar^2'))\n",
    "    print(fmt.format('d3GdT3', Simple_Solution.cy_Feldspar_Simple_Solution_d3gdt3(t,p,n), 'J/K^3'))\n",
    "    print(fmt.format('d3GdT2dP', Simple_Solution.cy_Feldspar_Simple_Solution_d3gdt2dp(t,p,n), 'J/K^2-bar'))\n",
    "    print(fmt.format('d3GdTdP2', Simple_Solution.cy_Feldspar_Simple_Solution_d3gdtdp2(t,p,n), 'J/K-bar^2'))\n",
    "    print(fmt.format('d3GdP3', Simple_Solution.cy_Feldspar_Simple_Solution_d3gdp3(t,p,n), 'J/bar^3'))\n",
    "    print(fmt.format('S', Simple_Solution.cy_Feldspar_Simple_Solution_s(t,p,n), 'J/K'))\n",
    "    print(fmt.format('V', Simple_Solution.cy_Feldspar_Simple_Solution_v(t,p,n), 'J/bar'))\n",
    "    print(fmt.format('Cv', Simple_Solution.cy_Feldspar_Simple_Solution_cv(t,p,n), 'J/K'))\n",
    "    print(fmt.format('Cp', Simple_Solution.cy_Feldspar_Simple_Solution_cp(t,p,n), 'J/K'))\n",
    "    print(fmt.format('dCpdT', Simple_Solution.cy_Feldspar_Simple_Solution_dcpdt(t,p,n), 'J/K^2'))\n",
    "    print(fmt.format('alpha', Simple_Solution.cy_Feldspar_Simple_Solution_alpha(t,p,n), '1/K'))\n",
    "    print(fmt.format('beta', Simple_Solution.cy_Feldspar_Simple_Solution_beta(t,p,n), '1/bar'))\n",
    "    print(fmt.format('K', Simple_Solution.cy_Feldspar_Simple_Solution_K(t,p,n), 'bar'))\n",
    "    print(fmt.format('Kp', Simple_Solution.cy_Feldspar_Simple_Solution_Kp(t,p,n), ''))\n",
    "except AttributeError:\n",
    "    pass\n",
    "try:\n",
    "    print(fmt.format('G', Simple_Solution.cy_Feldspar_Simple_Solution_calib_g(t,p,n), 'J'))\n",
    "    print(fmt.format('dGdT', Simple_Solution.cy_Feldspar_Simple_Solution_calib_dgdt(t,p,n), 'J/K'))\n",
    "    print(fmt.format('dGdP', Simple_Solution.cy_Feldspar_Simple_Solution_calib_dgdp(t,p,n), 'J/bar'))\n",
    "    print(fmt.format('d2GdT2', Simple_Solution.cy_Feldspar_Simple_Solution_calib_d2gdt2(t,p,n), 'J/K^2'))\n",
    "    print(fmt.format('d2GdTdP', Simple_Solution.cy_Feldspar_Simple_Solution_calib_d2gdtdp(t,p,n), 'J/K-bar'))\n",
    "    print(fmt.format('d2GdP2', Simple_Solution.cy_Feldspar_Simple_Solution_calib_d2gdp2(t,p,n), 'J/bar^2'))\n",
    "    print(fmt.format('d3GdT3', Simple_Solution.cy_Feldspar_Simple_Solution_calib_d3gdt3(t,p,n), 'J/K^3'))\n",
    "    print(fmt.format('d3GdT2dP', Simple_Solution.cy_Feldspar_Simple_Solution_calib_d3gdt2dp(t,p,n), 'J/K^2-bar'))\n",
    "    print(fmt.format('d3GdTdP2', Simple_Solution.cy_Feldspar_Simple_Solution_calib_d3gdtdp2(t,p,n), 'J/K-bar^2'))\n",
    "    print(fmt.format('d3GdP3', Simple_Solution.cy_Feldspar_Simple_Solution_calib_d3gdp3(t,p,n), 'J/bar^3'))\n",
    "    print(fmt.format('S', Simple_Solution.cy_Feldspar_Simple_Solution_calib_s(t,p,n), 'J/K'))\n",
    "    print(fmt.format('V', Simple_Solution.cy_Feldspar_Simple_Solution_calib_v(t,p,n), 'J/bar'))\n",
    "    print(fmt.format('Cv', Simple_Solution.cy_Feldspar_Simple_Solution_calib_cv(t,p,n), 'J/K'))\n",
    "    print(fmt.format('Cp', Simple_Solution.cy_Feldspar_Simple_Solution_calib_cp(t,p,n), 'J/K'))\n",
    "    print(fmt.format('dCpdT', Simple_Solution.cy_Feldspar_Simple_Solution_calib_dcpdt(t,p,n), 'J/K^2'))\n",
    "    print(fmt.format('alpha', Simple_Solution.cy_Feldspar_Simple_Solution_calib_alpha(t,p,n), '1/K'))\n",
    "    print(fmt.format('beta', Simple_Solution.cy_Feldspar_Simple_Solution_calib_beta(t,p,n), '1/bar'))\n",
    "    print(fmt.format('K', Simple_Solution.cy_Feldspar_Simple_Solution_calib_K(t,p,n), 'bar'))\n",
    "    print(fmt.format('Kp', Simple_Solution.cy_Feldspar_Simple_Solution_calib_Kp(t,p,n), ''))\n",
    "except AttributeError:\n",
    "    pass"
   ]
  },
  {
   "cell_type": "markdown",
   "metadata": {},
   "source": [
    "### Execute functions that access endmember properties:"
   ]
  },
  {
   "cell_type": "code",
   "execution_count": null,
   "metadata": {},
   "outputs": [],
   "source": [
    "fmt = \"{0:<10.10s} {1:13.6e} {2:<15.15s}\"\n",
    "try:\n",
    "    print (\"number of components\", Simple_Solution.cy_Feldspar_Simple_Solution_endmember_number())\n",
    "    for index in range(0, c):\n",
    "        print (\"{0:<20.20s}\".format(Simple_Solution.cy_Feldspar_Simple_Solution_endmember_name(index)), end=' ')\n",
    "        print (\"{0:<20.20s}\".format(Simple_Solution.cy_Feldspar_Simple_Solution_endmember_formula(index)))\n",
    "        print (\"mw: {0:10.2f}\".format(Simple_Solution.cy_Feldspar_Simple_Solution_endmember_mw(index)))\n",
    "        print (fmt.format('mu0', Simple_Solution.cy_Feldspar_Simple_Solution_endmember_mu0(index,t,p), 'J/mol'))\n",
    "        print (fmt.format('dmu0dT', Simple_Solution.cy_Feldspar_Simple_Solution_endmember_dmu0dT(index,t,p), 'J/K-mol'))\n",
    "        print (fmt.format('dmu0dP', Simple_Solution.cy_Feldspar_Simple_Solution_endmember_dmu0dP(index,t,p), 'J/bar-mol'))\n",
    "        print (fmt.format('d2mu0dT2', Simple_Solution.cy_Feldspar_Simple_Solution_endmember_d2mu0dT2(index,t,p), 'J/K^2-mol'))\n",
    "        print (fmt.format('d2mu0dTdP', Simple_Solution.cy_Feldspar_Simple_Solution_endmember_d2mu0dTdP(index,t,p), 'J/K-bar-mol'))\n",
    "        print (fmt.format('d2mu0dP2', Simple_Solution.cy_Feldspar_Simple_Solution_endmember_d2mu0dP2(index,t,p), 'J/bar^2-mol'))\n",
    "        print (fmt.format('d3mu0dT3', Simple_Solution.cy_Feldspar_Simple_Solution_endmember_d3mu0dT3(index,t,p), 'J/K^3-mol'))\n",
    "        print (fmt.format('d3mu0dT2dP', Simple_Solution.cy_Feldspar_Simple_Solution_endmember_d3mu0dT2dP(index,t,p), 'J/K^2-bar-mol'))\n",
    "        print (fmt.format('d3mu0dTdP2', Simple_Solution.cy_Feldspar_Simple_Solution_endmember_d3mu0dTdP2(index,t,p), 'J/K-bar^2-mol'))\n",
    "        print (fmt.format('d3mu0dP3', Simple_Solution.cy_Feldspar_Simple_Solution_endmember_d3mu0dP3(index,t,p), 'J/bar^3-mol'))\n",
    "        print (\"Element array:\")\n",
    "        print (Simple_Solution.cy_Feldspar_Simple_Solution_endmember_elements(index))\n",
    "        print ()\n",
    "except AttributeError:\n",
    "    pass\n",
    "try:\n",
    "    print (\"number of components\", Simple_Solution.cy_Feldspar_Simple_Solution_calib_endmember_number())\n",
    "    for index in range(0, c):\n",
    "        print (\"{0:<20.20s}\".format(Simple_Solution.cy_Feldspar_Simple_Solution_calib_endmember_name(index)), end=' ')\n",
    "        print (\"{0:<20.20s}\".format(Simple_Solution.cy_Feldspar_Simple_Solution_calib_endmember_formula(index)), end=' ')\n",
    "        print (\"mw: {0:10.2f}\".format(Simple_Solution.cy_Feldspar_Simple_Solution_calib_endmember_mw(index)))\n",
    "        print (fmt.format('mu0', Simple_Solution.cy_Feldspar_Simple_Solution_calib_endmember_mu0(index,t,p), 'J/mol'))\n",
    "        print (fmt.format('dmu0dT', Simple_Solution.cy_Feldspar_Simple_Solution_calib_endmember_dmu0dT(index,t,p), 'J/K-mol'))\n",
    "        print (fmt.format('dmu0dP', Simple_Solution.cy_Feldspar_Simple_Solution_calib_endmember_dmu0dP(index,t,p), 'J/bar-mol'))\n",
    "        print (fmt.format('d2mu0dT2', Simple_Solution.cy_Feldspar_Simple_Solution_calib_endmember_d2mu0dT2(index,t,p), 'J/K^2-mol'))\n",
    "        print (fmt.format('d2mu0dTdP', Simple_Solution.cy_Feldspar_Simple_Solution_calib_endmember_d2mu0dTdP(index,t,p), 'J/K-bar-mol'))\n",
    "        print (fmt.format('d2mu0dP2', Simple_Solution.cy_Feldspar_Simple_Solution_calib_endmember_d2mu0dP2(index,t,p), 'J/bar^2-mol'))\n",
    "        print (fmt.format('d3mu0dT3', Simple_Solution.cy_Feldspar_Simple_Solution_calib_endmember_d3mu0dT3(index,t,p), 'J/K^3-mol'))\n",
    "        print (fmt.format('d3mu0dT2dP', Simple_Solution.cy_Feldspar_Simple_Solution_calib_endmember_d3mu0dT2dP(index,t,p), 'J/K^2-bar-mol'))\n",
    "        print (fmt.format('d3mu0dTdP2', Simple_Solution.cy_Feldspar_Simple_Solution_calib_endmember_d3mu0dTdP2(index,t,p), 'J/K-bar^2-mol'))\n",
    "        print (fmt.format('d3mu0dP3', Simple_Solution.cy_Feldspar_Simple_Solution_calib_endmember_d3mu0dP3(index,t,p), 'J/bar^3-mol'))\n",
    "        print (\"Element array:\")\n",
    "        print (Simple_Solution.cy_Feldspar_Simple_Solution_calib_endmember_elements(index))\n",
    "        print ()\n",
    "except AttributeError:\n",
    "    pass"
   ]
  },
  {
   "cell_type": "markdown",
   "metadata": {},
   "source": [
    "### Execute functions that access species properties:"
   ]
  },
  {
   "cell_type": "code",
   "execution_count": null,
   "metadata": {},
   "outputs": [],
   "source": [
    "fmt = \"{0:<10.10s} {1:13.6e} {2:<15.15s}\"\n",
    "try:\n",
    "    print (\"number of species\", Simple_Solution.cy_Feldspar_Simple_Solution_species_number())\n",
    "    for index in range(0, c):\n",
    "        print (\"{0:<20.20s}\".format(Simple_Solution.cy_Feldspar_Simple_Solution_species_name(index)), end=' ')\n",
    "        print (\"{0:<20.20s}\".format(Simple_Solution.cy_Feldspar_Simple_Solution_species_formula(index)))\n",
    "        print (\"mw: {0:10.2f}\".format(Simple_Solution.cy_Feldspar_Simple_Solution_species_mw(index)))\n",
    "        print (\"Element array:\")\n",
    "        print (Simple_Solution.cy_Feldspar_Simple_Solution_species_elements(index))\n",
    "        print ()\n",
    "except AttributeError:\n",
    "    pass\n",
    "try:\n",
    "    print (\"number of species\", Simple_Solution.cy_Feldspar_Simple_Solution_calib_species_number())\n",
    "    for index in range(0, c):\n",
    "        print (\"{0:<20.20s}\".format(Simple_Solution.cy_Feldspar_Simple_Solution_calib_species_name(index)), end=' ')\n",
    "        print (\"{0:<20.20s}\".format(Simple_Solution.cy_Feldspar_Simple_Solution_calib_species_formula(index)), end=' ')\n",
    "        print (\"mw: {0:10.2f}\".format(Simple_Solution.cy_Feldspar_Simple_Solution_calib_species_mw(index)))\n",
    "        print (\"Element array:\")\n",
    "        print (Simple_Solution.cy_Feldspar_Simple_Solution_calib_species_elements(index))\n",
    "        print ()\n",
    "except AttributeError:\n",
    "    pass"
   ]
  },
  {
   "cell_type": "markdown",
   "metadata": {},
   "source": [
    "### Execute functions for molar derivatives\n",
    "#### First derivative vectors:"
   ]
  },
  {
   "cell_type": "code",
   "execution_count": null,
   "metadata": {},
   "outputs": [],
   "source": [
    "def printResult(name, result, units):\n",
    "    print (\"{0:<10.10s}\".format(name), end=' ')\n",
    "    [print (\"{0:13.6e}\".format(x), end=' ') for x in result]\n",
    "    print (\"{0:<10.10s}\".format(units))\n",
    "def printLabels(n):\n",
    "    print (\"{0:<18.18s}\".format(''), end=' ')\n",
    "    [print (\"[{0:3d}]{1:<8.8s}\".format(idx, ''), end=' ') for idx in range(len(n))]\n",
    "    print ()\n",
    "printLabels(n)\n",
    "try:\n",
    "    printResult('dGdn', Simple_Solution.cy_Feldspar_Simple_Solution_dgdn(t,p,n), 'J/m')\n",
    "    printResult('d2GdndT', Simple_Solution.cy_Feldspar_Simple_Solution_d2gdndt(t,p,n), 'J/K-m')\n",
    "    printResult('d2GdndP', Simple_Solution.cy_Feldspar_Simple_Solution_d2gdndp(t,p,n), 'J/bar-m')\n",
    "    printResult('d3GdndT2', Simple_Solution.cy_Feldspar_Simple_Solution_d3gdndt2(t,p,n), 'J/K^2-m')\n",
    "    printResult('d3GdndTdP', Simple_Solution.cy_Feldspar_Simple_Solution_d3gdndtdp(t,p,n), 'J/K-bar-m')\n",
    "    printResult('d3GdndP2', Simple_Solution.cy_Feldspar_Simple_Solution_d3gdndp2(t,p,n), 'J/bar^2-m')\n",
    "    printResult('d4GdndT3', Simple_Solution.cy_Feldspar_Simple_Solution_d4gdndt3(t,p,n), 'J/K^3-m')\n",
    "    printResult('d4GdndT2dP', Simple_Solution.cy_Feldspar_Simple_Solution_d4gdndt2dp(t,p,n), 'J/K^2-bar-m')\n",
    "    printResult('d4GdndTdP2', Simple_Solution.cy_Feldspar_Simple_Solution_d4gdndtdp2(t,p,n), 'J/K-bar^2-m')\n",
    "    printResult('d4GdndP3', Simple_Solution.cy_Feldspar_Simple_Solution_d4gdndp3(t,p,n), 'J/bar^3-m')\n",
    "except AttributeError:\n",
    "    pass\n",
    "try:\n",
    "    printResult('dGdn', Simple_Solution.cy_Feldspar_Simple_Solution_calib_dgdn(t,p,n), 'J/m')\n",
    "    printResult('d2GdndT', Simple_Solution.cy_Feldspar_Simple_Solution_calib_d2gdndt(t,p,n), 'J/K-m')\n",
    "    printResult('d2GdndP', Simple_Solution.cy_Feldspar_Simple_Solution_calib_d2gdndp(t,p,n), 'J/bar-m')\n",
    "    printResult('d3GdndT2', Simple_Solution.cy_Feldspar_Simple_Solution_calib_d3gdndt2(t,p,n), 'J/K^2-m')\n",
    "    printResult('d3GdndTdP', Simple_Solution.cy_Feldspar_Simple_Solution_calib_d3gdndtdp(t,p,n), 'J/K-bar-m')\n",
    "    printResult('d3GdndP2', Simple_Solution.cy_Feldspar_Simple_Solution_calib_d3gdndp2(t,p,n), 'J/bar^2-m')\n",
    "    printResult('d4GdndT3', Simple_Solution.cy_Feldspar_Simple_Solution_calib_d4gdndt3(t,p,n), 'J/K^3-m')\n",
    "    printResult('d4GdndT2dP', Simple_Solution.cy_Feldspar_Simple_Solution_calib_d4gdndt2dp(t,p,n), 'J/K^2-bar-m')\n",
    "    printResult('d4GdndTdP2', Simple_Solution.cy_Feldspar_Simple_Solution_calib_d4gdndtdp2(t,p,n), 'J/K-bar^2-m')\n",
    "    printResult('d4GdndP3', Simple_Solution.cy_Feldspar_Simple_Solution_calib_d4gdndp3(t,p,n), 'J/bar^3-m')\n",
    "except AttributeError:\n",
    "    pass    "
   ]
  },
  {
   "cell_type": "markdown",
   "metadata": {},
   "source": [
    "#### The Hessian matrix (molar second derivative matrix) is stored as a compact linear array\n",
    "A function is provided to map matrix indices to compact storage 1-D array indices"
   ]
  },
  {
   "cell_type": "code",
   "execution_count": null,
   "metadata": {},
   "outputs": [],
   "source": [
    "for i in range(1,c+1):\n",
    "    print (\"[ \", end=' ')\n",
    "    for j in range (1,c+1):\n",
    "        print ((i,j), end=' ')\n",
    "    print (']     [', end=' ')\n",
    "    for j in range (1,c+1):\n",
    "        print (model.symmetric_index_from_2d_array(elm=(i,j)), end=' ')\n",
    "    print (']')"
   ]
  },
  {
   "cell_type": "code",
   "execution_count": null,
   "metadata": {},
   "outputs": [],
   "source": [
    "def printResult(name, result, units):\n",
    "    print (\"{0:<10.10s}\".format(name), end=' ')\n",
    "    [print (\"{0:13.6e}\".format(x), end=' ') for x in result]\n",
    "    print (\"{0:<10.10s}\".format(units))\n",
    "def printLabels(n):\n",
    "    print (\"{0:<18.18s}\".format(''), end=' ')\n",
    "    maxIdx = int(len(n)*(len(n)-1)/2 + len(n))\n",
    "    [print (\"[{0:3d}]{1:<8.8s}\".format(idx, ''), end=' ') for idx in range(maxIdx)]\n",
    "    print ()\n",
    "printLabels(n)\n",
    "try:\n",
    "    printResult('d2Gdn2', Simple_Solution.cy_Feldspar_Simple_Solution_d2gdn2(t,p,n), 'J/m^2')\n",
    "    printResult('d3Gdn2dT', Simple_Solution.cy_Feldspar_Simple_Solution_d3gdn2dt(t,p,n), 'J/K-m^2')\n",
    "    printResult('d3Gdn2dP', Simple_Solution.cy_Feldspar_Simple_Solution_d3gdn2dp(t,p,n), 'J/bar-m^2')\n",
    "    printResult('d4Gdn2dT2', Simple_Solution.cy_Feldspar_Simple_Solution_d4gdn2dt2(t,p,n), 'J/K^2-m^2')\n",
    "    printResult('d4Gdn2dTdP', Simple_Solution.cy_Feldspar_Simple_Solution_d4gdn2dtdp(t,p,n), 'J/K-bar-m^2')\n",
    "    printResult('d4Gdn2dP2', Simple_Solution.cy_Feldspar_Simple_Solution_d4gdn2dp2(t,p,n), 'J/bar^2-m^2')\n",
    "    printResult('d5Gdn2dT3', Simple_Solution.cy_Feldspar_Simple_Solution_d5gdn2dt3(t,p,n), 'J/K^3-m^2')\n",
    "    printResult('d5Gdn2dT2dP', Simple_Solution.cy_Feldspar_Simple_Solution_d5gdn2dt2dp(t,p,n), 'J/K^2-bar-m^2')\n",
    "    printResult('d5Gdn2dTdP2', Simple_Solution.cy_Feldspar_Simple_Solution_d5gdn2dtdp2(t,p,n), 'J/K-bar^2-m^2')\n",
    "    printResult('d5Gdn2dP3', Simple_Solution.cy_Feldspar_Simple_Solution_d5gdn2dp3(t,p,n), 'J/bar^3-m^2')\n",
    "except AttributeError:\n",
    "    pass\n",
    "try:\n",
    "    printResult('d2Gdn2', Simple_Solution.cy_Feldspar_Simple_Solution_calib_d2gdn2(t,p,n), 'J/m^2')\n",
    "    printResult('d3Gdn2dT', Simple_Solution.cy_Feldspar_Simple_Solution_calib_d3gdn2dt(t,p,n), 'J/K-m^2')\n",
    "    printResult('d3Gdn2dP', Simple_Solution.cy_Feldspar_Simple_Solution_calib_d3gdn2dp(t,p,n), 'J/bar-m^2')\n",
    "    printResult('d4Gdn2dT2', Simple_Solution.cy_Feldspar_Simple_Solution_calib_d4gdn2dt2(t,p,n), 'J/K^2-m^2')\n",
    "    printResult('d4Gdn2dTdP', Simple_Solution.cy_Feldspar_Simple_Solution_calib_d4gdn2dtdp(t,p,n), 'J/K-bar-m^2')\n",
    "    printResult('d4Gdn2dP2', Simple_Solution.cy_Feldspar_Simple_Solution_calib_d4gdn2dp2(t,p,n), 'J/bar^2-m^2')\n",
    "    printResult('d5Gdn2dT3', Simple_Solution.cy_Feldspar_Simple_Solution_calib_d5gdn2dt3(t,p,n), 'J/K^3-m^2')\n",
    "    printResult('d5Gdn2dT2dP', Simple_Solution.cy_Feldspar_Simple_Solution_calib_d5gdn2dt2dp(t,p,n), 'J/K^2-bar-m^2')\n",
    "    printResult('d5Gdn2dTdP2', Simple_Solution.cy_Feldspar_Simple_Solution_calib_d5gdn2dtdp2(t,p,n), 'J/K-bar^2-m^2')\n",
    "    printResult('d5Gdn2dP3', Simple_Solution.cy_Feldspar_Simple_Solution_calib_d5gdn2dp3(t,p,n), 'J/bar^3-m^2')\n",
    "except AttributeError:\n",
    "    pass"
   ]
  },
  {
   "cell_type": "markdown",
   "metadata": {},
   "source": [
    "#### The 3-D Tensor (molar third derivative tensor) is stored as a compact linear array\n",
    "A function is provided to map matrix indices to compact storage 1-D array indices:  \n",
    "If $n_c$ represents the number of components in the solution, and  \n",
    "if $n_d$ represents the dimensionality of molar derivative (in this case 3), then  \n",
    "the number of numerically ordered permutations of $n_c$ molar derivatives taken $n_d$ at a time is:"
   ]
  },
  {
   "cell_type": "code",
   "execution_count": null,
   "metadata": {},
   "outputs": [],
   "source": [
    "n_c,n_d = sym.symbols('n_c n_d')\n",
    "q = sym.factorial(n_c+n_d-1)/sym.factorial(n_d)/sym.factorial(n_c-1)\n",
    "q"
   ]
  },
  {
   "cell_type": "markdown",
   "metadata": {},
   "source": [
    "Substituting $n_d$ equal to 3 and simplifying gives:"
   ]
  },
  {
   "cell_type": "code",
   "execution_count": null,
   "metadata": {},
   "outputs": [],
   "source": [
    "q = sym.simplify(q.subs(n_d,3))\n",
    "q"
   ]
  },
  {
   "cell_type": "markdown",
   "metadata": {},
   "source": [
    "and, for the number of components in this solution, there will be the following number of unique terms in the third derivative tensor:"
   ]
  },
  {
   "cell_type": "code",
   "execution_count": null,
   "metadata": {},
   "outputs": [],
   "source": [
    "q.subs(n_c,c)"
   ]
  },
  {
   "cell_type": "markdown",
   "metadata": {},
   "source": [
    "A function is provided to map matrix indices to compact storage 1-D array indices"
   ]
  },
  {
   "cell_type": "code",
   "execution_count": null,
   "metadata": {},
   "outputs": [],
   "source": [
    "for i in range(1,c+1):\n",
    "    for j in range (1,c+1):\n",
    "        print (\"[\", end=' ')\n",
    "        for k in range (1,c+1):\n",
    "            print (\"{0:1d}{1:1d}{2:1d}\".format(i,j,k), end=' ')\n",
    "        print ('] ', end=' ')\n",
    "    print ('  ->  ', end=' ')\n",
    "    for j in range (1,c+1):\n",
    "        print (\"[\", end=' ')\n",
    "        for k in range (1,c+1):\n",
    "            print (model.symmetric_index_from_3d_array(elm=(i,j,k)), end=' ')\n",
    "        print ('] ', end=' ')\n",
    "    print ('')"
   ]
  },
  {
   "cell_type": "code",
   "execution_count": null,
   "metadata": {},
   "outputs": [],
   "source": [
    "def printResult(name, result, units):\n",
    "    print (\"{0:<10.10s}\".format(name), end=' ')\n",
    "    [print (\"{0:10.3e}\".format(x), end=' ') for x in result]\n",
    "    print (\"{0:<14.14s}\".format(units))\n",
    "def printLabels(n):\n",
    "    print (\"{0:<15.15s}\".format(''), end=' ')\n",
    "    maxIdx = int(len(n)*(len(n)+1)*(len(n)+2)/6)\n",
    "    [print (\"[{0:3d}]{1:<5.5s}\".format(idx, ''), end=' ') for idx in range(maxIdx)]\n",
    "    print ()\n",
    "printLabels(n)\n",
    "try:\n",
    "    printResult('d3Gdn3', Simple_Solution.cy_Feldspar_Simple_Solution_d3gdn3(t,p,n), 'J/m^3')\n",
    "    printResult('d4Gdn3dT', Simple_Solution.cy_Feldspar_Simple_Solution_d4gdn3dt(t,p,n), 'J/K-m^3')\n",
    "    printResult('d4Gdn3dP', Simple_Solution.cy_Feldspar_Simple_Solution_d4gdn3dp(t,p,n), 'J/bar-m^3')\n",
    "    printResult('d5Gdn3dT2', Simple_Solution.cy_Feldspar_Simple_Solution_d5gdn3dt2(t,p,n), 'J/K^2-m^3')\n",
    "    printResult('d5Gdn3dTdP', Simple_Solution.cy_Feldspar_Simple_Solution_d5gdn3dtdp(t,p,n), 'J/K-bar-m^3')\n",
    "    printResult('d5Gdn3dP2', Simple_Solution.cy_Feldspar_Simple_Solution_d5gdn3dp2(t,p,n), 'J/bar^2-m^3')\n",
    "    printResult('d6Gdn3dT3', Simple_Solution.cy_Feldspar_Simple_Solution_d6gdn3dt3(t,p,n), 'J/K^3-m^3')\n",
    "    printResult('d6Gdn3dT2dP', Simple_Solution.cy_Feldspar_Simple_Solution_d6gdn3dt2dp(t,p,n), 'J/K^2-bar-m^3')\n",
    "    printResult('d6Gdn3dTdP2', Simple_Solution.cy_Feldspar_Simple_Solution_d6gdn3dtdp2(t,p,n), 'J/K-bar^2-m^3')\n",
    "    printResult('d6Gdn3dP3', Simple_Solution.cy_Feldspar_Simple_Solution_d6gdn3dp3(t,p,n), 'J/bar^3-m^3')\n",
    "except AttributeError:\n",
    "    pass\n",
    "try:\n",
    "    printResult('d3Gdn3', Simple_Solution.cy_Feldspar_Simple_Solution_calib_d3gdn3(t,p,n), 'J/m^3')\n",
    "    printResult('d4Gdn3dT', Simple_Solution.cy_Feldspar_Simple_Solution_calib_d4gdn3dt(t,p,n), 'J/K-m^3')\n",
    "    printResult('d4Gdn3dP', Simple_Solution.cy_Feldspar_Simple_Solution_calib_d4gdn3dp(t,p,n), 'J/bar-m^3')\n",
    "    printResult('d5Gdn3dT2', Simple_Solution.cy_Feldspar_Simple_Solution_calib_d5gdn3dt2(t,p,n), 'J/K^2-m^3')\n",
    "    printResult('d5Gdn3dTdP', Simple_Solution.cy_Feldspar_Simple_Solution_calib_d5gdn3dtdp(t,p,n), 'J/K-bar-m^3')\n",
    "    printResult('d5Gdn3dP2', Simple_Solution.cy_Feldspar_Simple_Solution_calib_d5gdn3dp2(t,p,n), 'J/bar^2-m^3')\n",
    "    printResult('d6Gdn3dT3', Simple_Solution.cy_Feldspar_Simple_Solution_calib_d6gdn3dt3(t,p,n), 'J/K^3-m^3')\n",
    "    printResult('d6Gdn3dT2dP', Simple_Solution.cy_Feldspar_Simple_Solution_calib_d6gdn3dt2dp(t,p,n), 'J/K^2-bar-m^3')\n",
    "    printResult('d6Gdn3dTdP2', Simple_Solution.cy_Feldspar_Simple_Solution_calib_d6gdn3dtdp2(t,p,n), 'J/K-bar^2-m^3')\n",
    "    printResult('d6Gdn3dP3', Simple_Solution.cy_Feldspar_Simple_Solution_calib_d6gdn3dp3(t,p,n), 'J/bar^3-m^3')\n",
    "except AttributeError:\n",
    "    pass"
   ]
  },
  {
   "cell_type": "markdown",
   "metadata": {},
   "source": [
    "## Test and time the generated functions for Feldspar"
   ]
  },
  {
   "cell_type": "markdown",
   "metadata": {},
   "source": [
    "Time the code"
   ]
  },
  {
   "cell_type": "code",
   "execution_count": null,
   "metadata": {},
   "outputs": [],
   "source": [
    "try:\n",
    "    %timeit Simple_Solution.cy_Feldspar_Simple_Solution_g(t, p, n)\n",
    "except AttributeError:\n",
    "    pass\n",
    "try:\n",
    "    %timeit Simple_Solution.cy_Feldspar_Simple_Solution_calib_g(t, p, n) \n",
    "except AttributeError:\n",
    "    pass"
   ]
  },
  {
   "cell_type": "markdown",
   "metadata": {},
   "source": [
    "Time the Rubicon wrapped Objective-C code"
   ]
  },
  {
   "cell_type": "code",
   "execution_count": null,
   "metadata": {},
   "outputs": [],
   "source": [
    "from thermoengine import model as stdmodel\n",
    "modelDB = stdmodel.Database()\n",
    "FeldsparHC = modelDB.get_phase('Fsp')"
   ]
  },
  {
   "cell_type": "code",
   "execution_count": null,
   "metadata": {},
   "outputs": [],
   "source": [
    "%timeit FeldsparHC.gibbs_energy(t,p,mol=n) "
   ]
  },
  {
   "cell_type": "markdown",
   "metadata": {},
   "source": [
    "## Methods available only in the \"Calib\" versions of generated code\n",
    "### Execute the parameter value/metadata functions.  \n",
    "These functions are only defined for the \"calibration\" model code implementation:"
   ]
  },
  {
   "cell_type": "code",
   "execution_count": null,
   "metadata": {},
   "outputs": [],
   "source": [
    "nparam = 0"
   ]
  },
  {
   "cell_type": "code",
   "execution_count": null,
   "metadata": {},
   "outputs": [],
   "source": [
    "try:\n",
    "    nparam = Simple_Solution.cy_Feldspar_Simple_Solution_get_param_number()\n",
    "    names = Simple_Solution.cy_Feldspar_Simple_Solution_get_param_names()\n",
    "    units = Simple_Solution.cy_Feldspar_Simple_Solution_get_param_units()\n",
    "    values = Simple_Solution.cy_Feldspar_Simple_Solution_get_param_values()\n",
    "    fmt = \"{0:<10.10s} {1:13.6e} {2:13.6e} {3:<10.10s}\"\n",
    "    for i in range(0,nparam):\n",
    "        print(fmt.format(names[i], values[i], Simple_Solution.cy_Feldspar_Simple_Solution_get_param_value(i), units[i]))\n",
    "except AttributeError:\n",
    "    pass"
   ]
  },
  {
   "cell_type": "markdown",
   "metadata": {},
   "source": [
    "### Functions that allow modification of the array of parameter values"
   ]
  },
  {
   "cell_type": "code",
   "execution_count": null,
   "metadata": {},
   "outputs": [],
   "source": [
    "try:\n",
    "    values[1] = 100.0\n",
    "    Simple_Solution.cy_Feldspar_Simple_Solution_set_param_values(values)\n",
    "    fmt = \"{0:<10.10s} {1:13.6e} {2:13.6e} {3:<10.10s}\"\n",
    "    for i in range(0,nparam):\n",
    "        print(fmt.format(names[i], values[i], Simple_Solution.cy_Feldspar_Simple_Solution_get_param_value(i), units[i]))\n",
    "except (AttributeError, NameError):\n",
    "    pass"
   ]
  },
  {
   "cell_type": "markdown",
   "metadata": {},
   "source": [
    "### Functions that allow modification of a particular parameter value"
   ]
  },
  {
   "cell_type": "code",
   "execution_count": null,
   "metadata": {},
   "outputs": [],
   "source": [
    "try:\n",
    "    Simple_Solution.cy_Feldspar_Simple_Solution_set_param_value(1, 1.0)\n",
    "    fmt = \"{0:<10.10s} {1:13.6e} {2:13.6e} {3:<10.10s}\"\n",
    "    for i in range(0,nparam):\n",
    "        print(fmt.format(names[i], values[i], Simple_Solution.cy_Feldspar_Simple_Solution_get_param_value(i), units[i]))\n",
    "except AttributeError:\n",
    "    pass"
   ]
  },
  {
   "cell_type": "markdown",
   "metadata": {},
   "source": [
    "### Functions that evaluate parameter derivatives ..."
   ]
  },
  {
   "cell_type": "code",
   "execution_count": null,
   "metadata": {},
   "outputs": [],
   "source": [
    "try:\n",
    "    fmt = \"    {0:<10.10s} {1:13.6e}\"\n",
    "    for i in range(0, nparam):\n",
    "        print ('Derivative with respect to parameter: ', names[i], ' of')\n",
    "        print (fmt.format('G', Simple_Solution.cy_Feldspar_Simple_Solution_dparam_g(t, p, n, i)))\n",
    "        print (fmt.format('dGdT', Simple_Solution.cy_Feldspar_Simple_Solution_dparam_dgdt(t, p, n, i)))\n",
    "        print (fmt.format('dGdP', Simple_Solution.cy_Feldspar_Simple_Solution_dparam_dgdp(t, p, n, i)))\n",
    "        print (fmt.format('d2GdT2', Simple_Solution.cy_Feldspar_Simple_Solution_dparam_d2gdt2(t, p, n, i)))\n",
    "        print (fmt.format('d2GdTdP', Simple_Solution.cy_Feldspar_Simple_Solution_dparam_d2gdtdp(t, p, n, i)))\n",
    "        print (fmt.format('d2GdP2', Simple_Solution.cy_Feldspar_Simple_Solution_dparam_d2gdp2(t, p, n, i)))\n",
    "        print (fmt.format('d3GdT3', Simple_Solution.cy_Feldspar_Simple_Solution_dparam_d3gdt3(t, p, n, i)))\n",
    "        print (fmt.format('d3GdT2dP', Simple_Solution.cy_Feldspar_Simple_Solution_dparam_d3gdt2dp(t, p, n, i)))\n",
    "        print (fmt.format('d3GdTdP2', Simple_Solution.cy_Feldspar_Simple_Solution_dparam_d3gdtdp2(t, p, n, i)))\n",
    "        print (fmt.format('d3GdP3', Simple_Solution.cy_Feldspar_Simple_Solution_dparam_d3gdp3(t, p, n, i)))\n",
    "except (AttributeError, TypeError):\n",
    "    pass"
   ]
  },
  {
   "cell_type": "markdown",
   "metadata": {},
   "source": [
    "### Parameter derivatives of the chemical potential"
   ]
  },
  {
   "cell_type": "code",
   "execution_count": null,
   "metadata": {},
   "outputs": [],
   "source": [
    "def printResult(name, result, units):\n",
    "    print (\"dmu[*]/d {0:<10.10s}\".format(name), end=' ')\n",
    "    [print (\"{0:13.6e}\".format(x), end=' ') for x in result]\n",
    "    print (\"{0:<12.12s}\".format(units))\n",
    "def printLabels(n):\n",
    "    print (\"         {0:<18.18s}\".format(''), end=' ')\n",
    "    [print (\"[{0:3d}]{1:<8.8s}\".format(idx, ''), end=' ') for idx in range(len(n))]\n",
    "    print ()\n",
    "try:\n",
    "    printLabels(n)\n",
    "    for i in range(0, nparam):\n",
    "        result = Simple_Solution.cy_Feldspar_Simple_Solution_dparam_dgdn(t,p,n, i)\n",
    "        printResult(names[i], result, 'J/m^2/p-unit')\n",
    "except AttributeError:\n",
    "    pass    "
   ]
  },
  {
   "cell_type": "markdown",
   "metadata": {},
   "source": [
    "### Execute the parameter value/metadata functions for endmembers.  \n",
    "Use the Potassium Feldspar as an example.  Alternatively, other endmembers can be accessed at:\n",
    "- Simple_Solution.cy_High_Albite_berman_(method ...)\n",
    "- Simple_Solution.cy_Anorthite_berman_(method ...)\n",
    "- Simple_Solution.cy_Potassium_Feldspar_berman_(method ...)"
   ]
  },
  {
   "cell_type": "code",
   "execution_count": null,
   "metadata": {},
   "outputs": [],
   "source": [
    "try:\n",
    "    np = Simple_Solution.cy_Potassium_Feldspar_Simple_Solution_get_param_number()\n",
    "    names = Simple_Solution.cy_Potassium_Feldspar_Simple_Solution_get_param_names()\n",
    "    units = Simple_Solution.cy_Potassium_Feldspar_Simple_Solution_get_param_units()\n",
    "    values = Simple_Solution.cy_Potassium_Feldspar_Simple_Solution_get_param_values()\n",
    "    fmt = \"{0:<10.10s} {1:13.6e} {2:13.6e} {3:<10.10s}\"\n",
    "    for i in range(0,np):\n",
    "        print(fmt.format(names[i], values[i], Simple_Solution.cy_Potassium_Feldspar_Simple_Solution_get_param_value(i), units[i]))\n",
    "except AttributeError:\n",
    "    pass"
   ]
  },
  {
   "cell_type": "markdown",
   "metadata": {},
   "source": [
    "Test the functions that allow modification of the array of parameter values"
   ]
  },
  {
   "cell_type": "code",
   "execution_count": null,
   "metadata": {},
   "outputs": [],
   "source": [
    "try:\n",
    "    values[1] = 100.0\n",
    "    Simple_Solution.cy_Potassium_Feldspar_Simple_Solution_set_param_values(values)\n",
    "    fmt = \"{0:<10.10s} {1:13.6e} {2:13.6e} {3:<10.10s}\"\n",
    "    for i in range(0,np):\n",
    "        print(fmt.format(names[i], values[i], Simple_Solution.cy_Potassium_Feldspar_Simple_Solution_get_param_value(i), units[i]))\n",
    "except (AttributeError, NameError):\n",
    "    pass"
   ]
  },
  {
   "cell_type": "markdown",
   "metadata": {},
   "source": [
    "Test the functions that allow modification of a particular parameter value"
   ]
  },
  {
   "cell_type": "code",
   "execution_count": null,
   "metadata": {},
   "outputs": [],
   "source": [
    "try:\n",
    "    Simple_Solution.cy_Potassium_Feldspar_Simple_Solution_set_param_value(1, 1.0)\n",
    "    fmt = \"{0:<10.10s} {1:13.6e} {2:13.6e} {3:<10.10s}\"\n",
    "    for i in range(0,np):\n",
    "        print(fmt.format(names[i], values[i], Simple_Solution.cy_Potassium_Feldspar_Simple_Solution_get_param_value(i), units[i]))\n",
    "except AttributeError:\n",
    "    pass"
   ]
  },
  {
   "cell_type": "markdown",
   "metadata": {},
   "source": [
    "Evaluate parameter derivatives ..."
   ]
  },
  {
   "cell_type": "code",
   "execution_count": null,
   "metadata": {},
   "outputs": [],
   "source": [
    "try:\n",
    "    fmt = \"    {0:<10.10s} {1:13.6e}\"\n",
    "    for i in range(0, np):\n",
    "        print ('Derivative with respect to parameter: ', names[i], ' of')\n",
    "        print (fmt.format('G', Simple_Solution.cy_Potassium_Feldspar_Simple_Solution_dparam_g(t, p, i)))\n",
    "        print (fmt.format('dGdT', Simple_Solution.cy_Potassium_Feldspar_Simple_Solution_dparam_dgdt(t, p, i)))\n",
    "        print (fmt.format('dGdP', Simple_Solution.cy_Potassium_Feldspar_Simple_Solution_dparam_dgdp(t, p, i)))\n",
    "        print (fmt.format('d2GdT2', Simple_Solution.cy_Potassium_Feldspar_Simple_Solution_dparam_d2gdt2(t, p, i)))\n",
    "        print (fmt.format('d2GdTdP', Simple_Solution.cy_Potassium_Feldspar_Simple_Solution_dparam_d2gdtdp(t, p, i)))\n",
    "        print (fmt.format('d2GdP2', Simple_Solution.cy_Potassium_Feldspar_Simple_Solution_dparam_d2gdp2(t, p, i)))\n",
    "        print (fmt.format('d3GdT3', Simple_Solution.cy_Potassium_Feldspar_Simple_Solution_dparam_d3gdt3(t, p, i)))\n",
    "        print (fmt.format('d3GdT2dP', Simple_Solution.cy_Potassium_Feldspar_Simple_Solution_dparam_d3gdt2dp(t, p, i)))\n",
    "        print (fmt.format('d3GdTdP2', Simple_Solution.cy_Potassium_Feldspar_Simple_Solution_dparam_d3gdtdp2(t, p, i)))\n",
    "        print (fmt.format('d3GdP3', Simple_Solution.cy_Potassium_Feldspar_Simple_Solution_dparam_d3gdp3(t, p, i)))\n",
    "except (AttributeError, TypeError):\n",
    "    pass"
   ]
  },
  {
   "cell_type": "markdown",
   "metadata": {},
   "source": [
    "### Alter an endmember thermodynamic parameter value and test to insure that alteration propagates to the solution phase\n",
    "First output the Gibbs energy of solution with default parameters ..."
   ]
  },
  {
   "cell_type": "code",
   "execution_count": null,
   "metadata": {},
   "outputs": [],
   "source": [
    "try:\n",
    "    fmt = \"{0:<10.10s} {1:13.6e} {2:<10.10s}\"\n",
    "    print(fmt.format('G', Simple_Solution.cy_Feldspar_Simple_Solution_calib_g(t,p,n), 'J'))\n",
    "except (AttributeError, TypeError):\n",
    "    pass"
   ]
  },
  {
   "cell_type": "markdown",
   "metadata": {},
   "source": [
    "Second, output the reference state enthalpy of formation of the potassium feldspar end member, then alter it by 10,000 J"
   ]
  },
  {
   "cell_type": "code",
   "execution_count": null,
   "metadata": {},
   "outputs": [],
   "source": [
    "try:\n",
    "    fmt = \"{0:<10.10s} {1:13.6e} {2:13.6e} {3:<10.10s}\"\n",
    "    names = Simple_Solution.cy_Potassium_Feldspar_Simple_Solution_get_param_names()\n",
    "    units = Simple_Solution.cy_Potassium_Feldspar_Simple_Solution_get_param_units()\n",
    "    values = Simple_Solution.cy_Potassium_Feldspar_Simple_Solution_get_param_values()\n",
    "    print(fmt.format(names[2], values[2], Simple_Solution.cy_Potassium_Feldspar_Simple_Solution_get_param_value(2), units[2]))\n",
    "    Simple_Solution.cy_Potassium_Feldspar_Simple_Solution_set_param_value(2, values[2]+10000.0)\n",
    "    print(fmt.format(names[2], values[2], Simple_Solution.cy_Potassium_Feldspar_Simple_Solution_get_param_value(2), units[2]))\n",
    "except AttributeError:\n",
    "    pass"
   ]
  },
  {
   "cell_type": "markdown",
   "metadata": {},
   "source": [
    "Finally, output the Gibbs energy of solution again to reflect the endmember parameter change"
   ]
  },
  {
   "cell_type": "code",
   "execution_count": null,
   "metadata": {},
   "outputs": [],
   "source": [
    "try:\n",
    "    fmt = \"{0:<10.10s} {1:13.6e} {2:<10.10s}\"\n",
    "    print(fmt.format('G', Simple_Solution.cy_Feldspar_Simple_Solution_calib_g(t,p,n), 'J'))\n",
    "except (AttributeError, TypeError):\n",
    "    pass"
   ]
  },
  {
   "cell_type": "code",
   "execution_count": null,
   "metadata": {},
   "outputs": [],
   "source": []
  }
 ],
 "metadata": {
  "kernelspec": {
   "display_name": "Python 3",
   "language": "python",
   "name": "python3"
  },
  "language_info": {
   "codemirror_mode": {
    "name": "ipython",
    "version": 3
   },
   "file_extension": ".py",
   "mimetype": "text/x-python",
   "name": "python",
   "nbconvert_exporter": "python",
   "pygments_lexer": "ipython3",
   "version": "3.7.6"
  }
 },
 "nbformat": 4,
 "nbformat_minor": 4
}

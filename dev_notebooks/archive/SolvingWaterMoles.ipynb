{
 "cells": [
  {
   "cell_type": "markdown",
   "metadata": {},
   "source": [
    "# Finding total mols of H$_2$O in system\n",
    "EQ3 always runs with 1 kg of solvent, i.e., H$_2$O present as unbound H$_2$O molecules. It therefore does not conserve the mass that we specify- but this is a requirement for using with the thermoengine equilibrate package. \n",
    "\n",
    "This notebook contains experiments in how to optimise this."
   ]
  },
  {
   "cell_type": "code",
   "execution_count": 11,
   "metadata": {},
   "outputs": [],
   "source": [
    "import pyQ3\n",
    "import numpy as np\n",
    "from scipy.optimize import root_scalar\n",
    "import os\n",
    "import matplotlib.pyplot as plt"
   ]
  },
  {
   "cell_type": "markdown",
   "metadata": {},
   "source": [
    "Copied (and modified) from DEWFluid_module.py:"
   ]
  },
  {
   "cell_type": "code",
   "execution_count": 3,
   "metadata": {},
   "outputs": [],
   "source": [
    "class Fluid(pyQ3.fluid.fluid):\n",
    "    def __init__(self, system, t, p, n, fO2, total_mols_h2o=55.5):\n",
    "        self.system = system\n",
    "        self.T = t\n",
    "        self.P = p\n",
    "        self.pH = 5.0\n",
    "        self.fO2 = fO2\n",
    "        self.molalities, self.k = self._calc_basis_species_molalities(n, total_mols_h2o=total_mols_h2o)\n",
    "        self.mineral_eq = {}\n",
    "        self.solid_solutions = {}\n",
    "        self.uebal = 'H+'\n",
    "        self.uacion = ''\n",
    "        self.nxmods = []\n",
    "        self.dummy_temperature = 500.0\n",
    "\n",
    "        eqpt_working_directory = 'eq_working'\n",
    "        eq3_working_directory = 'eq_working'\n",
    "        eqpt_executable_name = 'EQPT'\n",
    "        eq3_executable_name = 'EQ3'\n",
    "        input_filename = 'input'\n",
    "\n",
    "        # If O2 is being set by mineral equilibrium:\n",
    "        if 'O2(G)' in self.mineral_eq:\n",
    "            self.fO2 = None\n",
    "\n",
    "        # Create DATA0 and run EQPT\n",
    "        # Determine filename automatically\n",
    "        # if data0_filename is None and core.operatingsystem == 'Darwin':\n",
    "        data0_filename = 'DATA0'\n",
    "        # elif data0_filename is None and core.operatingsystem == 'Linux':\n",
    "        #     data0_filename = 'data0'\n",
    "        # Create the working directory if it doesn't exist:\n",
    "        if not os.path.isdir(eqpt_working_directory):\n",
    "            os.makedirs(eqpt_working_directory)\n",
    "        # Create DATA0\n",
    "        self.system.make_data0(self.T, self.P, format='pyQ3',\n",
    "                               filepath=eqpt_working_directory + '/' + data0_filename,\n",
    "                               dummy_temperature=self.dummy_temperature - 50)\n",
    "        # Run EQPT\n",
    "        pyQ3.core.run_eqpt(working_directory=eqpt_working_directory,\n",
    "                           executable_name=eqpt_executable_name)\n",
    "\n",
    "        # Create the eq3 working directory if it doesn't exist:\n",
    "        if not os.path.isdir(eq3_working_directory):\n",
    "            os.makedirs(eq3_working_directory)\n",
    "\n",
    "        # Check to see if the working directories are different:\n",
    "        if eq3_working_directory != eqpt_working_directory:\n",
    "            os.system(\"cp \" + eqpt_working_directory + '/data1 '\n",
    "                      + eq3_working_directory + '/data1')\n",
    "\n",
    "        # Create input file and run EQ3\n",
    "        self._make_input(filepath=eq3_working_directory\n",
    "                         + '/' + input_filename, format='pyQ3')\n",
    "        pyQ3.core.run_eq3(working_directory=eq3_working_directory,\n",
    "                          executable_name=eq3_executable_name)\n",
    "\n",
    "        # Collect output\n",
    "        self.eq3output = pyQ3.output.eq3output(\n",
    "            filepath=eq3_working_directory + '/output')\n",
    "        self.elemental_comp = self.eq3output.elemental_comp.set_index(\n",
    "            'element').astype('float')\n",
    "        # self.elemental_comp_ppm = dict(self.elemental_comp.ppm)\n",
    "        self.elemental_comp_molality = dict(self.elemental_comp.molality)\n",
    "        # self.pH = float(self.eq3output.electrochemistry['pH'][0])\n",
    "        self.aqueous_species = self.eq3output.aqueous_species\n",
    "        # self.fO2 = float(self.eq3output.redox['log_fO2'][0])\n",
    "        # self.mineral_saturation = self.eq3output.mineral_saturation\n",
    "\n",
    "    def _calc_basis_species_molalities(self, mols, total_mols_h2o=55.5):\n",
    "        n = np.zeros(self.system.n_elements+1)\n",
    "        n[:-1] = mols\n",
    "        x = np.linalg.solve(self.system._basis_species_matrix.T, n)\n",
    "        # EQ3 performs calculations assuming 1 kg of solvent, k will only be the correct scaling\n",
    "        # if there is no additional H2O in complexes. May have to find k by iteration.\n",
    "        k = total_mols_h2o/x[0]\n",
    "        x = x*k\n",
    "        molalities = {}\n",
    "        for i, species in zip(range(len(self.system.basis_species)),\n",
    "                              self.system.basis_species_names):\n",
    "            if species != 'H+':\n",
    "                molalities[species] = x[i]\n",
    "        return molalities, k\n",
    "\n",
    "    def _gibbs_energy(self):\n",
    "        g = 0\n",
    "        g += 55.5 * \\\n",
    "            self.system.species['H2O'].gibbs_energy(self.T, self.T)/self.k\n",
    "        for i, row in self.aqueous_species.iterrows():\n",
    "            if row.species != 'H+':\n",
    "                g += (self.system.species[row.species].gibbs_energy(self.T, self.P)\n",
    "                      + 8.314*self.T*np.log(row.activity))*row.molality/self.k\n",
    "            else:\n",
    "                g += (8.314*self.T*np.log(row.activity))*row.molality/self.k\n",
    "        return g"
   ]
  },
  {
   "cell_type": "markdown",
   "metadata": {},
   "source": [
    "Use a small demo system:"
   ]
  },
  {
   "cell_type": "code",
   "execution_count": 49,
   "metadata": {},
   "outputs": [],
   "source": [
    "elements = ['O', 'H', 'Si', 'Na', 'Cl']\n",
    "basis_species = ['H2O', 'H+', 'H4SIO4(AQ)', 'NA+', 'CL-', 'O2(G)']\n",
    "other_species = ['H6SI2O7(AQ)', 'H8SI3O10(AQ)', 'H3SIO4-', 'OH-', 'O2(AQ)', 'NACL(AQ)']"
   ]
  },
  {
   "cell_type": "code",
   "execution_count": 50,
   "metadata": {},
   "outputs": [],
   "source": [
    "system = pyQ3.System(basis_species=basis_species,\n",
    "                     other_species=other_species,\n",
    "                     elements=elements,\n",
    "                     minerals=[],\n",
    "                     gases=[],\n",
    "                     hydrated_species={},\n",
    "                     solid_solutions={})"
   ]
  },
  {
   "cell_type": "code",
   "execution_count": 86,
   "metadata": {},
   "outputs": [],
   "source": [
    "moles = np.array([0.3 + 0.04, \n",
    "                  0.6 + 0.04, \n",
    "                  0.01,\n",
    "                  0.0,\n",
    "                  0.0\n",
    "                 ])"
   ]
  },
  {
   "cell_type": "markdown",
   "metadata": {},
   "source": [
    "Run the calculation with different values of H$_2$O moles:"
   ]
  },
  {
   "cell_type": "code",
   "execution_count": 87,
   "metadata": {},
   "outputs": [],
   "source": [
    "h2o = np.linspace(55.0, 60.0, 5)\n",
    "h2o_returned = np.zeros(np.shape(h2o))\n",
    "for i in range(len(h2o)):\n",
    "    fl = Fluid(system, 723.15, 10000.0, moles, -12.0, total_mols_h2o=h2o[i])\n",
    "    h2o_returned[i] = fl.elemental_comp.molality['H']/2"
   ]
  },
  {
   "cell_type": "code",
   "execution_count": 88,
   "metadata": {},
   "outputs": [
    {
     "data": {
      "image/png": "[encoded data removed]",
      "text/plain": [
       "<Figure size 432x288 with 1 Axes>"
      ]
     },
     "metadata": {
      "needs_background": "light"
     },
     "output_type": "display_data"
    }
   ],
   "source": [
    "f, a = plt.subplots()\n",
    "a.plot(h2o, h2o_returned)\n",
    "\n",
    "a.set_xlim(a.get_xlim())\n",
    "a.set_ylim(a.get_ylim())\n",
    "a.plot(a.get_xlim(), a.get_xlim(), c='k')\n",
    "\n",
    "a.set_xlabel('Moles of H$_2$O set by calculation')\n",
    "a.set_ylabel('Moles of H$_2$O returned')\n",
    "\n",
    "plt.show()"
   ]
  },
  {
   "cell_type": "markdown",
   "metadata": {},
   "source": [
    "## Automate finding the correct value"
   ]
  },
  {
   "cell_type": "code",
   "execution_count": 62,
   "metadata": {},
   "outputs": [],
   "source": [
    "def misfit(total_mols_h2o, system, n, t, p, fO2):\n",
    "    fluid = Fluid(system, t, p, n, fO2, total_mols_h2o=total_mols_h2o)\n",
    "    calcH2O = fluid.elemental_comp.molality['H']/2\n",
    "    return calcH2O - total_mols_h2o"
   ]
  },
  {
   "cell_type": "code",
   "execution_count": 63,
   "metadata": {},
   "outputs": [
    {
     "data": {
      "text/plain": [
       "      converged: True\n",
       "           flag: 'converged'\n",
       " function_calls: 3\n",
       "     iterations: 2\n",
       "           root: 55.50888335"
      ]
     },
     "execution_count": 63,
     "metadata": {},
     "output_type": "execute_result"
    }
   ],
   "source": [
    "root_scalar(misfit, x0=55.5, x1=60.0, args=(system, moles, 723.15, 10000.0, -12.0))"
   ]
  },
  {
   "cell_type": "markdown",
   "metadata": {},
   "source": [
    "## Update custom Fluid class"
   ]
  },
  {
   "cell_type": "code",
   "execution_count": 124,
   "metadata": {},
   "outputs": [],
   "source": [
    "class Fluid(pyQ3.fluid.fluid):\n",
    "    def __init__(self, system, t, p, n, fO2):\n",
    "        self.system = system\n",
    "        self.T = t\n",
    "        self.P = p\n",
    "        self.pH = 5.0\n",
    "        self.fO2 = fO2\n",
    "        self.mineral_eq = {}\n",
    "        self.solid_solutions = {}\n",
    "        self.uebal = 'H+'\n",
    "        self.uacion = ''\n",
    "        self.nxmods = []\n",
    "        self.dummy_temperature = 500.0\n",
    "        \n",
    "        self.eqpt_working_directory = 'eq_working'\n",
    "        self.eq3_working_directory = 'eq_working'\n",
    "        self.eqpt_executable_name = 'EQPT'\n",
    "        self.eq3_executable_name = 'EQ3'\n",
    "        self.input_filename = 'input'\n",
    "\n",
    "\n",
    "        # Create DATA0 and run EQPT\n",
    "        # Determine filename automatically\n",
    "        # if data0_filename is None and core.operatingsystem == 'Darwin':\n",
    "        data0_filename = 'DATA0'\n",
    "        # elif data0_filename is None and core.operatingsystem == 'Linux':\n",
    "        #     data0_filename = 'data0'\n",
    "        # Create the working directory if it doesn't exist:\n",
    "        if not os.path.isdir(self.eqpt_working_directory):\n",
    "            os.makedirs(self.eqpt_working_directory)\n",
    "        # Create DATA0\n",
    "        self.system.make_data0(self.T, self.P, format='pyQ3',\n",
    "                               filepath=self.eqpt_working_directory + '/' + data0_filename,\n",
    "                               dummy_temperature=self.dummy_temperature - 50)\n",
    "        # Run EQPT\n",
    "        pyQ3.core.run_eqpt(working_directory=self.eqpt_working_directory,\n",
    "                           executable_name=self.eqpt_executable_name)\n",
    "        \n",
    "        # Create the eq3 working directory if it doesn't exist:\n",
    "        if not os.path.isdir(self.eq3_working_directory):\n",
    "            os.makedirs(self.eq3_working_directory)\n",
    "\n",
    "        # Check to see if the working directories are different:\n",
    "        if self.eq3_working_directory != self.eqpt_working_directory:\n",
    "            os.system(\"cp \" + self.eqpt_working_directory + '/data1 '\n",
    "                      + self.eq3_working_directory + '/data1')\n",
    "        \n",
    "        # EQ3 is then run during the mass conservation step.\n",
    "        \n",
    "        self._calc_basis_species_molalities(n)\n",
    "\n",
    "        # Collect output (already started in mass balance step)\n",
    "        # self.elemental_comp_ppm = dict(self.elemental_comp.ppm)\n",
    "        self.elemental_comp_molality = dict(self.elemental_comp.molality)\n",
    "        self.aqueous_species = self.eq3output.aqueous_species\n",
    "\n",
    "\n",
    "    def _calc_basis_species_molalities(self, mols):\n",
    "        # Don't need to store result as the calculation has already been performed.\n",
    "        result = root_scalar(self._mass_misfit, x0=110, x1= 120, args=(mols))\n",
    "        if result.converged is False:\n",
    "            raise pyQ3.core.Error(\"Something went wrong in mass conservation.\")\n",
    "        \n",
    "    def _gibbs_energy(self):\n",
    "        g = 0\n",
    "        g += 55.5 * \\\n",
    "            self.system.species['H2O'].gibbs_energy(self.T, self.T)/self.k\n",
    "        for i, row in self.aqueous_species.iterrows():\n",
    "            if row.species != 'H+':\n",
    "                g += (self.system.species[row.species].gibbs_energy(self.T, self.P)\n",
    "                      + 8.314*self.T*np.log(row.activity))*row.molality/self.k\n",
    "            else:\n",
    "                g += (8.314*self.T*np.log(row.activity))*row.molality/self.k\n",
    "        return g\n",
    "    \n",
    "    def _element_projection(self, mols, total_mols_h):\n",
    "        n = np.zeros(self.system.n_elements+1)\n",
    "        n[:-1] = mols\n",
    "        x = np.linalg.solve(self.system._basis_species_matrix.T, n)\n",
    "        # x[0] is H2O\n",
    "        k = total_mols_h/x[0]*2\n",
    "        x = x*k\n",
    "        molalities = {}\n",
    "        for i, species in zip(range(len(self.system.basis_species)),\n",
    "                              self.system.basis_species_names):\n",
    "            if species not in ['H+', 'H2O', 'O2(G)'] and x[i] > 0:\n",
    "                molalities[species] = x[i]\n",
    "        return molalities, k\n",
    "    \n",
    "    def _mass_misfit(self, total_mols_h, mols):\n",
    "        self.molalities, self.k = self._element_projection(mols, total_mols_h)\n",
    "        \n",
    "        # Create input file and run EQ3\n",
    "        self._make_input(filepath=self.eq3_working_directory\n",
    "                         + '/' + self.input_filename, format='pyQ3')\n",
    "        pyQ3.core.run_eq3(working_directory=self.eq3_working_directory,\n",
    "                          executable_name=self.eq3_executable_name)\n",
    "        \n",
    "        # Collect output\n",
    "        self.eq3output = pyQ3.output.eq3output(\n",
    "            filepath=self.eq3_working_directory + '/output')\n",
    "        self.elemental_comp = self.eq3output.elemental_comp.set_index(\n",
    "            'element').astype('float')\n",
    "                \n",
    "        calc_h = self.elemental_comp.molality['H']\n",
    "        return calc_h - total_mols_h\n",
    "        "
   ]
  },
  {
   "cell_type": "code",
   "execution_count": 125,
   "metadata": {},
   "outputs": [],
   "source": [
    "fl = Fluid(system, 723.15, 10000.0, moles, -12.0)"
   ]
  },
  {
   "cell_type": "code",
   "execution_count": 126,
   "metadata": {},
   "outputs": [
    {
     "data": {
      "text/plain": [
       "{'H4SIO4(AQ)': 6.938620194458031}"
      ]
     },
     "execution_count": 126,
     "metadata": {},
     "output_type": "execute_result"
    }
   ],
   "source": [
    "fl.molalities"
   ]
  },
  {
   "cell_type": "code",
   "execution_count": null,
   "metadata": {},
   "outputs": [],
   "source": []
  }
 ],
 "metadata": {
  "kernelspec": {
   "display_name": "Python 3 (ipykernel)",
   "language": "python",
   "name": "python3"
  },
  "language_info": {
   "codemirror_mode": {
    "name": "ipython",
    "version": 3
   },
   "file_extension": ".py",
   "mimetype": "text/x-python",
   "name": "python",
   "nbconvert_exporter": "python",
   "pygments_lexer": "ipython3",
   "version": "3.7.12"
  }
 },
 "nbformat": 4,
 "nbformat_minor": 4
}

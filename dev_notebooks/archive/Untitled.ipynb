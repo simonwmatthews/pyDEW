{
 "cells": [
  {
   "cell_type": "code",
   "execution_count": 1,
   "metadata": {},
   "outputs": [
    {
     "name": "stderr",
     "output_type": "stream",
     "text": [
      "/Users/simonmatthews/opt/anaconda3/lib/python3.7/site-packages/sympy/external/importtools.py:158: DeprecationWarning: distutils Version classes are deprecated. Use packaging.version instead.\n",
      "  if LooseVersion(modversion) < LooseVersion(min_module_version):\n",
      "/Users/simonmatthews/opt/anaconda3/lib/python3.7/site-packages/openpyxl/compat/numbers.py:41: DeprecationWarning: `np.float` is a deprecated alias for the builtin `float`. To silence this warning, use `float` by itself. Doing this will not modify any behavior and is safe. If you specifically wanted the numpy scalar type, use `np.float64` here.\n",
      "Deprecated in NumPy 1.20; for more details and guidance: https://numpy.org/devdocs/release/1.20.0-notes.html#deprecations\n",
      "  numpy.float,\n"
     ]
    }
   ],
   "source": [
    "import pyQ3"
   ]
  },
  {
   "cell_type": "code",
   "execution_count": 3,
   "metadata": {},
   "outputs": [
    {
     "data": {
      "text/plain": [
       "['CH3COO-',\n",
       " 'CH3COOH(AQ)',\n",
       " 'AG+',\n",
       " 'AL+3',\n",
       " 'AL(OH)4-',\n",
       " 'AL(OH)SI(OH)-',\n",
       " 'AU+',\n",
       " 'BA+2',\n",
       " 'CA(HCO3)+',\n",
       " 'CA(HCOO)+',\n",
       " 'CA(H3SIO4)+',\n",
       " 'CA(OH)+',\n",
       " 'CA+2',\n",
       " 'CACL+',\n",
       " 'CACO3(AQ)',\n",
       " 'CASO4(AQ)',\n",
       " 'CD+2',\n",
       " 'CL-',\n",
       " 'CN-',\n",
       " 'CO(AQ)',\n",
       " 'CO2(AQ)',\n",
       " 'CO3-2',\n",
       " 'CR+2',\n",
       " 'CS+',\n",
       " 'CU+',\n",
       " 'CU+2',\n",
       " 'DIGLYCINE(AQ)',\n",
       " 'DKP(AQ)',\n",
       " 'ETHANE(AQ)',\n",
       " 'ETHANOL(AQ)',\n",
       " 'ETHYLENE(AQ)',\n",
       " 'EU+2',\n",
       " 'F-',\n",
       " 'FE(HCOO)+',\n",
       " 'FE(OH)+',\n",
       " 'FE+2',\n",
       " 'FE+3',\n",
       " 'FECL+',\n",
       " 'FECL+2',\n",
       " 'FECL2(AQ)',\n",
       " 'FECL3(AQ)',\n",
       " 'FECL4-',\n",
       " 'FE(OH)2(AQ)',\n",
       " 'HCOO-',\n",
       " 'HCOOH(AQ)',\n",
       " 'GLUTAMIC(AQ)',\n",
       " 'GLYCINE(AQ)',\n",
       " 'H+',\n",
       " 'H2(AQ)',\n",
       " 'H2CO3(AQ)',\n",
       " 'H2PO4-',\n",
       " 'H2S(AQ)',\n",
       " 'H3PO4(AQ)',\n",
       " 'AL(OH)3(AQ)',\n",
       " 'HCL(AQ)',\n",
       " 'HCO3-',\n",
       " 'FE(OH)3-',\n",
       " 'HG+2',\n",
       " 'HG2+2',\n",
       " 'HPO4-2',\n",
       " 'HS-',\n",
       " 'H3SIO4-',\n",
       " 'HSO4-',\n",
       " 'K+',\n",
       " 'KCL(AQ)',\n",
       " 'KOH(AQ)',\n",
       " 'KSO4-',\n",
       " 'METHANE(AQ)',\n",
       " 'METHANOL(AQ)',\n",
       " 'MG(HCO3)+',\n",
       " 'MG(H3SIO4)+',\n",
       " 'MG+2',\n",
       " 'MGCL+',\n",
       " 'MGCO3(AQ)',\n",
       " 'MG(OH)+',\n",
       " 'MGSIC+',\n",
       " 'MGSO4(AQ)',\n",
       " 'MN+2',\n",
       " 'N2(AQ)',\n",
       " 'NA+',\n",
       " 'NACL(AQ)',\n",
       " 'NACO3-',\n",
       " 'NAHCO3(AQ)',\n",
       " 'NAOH(AQ)',\n",
       " 'NH3(AQ)',\n",
       " 'NH4+',\n",
       " 'NO3-',\n",
       " 'O2(AQ)',\n",
       " 'OH-',\n",
       " 'PB+2',\n",
       " 'PROPANE(AQ)',\n",
       " 'CH3CH2COO-',\n",
       " 'PROPANOL(AQ)',\n",
       " 'S3-',\n",
       " 'H6SI2O7(AQ)',\n",
       " 'H8SI3O10(AQ)',\n",
       " 'H4SIO4(AQ)',\n",
       " 'SO4-2',\n",
       " 'SR+2',\n",
       " 'SRCL+',\n",
       " 'U+4',\n",
       " 'UO2+2',\n",
       " 'UREA(AQ)',\n",
       " 'ZN+2']"
      ]
     },
     "execution_count": 3,
     "metadata": {},
     "output_type": "execute_result"
    }
   ],
   "source": [
    "pyQ3.defaultsystem.other_species_names"
   ]
  },
  {
   "cell_type": "code",
   "execution_count": null,
   "metadata": {},
   "outputs": [],
   "source": []
  }
 ],
 "metadata": {
  "kernelspec": {
   "display_name": "Python 3 (ipykernel)",
   "language": "python",
   "name": "python3"
  },
  "language_info": {
   "codemirror_mode": {
    "name": "ipython",
    "version": 3
   },
   "file_extension": ".py",
   "mimetype": "text/x-python",
   "name": "python",
   "nbconvert_exporter": "python",
   "pygments_lexer": "ipython3",
   "version": "3.7.12"
  }
 },
 "nbformat": 4,
 "nbformat_minor": 4
}

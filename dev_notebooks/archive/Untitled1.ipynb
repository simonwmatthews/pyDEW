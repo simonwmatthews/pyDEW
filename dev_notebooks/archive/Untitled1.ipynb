{
 "cells": [
  {
   "cell_type": "code",
   "execution_count": 1,
   "id": "f14744ea-1594-4fff-97ff-b907f17bb57c",
   "metadata": {},
   "outputs": [],
   "source": [
    "from thermoengine import aqueous"
   ]
  },
  {
   "cell_type": "code",
   "execution_count": 2,
   "id": "eb5d8f54-b1b2-494a-9006-11f4e59b6fc1",
   "metadata": {},
   "outputs": [
    {
     "data": {
      "text/plain": [
       "\u001b[0;31mDocstring:\u001b[0m\n",
       "Standard Water Integrated Model, Volume, input t (K), p (bars)\n",
       "    \n",
       "\u001b[0;31mType:\u001b[0m      builtin_function_or_method\n"
      ]
     },
     "metadata": {},
     "output_type": "display_data"
    }
   ],
   "source": [
    "aqueous.cy_SWIM_aqueous_v?"
   ]
  },
  {
   "cell_type": "code",
   "execution_count": 5,
   "id": "24e8d7f8-6ef7-4886-9470-d60ff29b30ef",
   "metadata": {},
   "outputs": [
    {
     "data": {
      "text/plain": [
       "'/Users/simonmatthews/opt/anaconda3/lib/python3.7/site-packages/thermoengine/aqueous.cpython-37m-darwin.so'"
      ]
     },
     "execution_count": 5,
     "metadata": {},
     "output_type": "execute_result"
    }
   ],
   "source": [
    "aqueous.__file__"
   ]
  },
  {
   "cell_type": "code",
   "execution_count": 3,
   "id": "bef09cf5-61a0-46a1-84d5-03d7f56a22c2",
   "metadata": {},
   "outputs": [
    {
     "data": {
      "text/plain": [
       "<CDLL '/usr/local/lib/libphaseobjc.dylib', handle 7f97439a71d0 at 0x7f973e7dcad0>"
      ]
     },
     "execution_count": 3,
     "metadata": {},
     "output_type": "execute_result"
    }
   ],
   "source": [
    "from ctypes import cdll\n",
    "from ctypes import util\n",
    "from rubicon.objc import ObjCClass, objc_method\n",
    "cdll.LoadLibrary(util.find_library('phaseobjc'))"
   ]
  },
  {
   "cell_type": "code",
   "execution_count": 4,
   "id": "326c10cb-db35-4402-bf90-369c61ff66d4",
   "metadata": {},
   "outputs": [],
   "source": [
    "DuanAndZhangCO2 = ObjCClass('DuanCO2')\n",
    "objCO2 = DuanAndZhangCO2.alloc().init()"
   ]
  },
  {
   "cell_type": "code",
   "execution_count": null,
   "id": "3a610040-4b80-487e-983f-1253615c3d28",
   "metadata": {},
   "outputs": [],
   "source": [
    "objCO2."
   ]
  }
 ],
 "metadata": {
  "kernelspec": {
   "display_name": "Python 3 (ipykernel)",
   "language": "python",
   "name": "python3"
  },
  "language_info": {
   "codemirror_mode": {
    "name": "ipython",
    "version": 3
   },
   "file_extension": ".py",
   "mimetype": "text/x-python",
   "name": "python",
   "nbconvert_exporter": "python",
   "pygments_lexer": "ipython3",
   "version": "3.7.12"
  }
 },
 "nbformat": 4,
 "nbformat_minor": 5
}

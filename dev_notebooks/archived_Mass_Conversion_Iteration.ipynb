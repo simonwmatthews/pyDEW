{
 "cells": [
  {
   "cell_type": "markdown",
   "id": "c851f651-b08f-4d6d-8303-b828d3d43039",
   "metadata": {
    "tags": []
   },
   "source": [
    "# Archive - Converting between mole components and basis species molalities\n",
    "\n",
    "## This reflects the old version using element components\n",
    "\n",
    "Equilibrate specifies compositions in terms of mole proportions of components, but EQ3 requires the composition of the system to be set in terms of molalities. A molality is the moles of a component per kg of pure H$_2$O in the fluid. Importantly, the 1 kg does not include any H$_2$O molecules in complexes. While the moles of H$_2$O in the fluid will always be constant, the presence of H$_2$O in the complexes and the presence of H$^+$, OH$^-$, and O$_2$ species mean conserving mass becomes not straightforward...\n",
    "\n",
    "To some extent we cannot get around EQ3 wanting to behave as an open system, we cannot specify both the H and O contents of the bulk fluid abitrarily. Even if the composition we give EQ3 is charge balanced, the value of fO2 will imply a particular O$_{2(aq)}$ content in the fluid. The only (or at least easiest) way I see around this is to run EQ3 calculations at specified fO2 and not mass balancing on O. Therefore mass balance has to be maintained for H (and the other components).\n",
    "\n",
    "For a simple system (H, O, Na), we can specify the system bulk composition in terms of the mole fractions:\n",
    "\n",
    "$$ n_H, n_{Na} $$\n",
    "\n",
    "Let's assume the only species that can form are: H$_2$O, H$^+$, OH$^-$, O$_{2(aq)}$, and Na$^+$. Then mass balance on H is achieved by:\n",
    "\n",
    "$$ k n_H = 2 m_{H2O} + m_{H+} + m_{OH-} $$\n",
    "\n",
    "where $m$ donotes molality. The parameter $k$ is a constant for converting between the mass of the system implied by the moles of components and the mass of the system dictated by having 1 kg of pure H$_2$O in the fluid.\n",
    "\n",
    "Since the molalities of each complex are determined by solving the set of simultaneous equations defined by their equilibrium constants (i.e., the EQ3 calculation) and are not possible to determine without numerical solution, we have to iterate to find the correct value of $k$ for the system. This constant will then determine the molalities of the other elements:\n",
    "\n",
    "$$ m_{Na} = k n_{Na} $$\n",
    "\n",
    "In this notebook I demonstrate this calculation..."
   ]
  },
  {
   "cell_type": "code",
   "execution_count": 67,
   "id": "c547985e-e253-4eff-bfde-c792202ab792",
   "metadata": {},
   "outputs": [],
   "source": [
    "import pyDEW\n",
    "import numpy as np\n",
    "from scipy.optimize import root_scalar\n",
    "import matplotlib.pyplot as plt\n",
    "from copy import copy"
   ]
  },
  {
   "cell_type": "markdown",
   "id": "2a0d64c2-8702-409e-9406-a9f2a1d7ce28",
   "metadata": {},
   "source": [
    "Set up a small demo system:"
   ]
  },
  {
   "cell_type": "code",
   "execution_count": 2,
   "id": "d95880dc-ab8d-4b1c-a311-2d71d393078a",
   "metadata": {},
   "outputs": [],
   "source": [
    "elements = ['O', 'H', 'Na']\n",
    "basis_species = ['H2O', 'H+', 'NA+', 'O2(G)']\n",
    "other_species = ['OH-', 'O2(AQ)']"
   ]
  },
  {
   "cell_type": "code",
   "execution_count": 3,
   "id": "df6f194a-aea4-4fd2-9508-26b62e198ec9",
   "metadata": {},
   "outputs": [
    {
     "name": "stderr",
     "output_type": "stream",
     "text": [
      "/Users/sm905/opt/anaconda3/lib/python3.9/site-packages/thermoengine/model.py:184: FutureWarning: The frame.append method is deprecated and will be removed from pandas in a future version. Use pandas.concat instead.\n",
      "  self._phase_info = self._phase_info.append(phs_info, ignore_index=True)\n",
      "/Users/sm905/opt/anaconda3/lib/python3.9/site-packages/thermoengine/model.py:184: FutureWarning: The frame.append method is deprecated and will be removed from pandas in a future version. Use pandas.concat instead.\n",
      "  self._phase_info = self._phase_info.append(phs_info, ignore_index=True)\n",
      "/Users/sm905/opt/anaconda3/lib/python3.9/site-packages/thermoengine/model.py:184: FutureWarning: The frame.append method is deprecated and will be removed from pandas in a future version. Use pandas.concat instead.\n",
      "  self._phase_info = self._phase_info.append(phs_info, ignore_index=True)\n",
      "/Users/sm905/opt/anaconda3/lib/python3.9/site-packages/thermoengine/model.py:184: FutureWarning: The frame.append method is deprecated and will be removed from pandas in a future version. Use pandas.concat instead.\n",
      "  self._phase_info = self._phase_info.append(phs_info, ignore_index=True)\n",
      "/Users/sm905/opt/anaconda3/lib/python3.9/site-packages/thermoengine/model.py:184: FutureWarning: The frame.append method is deprecated and will be removed from pandas in a future version. Use pandas.concat instead.\n",
      "  self._phase_info = self._phase_info.append(phs_info, ignore_index=True)\n",
      "/Users/sm905/opt/anaconda3/lib/python3.9/site-packages/thermoengine/model.py:184: FutureWarning: The frame.append method is deprecated and will be removed from pandas in a future version. Use pandas.concat instead.\n",
      "  self._phase_info = self._phase_info.append(phs_info, ignore_index=True)\n"
     ]
    }
   ],
   "source": [
    "system = pyDEW.System(basis_species=basis_species,\n",
    "                     other_species=other_species,\n",
    "                     elements=elements,\n",
    "                     minerals=[],\n",
    "                     gases=[],\n",
    "                     hydrated_species={},\n",
    "                     solid_solutions={})"
   ]
  },
  {
   "cell_type": "markdown",
   "id": "701e59cc-a882-4272-9cab-35d10382b0bc",
   "metadata": {},
   "source": [
    "Define a bulk composition in terms of mole components (ignoring fO2 as a default value will be used when running pyDEW):"
   ]
  },
  {
   "cell_type": "code",
   "execution_count": 4,
   "id": "7e3979d5-cc71-4d6a-8035-6a41072757a9",
   "metadata": {},
   "outputs": [],
   "source": [
    "n_H = 0.95\n",
    "n_Na = 0.05"
   ]
  },
  {
   "cell_type": "markdown",
   "id": "1f67b6e2-e4fb-4603-b608-6049925a57dc",
   "metadata": {},
   "source": [
    "Estimate a starting value of $k$:"
   ]
  },
  {
   "cell_type": "code",
   "execution_count": 5,
   "id": "ab7639af-58bc-4580-b1cb-57440e3db1b9",
   "metadata": {},
   "outputs": [
    {
     "data": {
      "text/plain": [
       "116.86038222694738"
      ]
     },
     "execution_count": 5,
     "metadata": {},
     "output_type": "execute_result"
    }
   ],
   "source": [
    "m_H2O = 55.5086815578\n",
    "\n",
    "k = 2 * m_H2O / n_H\n",
    "k"
   ]
  },
  {
   "cell_type": "markdown",
   "id": "279af013-61d4-40b0-bfe6-a88a74c59bd1",
   "metadata": {},
   "source": [
    "This implies a Na molality:"
   ]
  },
  {
   "cell_type": "code",
   "execution_count": 6,
   "id": "c857e7c1-6d34-4e25-b80a-08eec35f1972",
   "metadata": {},
   "outputs": [
    {
     "data": {
      "text/plain": [
       "5.8430191113473695"
      ]
     },
     "execution_count": 6,
     "metadata": {},
     "output_type": "execute_result"
    }
   ],
   "source": [
    "m_Na = k * n_Na\n",
    "m_Na"
   ]
  },
  {
   "cell_type": "markdown",
   "id": "f7205ad8-11e5-4298-97f4-70237892c3fa",
   "metadata": {},
   "source": [
    "Build a fluid with these initial guesses:"
   ]
  },
  {
   "cell_type": "code",
   "execution_count": 7,
   "id": "00aba2da-63f4-419f-84b9-0deb85a69586",
   "metadata": {},
   "outputs": [],
   "source": [
    "molalities = {'NA+': m_Na}\n",
    "T = 700.0 + 273.15\n",
    "P = 10000.0\n",
    "\n",
    "fluid = pyDEW.Fluid(system, T, P, molalities=molalities)"
   ]
  },
  {
   "cell_type": "markdown",
   "id": "ac2bd75c-8b7c-45eb-8289-ff6f6800e367",
   "metadata": {},
   "source": [
    "We can calculate a misfit from mass balance:"
   ]
  },
  {
   "cell_type": "code",
   "execution_count": 8,
   "id": "b39ff285-cc15-4c75-a552-5769aedf638c",
   "metadata": {},
   "outputs": [
    {
     "data": {
      "text/plain": [
       "-5.843019084399998"
      ]
     },
     "execution_count": 8,
     "metadata": {},
     "output_type": "execute_result"
    }
   ],
   "source": [
    "misfit_H = k * n_H - fluid.elemental_comp_molality['H']\n",
    "misfit_H"
   ]
  },
  {
   "cell_type": "code",
   "execution_count": 9,
   "id": "52ab0e94-24b4-49d2-9a11-14c7b78ee976",
   "metadata": {},
   "outputs": [
    {
     "data": {
      "text/plain": [
       "105.17434411560001"
      ]
     },
     "execution_count": 9,
     "metadata": {},
     "output_type": "execute_result"
    }
   ],
   "source": [
    "misfit_NA = k * n_H - fluid.elemental_comp_molality['NA']\n",
    "misfit_NA"
   ]
  },
  {
   "cell_type": "markdown",
   "id": "f7a5112d-b83e-4944-a552-55e6382430f2",
   "metadata": {},
   "source": [
    "Now we can calculate a new value for $k$:"
   ]
  },
  {
   "cell_type": "code",
   "execution_count": 10,
   "id": "a95c2021-a839-474d-b962-1bb45634bf35",
   "metadata": {},
   "outputs": [
    {
     "data": {
      "text/plain": [
       "123.01092863157896"
      ]
     },
     "execution_count": 10,
     "metadata": {},
     "output_type": "execute_result"
    }
   ],
   "source": [
    "k = fluid.elemental_comp_molality['H'] / n_H\n",
    "k"
   ]
  },
  {
   "cell_type": "markdown",
   "id": "bc7337b5-6b30-45d0-afc7-a7e56c0bac97",
   "metadata": {},
   "source": [
    "## Create an iteration"
   ]
  },
  {
   "cell_type": "code",
   "execution_count": 11,
   "id": "e664987d-c00e-4e0f-bbab-b9f8fc1c8202",
   "metadata": {},
   "outputs": [],
   "source": [
    "def mass_balance_iteration(system, T, P, n_H, n_Na, fluid=None):\n",
    "    \n",
    "    # The molality of H2O:\n",
    "    m_H2O = 55.5086815578\n",
    "    \n",
    "    # If initialising a new calculation, set molalities of OH-, H+, etc to 0:\n",
    "    if fluid is None:\n",
    "        k = 2 * m_H2O / n_H\n",
    "    else:\n",
    "        k = fluid.elemental_comp_molality['H'] / n_H\n",
    "    \n",
    "    m_Na = k * n_Na\n",
    "    \n",
    "    molalities = {'NA+': m_Na}\n",
    "    fluid = pyDEW.Fluid(system, T, P, molalities=molalities)\n",
    "    \n",
    "    misfit_H = k * n_H - fluid.elemental_comp_molality['H']\n",
    "    \n",
    "    misfit_Na = k * n_Na - fluid.elemental_comp_molality['NA']\n",
    "\n",
    "    \n",
    "    return fluid, k, misfit_H, misfit_Na"
   ]
  },
  {
   "cell_type": "code",
   "execution_count": 21,
   "id": "c5745ce8-dc5b-4735-a73c-680651ecd303",
   "metadata": {},
   "outputs": [],
   "source": [
    "T = 700.0 + 273.15\n",
    "P = 10000.0\n",
    "n_H = 0.95\n",
    "n_Na = 0.05\n",
    "\n",
    "iter_k = []\n",
    "iter_misfit_Na = []\n",
    "iter_misfit_H = []\n",
    "\n",
    "iter_number = 10\n",
    "\n",
    "fluid = None\n",
    "\n",
    "for i in range(iter_number):\n",
    "    fluid, k, misfit_H, misfit_Na = mass_balance_iteration(system, T, P, n_H, n_Na, fluid)\n",
    "    iter_k.append(k)\n",
    "    iter_misfit_Na.append(misfit_Na)\n",
    "    iter_misfit_H.append(misfit_H)"
   ]
  },
  {
   "cell_type": "code",
   "execution_count": 22,
   "id": "aec1d5a6-f9b6-4463-a143-c6f55cd5d0e0",
   "metadata": {},
   "outputs": [
    {
     "data": {
      "image/png": "[encoded data removed]",
      "text/plain": [
       "<Figure size 400x800 with 3 Axes>"
      ]
     },
     "metadata": {},
     "output_type": "display_data"
    }
   ],
   "source": [
    "f, a = plt.subplots(3, 1, figsize=(4, 8), sharex='col')\n",
    "\n",
    "a[0].plot(range(iter_number), iter_k)\n",
    "a[1].plot(range(iter_number), iter_misfit_H)\n",
    "a[2].plot(range(iter_number), iter_misfit_Na)\n",
    "\n",
    "a[2].set_xlabel('Iteration')\n",
    "a[0].set_ylabel('$k$')\n",
    "a[1].set_ylabel('Misfit on H')\n",
    "a[2].set_ylabel('Misfit on Na')\n",
    "\n",
    "plt.show()"
   ]
  },
  {
   "cell_type": "code",
   "execution_count": 23,
   "id": "11799f36-ccdc-4d93-8713-49668d771bc3",
   "metadata": {},
   "outputs": [
    {
     "data": {
      "text/plain": [
       "[1.1134736954687696e-07,\n",
       " 4.315789485787036e-07,\n",
       " 6.315789491395662e-08,\n",
       " -4.2105261499614244e-08,\n",
       " -1.9999999967268423e-07,\n",
       " 1.6842105310388433e-07,\n",
       " 2.7368421129381204e-07,\n",
       " 2.7368421129381204e-07,\n",
       " 2.7368421129381204e-07,\n",
       " 2.7368421129381204e-07]"
      ]
     },
     "execution_count": 23,
     "metadata": {},
     "output_type": "execute_result"
    }
   ],
   "source": [
    "iter_misfit_Na"
   ]
  },
  {
   "cell_type": "markdown",
   "id": "9ba2d28d-c138-4789-a4ca-75edc5fc4cba",
   "metadata": {},
   "source": [
    "The remaining misfit on Na is due to rounding on the input file. At the moment 6 S.F. after the decimal point are all that EQ3 permits. It might be possible to alter the fortran code if this proves too restrictive."
   ]
  },
  {
   "cell_type": "markdown",
   "id": "b182d9f0-030e-4b1b-980f-ad8bd7afe649",
   "metadata": {},
   "source": [
    "## Compare iteration with root finding algorithm\n",
    "It might be faster to use a root finding algorithm, especially if the misfit is close to linear."
   ]
  },
  {
   "cell_type": "code",
   "execution_count": 25,
   "id": "a1288918-88e1-49a9-bc18-e26d1b661b32",
   "metadata": {},
   "outputs": [],
   "source": [
    "def misfit_H_rootfinder(k, system, T, P, n_H, n_Na):\n",
    "                        \n",
    "    m_Na = k * n_Na\n",
    "    \n",
    "    molalities = {'NA+': m_Na}\n",
    "    fluid = pyDEW.Fluid(system, T, P, molalities=molalities)\n",
    "    \n",
    "    misfit_H = k * n_H - fluid.elemental_comp_molality['H']\n",
    "    \n",
    "    return misfit_H"
   ]
  },
  {
   "cell_type": "code",
   "execution_count": 28,
   "id": "2e95a939-5ed2-42f6-99b3-55b2b132e284",
   "metadata": {},
   "outputs": [
    {
     "data": {
      "text/plain": [
       "      converged: True\n",
       "           flag: 'converged'\n",
       " function_calls: 4\n",
       "     iterations: 3\n",
       "           root: 123.3526254736842"
      ]
     },
     "execution_count": 28,
     "metadata": {},
     "output_type": "execute_result"
    }
   ],
   "source": [
    "T = 700.0 + 273.15\n",
    "P = 10000.0\n",
    "n_H = 0.95\n",
    "n_Na = 0.05\n",
    "\n",
    "m_H2O = 55.5086815578\n",
    "\n",
    "soln = root_scalar(misfit_H_rootfinder,\n",
    "                   x0 = 2 * m_H2O / n_H,\n",
    "                   x1 = 2 * m_H2O / n_H + 10,\n",
    "                   args = (system, T, P, n_H, n_Na)\n",
    "                   )\n",
    "soln"
   ]
  },
  {
   "cell_type": "markdown",
   "id": "fe03a4c7-b1d9-470d-80c3-6b12db2a6579",
   "metadata": {},
   "source": [
    "For this simple example, at least, the root finding algorithm is more efficient. It needed only 4 function calls to find the solution, as opposed to 7 by direct iteration.\n",
    "\n",
    "Check that the correct value has been found:"
   ]
  },
  {
   "cell_type": "code",
   "execution_count": 34,
   "id": "8bb1f502-24d0-43fa-bcb9-e89d1cea244d",
   "metadata": {},
   "outputs": [
    {
     "name": "stdout",
     "output_type": "stream",
     "text": [
      "Misfit H:  -2.84e-14\n",
      "Misfit Na:  2.74e-07\n"
     ]
    }
   ],
   "source": [
    "k = soln.root\n",
    "m_Na = k * n_Na\n",
    "    \n",
    "molalities = {'NA+': m_Na}\n",
    "fluid = pyDEW.Fluid(system, T, P, molalities=molalities)\n",
    "\n",
    "misfit_H = k * n_H - fluid.elemental_comp_molality['H']\n",
    "print(f\"Misfit H:  {misfit_H:.3}\")\n",
    "\n",
    "misfit_Na = k * n_Na - fluid.elemental_comp_molality['NA']\n",
    "print(f\"Misfit Na:  {misfit_Na:.3}\")"
   ]
  },
  {
   "cell_type": "markdown",
   "id": "897fef69-49f0-4463-b172-fd8e5cc21542",
   "metadata": {},
   "source": [
    "The iteration found a value of 0 for the H misfit, but I suspect this is just as good. Changing the settings on the root finder would probably give a better precision is necessary."
   ]
  },
  {
   "cell_type": "markdown",
   "id": "95fe1897-3824-4173-b261-7d91f1d36336",
   "metadata": {},
   "source": [
    "## Scale to more complex fluids\n",
    "Here I generate a preliminary version of the routine that will be added to the pyDEW module.\n",
    "\n",
    "I will still stick with a relatively simple system, but the code is intended to be agnostic of what this system is:"
   ]
  },
  {
   "cell_type": "code",
   "execution_count": 44,
   "id": "b7f38710-fe07-43e5-9bad-29b32bf43877",
   "metadata": {},
   "outputs": [],
   "source": [
    "elements = ['O', 'H', 'Si', 'Na', 'Cl', 'K']\n",
    "basis_species = ['H2O', 'H+', 'H4SIO4(AQ)', 'NA+', 'CL-', 'K+', 'O2(G)']\n",
    "other_species = ['H6SI2O7(AQ)', 'H8SI3O10(AQ)', 'H3SIO4-', 'OH-', 'O2(AQ)', 'NACL(AQ)']\n",
    "hydrated_species = pyDEW.defaultsystem.hydrated_species"
   ]
  },
  {
   "cell_type": "code",
   "execution_count": 45,
   "id": "b6e40c94-ca61-40f2-805f-67b1f661ac23",
   "metadata": {},
   "outputs": [
    {
     "name": "stderr",
     "output_type": "stream",
     "text": [
      "/Users/sm905/opt/anaconda3/lib/python3.9/site-packages/thermoengine/model.py:184: FutureWarning: The frame.append method is deprecated and will be removed from pandas in a future version. Use pandas.concat instead.\n",
      "  self._phase_info = self._phase_info.append(phs_info, ignore_index=True)\n",
      "/Users/sm905/opt/anaconda3/lib/python3.9/site-packages/thermoengine/model.py:184: FutureWarning: The frame.append method is deprecated and will be removed from pandas in a future version. Use pandas.concat instead.\n",
      "  self._phase_info = self._phase_info.append(phs_info, ignore_index=True)\n",
      "/Users/sm905/opt/anaconda3/lib/python3.9/site-packages/thermoengine/model.py:184: FutureWarning: The frame.append method is deprecated and will be removed from pandas in a future version. Use pandas.concat instead.\n",
      "  self._phase_info = self._phase_info.append(phs_info, ignore_index=True)\n",
      "/Users/sm905/opt/anaconda3/lib/python3.9/site-packages/thermoengine/model.py:184: FutureWarning: The frame.append method is deprecated and will be removed from pandas in a future version. Use pandas.concat instead.\n",
      "  self._phase_info = self._phase_info.append(phs_info, ignore_index=True)\n",
      "/Users/sm905/opt/anaconda3/lib/python3.9/site-packages/thermoengine/model.py:184: FutureWarning: The frame.append method is deprecated and will be removed from pandas in a future version. Use pandas.concat instead.\n",
      "  self._phase_info = self._phase_info.append(phs_info, ignore_index=True)\n",
      "/Users/sm905/opt/anaconda3/lib/python3.9/site-packages/thermoengine/model.py:184: FutureWarning: The frame.append method is deprecated and will be removed from pandas in a future version. Use pandas.concat instead.\n",
      "  self._phase_info = self._phase_info.append(phs_info, ignore_index=True)\n"
     ]
    }
   ],
   "source": [
    "system = pyDEW.System(basis_species=basis_species,\n",
    "                     other_species=other_species,\n",
    "                     elements=elements,\n",
    "                     minerals=[],\n",
    "                     gases=[],\n",
    "                     hydrated_species=hydrated_species,\n",
    "                     solid_solutions={})"
   ]
  },
  {
   "cell_type": "markdown",
   "id": "45a55aea-1583-412d-9931-af9687795a2f",
   "metadata": {},
   "source": [
    "Write a function to convert the mole proportions of elements to moles of basis speciesn (while treating O as an open system element)."
   ]
  },
  {
   "cell_type": "code",
   "execution_count": 80,
   "id": "df94437c-0395-44a9-b9f6-dbb682ed37b7",
   "metadata": {},
   "outputs": [],
   "source": [
    "def element_projection(system, mols):\n",
    "    \"\"\"\n",
    "    Convert mole components to moles of basis species\n",
    "    \"\"\"\n",
    "    \n",
    "    # Need to reformat the basis species matrix to:\n",
    "    # - Remove O as a component\n",
    "    # - Remove charges (charge balance not necessary if O is open system)\n",
    "    # - Remove H+ as a basis species, as all H should be mapped on to H2O\n",
    "    \n",
    "    matrix = np.zeros((np.shape(system._basis_species_matrix)[0] - 2, \n",
    "                       np.shape(system._basis_species_matrix)[1] - 2,))\n",
    "    \n",
    "    matrix[0, :] = system._basis_species_matrix[0, 1:-1]\n",
    "    matrix[1:, :] = system._basis_species_matrix[2:-1, 1:-1]\n",
    "        \n",
    "    n = np.zeros(system.n_elements-1)\n",
    "    # Ignore O:\n",
    "    n = mols[1:]\n",
    "    x = np.linalg.solve(matrix.T, n)\n",
    "    \n",
    "    return x"
   ]
  },
  {
   "cell_type": "markdown",
   "id": "6742aba3-78a6-4422-b3a2-9bfbf46117c8",
   "metadata": {},
   "source": [
    "Test that this works as intended, with a trivial example:"
   ]
  },
  {
   "cell_type": "code",
   "execution_count": 150,
   "id": "f27f494c-bb72-4894-a2b2-1168bb01c5a4",
   "metadata": {},
   "outputs": [
    {
     "data": {
      "text/plain": [
       "array([0.45 , 0.04 , 0.025, 0.025, 0.01 ])"
      ]
     },
     "execution_count": 150,
     "metadata": {},
     "output_type": "execute_result"
    }
   ],
   "source": [
    "n = np.array([np.nan,  # O\n",
    "              0.9,     # H\n",
    "              0.04,    # Si\n",
    "              0.025,     # Na\n",
    "              0.025,    # Cl\n",
    "              0.01      # K\n",
    "              ])\n",
    "\n",
    "element_projection(system, n)"
   ]
  },
  {
   "cell_type": "markdown",
   "id": "81ccfbc6-90a4-4677-9393-4390d8bde3c2",
   "metadata": {},
   "source": [
    "Write a function that takes a value of $k$ and determines misfit to hydrogen mass balance:"
   ]
  },
  {
   "cell_type": "code",
   "execution_count": 163,
   "id": "569705b2-f348-48f1-9cfb-d4e941692530",
   "metadata": {},
   "outputs": [],
   "source": [
    "def make_fluid_from_k(k, system, T, P, n, debug=False):\n",
    "    # Transform mole element components to mole basis species\n",
    "    # H2O will be the 0th element, then the basis species that are not H+ and O2(G).\n",
    "    basis_species_molality = element_projection(system, n)\n",
    "    \n",
    "    # Create an index of the basis species in the transformed composition\n",
    "    basis_species = []\n",
    "    for sp in system.basis_species_names:\n",
    "        if sp not in ['H+', 'O2(G)']:\n",
    "            basis_species.append(sp)\n",
    "    \n",
    "    molalities = {}\n",
    "    \n",
    "    for i in range(len(basis_species)):\n",
    "        if i > 0: # Exclude H2O!\n",
    "            molalities[basis_species[i]] = basis_species_molality[i] * k\n",
    "    \n",
    "    if debug is True:\n",
    "        print(f\"The molalities calculated within make_fluid_from_k: {molalities}\")\n",
    "                   \n",
    "    fluid = pyDEW.Fluid(system, T, P, molalities=molalities)\n",
    "    \n",
    "    return fluid"
   ]
  },
  {
   "cell_type": "code",
   "execution_count": 164,
   "id": "e8c1a014-778e-4a29-bf15-ef8d5e5f0d8a",
   "metadata": {},
   "outputs": [],
   "source": [
    "def H_conservation_rootfinder(k, system, T, P, n, debug=False):\n",
    "    \n",
    "    if debug is True:\n",
    "        print(f\"Value of k on entering H_conservation_rootfinder: {k}\")\n",
    "    \n",
    "    fluid = make_fluid_from_k(k, system, T, P, n, debug)\n",
    "    \n",
    "    misfit_H = k * n[1] - fluid.elemental_comp_molality['H']\n",
    "    \n",
    "    if debug is True:\n",
    "        print(f\"The H_conservation_rootfinder misfit: {misfit_H}\")\n",
    "    \n",
    "    return misfit_H"
   ]
  },
  {
   "cell_type": "markdown",
   "id": "613f7b32-6643-42b8-956f-433e2e19fb99",
   "metadata": {},
   "source": [
    "Check this function works..."
   ]
  },
  {
   "cell_type": "code",
   "execution_count": 165,
   "id": "65f13588-567d-4d00-82d5-5f595b9a1ad8",
   "metadata": {},
   "outputs": [
    {
     "name": "stdout",
     "output_type": "stream",
     "text": [
      "Value of k on entering H_conservation_rootfinder: 123.3526254736842\n",
      "The molalities calculated within make_fluid_from_k: {'H4SIO4(AQ)': 0.0, 'NA+': 6.1676312736842105, 'CL-': 0.0, 'K+': 0.0}\n",
      "The H_conservation_rootfinder misfit: -2.842170943040401e-14\n"
     ]
    },
    {
     "data": {
      "text/plain": [
       "-2.842170943040401e-14"
      ]
     },
     "execution_count": 165,
     "metadata": {},
     "output_type": "execute_result"
    }
   ],
   "source": [
    "T = 700.0 + 273.15\n",
    "P = 10000.0\n",
    "n = np.array([np.nan,  # O\n",
    "              0.95,     # H\n",
    "              0.0,    # Si\n",
    "              0.05,     # Na\n",
    "              0.0,    # Cl\n",
    "              0.0      # K\n",
    "              ])\n",
    "\n",
    "H_conservation_rootfinder(k, system, T, P, n, debug=True)"
   ]
  },
  {
   "cell_type": "markdown",
   "id": "f3302169-3e04-4d4f-a2f8-ccaf7392f6f3",
   "metadata": {},
   "source": [
    "Now try the numerical solver:"
   ]
  },
  {
   "cell_type": "code",
   "execution_count": 166,
   "id": "f5fbb51f-7a09-47f6-b22b-2be7a4f3c215",
   "metadata": {},
   "outputs": [
    {
     "data": {
      "text/plain": [
       "      converged: True\n",
       "           flag: 'converged'\n",
       " function_calls: 6\n",
       "     iterations: 5\n",
       "           root: 144.3209718888889"
      ]
     },
     "execution_count": 166,
     "metadata": {},
     "output_type": "execute_result"
    }
   ],
   "source": [
    "T = 700.0 + 273.15\n",
    "P = 10000.0\n",
    "n = np.array([np.nan,  # O\n",
    "              0.9,     # H\n",
    "              0.04,    # Si\n",
    "              0.025,     # Na\n",
    "              0.025,    # Cl\n",
    "              0.01      # K\n",
    "              ])\n",
    "\n",
    "m_H2O = 55.5086815578\n",
    "\n",
    "soln = root_scalar(H_conservation_rootfinder,\n",
    "                   x0 = 2 * m_H2O / n[system.elements.index('H')],\n",
    "                   x1 = 2 * m_H2O / n[system.elements.index('H')] + 10,\n",
    "                   args = (system, T, P, n)\n",
    "                   )\n",
    "soln"
   ]
  },
  {
   "cell_type": "markdown",
   "id": "47bd4056-5d61-4d08-972d-772fba6569b1",
   "metadata": {},
   "source": [
    "Check if this has worked:"
   ]
  },
  {
   "cell_type": "code",
   "execution_count": 167,
   "id": "d4d2214d-a60a-4f38-92a1-a81e62843fa1",
   "metadata": {},
   "outputs": [
    {
     "data": {
      "text/plain": [
       "0.0"
      ]
     },
     "execution_count": 167,
     "metadata": {},
     "output_type": "execute_result"
    }
   ],
   "source": [
    "H_conservation_rootfinder(soln.root, system, T, P, n)"
   ]
  },
  {
   "cell_type": "code",
   "execution_count": 170,
   "id": "57a75c06-0f59-4a65-9a0b-5f0ef82840e6",
   "metadata": {},
   "outputs": [
    {
     "name": "stdout",
     "output_type": "stream",
     "text": [
      "Misfit for SI:  -1.244e-07\n",
      "Misfit for NA:  2.972e-07\n",
      "Misfit for CL:  2.972e-07\n",
      "Misfit for K:  -2.811e-07\n"
     ]
    }
   ],
   "source": [
    "fluid = make_fluid_from_k(soln.root, system, T, P, n)\n",
    "\n",
    "i = 1\n",
    "for el in ['SI', 'NA', 'CL', 'K']:\n",
    "    i += 1   \n",
    "    misfit = soln.root * n[i] - fluid.elemental_comp_molality[el]\n",
    "    \n",
    "    print(f\"Misfit for {el}:  {misfit:.4}\")"
   ]
  },
  {
   "cell_type": "markdown",
   "id": "c9ff7956-de00-42c6-9b8a-5669a0e4c317",
   "metadata": {},
   "source": [
    "## Integrate this function into the Fluid class"
   ]
  },
  {
   "cell_type": "code",
   "execution_count": 207,
   "id": "014086c4-6cb0-4e57-b55f-480d8cce7095",
   "metadata": {},
   "outputs": [],
   "source": [
    "from pyDEW import core\n",
    "from pyDEW import output\n",
    "import os\n",
    "\n",
    "\n",
    "class fluid_equilibrate(pyDEW.fluid.fluid):\n",
    "    \"\"\"\n",
    "    NEED TO UPDATE THIS FOR EQUILIBRATE MODS\n",
    "    \n",
    "    A class for generating EQ3 input files and storing calculation results. When the fluid\n",
    "    is initialised:\n",
    "    - A DATA0 file will be generated at the specified P and T\n",
    "    - EQPT will be run to process DATA0\n",
    "    - An EQ3 input file will be created\n",
    "    - EQ3 will be run\n",
    "    - The output will be read in and stored.\n",
    "    Below the attributes most likely to be useful are listed.\n",
    "\n",
    "    Attributes\n",
    "    ----------\n",
    "    T : float\n",
    "        The temperature of the fluid in K\n",
    "    P : bar\n",
    "        The pressure of the fluid in bar\n",
    "    eq3output: pyDEW.output object or nonetype\n",
    "        The results of an EQ3 calculation, once calculated.\n",
    "    pH : float\n",
    "        The pH of the system (from the eq3 output)\n",
    "    fO2 : float\n",
    "        The fO2 of the system (from the eq3 output)\n",
    "    elemental_comp : pandas.DataFrame\n",
    "        The composition of the fluid in elemental abundance\n",
    "    aqueous_species : pandas.DataFrame\n",
    "        The abundance of all species in the solution\n",
    "    mineral_saturation : pandas.DataFrame\n",
    "        The saturation state of minerals included in the system.\n",
    "\n",
    "    \"\"\"\n",
    "    def __init__(self,\n",
    "                 system,\n",
    "                 T,\n",
    "                 P,\n",
    "                 n,\n",
    "                 pH=5.0,\n",
    "                 fO2=-12.6,\n",
    "                 molalities=[],\n",
    "                 mineral_eq=[],\n",
    "                 solid_solutions={},\n",
    "                 uebal='H+',\n",
    "                 uacion='',\n",
    "                 nxmods=[],\n",
    "                 max_iterations=99,\n",
    "                 eq3_working_directory =  'working',\n",
    "                 eqpt_working_directory = 'working',\n",
    "                 data0_filename = None,\n",
    "                 input_filename = 'input',\n",
    "                 eq3_executable_name = None,\n",
    "                 eqpt_executable_name = None,\n",
    "                 dummy_temperature = 300.0,\n",
    "                 aH2O_mode='unity',\n",
    "                 read_pickup=True,\n",
    "                 ):\n",
    "        \"\"\"\n",
    "        Initialises a DEW fluid object\n",
    "\n",
    "        parameters\n",
    "        ----------\n",
    "        system:   pyDEW.system object\n",
    "            The system object for the system the fluid belongs to.\n",
    "        T:  float\n",
    "            Temperature of the fluid in K.\n",
    "        P:  float\n",
    "            Pressure of the fluid in bar.\n",
    "        pH : float\n",
    "            If H+ is not obtained by charge balance (setting uebal to H+)\n",
    "            the pH may be specified. Default is 5.0, but will be ignored\n",
    "            anyway if uebal has the default value.\n",
    "        fO2 : float\n",
    "            If not setting fO2 by equilibrium, it can be set here. If the\n",
    "            system is not redox sensitive, then this can be ignored. Default\n",
    "            is -12.6 (abitrarily).\n",
    "        molalities : dict\n",
    "            Molalities of basis species present in the solution. Species names\n",
    "            should be the keys.\n",
    "        mineral_eq : dict\n",
    "            Which basis species should be controlled by mineral equilibria. Species\n",
    "            names should be the keys, mineral names should be the values if the minerals\n",
    "            are pure. If being set by a solid solution, the solid solution name, and the\n",
    "            endmember should be provided as elements in a list.\n",
    "        solid_solutions : dict\n",
    "            The composition of the mineral solid solutions. The solid solution name should\n",
    "            be the key, then another dict should be the value, with the endmember names as the\n",
    "            keys, and the mole fractions as the values.\n",
    "        uebal : str\n",
    "            The name of the basis species to be set by charge balance. Default is H+.\n",
    "        uacion : str\n",
    "            The name of the basis species to use as uacion. Default is empty.\n",
    "        nxmods : list\n",
    "            nxmods to apply to the input file. NEED TO CHECK THE FORMAT.\n",
    "        max_iterations : int , default = 99\n",
    "            The maximum iterations for EQ3 to perform. Default value is the maximum number of\n",
    "            iterations supported by EQ3 (99).\n",
    "        eq3_working_directory : str, default='working'\n",
    "            The working directory for EQ3.\n",
    "        eqpt_working_directory : str, default='working'\n",
    "            The working directory for EQPT.\n",
    "        data0_filename : str or None, default=None\n",
    "            The filename for DATA0. If running on with the linux executables, this must be 'data0',\n",
    "            for OSX it must be 'DATA0'. If set to None, pyDEW will choose the correct name based\n",
    "            on the operating system.\n",
    "        input_filename : str, default='input'\n",
    "            The filename for the EQ3 input file.\n",
    "        eq3_executable_name : str or None, default=None\n",
    "            Use to specify a particular version of EQ3 to use, otherwise (if set to None) a version\n",
    "            of EQ3 will be copied into the working directory, according to the operating system\n",
    "            in use. If specified, the EQ3 executable must be in the working directory set by\n",
    "            eq3_working_directory.\n",
    "        eqpt_executable_name : str or None, default=None\n",
    "            Use to specify a particular version of EQPT to use, otherwise (if set to None) a\n",
    "            version of EQPT will be copied into the working directory, according to the operating\n",
    "            system in use. If specified, the EQPT executable must be in the working directory\n",
    "            set by eqpt_working_directory.\n",
    "        dummy_temperature : float, default = 500.0\n",
    "            The dummy temperature (in degC) to provide DATA0 and input files. This might be useful\n",
    "            for calculations above 1000 degC. This value is just provided to the EQ3 interpolation\n",
    "            routine, and should have no influence on the calculation results.\n",
    "        aH2O_mode : string, default: 'unity'\n",
    "            Either 'molfraction' or 'unity'. If 'molfraction', the activity of water will be set to\n",
    "            the mole fraction of water. If 'unity', the activity of water will always be 1.\n",
    "        read_pickup : bool, default: True\n",
    "            The pickup is required if the Fluid will be used as a starting point for a Reaction (EQ6)\n",
    "            calculation. You might be able to speed up the runs without reading this though.\n",
    "        \"\"\"\n",
    "\n",
    "        self.system = system\n",
    "        self.T = T\n",
    "        self.P = P\n",
    "        self.n = n\n",
    "        self.pH = pH\n",
    "        self.fO2 = fO2\n",
    "        self.molalities = molalities\n",
    "        self.mineral_eq = mineral_eq\n",
    "        self.solid_solutions = solid_solutions\n",
    "        self.uebal = uebal\n",
    "        self.uacion = uacion\n",
    "        self.nxmods = nxmods\n",
    "        self.dummy_temperature = dummy_temperature\n",
    "        if max_iterations > 99:\n",
    "            raise core.InputError(\"EQ3 only supports a maximum of 99 iterations.\")\n",
    "        elif max_iterations < 0 or isinstance(max_iterations, int) is False:\n",
    "            raise core.InputError(\"Maximum iterations must be a positive integer.\")\n",
    "        self.max_iterations = max_iterations\n",
    "        self.eq3_working_directory = eq3_working_directory\n",
    "        self.eq3_executable_name = eq3_executable_name\n",
    "        self.eqpt_working_directory = eqpt_working_directory\n",
    "        self.eqpt_executable_name = eqpt_executable_name\n",
    "        self.input_filename = input_filename\n",
    "\n",
    "        if aH2O_mode not in ['unity', 'molfraction']:\n",
    "            raise core.InputError(\"aH2O mode note recognised.\")\n",
    "        self.aH2O_mode = aH2O_mode\n",
    "\n",
    "        # If O2 is being set by mineral equilibrium:\n",
    "        if 'O2(G)' in self.mineral_eq:\n",
    "            self.fO2 = None\n",
    "\n",
    "        # Create DATA0 and run EQPT\n",
    "        # Determine filename automatically\n",
    "        if data0_filename is None and core.operatingsystem == 'Darwin':\n",
    "            data0_filename = 'DATA0'\n",
    "        elif data0_filename is None and core.operatingsystem == 'Linux':\n",
    "            data0_filename = 'data0'\n",
    "        # Create the working directory if it doesn't exist:\n",
    "        if not os.path.isdir(eqpt_working_directory):\n",
    "            os.makedirs(eqpt_working_directory)\n",
    "        # Create DATA0\n",
    "        self.system.make_data0(self.T, self.P, format='pyDEW',\n",
    "                               filepath = eqpt_working_directory + '/' + data0_filename,\n",
    "                               dummy_temperature = self.dummy_temperature)\n",
    "        # Run EQPT\n",
    "        core.run_eqpt(working_directory = eqpt_working_directory,\n",
    "                      executable_name = eqpt_executable_name)\n",
    "        \n",
    "        \n",
    "        ### ADDITIONS FOR THE EQUILIBRATE FLUID ##############\n",
    "        \n",
    "        # Since the fluid will be calculated during iteration,\n",
    "        # this should be the only line required...\n",
    "        \n",
    "        self.k = self._calculate_k()\n",
    "        \n",
    "        \n",
    "        #######################################################\n",
    "\n",
    "        \n",
    "    \n",
    "    \n",
    "    def _element_projection(self):\n",
    "        \"\"\"\n",
    "        Convert mole components to moles of basis species\n",
    "        \"\"\"\n",
    "\n",
    "        # Need to reformat the basis species matrix to:\n",
    "        # - Remove O as a component\n",
    "        # - Remove charges (charge balance not necessary if O is open system)\n",
    "        # - Remove H+ as a basis species, as all H should be mapped on to H2O\n",
    "\n",
    "        matrix = np.zeros((np.shape(self.system._basis_species_matrix)[0] - 2, \n",
    "                           np.shape(self.system._basis_species_matrix)[1] - 2,))\n",
    "\n",
    "        matrix[0, :] = self.system._basis_species_matrix[0, 1:-1]\n",
    "        matrix[1:, :] = self.system._basis_species_matrix[2:-1, 1:-1]\n",
    "\n",
    "        n = np.zeros(self.system.n_elements-1)\n",
    "        # Ignore O:\n",
    "        n = self.n[1:]\n",
    "        x = np.linalg.solve(matrix.T, n)\n",
    "\n",
    "        return x\n",
    "    \n",
    "    def _make_fluid_from_k(self, k, debug=False):\n",
    "        # Transform mole element components to mole basis species\n",
    "        # H2O will be the 0th element, then the basis species that are not H+ and O2(G).\n",
    "        basis_species_molality = self._element_projection()\n",
    "\n",
    "        # Create an index of the basis species in the transformed composition\n",
    "        basis_species = []\n",
    "        for sp in self.system.basis_species_names:\n",
    "            if sp not in ['H+', 'O2(G)']:\n",
    "                basis_species.append(sp)\n",
    "\n",
    "        molalities = {}\n",
    "\n",
    "        for i in range(len(basis_species)):\n",
    "            if i > 0: # Exclude H2O!\n",
    "                molalities[basis_species[i]] = basis_species_molality[i] * k\n",
    "        \n",
    "        self.molalities = molalities\n",
    "\n",
    "        if debug is True:\n",
    "            print(f\"The molalities calculated within make_fluid_from_k: {molalities}\")\n",
    "\n",
    "        # Create the eq3 working directory if it doesn't exist:\n",
    "        if not os.path.isdir(self.eq3_working_directory):\n",
    "            os.makedirs(eq3_working_directory)\n",
    "\n",
    "        # Check to see if the working directories are different:\n",
    "        if self.eq3_working_directory != self.eqpt_working_directory:\n",
    "            os.system(\"cp \" + self.eqpt_working_directory + '/data1 ' +\n",
    "                      self.eq3_working_directory + '/data1')\n",
    "\n",
    "        # Create input file and run EQ3\n",
    "        self._make_input(filepath = self.eq3_working_directory + '/' + self.input_filename, format='pyDEW')\n",
    "        core.run_eq3(working_directory = self.eq3_working_directory,\n",
    "                     executable_name = self.eq3_executable_name)\n",
    "\n",
    "        # Collect output\n",
    "        self.eq3output = output.eq3output(filepath = self.eq3_working_directory + '/output')\n",
    "        self.elemental_comp = self.eq3output.elemental_comp.set_index('element').astype('float')\n",
    "        self.elemental_comp_ppm = dict(self.elemental_comp.ppm)\n",
    "        self.elemental_comp_molality = dict(self.elemental_comp.molality)\n",
    "        self.pH = float(self.eq3output.electrochemistry['pH'].iloc[0])\n",
    "        self.aqueous_species = self.eq3output.aqueous_species\n",
    "        self.fO2 = float(self.eq3output.redox['log_fO2'].iloc[0])\n",
    "        self.mineral_saturation = self.eq3output.mineral_saturation\n",
    "\n",
    "            \n",
    "\n",
    "    def _H_conservation_rootfinder(self, k, debug=False):\n",
    "        \n",
    "        if debug is True:\n",
    "            print(f\"Value of k on entering H_conservation_rootfinder: {k}\")\n",
    "            \n",
    "        self._make_fluid_from_k(k)\n",
    "\n",
    "        misfit_H = k * self.n[1] - self.elemental_comp_molality['H']\n",
    "\n",
    "        if debug is True:\n",
    "            print(f\"The H_conservation_rootfinder misfit: {misfit_H}\")\n",
    "\n",
    "        return misfit_H\n",
    "    \n",
    "    def _calculate_k(self):\n",
    "        \"\"\"\n",
    "        Numerically solve for k.\n",
    "        \"\"\"\n",
    "        \n",
    "        m_H2O = 55.5086815578\n",
    "\n",
    "        soln = root_scalar(self._H_conservation_rootfinder,\n",
    "                           x0 = 2 * m_H2O / self.n[self.system.elements.index('H')],\n",
    "                           x1 = 2 * m_H2O / self.n[self.system.elements.index('H')] + 10,\n",
    "                           )\n",
    "        \n",
    "        if soln.converged is True:\n",
    "            return soln.root\n",
    "        else:\n",
    "            raise core.InputError(\"Something wrong with the composition supplied, mass balance could \"\n",
    "                                  \"not be obtained.\")\n",
    "    \n",
    "    def gibbs_energy(self):\n",
    "        g = 0\n",
    "        g += 55.5086815578 * \\\n",
    "            self.system.species['H2O'].gibbs_energy(self.T, self.T)/self.k\n",
    "        for i, row in self.aqueous_species.iterrows():\n",
    "            if row.species != 'H+':\n",
    "                g += (self.system.species[row.species].gibbs_energy(self.T, self.P)\n",
    "                      + 8.314*self.T*np.log(row.activity))*row.molality/self.k\n",
    "            else:\n",
    "                g += (8.314*self.T*np.log(row.activity))*row.molality/self.k\n",
    "        return g"
   ]
  },
  {
   "cell_type": "markdown",
   "id": "233294f9-b92b-4fe6-b8f4-5d1cef390a65",
   "metadata": {},
   "source": [
    "Try running the code:"
   ]
  },
  {
   "cell_type": "code",
   "execution_count": 208,
   "id": "2d747d77-ca8f-416e-88b9-acd428e08bc6",
   "metadata": {},
   "outputs": [],
   "source": [
    "fluid = fluid_equilibrate(system, T, P, n)"
   ]
  },
  {
   "cell_type": "markdown",
   "id": "5d5cc93c-4890-4e42-aa9f-d68fe5b317bd",
   "metadata": {},
   "source": [
    "Check the results:"
   ]
  },
  {
   "cell_type": "code",
   "execution_count": 209,
   "id": "0942837d-8367-4f98-af94-3ae29443e235",
   "metadata": {},
   "outputs": [
    {
     "data": {
      "text/plain": [
       "144.3209718888889"
      ]
     },
     "execution_count": 209,
     "metadata": {},
     "output_type": "execute_result"
    }
   ],
   "source": [
    "fluid.k"
   ]
  },
  {
   "cell_type": "code",
   "execution_count": 210,
   "id": "3242f38c-1ba3-4512-9854-959b1c761973",
   "metadata": {},
   "outputs": [
    {
     "data": {
      "text/plain": [
       "0.0"
      ]
     },
     "execution_count": 210,
     "metadata": {},
     "output_type": "execute_result"
    }
   ],
   "source": [
    "fluid.k * n[1] - fluid.elemental_comp_molality['H']"
   ]
  },
  {
   "cell_type": "code",
   "execution_count": 211,
   "id": "9d4e3f94-12f7-4641-b96e-b06218a230db",
   "metadata": {},
   "outputs": [
    {
     "name": "stdout",
     "output_type": "stream",
     "text": [
      "Misfit for SI:  -1.244e-07\n",
      "Misfit for NA:  2.972e-07\n",
      "Misfit for CL:  2.972e-07\n",
      "Misfit for K:  -2.811e-07\n"
     ]
    }
   ],
   "source": [
    "i = 1\n",
    "for el in ['SI', 'NA', 'CL', 'K']:\n",
    "    i += 1   \n",
    "    misfit = fluid.k * n[i] - fluid.elemental_comp_molality[el]\n",
    "    \n",
    "    print(f\"Misfit for {el}:  {misfit:.4}\")"
   ]
  },
  {
   "cell_type": "code",
   "execution_count": 213,
   "id": "0b2d5846-d6eb-4234-9693-1386b7f57d90",
   "metadata": {},
   "outputs": [
    {
     "data": {
      "text/plain": [
       "-174561.73754147577"
      ]
     },
     "execution_count": 213,
     "metadata": {},
     "output_type": "execute_result"
    }
   ],
   "source": [
    "fluid.gibbs_energy()"
   ]
  },
  {
   "cell_type": "code",
   "execution_count": null,
   "id": "e44e99fd-15f3-44f2-952e-90c852fc3cd7",
   "metadata": {},
   "outputs": [],
   "source": []
  }
 ],
 "metadata": {
  "kernelspec": {
   "display_name": "Python 3 (ipykernel)",
   "language": "python",
   "name": "python3"
  },
  "language_info": {
   "codemirror_mode": {
    "name": "ipython",
    "version": 3
   },
   "file_extension": ".py",
   "mimetype": "text/x-python",
   "name": "python",
   "nbconvert_exporter": "python",
   "pygments_lexer": "ipython3",
   "version": "3.9.13"
  }
 },
 "nbformat": 4,
 "nbformat_minor": 5
}

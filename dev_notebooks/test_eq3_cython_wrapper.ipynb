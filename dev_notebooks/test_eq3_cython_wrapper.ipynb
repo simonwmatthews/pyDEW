{
 "cells": [
  {
   "cell_type": "markdown",
   "metadata": {},
   "source": [
    "The intention of this is to test whether I can run EQ3 by calling the main loop function wrapped in cython."
   ]
  },
  {
   "cell_type": "code",
   "execution_count": 2,
   "metadata": {},
   "outputs": [
    {
     "ename": "ImportError",
     "evalue": "dlopen(/Users/simonm/anaconda3/lib/python3.10/site-packages/eq3nr.cpython-310-darwin.so, 0x0002): symbol not found in flat namespace '_alters_'",
     "output_type": "error",
     "traceback": [
      "\u001b[0;31m---------------------------------------------------------------------------\u001b[0m",
      "\u001b[0;31mImportError\u001b[0m                               Traceback (most recent call last)",
      "Cell \u001b[0;32mIn[2], line 1\u001b[0m\n\u001b[0;32m----> 1\u001b[0m \u001b[38;5;28;01mimport\u001b[39;00m \u001b[38;5;21;01meq3nr\u001b[39;00m\n",
      "\u001b[0;31mImportError\u001b[0m: dlopen(/Users/simonm/anaconda3/lib/python3.10/site-packages/eq3nr.cpython-310-darwin.so, 0x0002): symbol not found in flat namespace '_alters_'"
     ]
    }
   ],
   "source": [
    "import eq3nr"
   ]
  },
  {
   "cell_type": "code",
   "execution_count": null,
   "metadata": {},
   "outputs": [],
   "source": []
  }
 ],
 "metadata": {
  "kernelspec": {
   "display_name": "base",
   "language": "python",
   "name": "python3"
  },
  "language_info": {
   "codemirror_mode": {
    "name": "ipython",
    "version": 3
   },
   "file_extension": ".py",
   "mimetype": "text/x-python",
   "name": "python",
   "nbconvert_exporter": "python",
   "pygments_lexer": "ipython3",
   "version": "3.10.9"
  }
 },
 "nbformat": 4,
 "nbformat_minor": 2
}

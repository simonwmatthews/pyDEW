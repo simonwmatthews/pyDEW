{
 "cells": [
  {
   "cell_type": "markdown",
   "metadata": {},
   "source": [
    "# Tutorial 1 - Creating EQ3/6 DATA0 files with pyDEW\n",
    "\n",
    "First import the required packages:"
   ]
  },
  {
   "cell_type": "code",
   "execution_count": 1,
   "metadata": {},
   "outputs": [],
   "source": [
    "import numpy as np\n",
    "import pyDEW\n",
    "from thermoengine import model"
   ]
  },
  {
   "cell_type": "markdown",
   "metadata": {},
   "source": [
    "## Create a custom DATA0 file\n",
    "One use for the code is to automatically create a customised DATA0 file for use with EQPT and EQ3 externally. This can use the full set of aqueous species, or a custom system can be specified.\n",
    "\n",
    "### Generic DATA0 file at a chosen pressure\n",
    "The DEW DATA0 files available online are for specific pressures, but pyQ3 allows DATA0 to be generated for any chosen pressure and any temperature range.\n",
    "\n",
    "First you must define the DEW system. To obtain the default species and minerals you do not need to specify anything when defining the system:"
   ]
  },
  {
   "cell_type": "code",
   "execution_count": 6,
   "metadata": {},
   "outputs": [
    {
     "name": "stderr",
     "output_type": "stream",
     "text": [
      "/opt/conda/lib/python3.9/site-packages/thermoengine/model.py:184: FutureWarning: The frame.append method is deprecated and will be removed from pandas in a future version. Use pandas.concat instead.\n",
      "  self._phase_info = self._phase_info.append(phs_info, ignore_index=True)\n",
      "/opt/conda/lib/python3.9/site-packages/thermoengine/model.py:184: FutureWarning: The frame.append method is deprecated and will be removed from pandas in a future version. Use pandas.concat instead.\n",
      "  self._phase_info = self._phase_info.append(phs_info, ignore_index=True)\n",
      "/opt/conda/lib/python3.9/site-packages/thermoengine/model.py:184: FutureWarning: The frame.append method is deprecated and will be removed from pandas in a future version. Use pandas.concat instead.\n",
      "  self._phase_info = self._phase_info.append(phs_info, ignore_index=True)\n",
      "/opt/conda/lib/python3.9/site-packages/thermoengine/model.py:184: FutureWarning: The frame.append method is deprecated and will be removed from pandas in a future version. Use pandas.concat instead.\n",
      "  self._phase_info = self._phase_info.append(phs_info, ignore_index=True)\n",
      "/opt/conda/lib/python3.9/site-packages/thermoengine/model.py:184: FutureWarning: The frame.append method is deprecated and will be removed from pandas in a future version. Use pandas.concat instead.\n",
      "  self._phase_info = self._phase_info.append(phs_info, ignore_index=True)\n",
      "/opt/conda/lib/python3.9/site-packages/thermoengine/model.py:184: FutureWarning: The frame.append method is deprecated and will be removed from pandas in a future version. Use pandas.concat instead.\n",
      "  self._phase_info = self._phase_info.append(phs_info, ignore_index=True)\n"
     ]
    }
   ],
   "source": [
    "dew_system = pyDEW.System()"
   ]
  },
  {
   "cell_type": "markdown",
   "metadata": {},
   "source": [
    "To generate the DATA0 file, you must call the create_data0() method. The temperature (in K) you supply will be the starting temperature of the file, and it will cover 350K in excess of this temperature. The pressure is constant."
   ]
  },
  {
   "cell_type": "code",
   "execution_count": 3,
   "metadata": {},
   "outputs": [],
   "source": [
    "T = 300.0 + 273.15 # in K\n",
    "P = 10000.0 # in bar\n",
    "dew_system.make_data0(T,P)"
   ]
  },
  {
   "cell_type": "markdown",
   "metadata": {},
   "source": [
    "The new DATA0 file will now be in the directory you are running the notebook in. If you are running this notebook in the cloud, open up the file directory sidebar on the left, right click on DATA0, and press download.\n",
    "\n",
    "Note that the nomenclature used for the species is not identical to that used in the published DATA0 files, but it is designed to be close. The discrepancies come from imposing a uniform format for adding the species' charges, and is required by the python module.\n",
    "\n",
    "### Create a customised DATA0 file - subsystem\n",
    "Perhaps you wish to add only a small selection of complexes, or you want to include some DEW complexes that aren't included by default. We can start by looking at which species, elements and minerals are included by default:"
   ]
  },
  {
   "cell_type": "code",
   "execution_count": 4,
   "metadata": {},
   "outputs": [
    {
     "name": "stdout",
     "output_type": "stream",
     "text": [
      "The elements included by default:\n",
      "['O', 'H', 'Ag', 'Al', 'Au', 'Ba', 'Ca', 'C', 'Si', 'Cl', 'S', 'Cd', 'N', 'Cr', 'Cs', 'Cu', 'Eu', 'F', 'Fe', 'P', 'Hg', 'K', 'Mg', 'Mn', 'Na', 'Pb', 'Sr', 'U', 'Zn']\n",
      "\n",
      "The basis species used by default:\n",
      "['H2O', 'H+', 'AG+', 'AL+3', 'AU+', 'BA+2', 'CA+2', 'CO2(AQ)', 'H4SIO4(AQ)', 'CL-', 'SO4-2', 'CD+2', 'N2(AQ)', 'CR+2', 'CS+', 'CU+', 'EU+2', 'F-', 'FE+2', 'H3PO4(AQ)', 'HG+2', 'K+', 'MG+2', 'MN+2', 'NA+', 'PB+2', 'SR+2', 'U+4', 'ZN+2', 'O2(G)']\n",
      "\n",
      "All the species included by default:\n",
      "['CH3COO-', 'CH3COOH(AQ)', 'AG+', 'AL+3', 'AL(OH)4-', 'AL(OH)SI(OH)-', 'AU+', 'BA+2', 'CA(HCO3)+', 'CA(HCOO)+', 'CA(H3SIO4)+', 'CA(OH)+', 'CA+2', 'CACL+', 'CACO3(AQ)', 'CASO4(AQ)', 'CD+2', 'CL-', 'CN-', 'CO(AQ)', 'CO2(AQ)', 'CO3-2', 'CR+2', 'CS+', 'CU+', 'CU+2', 'DIGLYCINE(AQ)', 'DKP(AQ)', 'ETHANE(AQ)', 'ETHANOL(AQ)', 'ETHYLENE(AQ)', 'EU+2', 'F-', 'FE(HCOO)+', 'FE(OH)+', 'FE+2', 'FE+3', 'FECL+', 'FECL+2', 'FECL2(AQ)', 'FECL3(AQ)', 'FECL4-', 'FE(OH)2(AQ)', 'HCOO-', 'HCOOH(AQ)', 'GLUTAMIC(AQ)', 'GLYCINE(AQ)', 'H+', 'H2(AQ)', 'H2CO3(AQ)', 'H2PO4-', 'H2S(AQ)', 'H3PO4(AQ)', 'AL(OH)3(AQ)', 'HCL(AQ)', 'HCO3-', 'FE(OH)3-', 'HG+2', 'HG2+2', 'HPO4-2', 'HS-', 'H3SIO4-', 'HSO4-', 'K+', 'KCL(AQ)', 'KOH(AQ)', 'KSO4-', 'METHANE(AQ)', 'METHANOL(AQ)', 'MG(HCO3)+', 'MG(H3SIO4)+', 'MG+2', 'MGCL+', 'MGCO3(AQ)', 'MG(OH)+', 'MGSIC+', 'MGSO4(AQ)', 'MN+2', 'N2(AQ)', 'NA+', 'NACL(AQ)', 'NACO3-', 'NAHCO3(AQ)', 'NAOH(AQ)', 'NH3(AQ)', 'NH4+', 'NO3-', 'O2(AQ)', 'OH-', 'PB+2', 'PROPANE(AQ)', 'CH3CH2COO-', 'PROPANOL(AQ)', 'S3-', 'H6SI2O7(AQ)', 'H8SI3O10(AQ)', 'H4SIO4(AQ)', 'SO4-2', 'SR+2', 'SRCL+', 'U+4', 'UO2+2', 'UREA(AQ)', 'ZN+2']\n"
     ]
    }
   ],
   "source": [
    "print(\"The elements included by default:\")\n",
    "print(pyDEW.defaultsystem.elements)\n",
    "print(\"\\nThe basis species used by default:\")\n",
    "print(pyDEW.defaultsystem.basis_species_names)\n",
    "print(\"\\nAll the species included by default:\")\n",
    "print(pyDEW.defaultsystem.other_species_names)"
   ]
  },
  {
   "cell_type": "markdown",
   "metadata": {},
   "source": [
    "We can also see which minerals are included by default:"
   ]
  },
  {
   "cell_type": "code",
   "execution_count": 5,
   "metadata": {},
   "outputs": [
    {
     "name": "stdout",
     "output_type": "stream",
     "text": [
      "['HYDROXYAPATITE', 'FLUORAPATITE', 'CHLORAPATITE', 'DIAMOND', 'MAGNETITE', 'CORUNDUM', 'HEMATITE', 'PERICLASE', 'LIME', 'SPINEL', 'BRUCITE', 'DIASPORE', 'CALCITE', 'MAGNESITE', 'SIDERITE', 'ARAGONITE', 'DOLOMITE', 'ANDALUSITE', 'KYANITE', 'SILLIMANITE', 'GLAUCOPHANE', 'LAWSONITE', 'PUMPELLYITE', 'ZOISITE', 'CLINOZOISITE', 'FORSTERITE', 'FAYALITE', 'MONTICELLITE', 'MERWINITE', 'CHRYSOTILE', 'ENSTATITE_CL', 'ENSTATITE_OR', 'ENSTATITE_PR', 'DIOPSIDE', 'HEDENBERGITE', 'JADEITE', 'CAALPYROXENE', 'FERROSILITE', 'WOLLASTONITE', 'PSEUDOWOLLA', 'TREMOLITE', 'ANTHOPHYLLITE', 'CORDIERITE', 'KFELDSPAR', 'ALBITE', 'ANORTHITE', 'GEHLENITE', 'KAOLINITE', 'ANTIGORITE', 'PYROPHYLLITE', 'TALC', 'MUSCOVITE', 'ANNITE', 'PHLOGOPITE', 'PARAGONITE', 'MARGARITE', 'PREHNITE', 'CLINOCHLORE', 'CHAMOSITE', 'PYROPE', 'ALMANDINE', 'GROSSULAR', 'MEIONITE', 'QUARTZ_ALPHA', 'QUARTZ_BETA', 'COESITE', 'IRON_ALPHA', 'IRON_GAMMA', 'GRAPHITE', 'BARITE', 'PYRRHOTITE', 'PYRITE', 'HALITE', 'SYLVITE', 'STRONTIANITE', 'ANHYDRITE', 'CELESTITE', 'CRISTO_ALPHA', 'CRISTO_BETA', 'ALUNITE', 'HERCYNITE']\n"
     ]
    }
   ],
   "source": [
    "print(pyDEW.defaultsystem.minerals)"
   ]
  },
  {
   "cell_type": "markdown",
   "metadata": {},
   "source": [
    "The solid solutions use the full mineral names:"
   ]
  },
  {
   "cell_type": "code",
   "execution_count": 6,
   "metadata": {},
   "outputs": [
    {
     "data": {
      "text/plain": [
       "{'KFELDSPAR(SS)': ['KFELDSPAR', 'ALBITE'],\n",
       " 'PLAGIOCLASE(SS)': ['ALBITE', 'ANORTHITE'],\n",
       " 'ORTHOPYROXENE(SS)': ['ENSTATITE_OR', 'FERROSILITE'],\n",
       " 'OLIVINE(SS)': ['FORSTERITE', 'FAYALITE'],\n",
       " 'BIOTITE(SS)': ['PHLOGOPITE', 'ANNITE'],\n",
       " 'GARNET(SS)': ['PYROPE', 'ALMANDINE', 'GROSSULAR'],\n",
       " 'CLINOPYROXENE(SS)': ['DIOPSIDE', 'JADEITE', 'HEDENBERGITE'],\n",
       " 'CPX_SUBCALCIC(SS)': ['DIOPSIDE', 'HEDENBERGITE', 'ENSTATITE_CL'],\n",
       " 'CA_AMPHIBOLE(SS)': ['TREMOLITE', 'FERROTREMOLITE'],\n",
       " 'CHLORITE(SS)': ['CLINOCHLORE', 'CHAMOSITE'],\n",
       " 'CALCITE(SS)': ['CALCITE', 'MAGNESITE', 'SIDERITE'],\n",
       " 'APATITE(SS)': ['HYDROXYAPATITE', 'FLUORAPATITE', 'CHLORAPATITE']}"
      ]
     },
     "execution_count": 6,
     "metadata": {},
     "output_type": "execute_result"
    }
   ],
   "source": [
    "pyDEW.defaultsystem.solid_solutions"
   ]
  },
  {
   "cell_type": "markdown",
   "metadata": {},
   "source": [
    "But let's say we are only interested in calculating the solubility of quartz. We could define the system accordingly:"
   ]
  },
  {
   "cell_type": "code",
   "execution_count": 7,
   "metadata": {},
   "outputs": [],
   "source": [
    "elements = ['O','H','Si']\n",
    "basis_species = ['H2O','H+','H4SIO4(AQ)','O2(G)']\n",
    "other_species = ['H6SI2O7(AQ)','H8SI3O10(AQ)','H3SIO4-','O2(AQ)','OH-']\n",
    "minerals = ['QUARTZ_ALPHA','QUARTZ_BETA']\n",
    "solid_solutions = {}"
   ]
  },
  {
   "cell_type": "markdown",
   "metadata": {},
   "source": [
    "Note that H2O, H+ and O2 must be included in the basis species. OH- must be included in other_species."
   ]
  },
  {
   "cell_type": "code",
   "execution_count": 8,
   "metadata": {},
   "outputs": [],
   "source": [
    "dew_system = pyDEW.System(elements = elements,\n",
    "                          basis_species = basis_species,\n",
    "                          other_species = other_species,\n",
    "                          minerals = minerals,\n",
    "                          solid_solutions = solid_solutions)"
   ]
  },
  {
   "cell_type": "code",
   "execution_count": 9,
   "metadata": {},
   "outputs": [],
   "source": [
    "T = 300.0 + 273.15 # in K\n",
    "P = 8000.0 # in bar\n",
    "dew_system.make_data0(T,P)"
   ]
  },
  {
   "cell_type": "markdown",
   "metadata": {},
   "source": [
    "### Create a customised DATA0 file - other species\n",
    "Any species that exists within the DEW database can be added to the system as above, but how to tell what species are available? Well we can import the DEW database directly into the Jupyter notebook:"
   ]
  },
  {
   "cell_type": "code",
   "execution_count": 2,
   "metadata": {},
   "outputs": [
    {
     "name": "stderr",
     "output_type": "stream",
     "text": [
      "/opt/conda/lib/python3.9/site-packages/thermoengine/model.py:184: FutureWarning: The frame.append method is deprecated and will be removed from pandas in a future version. Use pandas.concat instead.\n",
      "  self._phase_info = self._phase_info.append(phs_info, ignore_index=True)\n",
      "/opt/conda/lib/python3.9/site-packages/thermoengine/model.py:184: FutureWarning: The frame.append method is deprecated and will be removed from pandas in a future version. Use pandas.concat instead.\n",
      "  self._phase_info = self._phase_info.append(phs_info, ignore_index=True)\n",
      "/opt/conda/lib/python3.9/site-packages/thermoengine/model.py:184: FutureWarning: The frame.append method is deprecated and will be removed from pandas in a future version. Use pandas.concat instead.\n",
      "  self._phase_info = self._phase_info.append(phs_info, ignore_index=True)\n",
      "/opt/conda/lib/python3.9/site-packages/thermoengine/model.py:184: FutureWarning: The frame.append method is deprecated and will be removed from pandas in a future version. Use pandas.concat instead.\n",
      "  self._phase_info = self._phase_info.append(phs_info, ignore_index=True)\n",
      "/opt/conda/lib/python3.9/site-packages/thermoengine/model.py:184: FutureWarning: The frame.append method is deprecated and will be removed from pandas in a future version. Use pandas.concat instead.\n",
      "  self._phase_info = self._phase_info.append(phs_info, ignore_index=True)\n",
      "/opt/conda/lib/python3.9/site-packages/thermoengine/model.py:184: FutureWarning: The frame.append method is deprecated and will be removed from pandas in a future version. Use pandas.concat instead.\n",
      "  self._phase_info = self._phase_info.append(phs_info, ignore_index=True)\n"
     ]
    }
   ],
   "source": [
    "dewdb = pyDEW.core.DEW_species()"
   ]
  },
  {
   "cell_type": "code",
   "execution_count": 3,
   "metadata": {},
   "outputs": [
    {
     "name": "stdout",
     "output_type": "stream",
     "text": [
      "CH3COO-, CH3COOH(AQ), AG+, AGCL(AQ), AGCL2-, AL+3, AL(OH)4-, AL(OH)SI(OH)-, AR(AQ), AU+, \n",
      "AU+3, B(OH)3(AQ), BA+2, BACL+, BE+2, BENZENE(AQ), BO(OH)(AQ), BO2-, BR-, CA(HCO3)+, \n",
      "CA(HCOO)+, CA(H3SIO4)+, CA(OH)+, CA+2, CACL+, CACL2(AQ), CACO3(AQ), CAO(AQ), CASO4(AQ), CD+2, \n",
      "CE+3, CE+4, CL-, CN-, CO(AQ), CO+2, CO+3, CO2(AQ), CO3-2, CR+2, \n",
      "CR+3, CR2O7-2, CRO4-2, CS+, CU+, CU+2, DIGLYCINE(AQ), DKP(AQ), DY+3, ER+3, \n",
      "ETHANE(AQ), ETHANOL(AQ), ETHYLENE(AQ), EU+2, EU+3, F-, FE(CH3COO)+, FEC4H6O4(AQ), FE(HCOO)+, FE(H3SIO4)+, \n",
      "FE(OH)+, FE+2, FE+3, FECL+, FECL+2, FECL2(AQ), FECL2+, FECL3(AQ), FECL4-, FE(OH)2(AQ), \n",
      "HCOO-, HCOOH(AQ), GA+3, GD+3, GLUTAMATE-, GLUTAMIC(AQ), GLUTAMINE(AQ), GLUTARATE-, GLUTARIC(AQ), GLYCINATE-, \n",
      "GLYCINE(AQ), GLYCOLATE-, GLYCOLIC(AQ), H-SUCCINA(AQ), H+, H2(AQ), H2ASO3-, H2ASO4-, H2CO3(AQ), H2P2O7-2, \n",
      "H2PO4-, H2S(AQ), H2VO4-, H3P207-, H3PO4(AQ), AL(OH)3(AQ), HASO4-2, HCL(AQ), HCN(AQ), HCO3-, \n",
      "HCRO4-, HE(AQ), HEXANE(AQ), FE(OH)3-, HG+2, HG2+2, HO+3, HO2-, HPO4-2, HS-, \n",
      "HSE-, HSEO3-, HSEO4-, H3SIO4-, HSO3-, HSO4-, HSO5-, HVO4-2, I-, IN+3, \n",
      "ISOBUTANE(AQ), K+, KCL(AQ), KOH(AQ), KR(AQ), KSO4-, LA+3, LACTATE-, LACTIC(AQ), LEUCINE(AQ), \n",
      "LI+, LU+3, METHANE(AQ), METHANOL(AQ), MG(HCO3)+, MG(H3SIO4)+, MG+2, MGCL+, MGCO3(AQ), MG(OH)2(AQ), \n",
      "MG(OH)+, MGSIC+, MGSO4(AQ), MN+2, MNCL+, MNO4-, MNO4-2, MNSO4(AQ), MOO4-2, N2(AQ), \n",
      "NA(AC)(AQ), NA(AC)2-, NA+, NACL(AQ), NACO3-, NAHCO3(AQ), NAHSIO3(AQ), NAOH(AQ), ND+3, NE(AQ), \n",
      "NH3(AQ), NH4+, NI+2, NO2-, NO3-, O2(AQ), OH-, PB+2, PBCL+, PBCL2(AQ), \n",
      "PBCL3-, PD+2, PO4-3, PR+3, PROPANE(AQ), CH3CH2COO-, C2H5COOH(AQ), PROPANOL(AQ), RA+2, RB+, \n",
      "REO4-, RN(AQ), S2-2, S2O3-2, S2O4-2, S2O5-2, S2O6-2, S2O8-2, S3-, S3-2, \n",
      "S3O6-2, S4-2, S4O6-2, S5-2, S506-2, SC+3, SEO3-2, SEO4-2, H6SI2O7(AQ), H8SI3O10(AQ), \n",
      "H4SIO4(AQ), SM+2, SM+3, SN+2, SO2(AQ), SO3-2, SO4-2, SR+2, SRCL+, TB+3, \n",
      "TL+, TL+3, TM+3, TOLUENE(AQ), U+4, UO2+2, UREA(AQ), VO+2, VO2+, WO4-2, \n",
      "XE(AQ), Y+3, YB+2, YB+3, ZN+2, ZNCL+, ZNCL2(AQ), ZNCL3-, bhatCO2, H2O, \n",
      "O2(G), H2(G), \n"
     ]
    }
   ],
   "source": [
    "s = ''\n",
    "i = 0\n",
    "for speciesname in dewdb:\n",
    "    s += speciesname\n",
    "    s += ', '\n",
    "    if i == 9:\n",
    "        s +='\\n'\n",
    "        i = 0\n",
    "    else:\n",
    "        i += 1\n",
    "print(s)"
   ]
  },
  {
   "cell_type": "code",
   "execution_count": 11,
   "metadata": {},
   "outputs": [],
   "source": [
    "elements = ['O','H','Na','Cl']\n",
    "basis_species = ['H2O','H+','NA+','CL-','O2(G)']\n",
    "other_species = ['OH-','O2(AQ)']\n",
    "minerals = []\n",
    "solid_solutions = {}\n",
    "mineral_NaK_adjustment = []"
   ]
  },
  {
   "cell_type": "code",
   "execution_count": 14,
   "metadata": {},
   "outputs": [
    {
     "name": "stderr",
     "output_type": "stream",
     "text": [
      "/opt/conda/lib/python3.9/site-packages/thermoengine/model.py:184: FutureWarning: The frame.append method is deprecated and will be removed from pandas in a future version. Use pandas.concat instead.\n",
      "  self._phase_info = self._phase_info.append(phs_info, ignore_index=True)\n",
      "/opt/conda/lib/python3.9/site-packages/thermoengine/model.py:184: FutureWarning: The frame.append method is deprecated and will be removed from pandas in a future version. Use pandas.concat instead.\n",
      "  self._phase_info = self._phase_info.append(phs_info, ignore_index=True)\n",
      "/opt/conda/lib/python3.9/site-packages/thermoengine/model.py:184: FutureWarning: The frame.append method is deprecated and will be removed from pandas in a future version. Use pandas.concat instead.\n",
      "  self._phase_info = self._phase_info.append(phs_info, ignore_index=True)\n",
      "/opt/conda/lib/python3.9/site-packages/thermoengine/model.py:184: FutureWarning: The frame.append method is deprecated and will be removed from pandas in a future version. Use pandas.concat instead.\n",
      "  self._phase_info = self._phase_info.append(phs_info, ignore_index=True)\n",
      "/opt/conda/lib/python3.9/site-packages/thermoengine/model.py:184: FutureWarning: The frame.append method is deprecated and will be removed from pandas in a future version. Use pandas.concat instead.\n",
      "  self._phase_info = self._phase_info.append(phs_info, ignore_index=True)\n",
      "/opt/conda/lib/python3.9/site-packages/thermoengine/model.py:184: FutureWarning: The frame.append method is deprecated and will be removed from pandas in a future version. Use pandas.concat instead.\n",
      "  self._phase_info = self._phase_info.append(phs_info, ignore_index=True)\n"
     ]
    },
    {
     "ename": "UnboundLocalError",
     "evalue": "local variable 'min' referenced before assignment",
     "output_type": "error",
     "traceback": [
      "\u001b[0;31m---------------------------------------------------------------------------\u001b[0m",
      "\u001b[0;31mUnboundLocalError\u001b[0m                         Traceback (most recent call last)",
      "File \u001b[0;32m/opt/conda/lib/python3.9/site-packages/pyDEW/system.py:243\u001b[0m, in \u001b[0;36msystem.__init__\u001b[0;34m(self, elements, basis_species, other_species, dummy_species, minerals, solid_solutions, gases, hydrated_species, ion_size, mineral_NaK_adjustment, carbon_activity_mode, huang_CO2_coeff)\u001b[0m\n\u001b[1;32m    242\u001b[0m \u001b[38;5;28;01mtry\u001b[39;00m:\n\u001b[0;32m--> 243\u001b[0m     \u001b[38;5;28mself\u001b[39m\u001b[38;5;241m.\u001b[39mgases\u001b[38;5;241m.\u001b[39mappend(\u001b[43mmineralsdb\u001b[49m[gas])\n\u001b[1;32m    244\u001b[0m \u001b[38;5;28;01mexcept\u001b[39;00m:\n",
      "\u001b[0;31mUnboundLocalError\u001b[0m: local variable 'mineralsdb' referenced before assignment",
      "\nDuring handling of the above exception, another exception occurred:\n",
      "\u001b[0;31mUnboundLocalError\u001b[0m                         Traceback (most recent call last)",
      "Cell \u001b[0;32mIn [14], line 1\u001b[0m\n\u001b[0;32m----> 1\u001b[0m dew_system \u001b[38;5;241m=\u001b[39m \u001b[43mpyDEW\u001b[49m\u001b[38;5;241;43m.\u001b[39;49m\u001b[43mSystem\u001b[49m\u001b[43m(\u001b[49m\u001b[43melements\u001b[49m\u001b[43m \u001b[49m\u001b[38;5;241;43m=\u001b[39;49m\u001b[43m \u001b[49m\u001b[43melements\u001b[49m\u001b[43m,\u001b[49m\n\u001b[1;32m      2\u001b[0m \u001b[43m                          \u001b[49m\u001b[43mbasis_species\u001b[49m\u001b[43m \u001b[49m\u001b[38;5;241;43m=\u001b[39;49m\u001b[43m \u001b[49m\u001b[43mbasis_species\u001b[49m\u001b[43m,\u001b[49m\n\u001b[1;32m      3\u001b[0m \u001b[43m                          \u001b[49m\u001b[43mother_species\u001b[49m\u001b[43m \u001b[49m\u001b[38;5;241;43m=\u001b[39;49m\u001b[43m \u001b[49m\u001b[43mother_species\u001b[49m\u001b[43m,\u001b[49m\n\u001b[1;32m      4\u001b[0m \u001b[43m                          \u001b[49m\u001b[43mminerals\u001b[49m\u001b[43m \u001b[49m\u001b[38;5;241;43m=\u001b[39;49m\u001b[43m \u001b[49m\u001b[43mminerals\u001b[49m\u001b[43m,\u001b[49m\n\u001b[1;32m      5\u001b[0m \u001b[43m                          \u001b[49m\u001b[43msolid_solutions\u001b[49m\u001b[43m \u001b[49m\u001b[38;5;241;43m=\u001b[39;49m\u001b[43m \u001b[49m\u001b[43msolid_solutions\u001b[49m\u001b[43m,\u001b[49m\n\u001b[1;32m      6\u001b[0m \u001b[43m                          \u001b[49m\u001b[43mmineral_NaK_adjustment\u001b[49m\u001b[43m \u001b[49m\u001b[38;5;241;43m=\u001b[39;49m\u001b[43m \u001b[49m\u001b[43mmineral_NaK_adjustment\u001b[49m\u001b[43m)\u001b[49m\n",
      "File \u001b[0;32m/opt/conda/lib/python3.9/site-packages/pyDEW/system.py:245\u001b[0m, in \u001b[0;36msystem.__init__\u001b[0;34m(self, elements, basis_species, other_species, dummy_species, minerals, solid_solutions, gases, hydrated_species, ion_size, mineral_NaK_adjustment, carbon_activity_mode, huang_CO2_coeff)\u001b[0m\n\u001b[1;32m    243\u001b[0m         \u001b[38;5;28mself\u001b[39m\u001b[38;5;241m.\u001b[39mgases\u001b[38;5;241m.\u001b[39mappend(mineralsdb[gas])\n\u001b[1;32m    244\u001b[0m     \u001b[38;5;28;01mexcept\u001b[39;00m:\n\u001b[0;32m--> 245\u001b[0m         \u001b[38;5;28;01mraise\u001b[39;00m core\u001b[38;5;241m.\u001b[39mInputError(\u001b[38;5;28;43mmin\u001b[39;49m\u001b[38;5;241m+\u001b[39m\u001b[38;5;124m'\u001b[39m\u001b[38;5;124m phase string not recognised.\u001b[39m\u001b[38;5;124m'\u001b[39m)\n\u001b[1;32m    246\u001b[0m \u001b[38;5;28;01melse\u001b[39;00m:\n\u001b[1;32m    247\u001b[0m     \u001b[38;5;28mself\u001b[39m\u001b[38;5;241m.\u001b[39mgases\u001b[38;5;241m.\u001b[39mappend(gas)\n",
      "\u001b[0;31mUnboundLocalError\u001b[0m: local variable 'min' referenced before assignment"
     ]
    }
   ],
   "source": [
    "dew_system = pyDEW.System(elements = elements,\n",
    "                          basis_species = basis_species,\n",
    "                          other_species = other_species,\n",
    "                          minerals = minerals,\n",
    "                          solid_solutions = solid_solutions,\n",
    "                          mineral_NaK_adjustment = mineral_NaK_adjustment)"
   ]
  },
  {
   "cell_type": "code",
   "execution_count": 13,
   "metadata": {},
   "outputs": [],
   "source": [
    "T = 300.0 + 273.15 # in K\n",
    "P = 8000.0 # in bar\n",
    "dew_system.make_data0(T,P)"
   ]
  },
  {
   "cell_type": "markdown",
   "metadata": {},
   "source": [
    "Let's say we want to calculate Zn speciation in a fluid in equilibrium with Nepheline. There are several Zn complexes that exist in DEW but are not included by default (but they should perhaps be used with care). Nepheline is also not included by default. The DEW database is calibrated relative to the Berman thermodynamic database, and so we must use a model for Nepheline that is compatible with Berman. Luckily Berman does include Nepheline! But we must import Berman directly into the Jupyter Notebook:"
   ]
  },
  {
   "cell_type": "code",
   "execution_count": 12,
   "metadata": {},
   "outputs": [],
   "source": [
    "berman = model.Database()"
   ]
  },
  {
   "cell_type": "markdown",
   "metadata": {},
   "source": [
    "To see all the mineral phases available (depending on the version of thermoengine you are using, the list may be truncated):"
   ]
  },
  {
   "cell_type": "code",
   "execution_count": 13,
   "metadata": {},
   "outputs": [
    {
     "name": "stdout",
     "output_type": "stream",
     "text": [
      "  abbrev    phase_name formula phase_type endmember_num\n",
      "0    Liq        Liquid           solution            15\n",
      "1   MtlS   Solid Alloy           solution             2\n",
      "2   MtlL  Liquid Alloy           solution             2\n",
      "3    H2O         Water     H2O       pure             1\n"
     ]
    }
   ],
   "source": [
    "print(berman.phase_info.to_string())"
   ]
  },
  {
   "cell_type": "markdown",
   "metadata": {},
   "source": [
    "To retrieve Nepheline (note that the abbreviation must be used), and the reference state set:"
   ]
  },
  {
   "cell_type": "code",
   "execution_count": 14,
   "metadata": {},
   "outputs": [],
   "source": [
    "Nph = berman.get_phase('Nph')\n",
    "Nph.enable_gibbs_energy_reference_state()"
   ]
  },
  {
   "cell_type": "markdown",
   "metadata": {},
   "source": [
    "Let's create the system! Note that you can use either strings, or the phase/species objects themselves when defining a system with Berman and DEW. Passing the objects themselves is particularly useful when using your own models of minerals and species. Here I will pass ZNCL+ as an object, to demonstrate this. I will also pass the Nph object directly:\n",
    "\n",
    "Note- the thermoengine Berman database has a small inconsistency with the DEW version of Berman due to a correction to Na- and K-bearing phases detailed by Sverjensky (1991). pyDEW can automatically adjust this, but you must tell it to do so:"
   ]
  },
  {
   "cell_type": "code",
   "execution_count": 15,
   "metadata": {},
   "outputs": [],
   "source": [
    "elements = ['O','H','Si','Al','Na','Zn']\n",
    "basis_species = ['H2O','H+','H4SIO4(AQ)','AL+3','NA+','ZN+2','O2(G)']\n",
    "other_species = ['OH-','AL(OH)4-','AL(OH)SI(OH)-','AL(OH)3(AQ)','NAOH(AQ)', dewdb['ZNCL+'], 'ZNCL2(AQ)', 'ZNCL3-','O2(AQ)']\n",
    "minerals = ['QUARTZ_ALPHA',Nph]\n",
    "solid_solutions = {}\n",
    "mineral_NaK_adjustment = ['NEPHELINE']"
   ]
  },
  {
   "cell_type": "code",
   "execution_count": 16,
   "metadata": {},
   "outputs": [],
   "source": [
    "dew_system = pyDEW.System(elements = elements,\n",
    "                          basis_species = basis_species,\n",
    "                          other_species = other_species,\n",
    "                          minerals = minerals,\n",
    "                          solid_solutions = solid_solutions,\n",
    "                          mineral_NaK_adjustment = mineral_NaK_adjustment)"
   ]
  },
  {
   "cell_type": "code",
   "execution_count": 17,
   "metadata": {},
   "outputs": [],
   "source": [
    "T = 300.0 + 273.15 # in K\n",
    "P = 8000.0 # in bar\n",
    "dew_system.make_data0(T,P)"
   ]
  },
  {
   "cell_type": "code",
   "execution_count": null,
   "metadata": {},
   "outputs": [],
   "source": []
  }
 ],
 "metadata": {
  "kernelspec": {
   "display_name": "Python 3 (ipykernel)",
   "language": "python",
   "name": "python3"
  },
  "language_info": {
   "codemirror_mode": {
    "name": "ipython",
    "version": 3
   },
   "file_extension": ".py",
   "mimetype": "text/x-python",
   "name": "python",
   "nbconvert_exporter": "python",
   "pygments_lexer": "ipython3",
   "version": "3.9.13"
  }
 },
 "nbformat": 4,
 "nbformat_minor": 4
}

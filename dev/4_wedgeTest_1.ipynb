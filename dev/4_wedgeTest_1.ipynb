{
 "cells": [
  {
   "cell_type": "markdown",
   "id": "d56fd542-efaf-4252-b61a-3ce348c97994",
   "metadata": {},
   "source": [
    "# 4. Wedge column test 1\n",
    "\n",
    "Code to establish the relay for a single column in the mantle wedge using pyDEW and combined with interpolations from Guillaume's EQ3."
   ]
  },
  {
   "cell_type": "code",
   "execution_count": 1,
   "id": "bb74ad5b-a9f4-4063-987d-3595607724c5",
   "metadata": {},
   "outputs": [],
   "source": [
    "import os\n",
    "import numpy as np\n",
    "import pandas as pd\n",
    "import matplotlib.pyplot as plt\n",
    "# import cmcrameri.cm as cmc\n",
    "%cd ../\n",
    "import pyDEW\n",
    "%cd dev\n",
    "from thermoengine import model\n",
    "from copy import copy\n",
    "from copy import deepcopy\n",
    "from scipy.interpolate import LinearNDInterpolator\n",
    "\n",
    "pd.options.mode.chained_assignment = None"
   ]
  },
  {
   "cell_type": "code",
   "execution_count": 2,
   "id": "b81c4237-37a0-4985-bc98-0cf93469fd0d",
   "metadata": {},
   "outputs": [],
   "source": [
    "# Function that may be helpful for expressing pressures as depths later\n",
    "def geotherm(T, dTdz=50, rho=3.2):\n",
    "    P = rho*T/dTdz\n",
    "    return P"
   ]
  },
  {
   "cell_type": "markdown",
   "id": "29978acd-774f-4e01-bb1b-39bdcd2d2e54",
   "metadata": {},
   "source": [
    "## A. Start by generating our interpolation grid from scratch"
   ]
  },
  {
   "cell_type": "code",
   "execution_count": 3,
   "id": "3e2b5f9a-6d75-492f-b7cb-06cd0ddf6100",
   "metadata": {},
   "outputs": [],
   "source": [
    "# Import the working EQ3 molalities data directly from the Excel file\n",
    "DMMdata = pd.read_excel('Pickups_molalities_fO2_kw.xlsx', sheet_name='DMM')\n",
    "MORBdata = pd.read_excel('Pickups_molalities_fO2_kw.xlsx', sheet_name='MORB')\n",
    "SEDdata = pd.read_excel('Pickups_molalities_fO2_kw.xlsx', sheet_name='Sediments')\n",
    "\n",
    "# use a dictionary to make the dataframes accessible\n",
    "data = {'DMM': DMMdata,\n",
    "        'MORB': MORBdata,\n",
    "        'Seds': SEDdata}\n",
    "\n",
    "dataLabels = list(data.keys())"
   ]
  },
  {
   "cell_type": "markdown",
   "id": "f4c553b2-b3bf-4910-b658-5003e022e1ad",
   "metadata": {},
   "source": [
    "## B. Build a single column"
   ]
  },
  {
   "cell_type": "code",
   "execution_count": 4,
   "id": "ce8bd4f0-465a-4645-bcf1-4a5fa45862e6",
   "metadata": {},
   "outputs": [],
   "source": [
    "# columnDF = pd.read_csv('ASPECT_files/EQ6pointsp5kbar.csv')\n",
    "# trenchDistanceList = []\n",
    "# for i in columnDF['Trench distance (km)']:\n",
    "#     if i not in trenchDistanceList:\n",
    "#         trenchDistanceList.append(i)\n",
    "\n",
    "# # Store our test case here        \n",
    "# testDF = None\n",
    "\n",
    "# # find first column where deepest point is within our interpolation grids\n",
    "# for i in range(len(trenchDistanceList)):\n",
    "#     trenchDistance = trenchDistanceList[i]\n",
    "#     columnDFsub = columnDF[columnDF['Trench distance (km)'] == trenchDistance]\n",
    "#     maxDepthIndex = columnDF['Pressure (kbar)'].idxmax()\n",
    "#     if columnDFsub['Temperature (degC)'].iloc[maxDepthIndex] < 300:\n",
    "#         continue\n",
    "#     else:\n",
    "#         testDF = columnDFsub\n",
    "#         testDF.reset_index(inplace=True)\n",
    "#         break\n"
   ]
  },
  {
   "cell_type": "code",
   "execution_count": 5,
   "id": "06a42b40-ec40-4f7c-8cb1-b2d523ca8abb",
   "metadata": {},
   "outputs": [],
   "source": [
    "# This part isolates just one column for testing, in this case from a single csv\n",
    "testDF = pd.read_csv('test_columnp5kb.csv')\n",
    "#testDF = pd.read_csv('test_column1kb.csv')"
   ]
  },
  {
   "cell_type": "code",
   "execution_count": 6,
   "id": "ec4ba91d-759e-431b-9e35-4b2bf5517dca",
   "metadata": {},
   "outputs": [
    {
     "data": {
      "image/png": "[encoded data removed]",
      "text/plain": [
       "<Figure size 640x480 with 1 Axes>"
      ]
     },
     "metadata": {},
     "output_type": "display_data"
    }
   ],
   "source": [
    "# Quick plots to see the structure of the wedge for our given column:\n",
    "fig1, ax1 = plt.subplots()\n",
    "ax1.scatter(testDF['Temperature (degC)'], testDF['Pressure (kbar)'])\n",
    "ax1.set_xlabel('Temperature (degC)')\n",
    "ax1.set_ylabel('Pressure (kbar)')\n",
    "plt.show()"
   ]
  },
  {
   "cell_type": "markdown",
   "id": "c2e88aa0-c30e-46cd-9cd3-a93680a9a352",
   "metadata": {},
   "source": [
    "## C. Combine this column with pyDEW to see if a concept works"
   ]
  },
  {
   "cell_type": "code",
   "execution_count": 7,
   "id": "4eeabfb4-a0b4-4095-aa29-dd32eb34bb0d",
   "metadata": {},
   "outputs": [
    {
     "name": "stderr",
     "output_type": "stream",
     "text": [
      "/opt/conda/lib/python3.9/site-packages/thermoengine/model.py:184: FutureWarning: The frame.append method is deprecated and will be removed from pandas in a future version. Use pandas.concat instead.\n",
      "  self._phase_info = self._phase_info.append(phs_info, ignore_index=True)\n",
      "/opt/conda/lib/python3.9/site-packages/thermoengine/model.py:184: FutureWarning: The frame.append method is deprecated and will be removed from pandas in a future version. Use pandas.concat instead.\n",
      "  self._phase_info = self._phase_info.append(phs_info, ignore_index=True)\n",
      "/opt/conda/lib/python3.9/site-packages/thermoengine/model.py:184: FutureWarning: The frame.append method is deprecated and will be removed from pandas in a future version. Use pandas.concat instead.\n",
      "  self._phase_info = self._phase_info.append(phs_info, ignore_index=True)\n",
      "/opt/conda/lib/python3.9/site-packages/thermoengine/model.py:184: FutureWarning: The frame.append method is deprecated and will be removed from pandas in a future version. Use pandas.concat instead.\n",
      "  self._phase_info = self._phase_info.append(phs_info, ignore_index=True)\n",
      "/opt/conda/lib/python3.9/site-packages/thermoengine/model.py:184: FutureWarning: The frame.append method is deprecated and will be removed from pandas in a future version. Use pandas.concat instead.\n",
      "  self._phase_info = self._phase_info.append(phs_info, ignore_index=True)\n",
      "/opt/conda/lib/python3.9/site-packages/thermoengine/model.py:184: FutureWarning: The frame.append method is deprecated and will be removed from pandas in a future version. Use pandas.concat instead.\n",
      "  self._phase_info = self._phase_info.append(phs_info, ignore_index=True)\n"
     ]
    }
   ],
   "source": [
    "# Adjust here the basis species to be used in the DEW system - deepcopy to avoid mucking up defaults\n",
    "defaultBasisSpecies = pyDEW.defaultsystem.basis_species_names\n",
    "basisSpecies = deepcopy(defaultBasisSpecies)\n",
    "\n",
    "defaultOtherSpecies = pyDEW.defaultsystem.other_species_names\n",
    "otherSpecies = deepcopy(defaultOtherSpecies)\n",
    "\n",
    "# Add missing Mg complex to the other species\n",
    "otherSpecies.append('MG(OH)2(AQ)')\n",
    "\n",
    "# Switch basis species - replace CO2(AQ) with CO3-2, placing CO3-2 directly where CO2(AQ) was to avoid pyDEW issues\n",
    "basisSpecies[basisSpecies.index('CO2(AQ)')] = 'CO3-2'\n",
    "\n",
    "# Create DEW system\n",
    "dew_system = pyDEW.System(basis_species=basisSpecies, other_species=otherSpecies)"
   ]
  },
  {
   "cell_type": "code",
   "execution_count": 8,
   "id": "40eade6f-b4e3-4478-9ce3-0a5668848a90",
   "metadata": {},
   "outputs": [],
   "source": [
    "# pyDEW minutia - to match Guillaume's setups\n",
    "\n",
    "# Suppress H2CO3(AQ)\n",
    "nxmods = [['H2CO3(AQ)', 0, -1, 0]]\n",
    "\n",
    "# List of reactants formed from mineral dictionaries\n",
    "olvDict = {'reactant': 'OLIVINE(SS)',\n",
    "           'moles': 5.9,\n",
    "           'composition': {'FORSTERITE': 0.9, 'FAYALITE': 0.1}}\n",
    "\n",
    "opxDict = {'reactant': 'ORTHOPYROXENE(SS)',\n",
    "           'moles': 1.9,\n",
    "           'composition': {'ENSTATITE_OR': 0.9, 'FERROSILITE': 0.1}}\n",
    "\n",
    "cpxDict = {'reactant': 'CLINOPYROXENE(SS)',\n",
    "           'moles': 0.2,\n",
    "           'composition': {'DIOPSIDE': 0.9, 'HEDENBERGITE': 0.1}}\n",
    "\n",
    "spnDict = {'reactant': 'SPINEL',\n",
    "           'moles': 0.04}\n",
    "\n",
    "reactants = [olvDict, opxDict, cpxDict, spnDict]\n",
    "\n",
    "# List of species to export\n",
    "exportSpecies = ['NA+', 'CA+2', 'MG+2', 'AL+3', 'H4SIO4(AQ)', 'H+', 'CO3-2', 'CL-', 'FE+2']"
   ]
  },
  {
   "cell_type": "code",
   "execution_count": 9,
   "id": "69717b8e-de20-4ad8-893e-2a1d7200d6a9",
   "metadata": {},
   "outputs": [],
   "source": [
    "# Determine starting PT from testDF\n",
    "\n",
    "# First make sure everything is nice and formatted\n",
    "columnP = [i*1000 for i in testDF['Pressure (kbar)']]  # convert to bars\n",
    "columnT = [i+273.15 for i in testDF['Temperature (degC)']]  # convert to K\n",
    "\n",
    "# Make sure we start from the bottom up\n",
    "if columnP[-1] == max(columnP):  # If the deepest value is at the end of the list, flip both around\n",
    "    columnP.reverse()\n",
    "    columnT.reverse()\n",
    "\n",
    "startingP = columnP[0]\n",
    "startingT = columnT[0]"
   ]
  },
  {
   "cell_type": "code",
   "execution_count": 10,
   "id": "e4e731d9-d6fc-4ed4-a66b-cea007602609",
   "metadata": {},
   "outputs": [],
   "source": [
    "# Get our molalities for all lithologies for the initial EQ3 run\n",
    "molalitiesDict = {}\n",
    "\n",
    "# Iterate over all lithologies\n",
    "for i in range(len(data)):\n",
    "    key = dataLabels[i]\n",
    "    keyData = data[key]\n",
    "\n",
    "    # Extract list of species \n",
    "    columnHeaders = list(keyData.columns)\n",
    "    speciesHeaders = columnHeaders[2:]\n",
    "\n",
    "    # Extract pressures and temperatures\n",
    "    P = keyData['P (kbar)'].values\n",
    "    T = keyData['T (degC)'].values\n",
    "    \n",
    "    # This is Cell 9 from 1_3d_plotter, which iterates over all species and linearly interpolates between them \n",
    "    for j in range(len(speciesHeaders)):\n",
    "        speciesData = keyData[speciesHeaders[j]]\n",
    "        diffCheck = True\n",
    "\n",
    "        # Makes sure that the species aren't all constant, which makes the interpolation wacky\n",
    "        if speciesData.tolist() == [speciesData.tolist()[0]]*len(speciesData):\n",
    "            molalitiesDict[speciesHeaders[j]+'_'+key] = speciesData[0]\n",
    "\n",
    "        # Otherwise we set up the interpolator for the species given pressure and temperature\n",
    "        else:\n",
    "            interp = LinearNDInterpolator(list(zip(T.tolist(), P.tolist())), speciesData.tolist())\n",
    "            interpMolal = interp(startingT-273.15, startingP/1000)  # key to reconvert back to original units here\n",
    "            molalitiesDict[speciesHeaders[j]+'_'+key] = float(interpMolal)"
   ]
  },
  {
   "cell_type": "code",
   "execution_count": 11,
   "id": "27e456a2-2ad5-4d75-adce-b23700e4aa62",
   "metadata": {},
   "outputs": [
    {
     "name": "stdout",
     "output_type": "stream",
     "text": [
      "hi\n",
      "hi\n",
      "-34.03287343204432\n",
      "{'NA+': 35.4521139595983, 'CA+2': 0.00034088280073158274, 'MG+2': 0.36465241802135917, 'AL+3': 0.003087527417462727, 'H4SIO4(AQ)': 0.07059232738963753, 'CO3-2': 0.0010000000002374752, 'CL-': 0.010000000000401727, 'FE+2': 0.00017914134154896385}\n",
      "done 20.0\n",
      "-37.0072\n",
      "{'NA+': 36.58474227939712, 'CA+2': 2.2929785918248233e-05, 'MG+2': 0.3783554551232311, 'AL+3': 0.0003548133892335753, 'H4SIO4(AQ)': 0.0801678063387679, 'CO3-2': 0.0010318106352675918, 'CL-': 0.010318106352675924, 'FE+2': 0.0003023430570511337}\n"
     ]
    },
    {
     "ename": "KeyboardInterrupt",
     "evalue": "",
     "output_type": "error",
     "traceback": [
      "\u001b[0;31m---------------------------------------------------------------------------\u001b[0m",
      "\u001b[0;31mKeyboardInterrupt\u001b[0m                         Traceback (most recent call last)",
      "\u001b[1;32m/workspaces/pyDEW/dev/4_wedgeTest_1.ipynb Cell 15\u001b[0m line \u001b[0;36m4\n\u001b[1;32m     <a href='vscode-notebook-cell://dev-container%2B7b22686f737450617468223a222f55736572732f736d3930352f7265706f732f7079444557222c226c6f63616c446f636b6572223a66616c73652c22636f6e66696746696c65223a7b22246d6964223a312c22667350617468223a222f55736572732f736d3930352f7265706f732f70794445572f2e646576636f6e7461696e65722e6a736f6e222c2265787465726e616c223a2266696c653a2f2f2f55736572732f736d3930352f7265706f732f70794445572f2e646576636f6e7461696e65722e6a736f6e222c2270617468223a222f55736572732f736d3930352f7265706f732f70794445572f2e646576636f6e7461696e65722e6a736f6e222c22736368656d65223a2266696c65227d7d/workspaces/pyDEW/dev/4_wedgeTest_1.ipynb#X20sdnNjb2RlLXJlbW90ZQ%3D%3D?line=42'>43</a>\u001b[0m \u001b[39mprint\u001b[39m(fO2DMM)\n\u001b[1;32m     <a href='vscode-notebook-cell://dev-container%2B7b22686f737450617468223a222f55736572732f736d3930352f7265706f732f7079444557222c226c6f63616c446f636b6572223a66616c73652c22636f6e66696746696c65223a7b22246d6964223a312c22667350617468223a222f55736572732f736d3930352f7265706f732f70794445572f2e646576636f6e7461696e65722e6a736f6e222c2265787465726e616c223a2266696c653a2f2f2f55736572732f736d3930352f7265706f732f70794445572f2e646576636f6e7461696e65722e6a736f6e222c2270617468223a222f55736572732f736d3930352f7265706f732f70794445572f2e646576636f6e7461696e65722e6a736f6e222c22736368656d65223a2266696c65227d7d/workspaces/pyDEW/dev/4_wedgeTest_1.ipynb#X20sdnNjb2RlLXJlbW90ZQ%3D%3D?line=43'>44</a>\u001b[0m \u001b[39mprint\u001b[39m(molalitiesDMM)\n\u001b[0;32m---> <a href='vscode-notebook-cell://dev-container%2B7b22686f737450617468223a222f55736572732f736d3930352f7265706f732f7079444557222c226c6f63616c446f636b6572223a66616c73652c22636f6e66696746696c65223a7b22246d6964223a312c22667350617468223a222f55736572732f736d3930352f7265706f732f70794445572f2e646576636f6e7461696e65722e6a736f6e222c2265787465726e616c223a2266696c653a2f2f2f55736572732f736d3930352f7265706f732f70794445572f2e646576636f6e7461696e65722e6a736f6e222c2270617468223a222f55736572732f736d3930352f7265706f732f70794445572f2e646576636f6e7461696e65722e6a736f6e222c22736368656d65223a2266696c65227d7d/workspaces/pyDEW/dev/4_wedgeTest_1.ipynb#X20sdnNjb2RlLXJlbW90ZQ%3D%3D?line=44'>45</a>\u001b[0m dewReaction \u001b[39m=\u001b[39m pyDEW\u001b[39m.\u001b[39;49mReaction(dewFluid, workingT, workingP, reactants, calculation_mode\u001b[39m=\u001b[39;49m\u001b[39m'\u001b[39;49m\u001b[39mtitration\u001b[39;49m\u001b[39m'\u001b[39;49m)\n\u001b[1;32m     <a href='vscode-notebook-cell://dev-container%2B7b22686f737450617468223a222f55736572732f736d3930352f7265706f732f7079444557222c226c6f63616c446f636b6572223a66616c73652c22636f6e66696746696c65223a7b22246d6964223a312c22667350617468223a222f55736572732f736d3930352f7265706f732f70794445572f2e646576636f6e7461696e65722e6a736f6e222c2265787465726e616c223a2266696c653a2f2f2f55736572732f736d3930352f7265706f732f70794445572f2e646576636f6e7461696e65722e6a736f6e222c2270617468223a222f55736572732f736d3930352f7265706f732f70794445572f2e646576636f6e7461696e65722e6a736f6e222c22736368656d65223a2266696c65227d7d/workspaces/pyDEW/dev/4_wedgeTest_1.ipynb#X20sdnNjb2RlLXJlbW90ZQ%3D%3D?line=45'>46</a>\u001b[0m pH\u001b[39m.\u001b[39mappend(dewReaction\u001b[39m.\u001b[39mpH[\u001b[39m-\u001b[39m\u001b[39m1\u001b[39m])\n\u001b[1;32m     <a href='vscode-notebook-cell://dev-container%2B7b22686f737450617468223a222f55736572732f736d3930352f7265706f732f7079444557222c226c6f63616c446f636b6572223a66616c73652c22636f6e66696746696c65223a7b22246d6964223a312c22667350617468223a222f55736572732f736d3930352f7265706f732f70794445572f2e646576636f6e7461696e65722e6a736f6e222c2265787465726e616c223a2266696c653a2f2f2f55736572732f736d3930352f7265706f732f70794445572f2e646576636f6e7461696e65722e6a736f6e222c2270617468223a222f55736572732f736d3930352f7265706f732f70794445572f2e646576636f6e7461696e65722e6a736f6e222c22736368656d65223a2266696c65227d7d/workspaces/pyDEW/dev/4_wedgeTest_1.ipynb#X20sdnNjb2RlLXJlbW90ZQ%3D%3D?line=46'>47</a>\u001b[0m lastElements \u001b[39m=\u001b[39m dewReaction\u001b[39m.\u001b[39melements\u001b[39m.\u001b[39miloc[\u001b[39m-\u001b[39m\u001b[39m1\u001b[39m]\n",
      "File \u001b[0;32m/opt/conda/lib/python3.9/site-packages/pyDEW/reaction.py:166\u001b[0m, in \u001b[0;36mreaction.__init__\u001b[0;34m(self, fluid, T, P, reactants, bulk_composition, bulk_composition_units, mols_bulk_composition, dT, calculation_mode, point_calculation, zimax, eq6_executable_name, eq3_working_directory, eqpt_working_directory, eq6_working_directory, eqpt_executable_name, dummy_temperature)\u001b[0m\n\u001b[1;32m    161\u001b[0m     \u001b[39mself\u001b[39m\u001b[39m.\u001b[39m_make_input(pickup, \u001b[39mself\u001b[39m\u001b[39m.\u001b[39mT, \u001b[39mself\u001b[39m\u001b[39m.\u001b[39mreactants, \u001b[39mself\u001b[39m\u001b[39m.\u001b[39mdT,\n\u001b[1;32m    162\u001b[0m                      \u001b[39mself\u001b[39m\u001b[39m.\u001b[39mcalculation_mode, \u001b[39mself\u001b[39m\u001b[39m.\u001b[39mzimax, \u001b[39mself\u001b[39m\u001b[39m.\u001b[39mbulk_composition,\n\u001b[1;32m    163\u001b[0m                      \u001b[39mself\u001b[39m\u001b[39m.\u001b[39mmols_bulk_composition,  eq6_working_directory)\n\u001b[1;32m    165\u001b[0m \u001b[39m# Run EQ6\u001b[39;00m\n\u001b[0;32m--> 166\u001b[0m core\u001b[39m.\u001b[39;49mrun_eq6(eq6_working_directory, eq6_executable_name)\n\u001b[1;32m    168\u001b[0m \u001b[39m# Read the output file\u001b[39;00m\n\u001b[1;32m    169\u001b[0m \u001b[39mself\u001b[39m\u001b[39m.\u001b[39moutput \u001b[39m=\u001b[39m eq6_output\u001b[39m.\u001b[39meq6output(fluid,\n\u001b[1;32m    170\u001b[0m                                    tab_filepath\u001b[39m=\u001b[39meq6_working_directory\u001b[39m+\u001b[39m\u001b[39m'\u001b[39m\u001b[39m/tab\u001b[39m\u001b[39m'\u001b[39m,\n\u001b[1;32m    171\u001b[0m                                    output_filepath\u001b[39m=\u001b[39meq6_working_directory\u001b[39m+\u001b[39m\u001b[39m'\u001b[39m\u001b[39m/output\u001b[39m\u001b[39m'\u001b[39m)\n",
      "File \u001b[0;32m/opt/conda/lib/python3.9/site-packages/pyDEW/core.py:510\u001b[0m, in \u001b[0;36mrun_eq6\u001b[0;34m(working_directory, executable_name)\u001b[0m\n\u001b[1;32m    501\u001b[0m \u001b[39mif\u001b[39;00m executable_name \u001b[39mis\u001b[39;00m \u001b[39mnot\u001b[39;00m \u001b[39mNone\u001b[39;00m:\n\u001b[1;32m    502\u001b[0m     proc \u001b[39m=\u001b[39m subprocess\u001b[39m.\u001b[39mPopen(\n\u001b[1;32m    503\u001b[0m         \u001b[39mbytes\u001b[39m(\u001b[39m\"\u001b[39m\u001b[39m./\u001b[39m\u001b[39m\"\u001b[39m \u001b[39m+\u001b[39m executable_name, \u001b[39m\"\u001b[39m\u001b[39mutf-8\u001b[39m\u001b[39m\"\u001b[39m),\n\u001b[1;32m    504\u001b[0m         cwd\u001b[39m=\u001b[39mworking_directory \u001b[39m+\u001b[39m \u001b[39m\"\u001b[39m\u001b[39m/\u001b[39m\u001b[39m\"\u001b[39m,\n\u001b[0;32m   (...)\u001b[0m\n\u001b[1;32m    508\u001b[0m         stderr\u001b[39m=\u001b[39msubprocess\u001b[39m.\u001b[39mDEVNULL,\n\u001b[1;32m    509\u001b[0m     )\n\u001b[0;32m--> 510\u001b[0m proc\u001b[39m.\u001b[39;49mcommunicate(\u001b[39mb\u001b[39;49m\u001b[39m\"\u001b[39;49m\u001b[39m\\n\u001b[39;49;00m\u001b[39m\"\u001b[39;49m)\n\u001b[1;32m    511\u001b[0m proc\u001b[39m.\u001b[39mterminate()\n\u001b[1;32m    513\u001b[0m \u001b[39mif\u001b[39;00m tidyup:\n",
      "File \u001b[0;32m/opt/conda/lib/python3.9/subprocess.py:1126\u001b[0m, in \u001b[0;36mPopen.communicate\u001b[0;34m(self, input, timeout)\u001b[0m\n\u001b[1;32m   1124\u001b[0m         stderr \u001b[39m=\u001b[39m \u001b[39mself\u001b[39m\u001b[39m.\u001b[39mstderr\u001b[39m.\u001b[39mread()\n\u001b[1;32m   1125\u001b[0m         \u001b[39mself\u001b[39m\u001b[39m.\u001b[39mstderr\u001b[39m.\u001b[39mclose()\n\u001b[0;32m-> 1126\u001b[0m     \u001b[39mself\u001b[39;49m\u001b[39m.\u001b[39;49mwait()\n\u001b[1;32m   1127\u001b[0m \u001b[39melse\u001b[39;00m:\n\u001b[1;32m   1128\u001b[0m     \u001b[39mif\u001b[39;00m timeout \u001b[39mis\u001b[39;00m \u001b[39mnot\u001b[39;00m \u001b[39mNone\u001b[39;00m:\n",
      "File \u001b[0;32m/opt/conda/lib/python3.9/subprocess.py:1189\u001b[0m, in \u001b[0;36mPopen.wait\u001b[0;34m(self, timeout)\u001b[0m\n\u001b[1;32m   1187\u001b[0m     endtime \u001b[39m=\u001b[39m _time() \u001b[39m+\u001b[39m timeout\n\u001b[1;32m   1188\u001b[0m \u001b[39mtry\u001b[39;00m:\n\u001b[0;32m-> 1189\u001b[0m     \u001b[39mreturn\u001b[39;00m \u001b[39mself\u001b[39;49m\u001b[39m.\u001b[39;49m_wait(timeout\u001b[39m=\u001b[39;49mtimeout)\n\u001b[1;32m   1190\u001b[0m \u001b[39mexcept\u001b[39;00m \u001b[39mKeyboardInterrupt\u001b[39;00m:\n\u001b[1;32m   1191\u001b[0m     \u001b[39m# https://bugs.python.org/issue25942\u001b[39;00m\n\u001b[1;32m   1192\u001b[0m     \u001b[39m# The first keyboard interrupt waits briefly for the child to\u001b[39;00m\n\u001b[1;32m   1193\u001b[0m     \u001b[39m# exit under the common assumption that it also received the ^C\u001b[39;00m\n\u001b[1;32m   1194\u001b[0m     \u001b[39m# generated SIGINT and will exit rapidly.\u001b[39;00m\n\u001b[1;32m   1195\u001b[0m     \u001b[39mif\u001b[39;00m timeout \u001b[39mis\u001b[39;00m \u001b[39mnot\u001b[39;00m \u001b[39mNone\u001b[39;00m:\n",
      "File \u001b[0;32m/opt/conda/lib/python3.9/subprocess.py:1917\u001b[0m, in \u001b[0;36mPopen._wait\u001b[0;34m(self, timeout)\u001b[0m\n\u001b[1;32m   1915\u001b[0m \u001b[39mif\u001b[39;00m \u001b[39mself\u001b[39m\u001b[39m.\u001b[39mreturncode \u001b[39mis\u001b[39;00m \u001b[39mnot\u001b[39;00m \u001b[39mNone\u001b[39;00m:\n\u001b[1;32m   1916\u001b[0m     \u001b[39mbreak\u001b[39;00m  \u001b[39m# Another thread waited.\u001b[39;00m\n\u001b[0;32m-> 1917\u001b[0m (pid, sts) \u001b[39m=\u001b[39m \u001b[39mself\u001b[39;49m\u001b[39m.\u001b[39;49m_try_wait(\u001b[39m0\u001b[39;49m)\n\u001b[1;32m   1918\u001b[0m \u001b[39m# Check the pid and loop as waitpid has been known to\u001b[39;00m\n\u001b[1;32m   1919\u001b[0m \u001b[39m# return 0 even without WNOHANG in odd situations.\u001b[39;00m\n\u001b[1;32m   1920\u001b[0m \u001b[39m# http://bugs.python.org/issue14396.\u001b[39;00m\n\u001b[1;32m   1921\u001b[0m \u001b[39mif\u001b[39;00m pid \u001b[39m==\u001b[39m \u001b[39mself\u001b[39m\u001b[39m.\u001b[39mpid:\n",
      "File \u001b[0;32m/opt/conda/lib/python3.9/subprocess.py:1875\u001b[0m, in \u001b[0;36mPopen._try_wait\u001b[0;34m(self, wait_flags)\u001b[0m\n\u001b[1;32m   1873\u001b[0m \u001b[39m\"\"\"All callers to this function MUST hold self._waitpid_lock.\"\"\"\u001b[39;00m\n\u001b[1;32m   1874\u001b[0m \u001b[39mtry\u001b[39;00m:\n\u001b[0;32m-> 1875\u001b[0m     (pid, sts) \u001b[39m=\u001b[39m os\u001b[39m.\u001b[39;49mwaitpid(\u001b[39mself\u001b[39;49m\u001b[39m.\u001b[39;49mpid, wait_flags)\n\u001b[1;32m   1876\u001b[0m \u001b[39mexcept\u001b[39;00m \u001b[39mChildProcessError\u001b[39;00m:\n\u001b[1;32m   1877\u001b[0m     \u001b[39m# This happens if SIGCLD is set to be ignored or waiting\u001b[39;00m\n\u001b[1;32m   1878\u001b[0m     \u001b[39m# for child processes has otherwise been disabled for our\u001b[39;00m\n\u001b[1;32m   1879\u001b[0m     \u001b[39m# process.  This child is dead, we can't get the status.\u001b[39;00m\n\u001b[1;32m   1880\u001b[0m     pid \u001b[39m=\u001b[39m \u001b[39mself\u001b[39m\u001b[39m.\u001b[39mpid\n",
      "\u001b[0;31mKeyboardInterrupt\u001b[0m: "
     ]
    }
   ],
   "source": [
    "# Lists for storage\n",
    "fO2s = []\n",
    "pH = []\n",
    "\n",
    "# Iterate over all pressures in the column\n",
    "for i in range(len(columnP)):\n",
    "    workingP = columnP[i]\n",
    "    workingT = columnT[i]\n",
    "    \n",
    "    # if we are just starting, we want to pull the EQ3 fluid data from the datafile\n",
    "    if i == 0:\n",
    "        # Create our starting EQ3 fluid\n",
    "        # Fluid molalities from above. Here we use the values for DMM only as a test\n",
    "        molalitiesDMM = {'NA+': molalitiesDict['NA_DMM'],\n",
    "                         'CA+2': molalitiesDict['CA_DMM'],\n",
    "                         'MG+2': molalitiesDict['MG_DMM'],\n",
    "                         'AL+3': molalitiesDict['AL_DMM'],\n",
    "                         'H4SIO4(AQ)': molalitiesDict['SI_DMM'],\n",
    "                         'CO3-2' : molalitiesDict['C_DMM'],\n",
    "                         'CL-': molalitiesDict['CL_DMM'],\n",
    "                         'FE+2': molalitiesDict['FE_DMM']}\n",
    "        print('hi')\n",
    "        # Select DMM fO2 which is interpolated from above - can try different values here if needed to. Interpolation is a bit iffy but works as a first pass\n",
    "        fO2DMM = molalitiesDict['fO2_DMM']\n",
    "        dewFluid = pyDEW.Fluid(dew_system, workingT, workingP, molalities=molalitiesDMM, fO2=-20.0,\n",
    "                               uebal='H+', uacion='CL-', nxmods=nxmods, aH2O_mode='molfraction')\n",
    "        print('hi')\n",
    "    else:\n",
    "        # Use the final results of that calculation\n",
    "        molalitiesDMM = {'NA+': lastElements['Na'],\n",
    "                         'CA+2': lastElements['Ca'],\n",
    "                         'MG+2': lastElements['Mg'],\n",
    "                         'AL+3': lastElements['Al'],\n",
    "                         'H4SIO4(AQ)': lastElements['Si'],\n",
    "                         'CO3-2' : lastElements['C'],\n",
    "                         'CL-': lastElements['Cl'],\n",
    "                         'FE+2': lastElements['Fe']}\n",
    "        molalitiesDMM.update((k, 10**v) for k, v in molalitiesDMM.items()) # All reported as log(molal) in pyDEW output\n",
    "        fO2DMM = dewReaction.fO2[-1]\n",
    "        \n",
    "        dewFluid = pyDEW.Fluid(dew_system, workingT, workingP, molalities=molalitiesDMM, fO2=-20.0,\n",
    "                               uebal='H+', uacion='CL-', nxmods=nxmods, aH2O_mode='molfraction')\n",
    "    print(fO2DMM)\n",
    "    print(molalitiesDMM)\n",
    "    dewReaction = pyDEW.Reaction(dewFluid, workingT, workingP, reactants, calculation_mode='titration')\n",
    "    pH.append(dewReaction.pH[-1])\n",
    "    lastElements = dewReaction.elements.iloc[-1]\n",
    "    lastSpecies = dewReaction.species_concs.iloc[-1]\n",
    "    \n",
    "    # If we are just starting, create a new dataframe\n",
    "    if i == 0:\n",
    "        elementsDF = lastElements.to_frame().T\n",
    "        speciesDF = lastSpecies.to_frame().T\n",
    "    # else concat to the previous dataframe which has been created\n",
    "    else:\n",
    "        tempElementsDF = lastElements.to_frame().T\n",
    "        elementsDF = pd.concat([elementsDF, tempElementsDF])\n",
    "        tempSpeciesDF = lastSpecies.to_frame().T\n",
    "        speciesDF = pd.concat([speciesDF, tempSpeciesDF])\n",
    "    fO2s.append(fO2DMM)\n",
    "    print('done ' + str(workingP/1000))  # For tracking progress\n",
    "    \n",
    "    # # Debugging break\n",
    "    # if workingP == 17500:  # this pressure because in the 0.5 run this is where the thing breaks\n",
    "    #     break\n",
    "speciesNames = list(dewReaction.species_concs.columns)\n",
    "speciesDF.reset_index(inplace=True)\n",
    "elementsDF.reset_index(inplace=True)\n"
   ]
  },
  {
   "cell_type": "code",
   "execution_count": null,
   "id": "07f5cb0f-1957-4a74-9c71-72a23dccf27d",
   "metadata": {},
   "outputs": [],
   "source": [
    "# speciesDF.to_csv('speciesp5kbar.csv')\n",
    "# elementsDF.to_csv('elementsp5kbar.csv')"
   ]
  },
  {
   "cell_type": "code",
   "execution_count": null,
   "id": "dd980650-b2f7-438f-9760-7b7d03e4b9cb",
   "metadata": {},
   "outputs": [],
   "source": [
    "#print(speciesDF.columns)\n",
    "columnPkbar = [P/1000 for P in columnP]\n",
    "fig2, ax2 = plt.subplots()\n",
    "ax2.scatter(speciesDF['METHANE(AQ)'], columnPkbar, c='r', label='Aqueous CH4')\n",
    "ax2.scatter(speciesDF['H2(AQ)'], columnPkbar, c='b', label='Aqueous H2')\n",
    "ax2.set_xlabel('log(molality)')\n",
    "ax2.set_ylabel('Pressure (kbar)')\n",
    "ax2.invert_yaxis()\n",
    "ax2.legend()\n",
    "plt.show()"
   ]
  },
  {
   "cell_type": "code",
   "execution_count": null,
   "id": "c2eff993-a091-40be-903f-c509f5fbaede",
   "metadata": {},
   "outputs": [],
   "source": [
    "fig3, ax3 = plt.subplots()\n",
    "ax3.scatter(pH, columnPkbar)\n",
    "ax3.set_xlabel('pH')\n",
    "ax3.set_ylabel('Pressure (kbar)')\n",
    "ax3.invert_yaxis()\n",
    "plt.show()"
   ]
  },
  {
   "cell_type": "code",
   "execution_count": null,
   "id": "81267ef2-d326-435e-9fd9-9ed465e76acc",
   "metadata": {},
   "outputs": [],
   "source": []
  }
 ],
 "metadata": {
  "kernelspec": {
   "display_name": "Python 3 (ipykernel)",
   "language": "python",
   "name": "python3"
  },
  "language_info": {
   "codemirror_mode": {
    "name": "ipython",
    "version": 3
   },
   "file_extension": ".py",
   "mimetype": "text/x-python",
   "name": "python",
   "nbconvert_exporter": "python",
   "pygments_lexer": "ipython3",
   "version": "3.9.13"
  }
 },
 "nbformat": 4,
 "nbformat_minor": 5
}

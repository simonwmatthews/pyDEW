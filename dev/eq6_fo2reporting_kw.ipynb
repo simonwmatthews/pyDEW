{
 "cells": [
  {
   "cell_type": "code",
   "execution_count": 2,
   "metadata": {},
   "outputs": [
    {
     "name": "stdout",
     "output_type": "stream",
     "text": [
      "/Users/sm905/repos/pyDEW\n",
      "/Users/sm905/repos/pyDEW/dev\n"
     ]
    }
   ],
   "source": [
    "%cd ..\n",
    "import pyDEW\n",
    "%cd dev"
   ]
  },
  {
   "cell_type": "code",
   "execution_count": 11,
   "metadata": {},
   "outputs": [
    {
     "name": "stdout",
     "output_type": "stream",
     "text": [
      "/Users/sm905/repos/pyDEW/dev\n"
     ]
    }
   ],
   "source": [
    "%cd dev"
   ]
  },
  {
   "cell_type": "code",
   "execution_count": 4,
   "metadata": {},
   "outputs": [
    {
     "name": "stderr",
     "output_type": "stream",
     "text": [
      "/Users/sm905/opt/anaconda3/lib/python3.9/site-packages/thermoengine/model.py:184: FutureWarning: The frame.append method is deprecated and will be removed from pandas in a future version. Use pandas.concat instead.\n",
      "  self._phase_info = self._phase_info.append(phs_info, ignore_index=True)\n",
      "/Users/sm905/opt/anaconda3/lib/python3.9/site-packages/thermoengine/model.py:184: FutureWarning: The frame.append method is deprecated and will be removed from pandas in a future version. Use pandas.concat instead.\n",
      "  self._phase_info = self._phase_info.append(phs_info, ignore_index=True)\n",
      "/Users/sm905/opt/anaconda3/lib/python3.9/site-packages/thermoengine/model.py:184: FutureWarning: The frame.append method is deprecated and will be removed from pandas in a future version. Use pandas.concat instead.\n",
      "  self._phase_info = self._phase_info.append(phs_info, ignore_index=True)\n",
      "/Users/sm905/opt/anaconda3/lib/python3.9/site-packages/thermoengine/model.py:184: FutureWarning: The frame.append method is deprecated and will be removed from pandas in a future version. Use pandas.concat instead.\n",
      "  self._phase_info = self._phase_info.append(phs_info, ignore_index=True)\n",
      "/Users/sm905/opt/anaconda3/lib/python3.9/site-packages/thermoengine/model.py:184: FutureWarning: The frame.append method is deprecated and will be removed from pandas in a future version. Use pandas.concat instead.\n",
      "  self._phase_info = self._phase_info.append(phs_info, ignore_index=True)\n",
      "/Users/sm905/opt/anaconda3/lib/python3.9/site-packages/thermoengine/model.py:184: FutureWarning: The frame.append method is deprecated and will be removed from pandas in a future version. Use pandas.concat instead.\n",
      "  self._phase_info = self._phase_info.append(phs_info, ignore_index=True)\n"
     ]
    }
   ],
   "source": [
    "molalities = {'NA+':0.05,\n",
    "              'CL-':0.05}\n",
    "mineral_eq = {'H4SIO4(AQ)':['ORTHOPYROXENE(SS)','ENSTATITE_OR'],\n",
    "              'MG+2':['OLIVINE(SS)','FORSTERITE'],\n",
    "              'FE+2':['OLIVINE(SS)','FAYALITE'],\n",
    "              'O2(G)':'MAGNETITE'}\n",
    "solid_solutions = {'OLIVINE(SS)':{'FORSTERITE':0.9, 'FAYALITE':0.1},\n",
    "                   'ORTHOPYROXENE(SS)':{'ENSTATITE_OR':0.8,'FERROSILITE':0.2}}\n",
    "T = 350.0 + 273.15\n",
    "P = 10000.0\n",
    "dew_system = pyDEW.System()"
   ]
  },
  {
   "cell_type": "code",
   "execution_count": 5,
   "metadata": {},
   "outputs": [],
   "source": [
    "dew_fluid = pyDEW.Fluid(dew_system, T, P, molalities=molalities, mineral_eq=mineral_eq, solid_solutions=solid_solutions, uacion='NA+')"
   ]
  },
  {
   "cell_type": "code",
   "execution_count": 7,
   "metadata": {},
   "outputs": [],
   "source": [
    "reactants = [{'reactant': 'OLIVINE(SS)',\n",
    "              'moles': 2.0,\n",
    "              'composition':{'FORSTERITE':0.9,'FAYALITE':0.1}},\n",
    "             {'reactant': 'ORTHOPYROXENE(SS)',\n",
    "              'moles': 2.0,\n",
    "              'composition':{'ENSTATITE_OR':0.8,'FERROSILITE':0.2}},\n",
    "             ]"
   ]
  },
  {
   "cell_type": "code",
   "execution_count": 8,
   "metadata": {},
   "outputs": [],
   "source": [
    "dew_reaction = pyDEW.Reaction(dew_fluid, T, P, reactants, calculation_mode='titration')"
   ]
  },
  {
   "cell_type": "code",
   "execution_count": 9,
   "metadata": {},
   "outputs": [
    {
     "data": {
      "text/plain": [
       "array([-29.969 , -29.969 , -29.969 , -29.969 , -29.969 , -29.969 ,\n",
       "       -29.969 , -29.969 , -29.969 , -29.969 , -29.969 , -29.969 ,\n",
       "       -29.969 , -29.969 , -29.969 , -29.969 , -29.969 , -29.969 ,\n",
       "       -29.969 , -29.969 , -29.969 , -29.969 , -29.969 , -29.969 ,\n",
       "       -29.969 , -29.969 , -29.969 , -29.969 , -29.969 , -29.969 ,\n",
       "       -29.969 , -29.969 , -29.969 , -29.969 , -29.969 , -29.969 ,\n",
       "       -29.969 , -29.969 , -29.969 , -29.969 , -29.969 , -29.969 ,\n",
       "       -29.969 , -29.969 , -29.969 , -29.969 , -29.969 , -29.969 ,\n",
       "       -29.969 , -29.969 , -29.969 , -29.969 , -29.969 , -29.969 ,\n",
       "       -29.969 , -29.969 , -29.969 , -29.969 , -29.969 , -29.9691,\n",
       "       -29.9695, -29.9699, -29.9705, -29.971 , -29.9717, -29.9724,\n",
       "       -29.9732, -29.9742, -29.9752, -29.9764, -29.9776, -29.9791,\n",
       "       -29.9807, -29.9825, -29.9846, -29.9869, -29.9894, -29.9923,\n",
       "       -29.9955, -29.999 , -30.003 , -30.0075, -30.0124, -30.018 ,\n",
       "       -30.0241, -30.031 , -30.0386, -30.0471, -30.0566, -30.0671,\n",
       "       -30.0787, -30.0915, -30.1057, -30.1213, -30.1385, -30.1575,\n",
       "       -30.1782, -30.2009, -30.2257, -30.2527, -30.282 , -30.3138,\n",
       "       -30.3481, -30.3851, -30.4248, -30.4673, -30.5126, -30.5608,\n",
       "       -30.6118, -30.6658, -30.7225, -30.7821, -30.8444, -30.9094,\n",
       "       -30.977 , -31.0471, -31.1195, -31.1941, -31.2709, -31.3497,\n",
       "       -31.4303, -31.5127, -31.5967, -31.6822, -31.7691, -31.8573,\n",
       "       -31.9466, -32.037 , -32.1283, -32.2206, -32.2689, -32.2722,\n",
       "       -32.281 , -32.2908, -32.3017, -32.314 , -32.3278, -32.3433,\n",
       "       -32.3605, -32.3799, -32.4015, -32.4256, -32.4525, -32.4824,\n",
       "       -32.5157, -32.5527, -32.5935, -32.6386, -32.6881, -32.7422,\n",
       "       -32.8011, -32.8648, -32.9333, -33.0064, -33.084 , -33.1656,\n",
       "       -33.251 , -33.3397, -33.4311, -33.525 , -33.6208, -33.7182,\n",
       "       -33.8168, -33.9164, -33.9164])"
      ]
     },
     "execution_count": 9,
     "metadata": {},
     "output_type": "execute_result"
    }
   ],
   "source": [
    "dew_reaction.fO2"
   ]
  },
  {
   "cell_type": "code",
   "execution_count": null,
   "metadata": {},
   "outputs": [],
   "source": []
  }
 ],
 "metadata": {
  "kernelspec": {
   "display_name": "base",
   "language": "python",
   "name": "python3"
  },
  "language_info": {
   "codemirror_mode": {
    "name": "ipython",
    "version": 3
   },
   "file_extension": ".py",
   "mimetype": "text/x-python",
   "name": "python",
   "nbconvert_exporter": "python",
   "pygments_lexer": "ipython3",
   "version": "3.9.13"
  }
 },
 "nbformat": 4,
 "nbformat_minor": 2
}

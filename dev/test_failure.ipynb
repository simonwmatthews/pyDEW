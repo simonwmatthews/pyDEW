{
 "cells": [
  {
   "cell_type": "code",
   "execution_count": 1,
   "metadata": {},
   "outputs": [
    {
     "name": "stdout",
     "output_type": "stream",
     "text": [
      "/Users/sm905/repos/pyDEW\n",
      "/Users/sm905/repos/pyDEW/dev\n"
     ]
    }
   ],
   "source": [
    "%cd ..\n",
    "import pyDEW\n",
    "%cd dev"
   ]
  },
  {
   "cell_type": "code",
   "execution_count": 3,
   "metadata": {},
   "outputs": [
    {
     "name": "stdout",
     "output_type": "stream",
     "text": [
      "/Users/sm905/repos/pyDEW/dev\n"
     ]
    }
   ],
   "source": [
    "%cd dev"
   ]
  },
  {
   "cell_type": "code",
   "execution_count": 2,
   "metadata": {},
   "outputs": [
    {
     "name": "stderr",
     "output_type": "stream",
     "text": [
      "/Users/sm905/opt/anaconda3/lib/python3.9/site-packages/thermoengine/model.py:184: FutureWarning: The frame.append method is deprecated and will be removed from pandas in a future version. Use pandas.concat instead.\n",
      "  self._phase_info = self._phase_info.append(phs_info, ignore_index=True)\n",
      "/Users/sm905/opt/anaconda3/lib/python3.9/site-packages/thermoengine/model.py:184: FutureWarning: The frame.append method is deprecated and will be removed from pandas in a future version. Use pandas.concat instead.\n",
      "  self._phase_info = self._phase_info.append(phs_info, ignore_index=True)\n",
      "/Users/sm905/opt/anaconda3/lib/python3.9/site-packages/thermoengine/model.py:184: FutureWarning: The frame.append method is deprecated and will be removed from pandas in a future version. Use pandas.concat instead.\n",
      "  self._phase_info = self._phase_info.append(phs_info, ignore_index=True)\n",
      "/Users/sm905/opt/anaconda3/lib/python3.9/site-packages/thermoengine/model.py:184: FutureWarning: The frame.append method is deprecated and will be removed from pandas in a future version. Use pandas.concat instead.\n",
      "  self._phase_info = self._phase_info.append(phs_info, ignore_index=True)\n",
      "/Users/sm905/opt/anaconda3/lib/python3.9/site-packages/thermoengine/model.py:184: FutureWarning: The frame.append method is deprecated and will be removed from pandas in a future version. Use pandas.concat instead.\n",
      "  self._phase_info = self._phase_info.append(phs_info, ignore_index=True)\n",
      "/Users/sm905/opt/anaconda3/lib/python3.9/site-packages/thermoengine/model.py:184: FutureWarning: The frame.append method is deprecated and will be removed from pandas in a future version. Use pandas.concat instead.\n",
      "  self._phase_info = self._phase_info.append(phs_info, ignore_index=True)\n"
     ]
    }
   ],
   "source": [
    "molalities = {'NA+':0.05,\n",
    "              'CL-':0.05}\n",
    "mineral_eq = {'H4SIO4(AQ)':['ORTHOPYROXENE(SS)','ENSTATITE_OR'],\n",
    "              'MG+2':['OLIVINE(SS)','FORSTERITE'],\n",
    "              'FE+2':['OLIVINE(SS)','FAYALITE'],\n",
    "              'O2(G)':'MAGNETITE'}\n",
    "solid_solutions = {'OLIVINE(SS)':{'FORSTERITE':0.9, 'FAYALITE':0.1},\n",
    "                   'ORTHOPYROXENE(SS)':{'ENSTATITE_OR':0.8,'FERROSILITE':0.2}}\n",
    "T = 350.0 + 273.15\n",
    "P = 10000.0\n",
    "dew_system = pyDEW.System()"
   ]
  },
  {
   "cell_type": "code",
   "execution_count": 8,
   "metadata": {},
   "outputs": [],
   "source": [
    "dew_fluid = pyDEW.Fluid(dew_system, T, P, molalities=molalities, mineral_eq=mineral_eq, solid_solutions=solid_solutions, uacion='NA+')"
   ]
  },
  {
   "cell_type": "code",
   "execution_count": 9,
   "metadata": {},
   "outputs": [],
   "source": [
    "reactants = [{'reactant': 'OLIVINE(SS)',\n",
    "              'moles': 2.0,\n",
    "              'composition':{'FORSTERITE':0.9,'FAYALITE':0.1}},\n",
    "             {'reactant': 'ORTHOPYROXENE(SS)',\n",
    "              'moles': 2.0,\n",
    "              'composition':{'ENSTATITE_OR':0.8,'FERROSILITE':0.2}},\n",
    "             {'reactant': 'DIAMOND',\n",
    "              'moles': 0.2}]"
   ]
  },
  {
   "cell_type": "code",
   "execution_count": 10,
   "metadata": {},
   "outputs": [
    {
     "ename": "RunError",
     "evalue": "EQ6 returned an error. Check the output file for more information. It is most likely that an incorrect reactant has been specified.",
     "output_type": "error",
     "traceback": [
      "\u001b[0;31m---------------------------------------------------------------------------\u001b[0m",
      "\u001b[0;31mRunError\u001b[0m                                  Traceback (most recent call last)",
      "Input \u001b[0;32mIn [10]\u001b[0m, in \u001b[0;36m<cell line: 1>\u001b[0;34m()\u001b[0m\n\u001b[0;32m----> 1\u001b[0m dew_reaction \u001b[38;5;241m=\u001b[39m \u001b[43mpyDEW\u001b[49m\u001b[38;5;241;43m.\u001b[39;49m\u001b[43mReaction\u001b[49m\u001b[43m(\u001b[49m\u001b[43mdew_fluid\u001b[49m\u001b[43m,\u001b[49m\u001b[43m \u001b[49m\u001b[43mT\u001b[49m\u001b[43m,\u001b[49m\u001b[43m \u001b[49m\u001b[43mP\u001b[49m\u001b[43m,\u001b[49m\u001b[43m \u001b[49m\u001b[43mreactants\u001b[49m\u001b[43m,\u001b[49m\u001b[43m \u001b[49m\u001b[43mcalculation_mode\u001b[49m\u001b[38;5;241;43m=\u001b[39;49m\u001b[38;5;124;43m'\u001b[39;49m\u001b[38;5;124;43mtitration\u001b[39;49m\u001b[38;5;124;43m'\u001b[39;49m\u001b[43m)\u001b[49m\n",
      "File \u001b[0;32m~/repos/pyDEW/pyDEW/reaction.py:169\u001b[0m, in \u001b[0;36mreaction.__init__\u001b[0;34m(self, fluid, T, P, reactants, bulk_composition, bulk_composition_units, mols_bulk_composition, dT, calculation_mode, point_calculation, zimax, eq6_executable_name, eq3_working_directory, eqpt_working_directory, eq6_working_directory, eqpt_executable_name, dummy_temperature)\u001b[0m\n\u001b[1;32m    166\u001b[0m core\u001b[38;5;241m.\u001b[39mrun_eq6(eq6_working_directory, eq6_executable_name)\n\u001b[1;32m    168\u001b[0m \u001b[38;5;66;03m# Read the output file\u001b[39;00m\n\u001b[0;32m--> 169\u001b[0m \u001b[38;5;28mself\u001b[39m\u001b[38;5;241m.\u001b[39moutput \u001b[38;5;241m=\u001b[39m \u001b[43meq6_output\u001b[49m\u001b[38;5;241;43m.\u001b[39;49m\u001b[43meq6output\u001b[49m\u001b[43m(\u001b[49m\u001b[43mfluid\u001b[49m\u001b[43m,\u001b[49m\n\u001b[1;32m    170\u001b[0m \u001b[43m                                   \u001b[49m\u001b[43mtab_filepath\u001b[49m\u001b[38;5;241;43m=\u001b[39;49m\u001b[43meq6_working_directory\u001b[49m\u001b[38;5;241;43m+\u001b[39;49m\u001b[38;5;124;43m'\u001b[39;49m\u001b[38;5;124;43m/tab\u001b[39;49m\u001b[38;5;124;43m'\u001b[39;49m\u001b[43m,\u001b[49m\n\u001b[1;32m    171\u001b[0m \u001b[43m                                   \u001b[49m\u001b[43moutput_filepath\u001b[49m\u001b[38;5;241;43m=\u001b[39;49m\u001b[43meq6_working_directory\u001b[49m\u001b[38;5;241;43m+\u001b[39;49m\u001b[38;5;124;43m'\u001b[39;49m\u001b[38;5;124;43m/output\u001b[39;49m\u001b[38;5;124;43m'\u001b[39;49m\u001b[43m)\u001b[49m\n\u001b[1;32m    172\u001b[0m \u001b[38;5;28mself\u001b[39m\u001b[38;5;241m.\u001b[39mminerals \u001b[38;5;241m=\u001b[39m \u001b[38;5;28mself\u001b[39m\u001b[38;5;241m.\u001b[39moutput\u001b[38;5;241m.\u001b[39mminerals\n\u001b[1;32m    173\u001b[0m \u001b[38;5;28mself\u001b[39m\u001b[38;5;241m.\u001b[39msolid_solutions \u001b[38;5;241m=\u001b[39m \u001b[38;5;28mself\u001b[39m\u001b[38;5;241m.\u001b[39moutput\u001b[38;5;241m.\u001b[39msolid_solutions\n",
      "File \u001b[0;32m~/repos/pyDEW/pyDEW/eq6_output.py:39\u001b[0m, in \u001b[0;36meq6output.__init__\u001b[0;34m(self, fluid, tab_filepath, output_filepath)\u001b[0m\n\u001b[1;32m     37\u001b[0m \u001b[38;5;66;03m# Check for any reported input errors on the output file\u001b[39;00m\n\u001b[1;32m     38\u001b[0m \u001b[38;5;28;01mif\u001b[39;00m \u001b[38;5;28mself\u001b[39m\u001b[38;5;241m.\u001b[39mcheck_for_errors(output_filepath) \u001b[38;5;129;01mis\u001b[39;00m \u001b[38;5;28;01mFalse\u001b[39;00m:\n\u001b[0;32m---> 39\u001b[0m     \u001b[38;5;28;01mraise\u001b[39;00m core\u001b[38;5;241m.\u001b[39mRunError(\u001b[38;5;124m\"\u001b[39m\u001b[38;5;124mEQ6 returned an error. Check the output file for more information. \u001b[39m\u001b[38;5;124m\"\u001b[39m\n\u001b[1;32m     40\u001b[0m                         \u001b[38;5;124m\"\u001b[39m\u001b[38;5;124mIt is most likely that an incorrect reactant has been specified.\u001b[39m\u001b[38;5;124m\"\u001b[39m)\n\u001b[1;32m     42\u001b[0m \u001b[38;5;28;01mtry\u001b[39;00m:\n\u001b[1;32m     43\u001b[0m     \u001b[38;5;28mself\u001b[39m\u001b[38;5;241m.\u001b[39mread_ph(tab_filepath)\n",
      "\u001b[0;31mRunError\u001b[0m: EQ6 returned an error. Check the output file for more information. It is most likely that an incorrect reactant has been specified."
     ]
    }
   ],
   "source": [
    "dew_reaction = pyDEW.Reaction(dew_fluid, T, P, reactants, calculation_mode='titration')"
   ]
  },
  {
   "cell_type": "code",
   "execution_count": 7,
   "metadata": {},
   "outputs": [
    {
     "ename": "RunError",
     "evalue": "No output file found. Most likely the calculation failed.",
     "output_type": "error",
     "traceback": [
      "\u001b[0;31m---------------------------------------------------------------------------\u001b[0m",
      "\u001b[0;31mRunError\u001b[0m                                  Traceback (most recent call last)",
      "Input \u001b[0;32mIn [7]\u001b[0m, in \u001b[0;36m<cell line: 1>\u001b[0;34m()\u001b[0m\n\u001b[0;32m----> 1\u001b[0m \u001b[43mpyDEW\u001b[49m\u001b[38;5;241;43m.\u001b[39;49m\u001b[43meq6_output\u001b[49m\u001b[38;5;241;43m.\u001b[39;49m\u001b[43meq6output\u001b[49m\u001b[43m(\u001b[49m\u001b[43mdew_fluid\u001b[49m\u001b[43m,\u001b[49m\u001b[43m \u001b[49m\u001b[43mtab_filepath\u001b[49m\u001b[38;5;241;43m=\u001b[39;49m\u001b[38;5;124;43m'\u001b[39;49m\u001b[38;5;124;43mworking/tab\u001b[39;49m\u001b[38;5;124;43m'\u001b[39;49m\u001b[43m,\u001b[49m\u001b[43m \u001b[49m\u001b[43moutput_filepath\u001b[49m\u001b[38;5;241;43m=\u001b[39;49m\u001b[38;5;124;43m'\u001b[39;49m\u001b[38;5;124;43mworking/output\u001b[39;49m\u001b[38;5;124;43m'\u001b[39;49m\u001b[43m)\u001b[49m\n",
      "File \u001b[0;32m~/repos/pyDEW/pyDEW/eq6_output.py:32\u001b[0m, in \u001b[0;36meq6output.__init__\u001b[0;34m(self, fluid, tab_filepath, output_filepath)\u001b[0m\n\u001b[1;32m     30\u001b[0m \u001b[38;5;66;03m# Check if an output file exists, if not the calculation probably failed immediately\u001b[39;00m\n\u001b[1;32m     31\u001b[0m \u001b[38;5;28;01mif\u001b[39;00m os\u001b[38;5;241m.\u001b[39mpath\u001b[38;5;241m.\u001b[39mexists(output_filepath) \u001b[38;5;129;01mis\u001b[39;00m \u001b[38;5;28;01mFalse\u001b[39;00m:\n\u001b[0;32m---> 32\u001b[0m     \u001b[38;5;28;01mraise\u001b[39;00m core\u001b[38;5;241m.\u001b[39mRunError(\u001b[38;5;124m\"\u001b[39m\u001b[38;5;124mNo output file found. Most likely the calculation failed.\u001b[39m\u001b[38;5;124m\"\u001b[39m)\n\u001b[1;32m     33\u001b[0m \u001b[38;5;66;03m# Check if the tab file exists, if not the calculation probably failed immediately\u001b[39;00m\n\u001b[1;32m     34\u001b[0m \u001b[38;5;28;01mif\u001b[39;00m os\u001b[38;5;241m.\u001b[39mpath\u001b[38;5;241m.\u001b[39mexists(tab_filepath) \u001b[38;5;129;01mis\u001b[39;00m \u001b[38;5;28;01mFalse\u001b[39;00m:\n",
      "\u001b[0;31mRunError\u001b[0m: No output file found. Most likely the calculation failed."
     ]
    }
   ],
   "source": [
    "pyDEW.eq6_output.eq6output(dew_fluid, tab_filepath='working/tab', output_filepath='working/output')"
   ]
  },
  {
   "cell_type": "code",
   "execution_count": null,
   "metadata": {},
   "outputs": [],
   "source": []
  }
 ],
 "metadata": {
  "kernelspec": {
   "display_name": "base",
   "language": "python",
   "name": "python3"
  },
  "language_info": {
   "codemirror_mode": {
    "name": "ipython",
    "version": 3
   },
   "file_extension": ".py",
   "mimetype": "text/x-python",
   "name": "python",
   "nbconvert_exporter": "python",
   "pygments_lexer": "ipython3",
   "version": "3.9.13"
  }
 },
 "nbformat": 4,
 "nbformat_minor": 2
}

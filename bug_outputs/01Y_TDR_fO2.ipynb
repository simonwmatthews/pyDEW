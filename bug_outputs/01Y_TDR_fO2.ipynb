{
 "cells": [
  {
   "cell_type": "markdown",
   "id": "a9ab9975-a859-4f87-bf53-42286ed21f74",
   "metadata": {},
   "source": [
    "# 01. Time decompression relay\n",
    "TDR, but with the key parts in a separate script for convenience.\n",
    "\n",
    "This version uses the relayed fO2 of the EQ3 fluid rather than the fO2 set by the solid."
   ]
  },
  {
   "cell_type": "code",
   "execution_count": 2,
   "id": "e16b6604-2f36-41f2-ac3c-66e7cf2c1afe",
   "metadata": {},
   "outputs": [
    {
     "ename": "ImportError",
     "evalue": "Building module dew2019 failed: [\"ImportError: dlopen(/Users/sm905/.pyxbld/lib.macosx-11.0-arm64-cpython-39/dew2019.cpython-39-darwin.so, 0x0002): Library not loaded: ./src/libswimdew.dylib\\n  Referenced from: <A9D450D0-EC48-3B45-8FDF-434C6699B9A8> /Users/sm905/.pyxbld/lib.macosx-11.0-arm64-cpython-39/dew2019.cpython-39-darwin.so\\n  Reason: tried: './src/libswimdew.dylib' (no such file), '/System/Volumes/Preboot/Cryptexes/OS./src/libswimdew.dylib' (no such file), './src/libswimdew.dylib' (no such file)\\n\"]",
     "output_type": "error",
     "traceback": [
      "\u001b[0;31m---------------------------------------------------------------------------\u001b[0m",
      "\u001b[0;31mImportError\u001b[0m                               Traceback (most recent call last)",
      "File \u001b[0;32m~/opt/anaconda3/lib/python3.9/site-packages/pyximport/pyximport.py:216\u001b[0m, in \u001b[0;36mload_module\u001b[0;34m(name, pyxfilename, pyxbuild_dir, is_package, build_inplace, language_level, so_path)\u001b[0m\n\u001b[1;32m    214\u001b[0m     so_path \u001b[38;5;241m=\u001b[39m build_module(module_name, pyxfilename, pyxbuild_dir,\n\u001b[1;32m    215\u001b[0m                            inplace\u001b[38;5;241m=\u001b[39mbuild_inplace, language_level\u001b[38;5;241m=\u001b[39mlanguage_level)\n\u001b[0;32m--> 216\u001b[0m mod \u001b[38;5;241m=\u001b[39m \u001b[43mimp\u001b[49m\u001b[38;5;241;43m.\u001b[39;49m\u001b[43mload_dynamic\u001b[49m\u001b[43m(\u001b[49m\u001b[43mname\u001b[49m\u001b[43m,\u001b[49m\u001b[43m \u001b[49m\u001b[43mso_path\u001b[49m\u001b[43m)\u001b[49m\n\u001b[1;32m    217\u001b[0m \u001b[38;5;28;01mif\u001b[39;00m is_package \u001b[38;5;129;01mand\u001b[39;00m \u001b[38;5;129;01mnot\u001b[39;00m \u001b[38;5;28mhasattr\u001b[39m(mod, \u001b[38;5;124m'\u001b[39m\u001b[38;5;124m__path__\u001b[39m\u001b[38;5;124m'\u001b[39m):\n",
      "File \u001b[0;32m~/opt/anaconda3/lib/python3.9/imp.py:342\u001b[0m, in \u001b[0;36mload_dynamic\u001b[0;34m(name, path, file)\u001b[0m\n\u001b[1;32m    340\u001b[0m spec \u001b[38;5;241m=\u001b[39m importlib\u001b[38;5;241m.\u001b[39mmachinery\u001b[38;5;241m.\u001b[39mModuleSpec(\n\u001b[1;32m    341\u001b[0m     name\u001b[38;5;241m=\u001b[39mname, loader\u001b[38;5;241m=\u001b[39mloader, origin\u001b[38;5;241m=\u001b[39mpath)\n\u001b[0;32m--> 342\u001b[0m \u001b[38;5;28;01mreturn\u001b[39;00m \u001b[43m_load\u001b[49m\u001b[43m(\u001b[49m\u001b[43mspec\u001b[49m\u001b[43m)\u001b[49m\n",
      "File \u001b[0;32m<frozen importlib._bootstrap>:711\u001b[0m, in \u001b[0;36m_load\u001b[0;34m(spec)\u001b[0m\n",
      "File \u001b[0;32m<frozen importlib._bootstrap>:666\u001b[0m, in \u001b[0;36m_load_unlocked\u001b[0;34m(spec)\u001b[0m\n",
      "File \u001b[0;32m<frozen importlib._bootstrap>:565\u001b[0m, in \u001b[0;36mmodule_from_spec\u001b[0;34m(spec)\u001b[0m\n",
      "File \u001b[0;32m<frozen importlib._bootstrap_external>:1173\u001b[0m, in \u001b[0;36mcreate_module\u001b[0;34m(self, spec)\u001b[0m\n",
      "File \u001b[0;32m<frozen importlib._bootstrap>:228\u001b[0m, in \u001b[0;36m_call_with_frames_removed\u001b[0;34m(f, *args, **kwds)\u001b[0m\n",
      "\u001b[0;31mImportError\u001b[0m: dlopen(/Users/sm905/.pyxbld/lib.macosx-11.0-arm64-cpython-39/dew2019.cpython-39-darwin.so, 0x0002): Library not loaded: ./src/libswimdew.dylib\n  Referenced from: <A9D450D0-EC48-3B45-8FDF-434C6699B9A8> /Users/sm905/.pyxbld/lib.macosx-11.0-arm64-cpython-39/dew2019.cpython-39-darwin.so\n  Reason: tried: './src/libswimdew.dylib' (no such file), '/System/Volumes/Preboot/Cryptexes/OS./src/libswimdew.dylib' (no such file), './src/libswimdew.dylib' (no such file)",
      "\nDuring handling of the above exception, another exception occurred:\n",
      "\u001b[0;31mImportError\u001b[0m                               Traceback (most recent call last)",
      "Input \u001b[0;32mIn [2]\u001b[0m, in \u001b[0;36m<cell line: 1>\u001b[0;34m()\u001b[0m\n\u001b[1;32m      1\u001b[0m \u001b[38;5;28;01mwith\u001b[39;00m \u001b[38;5;28mopen\u001b[39m(\u001b[38;5;124m'\u001b[39m\u001b[38;5;124mTDR_preamble_fO2.py\u001b[39m\u001b[38;5;124m'\u001b[39m) \u001b[38;5;28;01mas\u001b[39;00m file:  \u001b[38;5;66;03m# THIS IS THE RELAYED FO2\u001b[39;00m\n\u001b[0;32m----> 2\u001b[0m     \u001b[43mexec\u001b[49m\u001b[43m(\u001b[49m\u001b[43mfile\u001b[49m\u001b[38;5;241;43m.\u001b[39;49m\u001b[43mread\u001b[49m\u001b[43m(\u001b[49m\u001b[43m)\u001b[49m\u001b[43m)\u001b[49m\n\u001b[1;32m      4\u001b[0m columnDF \u001b[38;5;241m=\u001b[39m pd\u001b[38;5;241m.\u001b[39mread_csv(\u001b[38;5;124m'\u001b[39m\u001b[38;5;124mcolumns/output_75km_0p1inv.csv\u001b[39m\u001b[38;5;124m'\u001b[39m)\n",
      "File \u001b[0;32m<string>:41\u001b[0m, in \u001b[0;36m<module>\u001b[0;34m\u001b[0m\n",
      "File \u001b[0;32m~/opt/anaconda3/lib/python3.9/site-packages/pyDEW/system.py:121\u001b[0m, in \u001b[0;36msystem.__init__\u001b[0;34m(self, elements, basis_species, other_species, dummy_species, minerals, solid_solutions, gases, hydrated_species, ion_size, mineral_NaK_adjustment, carbon_activity_mode, huang_CO2_coeff)\u001b[0m\n\u001b[1;32m    119\u001b[0m         find_species\u001b[38;5;241m.\u001b[39mappend(sp)\n\u001b[1;32m    120\u001b[0m \u001b[38;5;28;01mif\u001b[39;00m \u001b[38;5;28mlen\u001b[39m(find_species) \u001b[38;5;241m>\u001b[39m \u001b[38;5;241m0\u001b[39m:\n\u001b[0;32m--> 121\u001b[0m     dewdb \u001b[38;5;241m=\u001b[39m \u001b[43mcore\u001b[49m\u001b[38;5;241;43m.\u001b[39;49m\u001b[43mDEW_species\u001b[49m\u001b[43m(\u001b[49m\u001b[43m)\u001b[49m\n\u001b[1;32m    123\u001b[0m \u001b[38;5;66;03m# If any of the mineral names are strings, import DEW_MINERALS:\u001b[39;00m\n\u001b[1;32m    124\u001b[0m find_minerals \u001b[38;5;241m=\u001b[39m []\n",
      "File \u001b[0;32m~/opt/anaconda3/lib/python3.9/site-packages/pyDEW/core.py:167\u001b[0m, in \u001b[0;36mDEW_species\u001b[0;34m(working_dir, pickle_file, alternative_pickle_file)\u001b[0m\n\u001b[1;32m    145\u001b[0m \u001b[38;5;28;01mdef\u001b[39;00m \u001b[38;5;21mDEW_species\u001b[39m(\n\u001b[1;32m    146\u001b[0m     working_dir\u001b[38;5;241m=\u001b[39mdir_path \u001b[38;5;241m+\u001b[39m \u001b[38;5;124m\"\u001b[39m\u001b[38;5;124m/dew2019_coderfiles\u001b[39m\u001b[38;5;124m\"\u001b[39m, pickle_file\u001b[38;5;241m=\u001b[39mdir_path \u001b[38;5;241m+\u001b[39m \u001b[38;5;124m\"\u001b[39m\u001b[38;5;124m/DEW2019.pkl\u001b[39m\u001b[38;5;124m\"\u001b[39m,\n\u001b[1;32m    147\u001b[0m     alternative_pickle_file\u001b[38;5;241m=\u001b[39mdir_path \u001b[38;5;241m+\u001b[39m \u001b[38;5;124m\"\u001b[39m\u001b[38;5;124m/DEW2019_oldTE.pkl\u001b[39m\u001b[38;5;124m\"\u001b[39m\n\u001b[1;32m    148\u001b[0m ):\n\u001b[1;32m    149\u001b[0m \u001b[38;5;250m    \u001b[39m\u001b[38;5;124;03m\"\"\"Returns the DEW2019 database (or any other database if the working_dir is set).\u001b[39;00m\n\u001b[1;32m    150\u001b[0m \n\u001b[1;32m    151\u001b[0m \u001b[38;5;124;03m    Parameters\u001b[39;00m\n\u001b[0;32m   (...)\u001b[0m\n\u001b[1;32m    165\u001b[0m \u001b[38;5;124;03m        Keys are the aqueous species names, the values are the phase objects.\u001b[39;00m\n\u001b[1;32m    166\u001b[0m \u001b[38;5;124;03m    \"\"\"\u001b[39;00m\n\u001b[0;32m--> 167\u001b[0m     \u001b[43mload_coder_modules\u001b[49m\u001b[43m(\u001b[49m\u001b[43mworking_dir\u001b[49m\u001b[43m)\u001b[49m\n\u001b[1;32m    168\u001b[0m     \u001b[38;5;28;01mtry\u001b[39;00m:\n\u001b[1;32m    169\u001b[0m         \u001b[38;5;28;01mwith\u001b[39;00m \u001b[38;5;28mopen\u001b[39m(pickle_file, \u001b[38;5;124m\"\u001b[39m\u001b[38;5;124mrb\u001b[39m\u001b[38;5;124m\"\u001b[39m) \u001b[38;5;28;01mas\u001b[39;00m file:\n",
      "File \u001b[0;32m~/opt/anaconda3/lib/python3.9/site-packages/pyDEW/core.py:141\u001b[0m, in \u001b[0;36mload_coder_modules\u001b[0;34m(working_dir)\u001b[0m\n\u001b[1;32m    138\u001b[0m mod_names \u001b[38;5;241m=\u001b[39m [os\u001b[38;5;241m.\u001b[39mpath\u001b[38;5;241m.\u001b[39msplitext(file)[\u001b[38;5;241m0\u001b[39m] \u001b[38;5;28;01mfor\u001b[39;00m file \u001b[38;5;129;01min\u001b[39;00m working_dir_code[mask]]\n\u001b[1;32m    140\u001b[0m os\u001b[38;5;241m.\u001b[39mchdir(working_dir)\n\u001b[0;32m--> 141\u001b[0m [importlib\u001b[38;5;241m.\u001b[39mimport_module(mod_name) \u001b[38;5;28;01mfor\u001b[39;00m mod_name \u001b[38;5;129;01min\u001b[39;00m mod_names]\n\u001b[1;32m    142\u001b[0m os\u001b[38;5;241m.\u001b[39mchdir(w_path)\n",
      "File \u001b[0;32m~/opt/anaconda3/lib/python3.9/site-packages/pyDEW/core.py:141\u001b[0m, in \u001b[0;36m<listcomp>\u001b[0;34m(.0)\u001b[0m\n\u001b[1;32m    138\u001b[0m mod_names \u001b[38;5;241m=\u001b[39m [os\u001b[38;5;241m.\u001b[39mpath\u001b[38;5;241m.\u001b[39msplitext(file)[\u001b[38;5;241m0\u001b[39m] \u001b[38;5;28;01mfor\u001b[39;00m file \u001b[38;5;129;01min\u001b[39;00m working_dir_code[mask]]\n\u001b[1;32m    140\u001b[0m os\u001b[38;5;241m.\u001b[39mchdir(working_dir)\n\u001b[0;32m--> 141\u001b[0m [\u001b[43mimportlib\u001b[49m\u001b[38;5;241;43m.\u001b[39;49m\u001b[43mimport_module\u001b[49m\u001b[43m(\u001b[49m\u001b[43mmod_name\u001b[49m\u001b[43m)\u001b[49m \u001b[38;5;28;01mfor\u001b[39;00m mod_name \u001b[38;5;129;01min\u001b[39;00m mod_names]\n\u001b[1;32m    142\u001b[0m os\u001b[38;5;241m.\u001b[39mchdir(w_path)\n",
      "File \u001b[0;32m~/opt/anaconda3/lib/python3.9/importlib/__init__.py:127\u001b[0m, in \u001b[0;36mimport_module\u001b[0;34m(name, package)\u001b[0m\n\u001b[1;32m    125\u001b[0m             \u001b[38;5;28;01mbreak\u001b[39;00m\n\u001b[1;32m    126\u001b[0m         level \u001b[38;5;241m+\u001b[39m\u001b[38;5;241m=\u001b[39m \u001b[38;5;241m1\u001b[39m\n\u001b[0;32m--> 127\u001b[0m \u001b[38;5;28;01mreturn\u001b[39;00m \u001b[43m_bootstrap\u001b[49m\u001b[38;5;241;43m.\u001b[39;49m\u001b[43m_gcd_import\u001b[49m\u001b[43m(\u001b[49m\u001b[43mname\u001b[49m\u001b[43m[\u001b[49m\u001b[43mlevel\u001b[49m\u001b[43m:\u001b[49m\u001b[43m]\u001b[49m\u001b[43m,\u001b[49m\u001b[43m \u001b[49m\u001b[43mpackage\u001b[49m\u001b[43m,\u001b[49m\u001b[43m \u001b[49m\u001b[43mlevel\u001b[49m\u001b[43m)\u001b[49m\n",
      "File \u001b[0;32m<frozen importlib._bootstrap>:1030\u001b[0m, in \u001b[0;36m_gcd_import\u001b[0;34m(name, package, level)\u001b[0m\n",
      "File \u001b[0;32m<frozen importlib._bootstrap>:1007\u001b[0m, in \u001b[0;36m_find_and_load\u001b[0;34m(name, import_)\u001b[0m\n",
      "File \u001b[0;32m<frozen importlib._bootstrap>:986\u001b[0m, in \u001b[0;36m_find_and_load_unlocked\u001b[0;34m(name, import_)\u001b[0m\n",
      "File \u001b[0;32m<frozen importlib._bootstrap>:664\u001b[0m, in \u001b[0;36m_load_unlocked\u001b[0;34m(spec)\u001b[0m\n",
      "File \u001b[0;32m<frozen importlib._bootstrap>:627\u001b[0m, in \u001b[0;36m_load_backward_compatible\u001b[0;34m(spec)\u001b[0m\n",
      "File \u001b[0;32m~/opt/anaconda3/lib/python3.9/site-packages/pyximport/pyximport.py:459\u001b[0m, in \u001b[0;36mPyxLoader.load_module\u001b[0;34m(self, fullname)\u001b[0m\n\u001b[1;32m    456\u001b[0m     module\u001b[38;5;241m.\u001b[39m__path__ \u001b[38;5;241m=\u001b[39m [\u001b[38;5;28mself\u001b[39m\u001b[38;5;241m.\u001b[39mpath]\n\u001b[1;32m    457\u001b[0m \u001b[38;5;28;01melse\u001b[39;00m:\n\u001b[1;32m    458\u001b[0m     \u001b[38;5;66;03m#print \"MODULE\", fullname\u001b[39;00m\n\u001b[0;32m--> 459\u001b[0m     module \u001b[38;5;241m=\u001b[39m \u001b[43mload_module\u001b[49m\u001b[43m(\u001b[49m\u001b[43mfullname\u001b[49m\u001b[43m,\u001b[49m\u001b[43m \u001b[49m\u001b[38;5;28;43mself\u001b[39;49m\u001b[38;5;241;43m.\u001b[39;49m\u001b[43mpath\u001b[49m\u001b[43m,\u001b[49m\n\u001b[1;32m    460\u001b[0m \u001b[43m                         \u001b[49m\u001b[38;5;28;43mself\u001b[39;49m\u001b[38;5;241;43m.\u001b[39;49m\u001b[43mpyxbuild_dir\u001b[49m\u001b[43m,\u001b[49m\n\u001b[1;32m    461\u001b[0m \u001b[43m                         \u001b[49m\u001b[43mbuild_inplace\u001b[49m\u001b[38;5;241;43m=\u001b[39;49m\u001b[38;5;28;43mself\u001b[39;49m\u001b[38;5;241;43m.\u001b[39;49m\u001b[43minplace\u001b[49m\u001b[43m,\u001b[49m\n\u001b[1;32m    462\u001b[0m \u001b[43m                         \u001b[49m\u001b[43mlanguage_level\u001b[49m\u001b[38;5;241;43m=\u001b[39;49m\u001b[38;5;28;43mself\u001b[39;49m\u001b[38;5;241;43m.\u001b[39;49m\u001b[43mlanguage_level\u001b[49m\u001b[43m)\u001b[49m\n\u001b[1;32m    463\u001b[0m \u001b[38;5;28;01mreturn\u001b[39;00m module\n",
      "File \u001b[0;32m~/opt/anaconda3/lib/python3.9/site-packages/pyximport/pyximport.py:231\u001b[0m, in \u001b[0;36mload_module\u001b[0;34m(name, pyxfilename, pyxbuild_dir, is_package, build_inplace, language_level, so_path)\u001b[0m\n\u001b[1;32m    228\u001b[0m exc \u001b[38;5;241m=\u001b[39m \u001b[38;5;167;01mImportError\u001b[39;00m(\u001b[38;5;124m\"\u001b[39m\u001b[38;5;124mBuilding module \u001b[39m\u001b[38;5;132;01m%s\u001b[39;00m\u001b[38;5;124m failed: \u001b[39m\u001b[38;5;132;01m%s\u001b[39;00m\u001b[38;5;124m\"\u001b[39m \u001b[38;5;241m%\u001b[39m (\n\u001b[1;32m    229\u001b[0m     name, traceback\u001b[38;5;241m.\u001b[39mformat_exception_only(\u001b[38;5;241m*\u001b[39msys\u001b[38;5;241m.\u001b[39mexc_info()[:\u001b[38;5;241m2\u001b[39m])))\n\u001b[1;32m    230\u001b[0m \u001b[38;5;28;01mif\u001b[39;00m sys\u001b[38;5;241m.\u001b[39mversion_info[\u001b[38;5;241m0\u001b[39m] \u001b[38;5;241m>\u001b[39m\u001b[38;5;241m=\u001b[39m \u001b[38;5;241m3\u001b[39m:\n\u001b[0;32m--> 231\u001b[0m     \u001b[38;5;28;01mraise\u001b[39;00m exc\u001b[38;5;241m.\u001b[39mwith_traceback(tb)\n\u001b[1;32m    232\u001b[0m \u001b[38;5;28;01melse\u001b[39;00m:\n\u001b[1;32m    233\u001b[0m     exec(\u001b[38;5;124m\"\u001b[39m\u001b[38;5;124mraise exc, None, tb\u001b[39m\u001b[38;5;124m\"\u001b[39m, {\u001b[38;5;124m'\u001b[39m\u001b[38;5;124mexc\u001b[39m\u001b[38;5;124m'\u001b[39m: exc, \u001b[38;5;124m'\u001b[39m\u001b[38;5;124mtb\u001b[39m\u001b[38;5;124m'\u001b[39m: tb})\n",
      "File \u001b[0;32m~/opt/anaconda3/lib/python3.9/site-packages/pyximport/pyximport.py:216\u001b[0m, in \u001b[0;36mload_module\u001b[0;34m(name, pyxfilename, pyxbuild_dir, is_package, build_inplace, language_level, so_path)\u001b[0m\n\u001b[1;32m    213\u001b[0m         module_name \u001b[38;5;241m=\u001b[39m name\n\u001b[1;32m    214\u001b[0m     so_path \u001b[38;5;241m=\u001b[39m build_module(module_name, pyxfilename, pyxbuild_dir,\n\u001b[1;32m    215\u001b[0m                            inplace\u001b[38;5;241m=\u001b[39mbuild_inplace, language_level\u001b[38;5;241m=\u001b[39mlanguage_level)\n\u001b[0;32m--> 216\u001b[0m mod \u001b[38;5;241m=\u001b[39m \u001b[43mimp\u001b[49m\u001b[38;5;241;43m.\u001b[39;49m\u001b[43mload_dynamic\u001b[49m\u001b[43m(\u001b[49m\u001b[43mname\u001b[49m\u001b[43m,\u001b[49m\u001b[43m \u001b[49m\u001b[43mso_path\u001b[49m\u001b[43m)\u001b[49m\n\u001b[1;32m    217\u001b[0m \u001b[38;5;28;01mif\u001b[39;00m is_package \u001b[38;5;129;01mand\u001b[39;00m \u001b[38;5;129;01mnot\u001b[39;00m \u001b[38;5;28mhasattr\u001b[39m(mod, \u001b[38;5;124m'\u001b[39m\u001b[38;5;124m__path__\u001b[39m\u001b[38;5;124m'\u001b[39m):\n\u001b[1;32m    218\u001b[0m     mod\u001b[38;5;241m.\u001b[39m__path__ \u001b[38;5;241m=\u001b[39m [os\u001b[38;5;241m.\u001b[39mpath\u001b[38;5;241m.\u001b[39mdirname(so_path)]\n",
      "File \u001b[0;32m~/opt/anaconda3/lib/python3.9/imp.py:342\u001b[0m, in \u001b[0;36mload_dynamic\u001b[0;34m(name, path, file)\u001b[0m\n\u001b[1;32m    338\u001b[0m \u001b[38;5;66;03m# Issue #24748: Skip the sys.modules check in _load_module_shim;\u001b[39;00m\n\u001b[1;32m    339\u001b[0m \u001b[38;5;66;03m# always load new extension\u001b[39;00m\n\u001b[1;32m    340\u001b[0m spec \u001b[38;5;241m=\u001b[39m importlib\u001b[38;5;241m.\u001b[39mmachinery\u001b[38;5;241m.\u001b[39mModuleSpec(\n\u001b[1;32m    341\u001b[0m     name\u001b[38;5;241m=\u001b[39mname, loader\u001b[38;5;241m=\u001b[39mloader, origin\u001b[38;5;241m=\u001b[39mpath)\n\u001b[0;32m--> 342\u001b[0m \u001b[38;5;28;01mreturn\u001b[39;00m \u001b[43m_load\u001b[49m\u001b[43m(\u001b[49m\u001b[43mspec\u001b[49m\u001b[43m)\u001b[49m\n",
      "File \u001b[0;32m<frozen importlib._bootstrap>:711\u001b[0m, in \u001b[0;36m_load\u001b[0;34m(spec)\u001b[0m\n",
      "File \u001b[0;32m<frozen importlib._bootstrap>:666\u001b[0m, in \u001b[0;36m_load_unlocked\u001b[0;34m(spec)\u001b[0m\n",
      "File \u001b[0;32m<frozen importlib._bootstrap>:565\u001b[0m, in \u001b[0;36mmodule_from_spec\u001b[0;34m(spec)\u001b[0m\n",
      "File \u001b[0;32m<frozen importlib._bootstrap_external>:1173\u001b[0m, in \u001b[0;36mcreate_module\u001b[0;34m(self, spec)\u001b[0m\n",
      "File \u001b[0;32m<frozen importlib._bootstrap>:228\u001b[0m, in \u001b[0;36m_call_with_frames_removed\u001b[0;34m(f, *args, **kwds)\u001b[0m\n",
      "\u001b[0;31mImportError\u001b[0m: Building module dew2019 failed: [\"ImportError: dlopen(/Users/sm905/.pyxbld/lib.macosx-11.0-arm64-cpython-39/dew2019.cpython-39-darwin.so, 0x0002): Library not loaded: ./src/libswimdew.dylib\\n  Referenced from: <A9D450D0-EC48-3B45-8FDF-434C6699B9A8> /Users/sm905/.pyxbld/lib.macosx-11.0-arm64-cpython-39/dew2019.cpython-39-darwin.so\\n  Reason: tried: './src/libswimdew.dylib' (no such file), '/System/Volumes/Preboot/Cryptexes/OS./src/libswimdew.dylib' (no such file), './src/libswimdew.dylib' (no such file)\\n\"]"
     ]
    }
   ],
   "source": [
    "with open('TDR_preamble_fO2.py') as file:  # THIS IS THE RELAYED FO2\n",
    "    exec(file.read())\n",
    "\n",
    "columnDF = pd.read_csv('columns/output_75km_0p1inv.csv')"
   ]
  },
  {
   "cell_type": "markdown",
   "id": "706f0ed8-fcc6-449e-96aa-83074b508449",
   "metadata": {},
   "source": [
    "## A. Create our solid"
   ]
  },
  {
   "cell_type": "code",
   "execution_count": 2,
   "id": "9aecbc3e-c69a-4eb5-bfea-2de8933d4f6e",
   "metadata": {},
   "outputs": [
    {
     "name": "stdout",
     "output_type": "stream",
     "text": [
      "    FORSTERITE  FAYALITE  ENSTATITE_OR  FERROSILITE  DIOPSIDE(CPX)  \\\n",
      "0     4.728685  0.525409      1.522797       0.1692       0.160294   \n",
      "0     4.728685  0.525409      1.522797       0.1692       0.160294   \n",
      "0     4.728685  0.525409      1.522797       0.1692       0.160294   \n",
      "0     4.728685  0.525409      1.522797       0.1692       0.160294   \n",
      "0     4.728685  0.525409      1.522797       0.1692       0.160294   \n",
      "..         ...       ...           ...          ...            ...   \n",
      "0     4.728685  0.525409      1.522797       0.1692       0.160294   \n",
      "0     4.728685  0.525409      1.522797       0.1692       0.160294   \n",
      "0     4.728685  0.525409      1.522797       0.1692       0.160294   \n",
      "0     4.728685  0.525409      1.522797       0.1692       0.160294   \n",
      "0     4.728685  0.525409      1.522797       0.1692       0.160294   \n",
      "\n",
      "    HEDENBERGITE(CPX)    SPINEL  MAGNETITE  Pressure (bars)  Temperature (K)  \\\n",
      "0             0.01781  0.035621   0.035621          20200.0       700.518422   \n",
      "0             0.01781  0.035621   0.035621          20100.0       708.593660   \n",
      "0             0.01781  0.035621   0.035621          20000.0       716.248020   \n",
      "0             0.01781  0.035621   0.035621          19900.0       723.714171   \n",
      "0             0.01781  0.035621   0.035621          19800.0       731.180322   \n",
      "..                ...       ...        ...              ...              ...   \n",
      "0             0.01781  0.035621   0.035621           5800.0       510.064319   \n",
      "0             0.01781  0.035621   0.035621           5700.0       506.141247   \n",
      "0             0.01781  0.035621   0.035621           5600.0       502.220387   \n",
      "0             0.01781  0.035621   0.035621           5500.0       498.299633   \n",
      "0             0.01781  0.035621   0.035621           5400.0       494.377392   \n",
      "\n",
      "    Time  \n",
      "0      0  \n",
      "0      0  \n",
      "0      0  \n",
      "0      0  \n",
      "0      0  \n",
      "..   ...  \n",
      "0      0  \n",
      "0      0  \n",
      "0      0  \n",
      "0      0  \n",
      "0      0  \n",
      "\n",
      "[149 rows x 11 columns]\n"
     ]
    }
   ],
   "source": [
    "# List of reactants formed from mineral dictionaries\n",
    "olvDict = {'reactant': 'OLIVINE(SS)',\n",
    "           'moles': 5.9,\n",
    "           'composition': {'FORSTERITE': 0.9, 'FAYALITE': 0.1}}\n",
    "\n",
    "opxDict = {'reactant': 'ORTHOPYROXENE(SS)',\n",
    "           'moles': 1.9,\n",
    "           'composition': {'ENSTATITE_OR': 0.9, 'FERROSILITE': 0.1}}\n",
    "\n",
    "cpxDict = {'reactant': 'CLINOPYROXENE(SS)',\n",
    "           'moles': 0.2,\n",
    "           'composition': {'DIOPSIDE': 0.9, 'HEDENBERGITE': 0.1}}\n",
    "\n",
    "spnDict = {'reactant': 'SPINEL',\n",
    "           'moles': 0.04}\n",
    "\n",
    "mgtDict = {'reactant': 'MAGNETITE',\n",
    "           'moles': 0.04}\n",
    "\n",
    "startingReactants = [olvDict, opxDict, cpxDict, spnDict, mgtDict]\n",
    "\n",
    "# Quickly check that our starting fluid-rock ratio (F/R) is going to be 1 (or whatever it is)\n",
    "startingReactants = pDF.reactantToFR(startingReactants, 1.0, dew_system)\n",
    "\n",
    "# Assign pressures and temperatures\n",
    "\n",
    "pressures = columnDF['Pressure (kbar)'].tolist()  # in kbar\n",
    "pressures = [i*1000 for i in pressures]  # in bar\n",
    "\n",
    "temperatures = columnDF['Temperature (degC)'].tolist()  # in degC\n",
    "temperatures = [i+273.15 for i in temperatures]  # in K\n",
    "\n",
    "logfO2s = columnDF['log fO2'].tolist()\n",
    "\n",
    "# Get starting PT for fluid interpolation\n",
    "sourcePressure = pressures[0]\n",
    "sourceTemperature = temperatures[0]\n",
    "\n",
    "# Create our preliminary compositional stack\n",
    "startingComposition = pDF.reactantToDF(startingReactants, dew_system)\n",
    "startingComposition = pd.concat([startingComposition]*len(pressures))\n",
    "startingComposition['Pressure (bars)'] = pressures\n",
    "startingComposition['Temperature (K)'] = temperatures\n",
    "# startingComposition['log fO2'] = logfO2s\n",
    "startingComposition['Time'] = [0]*len(pressures)\n",
    "\n",
    "print(startingComposition)\n"
   ]
  },
  {
   "cell_type": "markdown",
   "id": "a2b99a5e-94c5-42c7-b5c3-68fd9f5a1102",
   "metadata": {},
   "source": [
    "## B. Create our fluid"
   ]
  },
  {
   "cell_type": "code",
   "execution_count": 3,
   "id": "b892952f-3b08-4e3d-8907-2016d5febdd0",
   "metadata": {},
   "outputs": [],
   "source": [
    "startingFluid = createHybridFluid([1, 0, 0], sourceTemperature, sourcePressure)"
   ]
  },
  {
   "cell_type": "markdown",
   "id": "3ec4504c-c7e8-4e97-91db-80a72549ceac",
   "metadata": {},
   "source": [
    "## C. Run our column"
   ]
  },
  {
   "cell_type": "code",
   "execution_count": 4,
   "id": "2706683c-2507-4567-9034-be6649abfbc0",
   "metadata": {},
   "outputs": [
    {
     "data": {
      "text/plain": [
       "'20240501'"
      ]
     },
     "execution_count": 4,
     "metadata": {},
     "output_type": "execute_result"
    }
   ],
   "source": [
    "from datetime import date\n",
    "today = date.today()\n",
    "todayStr = str(today)\n",
    "todayStr.replace('-','')"
   ]
  },
  {
   "cell_type": "code",
   "execution_count": 5,
   "id": "5daedc3a-70ea-4ccf-a000-17c9b2de9b5f",
   "metadata": {},
   "outputs": [
    {
     "name": "stdout",
     "output_type": "stream",
     "text": [
      "Time loop started\n"
     ]
    },
    {
     "name": "stderr",
     "output_type": "stream",
     "text": [
      "/opt/conda/lib/python3.9/site-packages/pyDEW/eq6_output.py:46: UserWarning: The pH output could not be read.\n",
      "  warn(\"The pH output could not be read.\")\n"
     ]
    },
    {
     "name": "stdout",
     "output_type": "stream",
     "text": [
      "No mineral product found.\n",
      "Calculation at [n=143, t=0] has failed: using fluid/solid results from previous n/t\n"
     ]
    },
    {
     "name": "stderr",
     "output_type": "stream",
     "text": [
      "/opt/conda/lib/python3.9/site-packages/pyDEW/eq6_output.py:46: UserWarning: The pH output could not be read.\n",
      "  warn(\"The pH output could not be read.\")\n"
     ]
    },
    {
     "name": "stdout",
     "output_type": "stream",
     "text": [
      "No mineral product found.\n",
      "Calculation at [n=145, t=0] has failed: using fluid/solid results from previous n/t\n"
     ]
    },
    {
     "name": "stderr",
     "output_type": "stream",
     "text": [
      "/opt/conda/lib/python3.9/site-packages/pyDEW/eq6_output.py:46: UserWarning: The pH output could not be read.\n",
      "  warn(\"The pH output could not be read.\")\n"
     ]
    },
    {
     "name": "stdout",
     "output_type": "stream",
     "text": [
      "No mineral product found.\n"
     ]
    },
    {
     "name": "stderr",
     "output_type": "stream",
     "text": [
      "/opt/conda/lib/python3.9/site-packages/pyDEW/eq6_output.py:46: UserWarning: The pH output could not be read.\n",
      "  warn(\"The pH output could not be read.\")\n"
     ]
    },
    {
     "name": "stdout",
     "output_type": "stream",
     "text": [
      "No mineral product found.\n"
     ]
    },
    {
     "name": "stderr",
     "output_type": "stream",
     "text": [
      "/opt/conda/lib/python3.9/site-packages/pyDEW/eq6_output.py:46: UserWarning: The pH output could not be read.\n",
      "  warn(\"The pH output could not be read.\")\n"
     ]
    },
    {
     "name": "stdout",
     "output_type": "stream",
     "text": [
      "No mineral product found.\n",
      "Timestep t=0 is complete, with 148 total iterations performed\n",
      "Calculations : 144\n",
      "Passes (F/R) : 0\n",
      "Passes (error) : 5\n",
      "No mineral product found.\n",
      "Solid solution disabled.\n",
      "Mineral output at [n=38, t=1] is not a pd.DataFrame, raising Error\n",
      "Calculation at [n=38, t=1] has failed: using fluid/solid results from previous n/t\n",
      "No mineral product found.\n",
      "Solid solution disabled.\n",
      "Mineral output at [n=42, t=1] is not a pd.DataFrame, raising Error\n",
      "Calculation at [n=42, t=1] has failed: using fluid/solid results from previous n/t\n",
      "Timestep t=1 is complete, with 296 total iterations performed\n",
      "Calculations : 147\n",
      "Passes (F/R) : 0\n",
      "Passes (error) : 2\n",
      "-27.3\n",
      "[-47.0069 -47.0069 -47.0069 -47.0069 -47.0069 -47.0069 -47.0069 -47.0069\n",
      " -47.0069 -47.0069 -47.0069 -47.0069 -47.0069 -47.0069 -47.0069 -47.0069\n",
      " -47.0069 -47.0069 -47.0069 -47.0069 -47.0069 -47.0069 -47.0069 -47.0069\n",
      " -47.0069 -47.0069 -47.0069 -47.0069 -47.0069 -47.0069 -47.0069 -47.0069\n",
      " -47.0069 -47.0069 -47.0069 -47.0069 -47.0069 -47.0069 -47.0069 -47.0069\n",
      " -47.0069 -47.0069 -47.0069 -47.0069 -47.0069 -47.0069 -47.0069 -47.0069\n",
      " -47.0069 -47.0069 -47.0069 -47.0069 -47.0069 -47.0069 -47.0069 -47.0069\n",
      " -47.0069 -47.0069 -47.0069 -47.0069 -47.0069 -47.0069 -47.007  -47.007\n",
      " -47.007  -47.007  -47.007  -47.007  -47.007  -47.007  -47.007  -47.007\n",
      " -47.0071 -47.0071 -47.0071 -47.0071 -47.0072 -47.0072 -47.0072 -47.0073\n",
      " -47.0073 -47.0074 -47.0074 -47.0075 -47.0076 -47.0076 -47.0077 -47.0078\n",
      " -47.0079 -47.0081 -47.0082 -47.0084 -47.0085 -47.0087 -47.009  -47.0092\n",
      " -47.0095 -47.0098 -47.0102 -47.0106 -47.011  -47.0115 -47.0121 -47.0127\n",
      " -47.0134 -47.0142 -47.0151 -47.0161 -47.0172 -47.0185 -47.0199 -47.0215\n",
      " -47.0232 -47.0252 -47.0274 -47.0299 -47.0326 -47.0357 -47.0392 -47.043\n",
      " -47.0473 -47.0522 -47.0575 -47.0635 -47.0702 -47.0776 -47.0858 -47.095\n",
      " -47.1052 -47.1165 -47.129  -47.1428 -47.158  -47.1748 -47.1933 -47.2135\n",
      " -47.2358 -47.26   -47.2865 -47.3153 -47.3465 -47.3803 -47.4    -47.4168\n",
      " -47.4561 -47.4648 -47.4981 -47.5431 -47.591  -47.6419 -47.6958 -47.6969\n",
      " -47.7344 -47.7754 -47.8194 -47.8389 -47.854  -47.8663 -47.9163 -47.9693\n",
      " -48.0254 -48.0845 -48.1466 -48.1923]\n"
     ]
    }
   ],
   "source": [
    "startingFluid = createHybridFluid([1, 0, 0], sourceTemperature, sourcePressure)\n",
    "decompressionRelay(startingComposition, startingFluid[0], startingFluid[1],\n",
    "                   dew_system, timesteps=5, startingFRRatio=10.0, terminalFRRatio=0.1,\n",
    "                   exportPath='columns_data/'+todayStr+'_output_75km_0p1inv_DMMfluid_t5_FR10_p04mgt', FRRatioOption0='fixedStart')"
   ]
  }
 ],
 "metadata": {
  "kernelspec": {
   "display_name": "Python 3 (ipykernel)",
   "language": "python",
   "name": "python3"
  },
  "language_info": {
   "codemirror_mode": {
    "name": "ipython",
    "version": 3
   },
   "file_extension": ".py",
   "mimetype": "text/x-python",
   "name": "python",
   "nbconvert_exporter": "python",
   "pygments_lexer": "ipython3",
   "version": "3.9.13"
  }
 },
 "nbformat": 4,
 "nbformat_minor": 5
}
